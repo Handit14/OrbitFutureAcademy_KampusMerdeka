{
  "cells": [
    {
      "cell_type": "markdown",
      "metadata": {
        "_uuid": "674378297bf7f78937a4f1aa466932e68466efcd",
        "id": "5LdZa7CWLPTQ"
      },
      "source": [
        "### Data Pre-processing Stage\n",
        "\n",
        " \n",
        "  Pada notebook ini berisi tentang basic dalam data pre-processing\n"
      ]
    },
    {
      "cell_type": "markdown",
      "metadata": {
        "_uuid": "fe10f16ae89b1e2579469abba5542de59d18ca7d",
        "id": "aeWk5zidLPTj"
      },
      "source": [
        "#### Why preprocessing ?\n",
        "1. Data yang kita punya dalam dunia nyata biasanya:\n",
        "    * Incomplete: lacking attribute values, lacking certain attributes of interest, or containing only aggregate data.\n",
        "    * Noisy: mengandung error seperti missing values dan outliers.\n",
        "    * Inconsistent: mengandung perbedaan dalam penulisan kolom."
      ]
    },
    {
      "cell_type": "markdown",
      "metadata": {
        "_uuid": "a30f7f7e2a855e2f0ef0bfc096bd4cc61a3399d9",
        "id": "2g-pprOvLPTn"
      },
      "source": [
        "Mari kita pakai sebuah dataset sederhana untuk latihan.\n",
        "Dataset \"data.csv\" mengandung informasi dimana apakah user akan membeli sebuah product atau tidak.\n",
        "User mempunya fitur age,salary, dan negara tempat mereka tinggal."
      ]
    },
    {
      "cell_type": "markdown",
      "metadata": {
        "id": "BvhME-L2LPTq"
      },
      "source": [
        "## 1. Import library\n",
        "\n",
        "Pada percobaan kali ini kita hanya membutuhkan 2 library yaitu pandas dan numpy. Pandas berguna untuk mengimport datasetnya sedangkan numpy akan kita gunakan dalam mempreproses datanya."
      ]
    },
    {
      "cell_type": "code",
      "execution_count": 4,
      "metadata": {
        "_uuid": "3ed37978d39bc4b4497ed16fd66a99a40df07561",
        "id": "ixbY_AwRLPTs"
      },
      "outputs": [],
      "source": [
        "import numpy as np\n",
        "import pandas as pd"
      ]
    },
    {
      "cell_type": "markdown",
      "metadata": {
        "id": "F-Nyr70GLPTv"
      },
      "source": [
        "## 2 Import dataset"
      ]
    },
    {
      "cell_type": "code",
      "execution_count": 5,
      "metadata": {
        "_uuid": "d09edc61b5ef258b23b6de01c4745613a4d00eca",
        "id": "m_wXaHbMLPTw",
        "outputId": "2bf461b6-cfda-4a08-ed1f-0beb5bfa14a3"
      },
      "outputs": [
        {
          "name": "stdout",
          "output_type": "stream",
          "text": [
            "dataset: (15, 4)\n"
          ]
        }
      ],
      "source": [
        "dataset = pd.read_csv(\"C:/Farhan/Orbit Future Academy/Dataset.csv\")\n",
        "\n",
        "\n",
        "# Menampilkan shape dari data yg kita punya\n",
        "print('dataset:', (str(dataset.shape)))\n"
      ]
    },
    {
      "cell_type": "markdown",
      "metadata": {
        "_uuid": "f2255fd0287097870845b0b4dbfd4e4ac04ea9f9",
        "id": "LQdNPAyeLPTz"
      },
      "source": [
        "Dataset kita mengandung 15 rows dan 4 columns.\n",
        "Itu artinya kita mempunyai 15 data dan 4 Kolom"
      ]
    },
    {
      "cell_type": "code",
      "execution_count": 6,
      "metadata": {
        "_uuid": "2764bded9c4328f4ca9902a333d882b12d09223e",
        "id": "bWP3FxO6LPT2",
        "outputId": "6b00d144-5538-42fa-82fb-61b2da78af5e"
      },
      "outputs": [
        {
          "data": {
            "text/html": [
              "<div>\n",
              "<style scoped>\n",
              "    .dataframe tbody tr th:only-of-type {\n",
              "        vertical-align: middle;\n",
              "    }\n",
              "\n",
              "    .dataframe tbody tr th {\n",
              "        vertical-align: top;\n",
              "    }\n",
              "\n",
              "    .dataframe thead th {\n",
              "        text-align: right;\n",
              "    }\n",
              "</style>\n",
              "<table border=\"1\" class=\"dataframe\">\n",
              "  <thead>\n",
              "    <tr style=\"text-align: right;\">\n",
              "      <th></th>\n",
              "      <th>Country</th>\n",
              "      <th>Age</th>\n",
              "      <th>Salary</th>\n",
              "      <th>Purchased</th>\n",
              "    </tr>\n",
              "  </thead>\n",
              "  <tbody>\n",
              "    <tr>\n",
              "      <th>0</th>\n",
              "      <td>India</td>\n",
              "      <td>34.0</td>\n",
              "      <td>92000.0</td>\n",
              "      <td>Yes</td>\n",
              "    </tr>\n",
              "    <tr>\n",
              "      <th>1</th>\n",
              "      <td>Sri lanka</td>\n",
              "      <td>22.0</td>\n",
              "      <td>25000.0</td>\n",
              "      <td>Yes</td>\n",
              "    </tr>\n",
              "    <tr>\n",
              "      <th>2</th>\n",
              "      <td>China</td>\n",
              "      <td>31.0</td>\n",
              "      <td>74000.0</td>\n",
              "      <td>Yes</td>\n",
              "    </tr>\n",
              "    <tr>\n",
              "      <th>3</th>\n",
              "      <td>Sri lanka</td>\n",
              "      <td>29.0</td>\n",
              "      <td>NaN</td>\n",
              "      <td>No</td>\n",
              "    </tr>\n",
              "    <tr>\n",
              "      <th>4</th>\n",
              "      <td>China</td>\n",
              "      <td>55.0</td>\n",
              "      <td>98000.0</td>\n",
              "      <td>Yes</td>\n",
              "    </tr>\n",
              "    <tr>\n",
              "      <th>5</th>\n",
              "      <td>India</td>\n",
              "      <td>24.0</td>\n",
              "      <td>30000.0</td>\n",
              "      <td>No</td>\n",
              "    </tr>\n",
              "    <tr>\n",
              "      <th>6</th>\n",
              "      <td>Sri lanka</td>\n",
              "      <td>28.0</td>\n",
              "      <td>40000.0</td>\n",
              "      <td>No</td>\n",
              "    </tr>\n",
              "    <tr>\n",
              "      <th>7</th>\n",
              "      <td>India</td>\n",
              "      <td>NaN</td>\n",
              "      <td>60000.0</td>\n",
              "      <td>No</td>\n",
              "    </tr>\n",
              "    <tr>\n",
              "      <th>8</th>\n",
              "      <td>China</td>\n",
              "      <td>51.0</td>\n",
              "      <td>89000.0</td>\n",
              "      <td>Yes</td>\n",
              "    </tr>\n",
              "    <tr>\n",
              "      <th>9</th>\n",
              "      <td>India</td>\n",
              "      <td>44.0</td>\n",
              "      <td>78000.0</td>\n",
              "      <td>Yes</td>\n",
              "    </tr>\n",
              "    <tr>\n",
              "      <th>10</th>\n",
              "      <td>Sri lanka</td>\n",
              "      <td>21.0</td>\n",
              "      <td>20000.0</td>\n",
              "      <td>No</td>\n",
              "    </tr>\n",
              "    <tr>\n",
              "      <th>11</th>\n",
              "      <td>China</td>\n",
              "      <td>25.0</td>\n",
              "      <td>30000.0</td>\n",
              "      <td>Yes</td>\n",
              "    </tr>\n",
              "    <tr>\n",
              "      <th>12</th>\n",
              "      <td>India</td>\n",
              "      <td>33.0</td>\n",
              "      <td>45000.0</td>\n",
              "      <td>Yes</td>\n",
              "    </tr>\n",
              "    <tr>\n",
              "      <th>13</th>\n",
              "      <td>India</td>\n",
              "      <td>42.0</td>\n",
              "      <td>65000.0</td>\n",
              "      <td>Yes</td>\n",
              "    </tr>\n",
              "    <tr>\n",
              "      <th>14</th>\n",
              "      <td>Sri lanka</td>\n",
              "      <td>33.0</td>\n",
              "      <td>22000.0</td>\n",
              "      <td>No</td>\n",
              "    </tr>\n",
              "  </tbody>\n",
              "</table>\n",
              "</div>"
            ],
            "text/plain": [
              "      Country   Age   Salary Purchased\n",
              "0       India  34.0  92000.0       Yes\n",
              "1   Sri lanka  22.0  25000.0       Yes\n",
              "2       China  31.0  74000.0       Yes\n",
              "3   Sri lanka  29.0      NaN        No\n",
              "4       China  55.0  98000.0       Yes\n",
              "5       India  24.0  30000.0        No\n",
              "6   Sri lanka  28.0  40000.0        No\n",
              "7       India   NaN  60000.0        No\n",
              "8       China  51.0  89000.0       Yes\n",
              "9       India  44.0  78000.0       Yes\n",
              "10  Sri lanka  21.0  20000.0        No\n",
              "11      China  25.0  30000.0       Yes\n",
              "12      India  33.0  45000.0       Yes\n",
              "13      India  42.0  65000.0       Yes\n",
              "14  Sri lanka  33.0  22000.0        No"
            ]
          },
          "execution_count": 6,
          "metadata": {},
          "output_type": "execute_result"
        }
      ],
      "source": [
        "# print the dataset\n",
        "dataset"
      ]
    },
    {
      "cell_type": "code",
      "execution_count": 7,
      "metadata": {
        "_uuid": "0b51a61e0f0b243b1b3c5650a30dcf02d6f943a5",
        "id": "yBsPnt-rLPT4"
      },
      "outputs": [],
      "source": [
        "# Memisahkan antara fitur dan label\n",
        "\n",
        "# Fitur\n",
        "# iloc[rows,columns] (Slicing pada dataframe)\n",
        "# Mengambil semua data dalam barisan.\n",
        "# Mengambil kolom index ke-0 sampai ke-2\n",
        "X = dataset.iloc[:,:3].values\n",
        "\n",
        "# Label\n",
        "# iloc[rows,columns] (Slicing pada dataframe)\n",
        "# Mengambil semua data dalam barisan.\n",
        "# Hanya Mengambil kolom index ke-3\n",
        "Y = dataset.iloc[:,3].values"
      ]
    },
    {
      "cell_type": "code",
      "execution_count": null,
      "metadata": {
        "_uuid": "5351fbd6905b93aad9c455ee99cb0814e55cfc58",
        "id": "NcvevnjHLPT6",
        "outputId": "1d92c04b-5815-483b-9d6d-aba3214eb3f5"
      },
      "outputs": [
        {
          "name": "stdout",
          "output_type": "stream",
          "text": [
            "Fitur (X): [['India' 34.0 92000.0]\n",
            " ['Sri lanka' 22.0 25000.0]\n",
            " ['China' 31.0 74000.0]\n",
            " ['Sri lanka' 29.0 nan]\n",
            " ['China' 55.0 98000.0]\n",
            " ['India' 24.0 30000.0]\n",
            " ['Sri lanka' 28.0 40000.0]\n",
            " ['India' nan 60000.0]\n",
            " ['China' 51.0 89000.0]\n",
            " ['India' 44.0 78000.0]\n",
            " ['Sri lanka' 21.0 20000.0]\n",
            " ['China' 25.0 30000.0]\n",
            " ['India' 33.0 45000.0]\n",
            " ['India' 42.0 65000.0]\n",
            " ['Sri lanka' 33.0 22000.0]]\n",
            "\n",
            "-----------------------------------\n",
            "\n",
            "Label (Y):  ['Yes' 'Yes' 'Yes' 'No' 'Yes' 'No' 'No' 'No' 'Yes' 'Yes' 'No' 'Yes' 'Yes'\n",
            " 'Yes' 'No']\n"
          ]
        }
      ],
      "source": [
        "# Print the X and Y\n",
        "print ('Fitur (X):', X)\n",
        "print ('\\n-----------------------------------')\n",
        "print ('\\nLabel (Y): ',Y)"
      ]
    },
    {
      "cell_type": "markdown",
      "metadata": {
        "_uuid": "dffee0eb70165f04561442a9f05bf2fd0c0d205f",
        "id": "ojwudEiKLPT7"
      },
      "source": [
        "## 3. Handle Missing Data\n"
      ]
    },
    {
      "cell_type": "code",
      "execution_count": null,
      "metadata": {
        "id": "6LvQX6vALPT8",
        "outputId": "a03bcc9d-197e-455a-9d42-0b80e76e67d7"
      },
      "outputs": [
        {
          "data": {
            "text/plain": [
              "Country      0\n",
              "Age          1\n",
              "Salary       1\n",
              "Purchased    0\n",
              "dtype: int64"
            ]
          },
          "execution_count": 6,
          "metadata": {},
          "output_type": "execute_result"
        }
      ],
      "source": [
        "dataset.isnull().sum()"
      ]
    },
    {
      "cell_type": "markdown",
      "metadata": {
        "id": "S1kOokCSLPT9"
      },
      "source": [
        "Dengan menggunakan fungsi isnull().sum() kita dapat melihat jumlah data yg memiliki missing value dari tiap kolom yang ada.\n",
        "Disini kita dapat melihat kalau terdapat 2 kolom yang memiliki masalah missing value, yaitu pada kolom 'Age' dan 'Salary'.\n",
        "\n",
        "Untuk menangangi masalah missing value, kita bisa melakukan 2 hal. Pertama kita bisa menghapus datanya atau kita bisa mengisi nilai yang kosong itu menggunakan nilai mean/modus/median.\n",
        "\n",
        "Pada percobaan kali ini kita akan menggunakan nilai Mean untuk mengisi missing value tersebut menggunakan bantuan Simple Imputer dari module sklearn"
      ]
    },
    {
      "cell_type": "code",
      "execution_count": null,
      "metadata": {
        "_uuid": "bc0f9fc1fde9aff85963ee3db02f1fd943d01d93",
        "id": "lpVN9uBpLPT-"
      },
      "outputs": [],
      "source": [
        "from sklearn.impute import SimpleImputer\n",
        "\n",
        "# SimpleImputer class mempunyai 2 parameter, yaitu :\n",
        "#     missing_values : Missing value pada data kita, biasanya diisi dengan np.nan\n",
        "#     strategy       : Strategi yang akan kita gunakan dalam menangani missing value (Mean/Modus/Median).\n",
        "#                      Defaultnya parameter strategy 'mean'\n",
        "\n",
        "imputer = SimpleImputer(missing_values = np.nan ,strategy = 'mean')\n",
        "\n",
        "\n",
        "# Fit imputer kedalam data X untuk kolom Age (index ke-1) dan Salary (index ke-2).\n",
        "imputer = imputer.fit(X[:,1:3])\n",
        "\n",
        "#Replace missing value dengan mean pada kolom tersebut\n",
        "X[:,1:3] = imputer.transform(X[:,1:3])\n"
      ]
    },
    {
      "cell_type": "markdown",
      "metadata": {
        "id": "X8SEbOWzLPUA"
      },
      "source": [
        "Dibawah ini kita bisa melihat bahwa tidak ada nilai 'Nan' pada data X"
      ]
    },
    {
      "cell_type": "code",
      "execution_count": null,
      "metadata": {
        "_uuid": "cbb90e1ca86164287023c7fc38197bf087e0ef0e",
        "id": "e5CL2bH2LPUB",
        "outputId": "c9897370-b10f-4e7b-e4d6-5dc2c87a330f"
      },
      "outputs": [
        {
          "name": "stdout",
          "output_type": "stream",
          "text": [
            "X:  [['India' 34.0 92000.0]\n",
            " ['Sri lanka' 22.0 25000.0]\n",
            " ['China' 31.0 74000.0]\n",
            " ['Sri lanka' 29.0 54857.142857142855]\n",
            " ['China' 55.0 98000.0]\n",
            " ['India' 24.0 30000.0]\n",
            " ['Sri lanka' 28.0 40000.0]\n",
            " ['India' 33.714285714285715 60000.0]\n",
            " ['China' 51.0 89000.0]\n",
            " ['India' 44.0 78000.0]\n",
            " ['Sri lanka' 21.0 20000.0]\n",
            " ['China' 25.0 30000.0]\n",
            " ['India' 33.0 45000.0]\n",
            " ['India' 42.0 65000.0]\n",
            " ['Sri lanka' 33.0 22000.0]]\n"
          ]
        }
      ],
      "source": [
        "print ('X: ', X)"
      ]
    },
    {
      "cell_type": "markdown",
      "metadata": {
        "_uuid": "e06044bf541de146377c72fe4f34eb83100c2f49",
        "id": "wRmUgogxLPUC"
      },
      "source": [
        "* Mean Value of Age    = Sum of all age values /14   = 33.714285714285715\n",
        "* Mean Value of Salary = Sum of all Salary value /14 = 54857.142857142855"
      ]
    },
    {
      "cell_type": "markdown",
      "metadata": {
        "_uuid": "0504a7e75bde4ac7779062a37f144d9b9a096a17",
        "id": "J8W7rTe9LPUC"
      },
      "source": [
        "## 3. Encode the Categorical data\n",
        "\n",
        "Categorical data biasanya biasanya memiliki tipe data string.\n",
        "Beberapa algoritma dapat memproses categorical data yg berbentuka string secara langsung seperti decision tree.\n",
        "\n",
        "Akan tetapi banyak machine learning algorithms tidak dapat memproses categorical data yg berbentuk string secara langsung. Mereka membutuhkan variabel yg berbentuk numeric.\n",
        "\n",
        "Itu artinya categorical data harus dikonversi bentukanya kedalam numerical form."
      ]
    },
    {
      "cell_type": "markdown",
      "metadata": {
        "_uuid": "a8261920df0d266e0551cdae8264a07c96cdd7f8",
        "id": "HmuoMH1kLPUD"
      },
      "source": [
        "Pada Dataset kita terdapat dua kolom categorical data\n",
        "\n",
        "Yaitu kolom 'Country' dan 'Purchased'"
      ]
    },
    {
      "cell_type": "markdown",
      "metadata": {
        "_uuid": "28a61d344d1556bdac352ac69e2ed0eb0e9a0cbc",
        "id": "QdD869ZpLPUE"
      },
      "source": [
        "#### Label Encoder: \n",
        "\n",
        "    * Metode ini bisa digunakan untuk mentranform non-numerical labels kedalam bentuk numerical labels (or nominal\n",
        "      categorical variables).\n",
        "    * Numerical labels akan selalu ada diantara 0 sampai n_classes-1. \n",
        "      Misalkan ada 3 kelas, berarti labelnya ada di 0, 1, dan 2."
      ]
    },
    {
      "cell_type": "code",
      "execution_count": null,
      "metadata": {
        "_uuid": "ad860887b31ba69dfe706ccd320b9cebe4fe931b",
        "id": "45NI8uAZLPUE",
        "outputId": "11e1527d-05fa-44b1-908b-80b34369f9d5"
      },
      "outputs": [
        {
          "data": {
            "text/plain": [
              "array([1, 2, 0, 2, 0, 1, 2, 1, 0, 1, 2, 0, 1, 1, 2], dtype=object)"
            ]
          },
          "execution_count": 9,
          "metadata": {},
          "output_type": "execute_result"
        }
      ],
      "source": [
        "from sklearn.preprocessing import LabelEncoder, OneHotEncoder\n",
        "#Encode untuk data kategorikal pada kolom 'Country'\n",
        "labelencoder_X = LabelEncoder()\n",
        "X[:,0] = labelencoder_X.fit_transform(X[:,0])\n",
        "X[:,0]"
      ]
    },
    {
      "cell_type": "markdown",
      "metadata": {
        "_uuid": "5f745a4a68c5e1d90dc1537940af301e69d9c164",
        "id": "Ul7TR9_9LPUF"
      },
      "source": [
        "Sekarang categorical value untuk kolom 'Country' dirbah ke dalam bentuk kategorikal\n",
        "\n",
        "| Country | Value |\n",
        "|:--------|:------|\n",
        "| China   |   0   |  \n",
        "| India   |   1   |   \n",
        "| Srilanka|   2   |   \n"
      ]
    },
    {
      "cell_type": "code",
      "execution_count": null,
      "metadata": {
        "id": "D13pCcu-LPUG",
        "outputId": "f6a8f494-dddf-410e-8b70-a10836cad2a3"
      },
      "outputs": [
        {
          "data": {
            "text/plain": [
              "array([[1, 34.0, 92000.0],\n",
              "       [2, 22.0, 25000.0],\n",
              "       [0, 31.0, 74000.0],\n",
              "       [2, 29.0, 54857.142857142855],\n",
              "       [0, 55.0, 98000.0],\n",
              "       [1, 24.0, 30000.0],\n",
              "       [2, 28.0, 40000.0],\n",
              "       [1, 33.714285714285715, 60000.0],\n",
              "       [0, 51.0, 89000.0],\n",
              "       [1, 44.0, 78000.0],\n",
              "       [2, 21.0, 20000.0],\n",
              "       [0, 25.0, 30000.0],\n",
              "       [1, 33.0, 45000.0],\n",
              "       [1, 42.0, 65000.0],\n",
              "       [2, 33.0, 22000.0]], dtype=object)"
            ]
          },
          "execution_count": 10,
          "metadata": {},
          "output_type": "execute_result"
        }
      ],
      "source": [
        "X"
      ]
    },
    {
      "cell_type": "code",
      "execution_count": null,
      "metadata": {
        "_uuid": "614c26108b7dcd141f65bf14b67e178aee962f19",
        "id": "95Tn0vzTLPUG",
        "outputId": "807a44c5-b89c-47a0-b138-d501bd44e6bc"
      },
      "outputs": [
        {
          "data": {
            "text/plain": [
              "array([1, 1, 1, 0, 1, 0, 0, 0, 1, 1, 0, 1, 1, 1, 0])"
            ]
          },
          "execution_count": 11,
          "metadata": {},
          "output_type": "execute_result"
        }
      ],
      "source": [
        "#Encode untuk data kategorikal pada kolom 'Purchased'\n",
        "labelencoder_Y = LabelEncoder()\n",
        "Y = labelencoder_X.fit_transform(Y)\n",
        "Y"
      ]
    },
    {
      "cell_type": "markdown",
      "metadata": {
        "id": "rK-OUGnTLPUH"
      },
      "source": [
        "## 4. Splitting Dataset"
      ]
    },
    {
      "cell_type": "code",
      "execution_count": null,
      "metadata": {
        "_uuid": "19b3d19ab1e4b1c1ff425d55b0eb79317bf7ab86",
        "id": "MRCAGYDVLPUH"
      },
      "outputs": [],
      "source": [
        "from sklearn.model_selection import train_test_split\n",
        "\n",
        "X_train,X_test,Y_train,Y_test = train_test_split(X,Y,test_size = 0.2,random_state = 0)"
      ]
    },
    {
      "cell_type": "code",
      "execution_count": null,
      "metadata": {
        "_uuid": "780861983da7a12d75a1a3c7e6e03a1602d41c07",
        "id": "aUhBXc1BLPUI",
        "outputId": "d270768c-9c04-4dc2-bdec-b163d8655d66",
        "scrolled": true
      },
      "outputs": [
        {
          "name": "stdout",
          "output_type": "stream",
          "text": [
            "X_train: (12, 3)\n",
            "----------------\n",
            "X_test: (3, 3)\n",
            "----------------\n",
            "Y_train: (12,)\n",
            "----------------\n",
            "Y_test: (3,)\n",
            "----------------\n"
          ]
        }
      ],
      "source": [
        "# Print the shape of the dataset\n",
        "print ('X_train:', (str(X_train.shape)))\n",
        "print ('----------------')\n",
        "print ('X_test:', (str(X_test.shape)))\n",
        "print ('----------------')\n",
        "print ('Y_train:', (str(Y_train.shape)))\n",
        "print ('----------------')\n",
        "print ('Y_test:', (str(Y_test.shape)))\n",
        "print ('----------------')"
      ]
    },
    {
      "cell_type": "markdown",
      "metadata": {
        "_uuid": "0ef42f4efa7b7ed1f21966153a9a0de7a14d1d2e",
        "id": "fltzCTmqLPUJ"
      },
      "source": [
        "## 5. Scale your Features\n",
        " \n",
        "\n",
        "Dalam sebuah dataset, biasanya nilai pada tiap fitur mempunyai range yg berbeda. Hal ini dapat menjadikan masalah untuk\n",
        "beberapa model machine learning. Untuk itu kita harus melakukan scaling agar semua nilai pada fitur memiliki range yang sama. Pada kasus ini kita menggunakan StandardScaler\n",
        "      \n",
        "      "
      ]
    },
    {
      "cell_type": "code",
      "execution_count": null,
      "metadata": {
        "_uuid": "d7b0722d744c2da299c42cc2b6e50f6a21a87d20",
        "id": "CnKF-94ULPUJ"
      },
      "outputs": [],
      "source": [
        "\n",
        "from sklearn.preprocessing import StandardScaler\n",
        "\n",
        "sc_X = StandardScaler()\n",
        "\n",
        "# We need to fit and transform the training set\n",
        "X_train = sc_X.fit_transform(X_train)\n",
        "\n",
        "# We need to fit the test set\n",
        "X_test = sc_X.transform(X_test)"
      ]
    },
    {
      "cell_type": "code",
      "execution_count": null,
      "metadata": {
        "_uuid": "19edd09629c93a036a69dbb5adc2fa526c1403db",
        "id": "JngkpAm-LPUK",
        "outputId": "13407f27-a273-4225-daa2-85d363a4cf38"
      },
      "outputs": [
        {
          "data": {
            "text/plain": [
              "array([[ 0.00000000e+00,  1.13100526e+00,  8.68162753e-01],\n",
              "       [ 1.41421356e+00, -7.99435932e-02, -1.31570762e+00],\n",
              "       [-1.41421356e+00,  2.34195411e+00,  1.64811646e+00],\n",
              "       [-1.41421356e+00, -3.00116112e-01,  7.12172013e-01],\n",
              "       [ 0.00000000e+00,  9.10832742e-01,  3.61192846e-01],\n",
              "       [ 1.41421356e+00, -1.40097871e+00, -1.39370299e+00],\n",
              "       [ 0.00000000e+00, -1.31055071e-03,  1.66204420e-01],\n",
              "       [-1.41421356e+00, -9.60633669e-01, -1.00372614e+00],\n",
              "       [ 1.41421356e+00, -5.20288631e-01, -3.43551036e-02],\n",
              "       [ 0.00000000e+00,  3.01426663e-02,  1.41413035e+00],\n",
              "       [ 0.00000000e+00, -1.07071993e+00, -1.00372614e+00],\n",
              "       [ 0.00000000e+00, -7.99435932e-02, -4.18760858e-01]])"
            ]
          },
          "execution_count": 15,
          "metadata": {},
          "output_type": "execute_result"
        }
      ],
      "source": [
        "X_train"
      ]
    },
    {
      "cell_type": "code",
      "execution_count": null,
      "metadata": {
        "_uuid": "047b9e920be562717de782098c416e0bcc6e9bd5",
        "id": "LueTE2siLPUL",
        "outputId": "6557a2c4-b268-4f76-d313-223c913dcdc3"
      },
      "outputs": [
        {
          "data": {
            "text/plain": [
              "array([[ 1.41421356, -1.29089245, -1.19871456],\n",
              "       [ 1.41421356, -0.63037489, -0.61374928],\n",
              "       [-1.41421356,  1.90160908,  1.29713729]])"
            ]
          },
          "execution_count": 16,
          "metadata": {},
          "output_type": "execute_result"
        }
      ],
      "source": [
        "X_test"
      ]
    },
    {
      "cell_type": "markdown",
      "metadata": {
        "_uuid": "d884daf43f80af5c65844fbc763ea18c738890ec",
        "id": "mqShyOjlLPUM"
      },
      "source": [
        "Nah Sekarang semua data dalam fitur sudah berada dalam range yg sama, data ini bisa lgsg kita masukan kedalam model machine learning."
      ]
    },
    {
      "cell_type": "markdown",
      "metadata": {
        "id": "u-ELaeN0LPUM"
      },
      "source": [
        "Dalam percobaan kali ini kita akan mencoba memasukkan data kedalam model KNN"
      ]
    },
    {
      "cell_type": "code",
      "execution_count": null,
      "metadata": {
        "id": "9EDR2RkFLPUN",
        "outputId": "d6e91e5d-f92c-4376-8043-0cd3fa5b3618"
      },
      "outputs": [
        {
          "data": {
            "text/plain": [
              "KNeighborsClassifier(n_neighbors=3)"
            ]
          },
          "execution_count": 29,
          "metadata": {},
          "output_type": "execute_result"
        }
      ],
      "source": [
        "from sklearn.neighbors import KNeighborsClassifier\n",
        "k = 3\n",
        "#Train Model and Predict  \n",
        "knn = KNeighborsClassifier(n_neighbors = k).fit(X_train,Y_train)\n",
        "knn"
      ]
    },
    {
      "cell_type": "code",
      "execution_count": null,
      "metadata": {
        "id": "vh-IbiEELPUN"
      },
      "outputs": [],
      "source": [
        "y_predict = knn.predict(X_test)"
      ]
    },
    {
      "cell_type": "code",
      "execution_count": null,
      "metadata": {
        "id": "I99Xie8yLPUO",
        "outputId": "6e3de5c6-e34a-4169-b868-bf5b0670efbc"
      },
      "outputs": [
        {
          "name": "stdout",
          "output_type": "stream",
          "text": [
            "Test set Accuracy:  0.6666666666666666\n"
          ]
        }
      ],
      "source": [
        "from sklearn import metrics\n",
        "print(\"Test set Accuracy: \", metrics.accuracy_score(Y_test, y_predict))"
      ]
    },
    {
      "cell_type": "markdown",
      "metadata": {
        "id": "4u3rhvI0LPUP"
      },
      "source": [
        "Dalam hal ini kita hanya mendapat akurasi 67%, ini terhitung kecil. ini bisa disebabkan karena data yg kita punya hanyaa sedikit. "
      ]
    }
  ],
  "metadata": {
    "colab": {
      "name": "simple-data-pre-processing-steps.ipynb",
      "provenance": []
    },
    "kernelspec": {
      "display_name": "Python 3",
      "language": "python",
      "name": "python3"
    },
    "language_info": {
      "codemirror_mode": {
        "name": "ipython",
        "version": 3
      },
      "file_extension": ".py",
      "mimetype": "text/x-python",
      "name": "python",
      "nbconvert_exporter": "python",
      "pygments_lexer": "ipython3",
      "version": "3.9.6"
    }
  },
  "nbformat": 4,
  "nbformat_minor": 0
}
