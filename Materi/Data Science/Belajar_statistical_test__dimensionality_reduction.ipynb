{
  "nbformat": 4,
  "nbformat_minor": 0,
  "metadata": {
    "colab": {
      "name": "Contoh_solusi_statistical_test_&_dimensionality_reduction.ipynb",
      "provenance": []
    },
    "kernelspec": {
      "name": "python3",
      "display_name": "Python 3"
    },
    "language_info": {
      "name": "python"
    }
  },
  "cells": [
    {
      "cell_type": "markdown",
      "metadata": {
        "id": "cNzIDuWSmDgM"
      },
      "source": [
        "# Contoh Kasus Uji Beda\n",
        "Sebuah lembaga pelatihan bahasa inggris ingin mengetahui apakah pelatihan mereka berhasil meningkatkan skor TOEFL pesertanya. Mereka lalu menganalisa skor TOEFL sebelum dan sesudah pelatihan. Dengan tingkat kepercayaan 95%, apakah pelatihan ini berhasil?\n",
        "\n",
        "![alt text](https://drive.google.com/uc?id=1QN1HbirK1jx5hwlFVEGJUHM64GNjuS1p)\n",
        "\n",
        "\n"
      ]
    },
    {
      "cell_type": "code",
      "metadata": {
        "id": "JuDgnkw0l419"
      },
      "source": [
        "#Library\n",
        "import pandas as pd\n",
        "import numpy as np\n",
        "from scipy import stats\n",
        "from sklearn.preprocessing import MinMaxScaler\n",
        "from sklearn.preprocessing import StandardScaler\n",
        "from sklearn.feature_selection import SelectKBest, f_classif\n",
        "from sklearn.model_selection import train_test_split\n",
        "import time\n",
        "from sklearn.neighbors import KNeighborsClassifier\n",
        "from sklearn import metrics\n",
        "from sklearn.decomposition import PCA\n",
        "from sklearn.discriminant_analysis import LinearDiscriminantAnalysis\n",
        "import matplotlib.pyplot as plt\n",
        "%matplotlib inline  "
      ],
      "execution_count": null,
      "outputs": []
    },
    {
      "cell_type": "markdown",
      "metadata": {
        "id": "enm1JfVqwg2n"
      },
      "source": [
        "Membuat hipotesis\n",
        "\n",
        "Ho : Nilai TOEFL sesudah pelatihan <= sebelum pelatihan\n",
        "\n",
        "Ha : Nilai TOEFL sesudah pelatihan > sebelum pelatihan"
      ]
    },
    {
      "cell_type": "code",
      "metadata": {
        "id": "AgVflauDwvgS"
      },
      "source": [
        "toefl = pd.read_csv('skor_toefl.csv')"
      ],
      "execution_count": null,
      "outputs": []
    },
    {
      "cell_type": "markdown",
      "metadata": {
        "id": "d4_pQVkuxfMk"
      },
      "source": [
        "Menentukan uji statistik\n",
        "\n",
        "![alt text](https://drive.google.com/uc?id=1asHY6TCNsltT7O8H6CmlEqQxQPgKH-6d)\n",
        "\n",
        "Meski datanya ada 2, namun masih dari orang yang sama sehingga termasuk uji beda 2 kelompok berhubungan. Datanya numerik dan jumlahnya juga cukup banyak sehingga menurut teorema limit pusat yang dibahas minggu lalu, distribusi datanya mendekati normal. Menurut tabel diatas, uji statistik yang sesuai adalah \"paired sample t-test\". Di python uji ini tersedia di scipy.stats dengan nama \"ttest_rel\""
      ]
    },
    {
      "cell_type": "code",
      "metadata": {
        "id": "i20ZTsqdw6J6",
        "colab": {
          "base_uri": "https://localhost:8080/"
        },
        "outputId": "529aa170-1276-45ad-b217-7fa9c97b94ce"
      },
      "source": [
        "#Melakukan uji t\n",
        "uji_t = stats.ttest_rel(toefl['Sesudah'], toefl['Sebelum']) #hasilnya: (statistik hitungnya (t-hitung), pvalue)\n",
        "print('nilai t-hitung = ', uji_t[0])\n",
        "print('nilai p-value = ', uji_t[1])"
      ],
      "execution_count": null,
      "outputs": [
        {
          "output_type": "stream",
          "name": "stdout",
          "text": [
            "nilai t-hitung =  30.255038012916643\n",
            "nilai p-value =  1.638101871655264e-51\n"
          ]
        }
      ]
    },
    {
      "cell_type": "markdown",
      "metadata": {
        "id": "FydGBAmq0LyY"
      },
      "source": [
        "Berdasarkan hasil diatas, p-value = 1,6 x 10^(-51) < alpha (5%). Maka Ho ditolak, terdapat peningkatan yang signifikan dari TOEFL bahasa Inggris peserta pelatihan"
      ]
    },
    {
      "cell_type": "markdown",
      "metadata": {
        "id": "uzzvacgS1kOu"
      },
      "source": [
        "# Contoh dimensionality reduction\n",
        "Pada latihan ini kita akan mengklasifikasi data genre musik. Disini kita akan membuat beberapa model KNN dengan menggunakan data asli dan data yang dimensinya sudah direduksi. Tugas kalian adalah membandingkan akurasi dan lama training antara data asli dan data yang sudah direduksi."
      ]
    },
    {
      "cell_type": "code",
      "metadata": {
        "id": "EZe1xL54lVNR",
        "colab": {
          "base_uri": "https://localhost:8080/",
          "height": 456
        },
        "outputId": "1e156a9c-cf84-41b4-e279-dfb630ae7c5c"
      },
      "source": [
        "music = pd.read_csv('music_genre.csv')\n",
        "music2 = music.copy()\n",
        "music2.dropna(inplace=True)\n",
        "del music2['Artist Name']\n",
        "del music2['Track Name']\n",
        "music2"
      ],
      "execution_count": null,
      "outputs": [
        {
          "output_type": "execute_result",
          "data": {
            "text/html": [
              "<div>\n",
              "<style scoped>\n",
              "    .dataframe tbody tr th:only-of-type {\n",
              "        vertical-align: middle;\n",
              "    }\n",
              "\n",
              "    .dataframe tbody tr th {\n",
              "        vertical-align: top;\n",
              "    }\n",
              "\n",
              "    .dataframe thead th {\n",
              "        text-align: right;\n",
              "    }\n",
              "</style>\n",
              "<table border=\"1\" class=\"dataframe\">\n",
              "  <thead>\n",
              "    <tr style=\"text-align: right;\">\n",
              "      <th></th>\n",
              "      <th>Popularity</th>\n",
              "      <th>danceability</th>\n",
              "      <th>energy</th>\n",
              "      <th>key</th>\n",
              "      <th>loudness</th>\n",
              "      <th>mode</th>\n",
              "      <th>speechiness</th>\n",
              "      <th>acousticness</th>\n",
              "      <th>instrumentalness</th>\n",
              "      <th>liveness</th>\n",
              "      <th>valence</th>\n",
              "      <th>tempo</th>\n",
              "      <th>duration_in min/ms</th>\n",
              "      <th>time_signature</th>\n",
              "      <th>Class</th>\n",
              "    </tr>\n",
              "  </thead>\n",
              "  <tbody>\n",
              "    <tr>\n",
              "      <th>1</th>\n",
              "      <td>54.0</td>\n",
              "      <td>0.382</td>\n",
              "      <td>0.814</td>\n",
              "      <td>3.0</td>\n",
              "      <td>-7.230</td>\n",
              "      <td>1</td>\n",
              "      <td>0.0406</td>\n",
              "      <td>0.001100</td>\n",
              "      <td>0.004010</td>\n",
              "      <td>0.1010</td>\n",
              "      <td>0.5690</td>\n",
              "      <td>116.454</td>\n",
              "      <td>251733.0</td>\n",
              "      <td>4</td>\n",
              "      <td>10</td>\n",
              "    </tr>\n",
              "    <tr>\n",
              "      <th>2</th>\n",
              "      <td>35.0</td>\n",
              "      <td>0.434</td>\n",
              "      <td>0.614</td>\n",
              "      <td>6.0</td>\n",
              "      <td>-8.334</td>\n",
              "      <td>1</td>\n",
              "      <td>0.0525</td>\n",
              "      <td>0.486000</td>\n",
              "      <td>0.000196</td>\n",
              "      <td>0.3940</td>\n",
              "      <td>0.7870</td>\n",
              "      <td>147.681</td>\n",
              "      <td>109667.0</td>\n",
              "      <td>4</td>\n",
              "      <td>6</td>\n",
              "    </tr>\n",
              "    <tr>\n",
              "      <th>4</th>\n",
              "      <td>53.0</td>\n",
              "      <td>0.167</td>\n",
              "      <td>0.975</td>\n",
              "      <td>2.0</td>\n",
              "      <td>-4.279</td>\n",
              "      <td>1</td>\n",
              "      <td>0.2160</td>\n",
              "      <td>0.000169</td>\n",
              "      <td>0.016100</td>\n",
              "      <td>0.1720</td>\n",
              "      <td>0.0918</td>\n",
              "      <td>199.060</td>\n",
              "      <td>229960.0</td>\n",
              "      <td>4</td>\n",
              "      <td>10</td>\n",
              "    </tr>\n",
              "    <tr>\n",
              "      <th>5</th>\n",
              "      <td>53.0</td>\n",
              "      <td>0.235</td>\n",
              "      <td>0.977</td>\n",
              "      <td>6.0</td>\n",
              "      <td>0.878</td>\n",
              "      <td>1</td>\n",
              "      <td>0.1070</td>\n",
              "      <td>0.003530</td>\n",
              "      <td>0.006040</td>\n",
              "      <td>0.1720</td>\n",
              "      <td>0.2410</td>\n",
              "      <td>152.952</td>\n",
              "      <td>208133.0</td>\n",
              "      <td>4</td>\n",
              "      <td>6</td>\n",
              "    </tr>\n",
              "    <tr>\n",
              "      <th>6</th>\n",
              "      <td>48.0</td>\n",
              "      <td>0.674</td>\n",
              "      <td>0.658</td>\n",
              "      <td>5.0</td>\n",
              "      <td>-9.647</td>\n",
              "      <td>0</td>\n",
              "      <td>0.1040</td>\n",
              "      <td>0.404000</td>\n",
              "      <td>0.000001</td>\n",
              "      <td>0.0981</td>\n",
              "      <td>0.6770</td>\n",
              "      <td>143.292</td>\n",
              "      <td>329387.0</td>\n",
              "      <td>4</td>\n",
              "      <td>2</td>\n",
              "    </tr>\n",
              "    <tr>\n",
              "      <th>...</th>\n",
              "      <td>...</td>\n",
              "      <td>...</td>\n",
              "      <td>...</td>\n",
              "      <td>...</td>\n",
              "      <td>...</td>\n",
              "      <td>...</td>\n",
              "      <td>...</td>\n",
              "      <td>...</td>\n",
              "      <td>...</td>\n",
              "      <td>...</td>\n",
              "      <td>...</td>\n",
              "      <td>...</td>\n",
              "      <td>...</td>\n",
              "      <td>...</td>\n",
              "      <td>...</td>\n",
              "    </tr>\n",
              "    <tr>\n",
              "      <th>17991</th>\n",
              "      <td>35.0</td>\n",
              "      <td>0.166</td>\n",
              "      <td>0.109</td>\n",
              "      <td>7.0</td>\n",
              "      <td>-17.100</td>\n",
              "      <td>0</td>\n",
              "      <td>0.0413</td>\n",
              "      <td>0.993000</td>\n",
              "      <td>0.824000</td>\n",
              "      <td>0.0984</td>\n",
              "      <td>0.1770</td>\n",
              "      <td>171.587</td>\n",
              "      <td>193450.0</td>\n",
              "      <td>3</td>\n",
              "      <td>6</td>\n",
              "    </tr>\n",
              "    <tr>\n",
              "      <th>17992</th>\n",
              "      <td>27.0</td>\n",
              "      <td>0.638</td>\n",
              "      <td>0.223</td>\n",
              "      <td>11.0</td>\n",
              "      <td>-10.174</td>\n",
              "      <td>0</td>\n",
              "      <td>0.0329</td>\n",
              "      <td>0.858000</td>\n",
              "      <td>0.000016</td>\n",
              "      <td>0.0705</td>\n",
              "      <td>0.3350</td>\n",
              "      <td>73.016</td>\n",
              "      <td>257067.0</td>\n",
              "      <td>4</td>\n",
              "      <td>2</td>\n",
              "    </tr>\n",
              "    <tr>\n",
              "      <th>17993</th>\n",
              "      <td>34.0</td>\n",
              "      <td>0.558</td>\n",
              "      <td>0.981</td>\n",
              "      <td>4.0</td>\n",
              "      <td>-4.683</td>\n",
              "      <td>0</td>\n",
              "      <td>0.0712</td>\n",
              "      <td>0.000030</td>\n",
              "      <td>0.000136</td>\n",
              "      <td>0.6660</td>\n",
              "      <td>0.2620</td>\n",
              "      <td>105.000</td>\n",
              "      <td>216222.0</td>\n",
              "      <td>4</td>\n",
              "      <td>8</td>\n",
              "    </tr>\n",
              "    <tr>\n",
              "      <th>17994</th>\n",
              "      <td>29.0</td>\n",
              "      <td>0.215</td>\n",
              "      <td>0.805</td>\n",
              "      <td>6.0</td>\n",
              "      <td>-12.757</td>\n",
              "      <td>0</td>\n",
              "      <td>0.1340</td>\n",
              "      <td>0.001290</td>\n",
              "      <td>0.916000</td>\n",
              "      <td>0.2560</td>\n",
              "      <td>0.3550</td>\n",
              "      <td>131.363</td>\n",
              "      <td>219693.0</td>\n",
              "      <td>4</td>\n",
              "      <td>8</td>\n",
              "    </tr>\n",
              "    <tr>\n",
              "      <th>17995</th>\n",
              "      <td>43.0</td>\n",
              "      <td>0.400</td>\n",
              "      <td>0.853</td>\n",
              "      <td>4.0</td>\n",
              "      <td>-5.320</td>\n",
              "      <td>0</td>\n",
              "      <td>0.0591</td>\n",
              "      <td>0.006040</td>\n",
              "      <td>0.212000</td>\n",
              "      <td>0.3340</td>\n",
              "      <td>0.3770</td>\n",
              "      <td>138.102</td>\n",
              "      <td>182227.0</td>\n",
              "      <td>4</td>\n",
              "      <td>10</td>\n",
              "    </tr>\n",
              "  </tbody>\n",
              "</table>\n",
              "<p>11813 rows × 15 columns</p>\n",
              "</div>"
            ],
            "text/plain": [
              "       Popularity  danceability  ...  time_signature  Class\n",
              "1            54.0         0.382  ...               4     10\n",
              "2            35.0         0.434  ...               4      6\n",
              "4            53.0         0.167  ...               4     10\n",
              "5            53.0         0.235  ...               4      6\n",
              "6            48.0         0.674  ...               4      2\n",
              "...           ...           ...  ...             ...    ...\n",
              "17991        35.0         0.166  ...               3      6\n",
              "17992        27.0         0.638  ...               4      2\n",
              "17993        34.0         0.558  ...               4      8\n",
              "17994        29.0         0.215  ...               4      8\n",
              "17995        43.0         0.400  ...               4     10\n",
              "\n",
              "[11813 rows x 15 columns]"
            ]
          },
          "metadata": {},
          "execution_count": 31
        }
      ]
    },
    {
      "cell_type": "code",
      "metadata": {
        "id": "ueILPvBxqU-W"
      },
      "source": [
        "#Memisahkan Feature dan Label\n",
        "#Feature\n",
        "X = music2.iloc[:,:14].values\n",
        "Y = music2.iloc[:, 14].values"
      ],
      "execution_count": null,
      "outputs": []
    },
    {
      "cell_type": "code",
      "metadata": {
        "id": "kv_O-pOBt4jw",
        "colab": {
          "base_uri": "https://localhost:8080/"
        },
        "outputId": "d570f4a0-7187-48ba-9826-c500cab439db"
      },
      "source": [
        "scaler = StandardScaler()\n",
        "\n",
        "# transform data\n",
        "X_scaled = scaler.fit_transform(X)\n",
        "print(X_scaled)"
      ],
      "execution_count": null,
      "outputs": [
        {
          "output_type": "stream",
          "name": "stdout",
          "text": [
            "[[ 0.6578634  -0.86108     0.59301271 ... -0.22000411  0.33481231\n",
            "   0.22582345]\n",
            " [-0.48893955 -0.54783734 -0.2323635  ...  0.8410691  -0.89146753\n",
            "   0.22582345]\n",
            " [ 0.59750535 -2.15621793  1.25744056 ...  2.5868942   0.14687296\n",
            "   0.22582345]\n",
            " ...\n",
            " [-0.5492976   0.19912594  1.28220184 ... -0.6092036   0.02828982\n",
            "   0.22582345]\n",
            " [-0.85108785 -1.86707086  0.55587078 ...  0.28659404  0.05825067\n",
            "   0.22582345]\n",
            " [-0.00607515 -0.75264985  0.75396107 ...  0.51558089 -0.26514691\n",
            "   0.22582345]]\n"
          ]
        }
      ]
    },
    {
      "cell_type": "markdown",
      "metadata": {
        "id": "rvTSRUe-6MPv"
      },
      "source": [
        "## Feature Selection dengan uji statistik\n",
        "Disini kita akan memilih beberapa feature saja yang dianggap penting untuk nantinya digunakan untuk membuat model. Berbeda dengan PCA dan LDA, kita tidak mentransformasi data, hanya menggunakan sebagiannya saja. \n",
        "\n",
        "Karena labelnya kategorik, maka kita bisa menggunakan uji beda. Karena datanya banyak dan jumlah grupnya lebih dari 2, maka disini kita menggunakan ANOVA. Berikut contoh kodingan untuk feature selection dengan uji statistik yang tersedia di library 'sklearn.feature_selection'"
      ]
    },
    {
      "cell_type": "code",
      "metadata": {
        "id": "mgYVtujdlX57",
        "colab": {
          "base_uri": "https://localhost:8080/"
        },
        "outputId": "95145db2-07ec-46e3-ff73-18e854525196"
      },
      "source": [
        "selector = SelectKBest(f_classif, k=7)   #pilih k feature terbaik berdasarkan nilai statistik uji ANOVA tertinggi\n",
        "selector.fit(X_scaled, Y)\n",
        "X_new_a= selector.fit_transform(X_scaled, Y)   # k feature terbaik sudah terpilih\n",
        "print(\"nilai statistik hitung tiap feature : \", selector.scores_)\n",
        "print('\\n', \"nilai pvalue : \", selector.pvalues_)"
      ],
      "execution_count": null,
      "outputs": [
        {
          "output_type": "stream",
          "name": "stdout",
          "text": [
            "nilai statistik hitung tiap feature :  [139.88066056 327.57607032 607.05627169   3.44940318 533.23015937\n",
            "  17.36126483 240.43782283 702.69800751 307.34168538  25.06319532\n",
            " 208.2249501   28.89657946 931.21961423  25.14183356]\n",
            "\n",
            " nilai pvalue :  [5.67588919e-278 0.00000000e+000 0.00000000e+000 1.54594261e-004\n",
            " 0.00000000e+000 8.80419429e-032 0.00000000e+000 0.00000000e+000\n",
            " 0.00000000e+000 1.36713016e-047 0.00000000e+000 1.72827268e-055\n",
            " 0.00000000e+000 9.41651367e-048]\n"
          ]
        }
      ]
    },
    {
      "cell_type": "markdown",
      "metadata": {
        "id": "t14Dolnq9QWH"
      },
      "source": [
        "Terlihat dari p-valuenya semuanya dibawah 0.05, sehingga semuanya bisa digunakan berdasarkan p-valuenya. Lalu pemilihan 7 feature tertinggi akan dipilih berdasarkan nilai statistik uji ANOVA tertinggi"
      ]
    },
    {
      "cell_type": "code",
      "metadata": {
        "id": "OFvGjWLqlt3v",
        "colab": {
          "base_uri": "https://localhost:8080/"
        },
        "outputId": "dd4a1c4a-d0ba-45bb-a65e-df0550cd157a"
      },
      "source": [
        "print('7 feature terbaik adalah : ', '\\n', X_new_a)"
      ],
      "execution_count": null,
      "outputs": [
        {
          "output_type": "stream",
          "name": "stdout",
          "text": [
            "7 feature terbaik adalah :  \n",
            " [[-0.86108     0.59301271  0.23252887 ... -0.74850148 -0.57598232\n",
            "   0.33481231]\n",
            " [-0.54783734 -0.2323635  -0.02787906 ...  0.77094811 -0.58853677\n",
            "  -0.89146753]\n",
            " [-2.15621793  1.25744056  0.92860117 ... -0.75141879 -0.53618594\n",
            "   0.14687296]\n",
            " ...\n",
            " [ 0.19912594  1.28220184  0.83330697 ... -0.75185529 -0.58873427\n",
            "   0.02828982]\n",
            " [-1.86707086  0.55587078 -1.07116195 ... -0.7479061   2.42599431\n",
            "   0.05825067]\n",
            " [-0.75264985  0.75396107  0.68305347 ... -0.73302183  0.10865361\n",
            "  -0.26514691]]\n"
          ]
        }
      ]
    },
    {
      "cell_type": "markdown",
      "metadata": {
        "id": "L31rgArQtizI"
      },
      "source": [
        "## PCA\n",
        "Sebelum menentukan ingin mereduksi menjadi berapa komponen, kita bikin dulu visualisasi cumulative explained ratio sebagai gambaran berapa persen varians data asli yang tetap bisa dijelaskan meski sudah direduksi"
      ]
    },
    {
      "cell_type": "code",
      "metadata": {
        "id": "tET0fiIZ0bAz",
        "colab": {
          "base_uri": "https://localhost:8080/",
          "height": 296
        },
        "outputId": "8158c54c-9095-4146-9e38-9178de828672"
      },
      "source": [
        "#Membuat Visualisasi cumulative explained ratio\n",
        "pca = PCA()\n",
        "pca_data = pca.fit_transform(X_scaled)\n",
        "\n",
        "plt.plot(np.cumsum(pca.explained_variance_ratio_))\n",
        "plt.xlabel(\"number of components\")\n",
        "plt.ylabel(\"cumulative explained variance\")"
      ],
      "execution_count": null,
      "outputs": [
        {
          "output_type": "execute_result",
          "data": {
            "text/plain": [
              "Text(0, 0.5, 'cumulative explained variance')"
            ]
          },
          "metadata": {},
          "execution_count": 36
        },
        {
          "output_type": "display_data",
          "data": {
            "image/png": "[encoded data removed]",
            "text/plain": [
              "<Figure size 432x288 with 1 Axes>"
            ]
          },
          "metadata": {
            "needs_background": "light"
          }
        }
      ]
    },
    {
      "cell_type": "markdown",
      "metadata": {
        "id": "tUyDKoiJ4k-R"
      },
      "source": [
        "Terlihat bahwa cumulative explained variance minimal 75% saat n_components minimal 8, berarti sebisa mungkin n_components minimal 8"
      ]
    },
    {
      "cell_type": "code",
      "metadata": {
        "id": "MEDRgbMk3vSh",
        "colab": {
          "base_uri": "https://localhost:8080/"
        },
        "outputId": "9e40e541-b583-472c-cac9-aa5920443e58"
      },
      "source": [
        "# implementasi pca sesuai grafik\n",
        "n = 9\n",
        "pca = PCA(n_components=n)\n",
        "X_new_pca = pca.fit_transform(X_scaled)\n",
        "total_var = pca.explained_variance_ratio_.sum() * 100\n",
        "print(total_var, '% of total variance is explained by',n, 'principal components')"
      ],
      "execution_count": null,
      "outputs": [
        {
          "output_type": "stream",
          "name": "stdout",
          "text": [
            "82.70526081543663 % of total variance is explained by 9 principal components\n"
          ]
        }
      ]
    },
    {
      "cell_type": "markdown",
      "metadata": {
        "id": "UbKdrvu0tmZl"
      },
      "source": [
        "## LDA\n",
        "Sama seperti PCA, kita buat visualisasi cumulative explained variance dulu"
      ]
    },
    {
      "cell_type": "code",
      "metadata": {
        "id": "wYmwIkkktld8",
        "colab": {
          "base_uri": "https://localhost:8080/",
          "height": 296
        },
        "outputId": "47763731-f7a9-4aaa-fb36-c41cb198db7e"
      },
      "source": [
        "#Membuat Visualisasi cumulative explained variance\n",
        "lda = LinearDiscriminantAnalysis()\n",
        "lda_data = lda.fit_transform(X_scaled, Y)\n",
        "\n",
        "plt.plot(np.cumsum(lda.explained_variance_ratio_))\n",
        "plt.xlabel(\"number of components\")\n",
        "plt.ylabel(\"cumulative explained variance\")"
      ],
      "execution_count": null,
      "outputs": [
        {
          "output_type": "execute_result",
          "data": {
            "text/plain": [
              "Text(0, 0.5, 'cumulative explained variance')"
            ]
          },
          "metadata": {},
          "execution_count": 38
        },
        {
          "output_type": "display_data",
          "data": {
            "image/png": "[encoded data removed]",
            "text/plain": [
              "<Figure size 432x288 with 1 Axes>"
            ]
          },
          "metadata": {
            "needs_background": "light"
          }
        }
      ]
    },
    {
      "cell_type": "markdown",
      "metadata": {
        "id": "kHT4FPPut6CS"
      },
      "source": [
        "Terlihat bahwa cumulative explained value minimal 75% saat n_component minimal 1"
      ]
    },
    {
      "cell_type": "code",
      "metadata": {
        "id": "8LpOebrruC77",
        "colab": {
          "base_uri": "https://localhost:8080/"
        },
        "outputId": "ef5c8ad1-8682-4164-9934-d507a1e0fef9"
      },
      "source": [
        "# implementasi lda sesuai grafik\n",
        "l = 4\n",
        "lda = LinearDiscriminantAnalysis(n_components=l)\n",
        "X_new_lda = lda.fit_transform(X_scaled, Y)\n",
        "total_var = lda.explained_variance_ratio_.sum() * 100\n",
        "print(total_var, '% of total variance is explained by',l, 'features')"
      ],
      "execution_count": null,
      "outputs": [
        {
          "output_type": "stream",
          "name": "stdout",
          "text": [
            "91.36003363150664 % of total variance is explained by 4 features\n"
          ]
        }
      ]
    },
    {
      "cell_type": "markdown",
      "metadata": {
        "id": "nSFOjX9SpV-9"
      },
      "source": [
        "#Buat Model KNN dari data asli dan data yang sudah dilakukan dimensional reduction"
      ]
    },
    {
      "cell_type": "code",
      "metadata": {
        "id": "HxSGoayLkiL9"
      },
      "source": [
        "#Training dan Testing data asli dan data dengan feature selection\n",
        "X_train,X_test,Y_train,Y_test = train_test_split(X_scaled, Y, test_size = 0.2, random_state = 22, stratify=Y)\n",
        "X_train_a,X_test_a,Y_train_a,Y_test_a = train_test_split(X_new_a, Y, test_size = 0.2, random_state = 22, stratify=Y)\n",
        "X_train_pca,X_test_pca,Y_train_pca,Y_test_pca = train_test_split(X_new_pca, Y, test_size = 0.2, random_state = 22, stratify=Y)\n",
        "X_train_lda,X_test_lda,Y_train_lda,Y_test_lda = train_test_split(X_new_lda, Y, test_size = 0.2, random_state = 22, stratify=Y)"
      ],
      "execution_count": null,
      "outputs": []
    },
    {
      "cell_type": "code",
      "metadata": {
        "id": "WHw5eYajkqed",
        "colab": {
          "base_uri": "https://localhost:8080/"
        },
        "outputId": "5ab3452e-54e4-4af8-e90b-068bfc3036f6"
      },
      "source": [
        "#Train Model and Predict dengan data asli\n",
        "start = time.time() \n",
        "k = 10\n",
        "knn = KNeighborsClassifier(n_neighbors = k, metric='euclidean').fit(X_train,Y_train)\n",
        "y_predict = knn.predict(X_test)\n",
        "end = time.time()\n",
        "print(\"Akurasi model dengan data asli: \", metrics.accuracy_score(Y_test, y_predict))\n",
        "print('waktu training hingga prediksi = ', end - start)"
      ],
      "execution_count": null,
      "outputs": [
        {
          "output_type": "stream",
          "name": "stdout",
          "text": [
            "Akurasi model dengan data asli:  0.42615319509098604\n",
            "waktu training hingga prediksi =  0.6604580879211426\n"
          ]
        }
      ]
    },
    {
      "cell_type": "code",
      "metadata": {
        "id": "1SakqeNeJ0n5",
        "colab": {
          "base_uri": "https://localhost:8080/"
        },
        "outputId": "c2911136-317a-4b34-c005-095cef8775f5"
      },
      "source": [
        "#Train Model and Predict dengan data feature selection\n",
        "start = time.time() \n",
        "k = 10\n",
        "knn_a = KNeighborsClassifier(n_neighbors = k, metric='euclidean').fit(X_train_a,Y_train_a)\n",
        "y_predict_a = knn_a.predict(X_test_a)\n",
        "end = time.time()\n",
        "print(\"Akurasi model dengan data asli: \", metrics.accuracy_score(Y_test_a, y_predict_a))\n",
        "print('waktu training hingga prediksi = ', end - start)"
      ],
      "execution_count": null,
      "outputs": [
        {
          "output_type": "stream",
          "name": "stdout",
          "text": [
            "Akurasi model dengan data asli:  0.4240372407955988\n",
            "waktu training hingga prediksi =  0.17166399955749512\n"
          ]
        }
      ]
    },
    {
      "cell_type": "code",
      "metadata": {
        "id": "dXBeqAKxJupo",
        "colab": {
          "base_uri": "https://localhost:8080/"
        },
        "outputId": "aecdc6bc-7fdf-420b-baf7-e13c12f4ed20"
      },
      "source": [
        "#Train Model and Predict dengan data PCA\n",
        "start = time.time() \n",
        "k = 25\n",
        "knn_pca = KNeighborsClassifier(n_neighbors = k, metric='euclidean').fit(X_train_pca,Y_train_pca)\n",
        "y_predict_pca = knn_pca.predict(X_test_pca)\n",
        "end = time.time()\n",
        "print(\"Akurasi model dengan data asli: \", metrics.accuracy_score(Y_test_pca, y_predict_pca))\n",
        "print('waktu training hingga prediksi = ', end - start)"
      ],
      "execution_count": null,
      "outputs": [
        {
          "output_type": "stream",
          "name": "stdout",
          "text": [
            "Akurasi model dengan data asli:  0.42149809564113416\n",
            "waktu training hingga prediksi =  0.3166499137878418\n"
          ]
        }
      ]
    },
    {
      "cell_type": "code",
      "metadata": {
        "id": "xwIiy72OKYSG",
        "colab": {
          "base_uri": "https://localhost:8080/"
        },
        "outputId": "926fcbac-2299-44a1-e17b-a0bb9deb0fb3"
      },
      "source": [
        "#Train Model and Predict dengan data feature selection\n",
        "start = time.time() \n",
        "k = 17\n",
        "knn_lda = KNeighborsClassifier(n_neighbors = k, metric='euclidean').fit(X_train_lda,Y_train_lda)\n",
        "y_predict_lda = knn_lda.predict(X_test_lda)\n",
        "end = time.time()\n",
        "print(\"Akurasi model dengan data asli: \", metrics.accuracy_score(Y_test_lda, y_predict_lda))\n",
        "print('waktu training hingga prediksi = ', end - start)"
      ],
      "execution_count": null,
      "outputs": [
        {
          "output_type": "stream",
          "name": "stdout",
          "text": [
            "Akurasi model dengan data asli:  0.4265763859500635\n",
            "waktu training hingga prediksi =  0.1102139949798584\n"
          ]
        }
      ]
    },
    {
      "cell_type": "markdown",
      "metadata": {
        "id": "sK7u1bocmQas"
      },
      "source": [
        "Terlihat bahwa dengan jumlah feature yang lebih sedikit, tetap menghasilkan akurasi yang tidak jauh berbeda dan dengan waktu training hingga prediksi yang lebih singkat. Itulah salah 1 keuntungan menggunakan dimensional reduction, ini diperlukan saat menghadapi kasus data berdimensi tinggi (high dimensional data), seperti data genomics, gambar, dll"
      ]
    }
  ]
}