{
  "nbformat": 4,
  "nbformat_minor": 0,
  "metadata": {
    "colab": {
      "name": "Belajar_uji_asumsi_regresi_linier.ipynb",
      "provenance": [],
      "collapsed_sections": []
    },
    "kernelspec": {
      "display_name": "Python 3",
      "name": "python3"
    }
  },
  "cells": [
    {
      "cell_type": "code",
      "metadata": {
        "id": "2uf04RF0M7fx"
      },
      "source": [
        "#Import all library needed\n",
        "import matplotlib.pyplot as plt\n",
        "import pandas as pd\n",
        "import seaborn as sns\n",
        "import numpy as np\n",
        "import statsmodels.api as sm\n",
        "from scipy import stats\n",
        "#import scikit_posthocs as sp\n",
        "import seaborn as sns\n",
        "%matplotlib inline\n",
        "from sklearn.linear_model import LinearRegression\n",
        "from statsmodels.stats.outliers_influence import variance_inflation_factor"
      ],
      "execution_count": 5,
      "outputs": []
    },
    {
      "cell_type": "markdown",
      "metadata": {
        "id": "7AhD9VHYwua2"
      },
      "source": [
        "# Uji Asumsi Klasik pada Regresi Linier\n",
        "Regresi Linier memiliki 5 asumsi yang perlu dipenuhi. Asumsi ini sebenarnya wajib dalam teori ilmu statistika, namun dalam praktik machine learning proses ini terkadang diabaikan karena ketidaktahuan. Uji ini berfungsi untuk ketepatan estimasi dan menjauhkan dari bias\n",
        "\n",
        "1. Hubungan (korelasi) linier antara feature dan label\n",
        "2. Uji Normalitas\n",
        "3. Tidak terjadi Heteroskedastisitas\n",
        "4. Tidak terdapat multikolinearitas (**untuk regresi berganda**)\n",
        "5. Tidak terdapat autokorelasi\n"
      ]
    },
    {
      "cell_type": "markdown",
      "metadata": {
        "id": "UNm-imVJjvq-"
      },
      "source": [
        "Sumber buku \"Multivariate data analysis\" by Hair"
      ]
    },
    {
      "cell_type": "code",
      "metadata": {
        "colab": {
          "base_uri": "https://localhost:8080/"
        },
        "id": "ANDW9_mWMF8L",
        "outputId": "c819658a-cd74-45a4-bcbe-ef4075060c7e"
      },
      "source": [
        "!wget -O Startups.csv https://raw.githubusercontent.com/Handit14/OrbitFutureAcademy_KampusMerdeka/main/Materi/Startups.csv"
      ],
      "execution_count": 6,
      "outputs": [
        {
          "output_type": "stream",
          "name": "stdout",
          "text": [
            "--2021-11-13 13:56:23--  https://raw.githubusercontent.com/Handit14/OrbitFutureAcademy_KampusMerdeka/main/Materi/Startups.csv\n",
            "Resolving raw.githubusercontent.com (raw.githubusercontent.com)... 185.199.111.133, 185.199.108.133, 185.199.109.133, ...\n",
            "Connecting to raw.githubusercontent.com (raw.githubusercontent.com)|185.199.111.133|:443... connected.\n",
            "HTTP request sent, awaiting response... 200 OK\n",
            "Length: 2387 (2.3K) [text/plain]\n",
            "Saving to: ‘Startups.csv’\n",
            "\n",
            "\rStartups.csv          0%[                    ]       0  --.-KB/s               \rStartups.csv        100%[===================>]   2.33K  --.-KB/s    in 0s      \n",
            "\n",
            "2021-11-13 13:56:23 (35.6 MB/s) - ‘Startups.csv’ saved [2387/2387]\n",
            "\n"
          ]
        }
      ]
    },
    {
      "cell_type": "code",
      "metadata": {
        "colab": {
          "base_uri": "https://localhost:8080/",
          "height": 204
        },
        "id": "uoaC5jQezImq",
        "outputId": "3813820d-79a0-48e0-ddaa-42a84ed4f7e3"
      },
      "source": [
        "reglin = pd.read_csv('Startups.csv')\n",
        "reglin.head()"
      ],
      "execution_count": 7,
      "outputs": [
        {
          "output_type": "execute_result",
          "data": {
            "text/html": [
              "<div>\n",
              "<style scoped>\n",
              "    .dataframe tbody tr th:only-of-type {\n",
              "        vertical-align: middle;\n",
              "    }\n",
              "\n",
              "    .dataframe tbody tr th {\n",
              "        vertical-align: top;\n",
              "    }\n",
              "\n",
              "    .dataframe thead th {\n",
              "        text-align: right;\n",
              "    }\n",
              "</style>\n",
              "<table border=\"1\" class=\"dataframe\">\n",
              "  <thead>\n",
              "    <tr style=\"text-align: right;\">\n",
              "      <th></th>\n",
              "      <th>R&amp;D Spend</th>\n",
              "      <th>Administration</th>\n",
              "      <th>Marketing Spend</th>\n",
              "      <th>State</th>\n",
              "      <th>Profit</th>\n",
              "    </tr>\n",
              "  </thead>\n",
              "  <tbody>\n",
              "    <tr>\n",
              "      <th>0</th>\n",
              "      <td>165349.20</td>\n",
              "      <td>136897.80</td>\n",
              "      <td>471784.10</td>\n",
              "      <td>New York</td>\n",
              "      <td>192261.83</td>\n",
              "    </tr>\n",
              "    <tr>\n",
              "      <th>1</th>\n",
              "      <td>162597.70</td>\n",
              "      <td>151377.59</td>\n",
              "      <td>443898.53</td>\n",
              "      <td>California</td>\n",
              "      <td>191792.06</td>\n",
              "    </tr>\n",
              "    <tr>\n",
              "      <th>2</th>\n",
              "      <td>153441.51</td>\n",
              "      <td>101145.55</td>\n",
              "      <td>407934.54</td>\n",
              "      <td>Florida</td>\n",
              "      <td>191050.39</td>\n",
              "    </tr>\n",
              "    <tr>\n",
              "      <th>3</th>\n",
              "      <td>144372.41</td>\n",
              "      <td>118671.85</td>\n",
              "      <td>383199.62</td>\n",
              "      <td>New York</td>\n",
              "      <td>182901.99</td>\n",
              "    </tr>\n",
              "    <tr>\n",
              "      <th>4</th>\n",
              "      <td>142107.34</td>\n",
              "      <td>91391.77</td>\n",
              "      <td>366168.42</td>\n",
              "      <td>Florida</td>\n",
              "      <td>166187.94</td>\n",
              "    </tr>\n",
              "  </tbody>\n",
              "</table>\n",
              "</div>"
            ],
            "text/plain": [
              "   R&D Spend  Administration  Marketing Spend       State     Profit\n",
              "0  165349.20       136897.80        471784.10    New York  192261.83\n",
              "1  162597.70       151377.59        443898.53  California  191792.06\n",
              "2  153441.51       101145.55        407934.54     Florida  191050.39\n",
              "3  144372.41       118671.85        383199.62    New York  182901.99\n",
              "4  142107.34        91391.77        366168.42     Florida  166187.94"
            ]
          },
          "metadata": {},
          "execution_count": 7
        }
      ]
    },
    {
      "cell_type": "code",
      "metadata": {
        "colab": {
          "base_uri": "https://localhost:8080/"
        },
        "id": "_f1zGI0VXHJY",
        "outputId": "03040478-b645-4344-98e6-55fc400b3c65"
      },
      "source": [
        "reglin.info()"
      ],
      "execution_count": 8,
      "outputs": [
        {
          "output_type": "stream",
          "name": "stdout",
          "text": [
            "<class 'pandas.core.frame.DataFrame'>\n",
            "RangeIndex: 50 entries, 0 to 49\n",
            "Data columns (total 5 columns):\n",
            " #   Column           Non-Null Count  Dtype  \n",
            "---  ------           --------------  -----  \n",
            " 0   R&D Spend        50 non-null     float64\n",
            " 1   Administration   50 non-null     float64\n",
            " 2   Marketing Spend  50 non-null     float64\n",
            " 3   State            50 non-null     object \n",
            " 4   Profit           50 non-null     float64\n",
            "dtypes: float64(4), object(1)\n",
            "memory usage: 2.1+ KB\n"
          ]
        }
      ]
    },
    {
      "cell_type": "markdown",
      "metadata": {
        "id": "sml46avb6YnH"
      },
      "source": [
        "## 1. Hubungan Linier antara tiap feature dengan label (X dan Y)\n",
        "Bisa menggunakan plot"
      ]
    },
    {
      "cell_type": "code",
      "metadata": {
        "colab": {
          "base_uri": "https://localhost:8080/",
          "height": 282
        },
        "id": "3ThK1c6q-S86",
        "outputId": "62023d77-070c-4274-89ad-c1dc7b751b84"
      },
      "source": [
        "plt.scatter(reglin['Marketing Spend'], reglin['Profit'], color='blue')\n",
        "plt.xlabel(\"Marketing Spend\")\n",
        "plt.ylabel(\"Profit\")\n",
        "plt.show()"
      ],
      "execution_count": 9,
      "outputs": [
        {
          "output_type": "display_data",
          "data": {
            "image/png": "[encoded data removed]",
            "text/plain": [
              "<Figure size 432x288 with 1 Axes>"
            ]
          },
          "metadata": {
            "needs_background": "light"
          }
        }
      ]
    },
    {
      "cell_type": "code",
      "metadata": {
        "colab": {
          "base_uri": "https://localhost:8080/",
          "height": 282
        },
        "id": "R6xblcbkZ7LS",
        "outputId": "1729f579-663d-433b-8c20-6ef0baccd407"
      },
      "source": [
        "plt.scatter(reglin['Administration'], reglin['Profit'], color='blue')\n",
        "plt.xlabel(\"Administration\")\n",
        "plt.ylabel(\"Profit\")\n",
        "plt.show()"
      ],
      "execution_count": 10,
      "outputs": [
        {
          "output_type": "display_data",
          "data": {
            "image/png": "[encoded data removed]",
            "text/plain": [
              "<Figure size 432x288 with 1 Axes>"
            ]
          },
          "metadata": {
            "needs_background": "light"
          }
        }
      ]
    },
    {
      "cell_type": "code",
      "metadata": {
        "colab": {
          "base_uri": "https://localhost:8080/",
          "height": 282
        },
        "id": "bomCAU1KaRXc",
        "outputId": "e17bc938-bed2-4ed7-fb91-775edffa58db"
      },
      "source": [
        "plt.scatter(reglin['R&D Spend'], reglin['Profit'], color='blue')\n",
        "plt.xlabel(\"R&D Spend\")\n",
        "plt.ylabel(\"Profit\")\n",
        "plt.show()"
      ],
      "execution_count": 11,
      "outputs": [
        {
          "output_type": "display_data",
          "data": {
            "image/png": "[encoded data removed]",
            "text/plain": [
              "<Figure size 432x288 with 1 Axes>"
            ]
          },
          "metadata": {
            "needs_background": "light"
          }
        }
      ]
    },
    {
      "cell_type": "markdown",
      "metadata": {
        "id": "EEyaHDz60gPK"
      },
      "source": [
        "Terlihat bahwa R&D dan marketing spend plotnya masih cenderung membentuk garis yang menunjukkan masing-masing memiliki hubungan yang kuat dengan profit, sementara administration plotnya terlihat berpencar sehingga tidak ada hubungan linier dengan profit. Jadi kedepannya variabel yang kita gunakan sebagai feature adalah R&D dan marketing spend."
      ]
    },
    {
      "cell_type": "markdown",
      "metadata": {
        "id": "SsIcAH0i7YQQ"
      },
      "source": [
        "## 2. Uji normalitas\n",
        "Disini yang kita uji adalah normalitas residual (errornya). Mengapa? karena menurut sifat distribusi normal, kalo errornya normal dan modelnya linier maka koefisien regresinya juga berdistribusi normal (terhindar dari bias outlier)."
      ]
    },
    {
      "cell_type": "code",
      "metadata": {
        "colab": {
          "base_uri": "https://localhost:8080/"
        },
        "id": "4VR_LhfjCHsx",
        "outputId": "9b3c2cc4-790a-42f0-850a-bed631a9e158"
      },
      "source": [
        "features = ['R&D Spend','Marketing Spend']                   #x1 = R&D, x2 =  Marketing\n",
        "X = reglin[features].values\n",
        "Y = reglin.Profit\n",
        "lin_reg = LinearRegression()\n",
        "lin_reg.fit(X, Y)\n",
        "\n",
        "#print(f'Coefficients: {lin_reg.coef_}')\n",
        "#print(f'Intercept: {lin_reg.intercept_}')\n",
        "#print(f'R^2 score: {lin_reg.score(X, Y)}')"
      ],
      "execution_count": 12,
      "outputs": [
        {
          "output_type": "execute_result",
          "data": {
            "text/plain": [
              "LinearRegression(copy_X=True, fit_intercept=True, n_jobs=None, normalize=False)"
            ]
          },
          "metadata": {},
          "execution_count": 12
        }
      ]
    },
    {
      "cell_type": "code",
      "metadata": {
        "colab": {
          "base_uri": "https://localhost:8080/",
          "height": 361
        },
        "id": "TrT_J5GWGo7s",
        "outputId": "c31ad455-9b4f-4c75-c887-8018021b2ebd"
      },
      "source": [
        "y_pred = lin_reg.predict(X)\n",
        "err = y_pred - Y                        #error/residualnya\n",
        "sns.distplot(err)                       #membuat plot histogramnya\n",
        "\n",
        "z_er = stats.zscore(err)\n",
        "norm_er = stats.kstest(z_er, 'norm', )  #uji kolmogorov-smirnov, salah 1 cara uji normalitas\n",
        "print(norm_er)"
      ],
      "execution_count": 13,
      "outputs": [
        {
          "output_type": "stream",
          "name": "stderr",
          "text": [
            "/usr/local/lib/python3.7/dist-packages/seaborn/distributions.py:2619: FutureWarning: `distplot` is a deprecated function and will be removed in a future version. Please adapt your code to use either `displot` (a figure-level function with similar flexibility) or `histplot` (an axes-level function for histograms).\n",
            "  warnings.warn(msg, FutureWarning)\n"
          ]
        },
        {
          "output_type": "stream",
          "name": "stdout",
          "text": [
            "KstestResult(statistic=0.11368328760156177, pvalue=0.5101193088472268)\n"
          ]
        },
        {
          "output_type": "display_data",
          "data": {
            "image/png": "[encoded data removed]",
            "text/plain": [
              "<Figure size 432x288 with 1 Axes>"
            ]
          },
          "metadata": {
            "needs_background": "light"
          }
        }
      ]
    },
    {
      "cell_type": "markdown",
      "metadata": {
        "id": "8fM0llnL4ARf"
      },
      "source": [
        "Ho : data = berdistribusi normal\n",
        "\n",
        "Ha : data tidak berdistribusi normal\n",
        "\n",
        "Karena pvaiue > 0.05, maka Ho diterima. Gambar histogram yang membentuk lonceng pun mendukung bahwa datanya sudah berdistribusi normal."
      ]
    },
    {
      "cell_type": "markdown",
      "metadata": {
        "id": "sYlbS7mCU_gT"
      },
      "source": [
        "## 3. Tidak terjadi Heteroskedastisitas\n",
        "\n",
        "Homoskedastisitas  adalah  kondisi ketika  nilai  residu/error  pada  tiap  nilai  prediksi  bervariasi  dan  variasinya  cenderung konstan. Lawan dari homoskedastisitas adalah heteroskedastisitas, dimana error cenderung berubah dan malah berkorelasi dengan prediksinya. Jika ini terjadi tentu menunjukkan bahwa prediksi ini memiliki suatu bias tertentu. Untuk mengeceknya kita bisa melihat plotnya"
      ]
    },
    {
      "cell_type": "code",
      "metadata": {
        "colab": {
          "base_uri": "https://localhost:8080/",
          "height": 184
        },
        "id": "zFn7Jir3N8C-",
        "outputId": "371e5049-7305-4d67-cfca-7246ccfafa1d"
      },
      "source": [
        "fig, ax = plt.subplots(figsize=(6,2.5))\n",
        "_ = ax.scatter(y_pred, err)"
      ],
      "execution_count": 14,
      "outputs": [
        {
          "output_type": "display_data",
          "data": {
            "image/png": "[encoded data removed]",
            "text/plain": [
              "<Figure size 432x180 with 1 Axes>"
            ]
          },
          "metadata": {
            "needs_background": "light"
          }
        }
      ]
    },
    {
      "cell_type": "markdown",
      "metadata": {
        "id": "UuVWKszc6Y75"
      },
      "source": [
        "Terlihat plot errornya berada di sekitar angka yang sama meski nilai prediksinya bertambah, artinya nilai prediksi kita tidak terganggu oleh errornya"
      ]
    },
    {
      "cell_type": "markdown",
      "metadata": {
        "id": "9_ePrSAXdGMn"
      },
      "source": [
        "Berikut adalah contoh plot jika terjadi heteroskedastisitas, plotnya membentuk pola tertentu yang menunjukkan bahwa nilai prediksinya masih berkorelasi dengan error sehingga nilai prediksi kita masih terganggu oleh nilai errornya:\n",
        "\n",
        "![alt text](https://drive.google.com/uc?id=1VX4X3w95lBlTphDXg9Ez2Rv9Ky3tUz8e)\n",
        "\n",
        "Cara lain untuk menguji homoskedastisitas: using Glejser Test, White test, Breusch-Pagan test"
      ]
    },
    {
      "cell_type": "markdown",
      "metadata": {
        "id": "z6ocXT48VR_N"
      },
      "source": [
        "## 4. Tidak terjadi multikolinearitas (regresi berganda)\n",
        "Multokolinearitas maksudnya adalah hubungan yang kuat antar feature. Regresi linier mengasumsikan bahwa feature-featurenya tidak saling berhubungan. Tentu saja ini hanya berlaku untuk regresi linier berganda (yang featurenya lebih dari 1). Salah 1 cara mengujinya adalah nilai VIF."
      ]
    },
    {
      "cell_type": "code",
      "metadata": {
        "colab": {
          "base_uri": "https://localhost:8080/",
          "height": 80
        },
        "id": "c2UKr6rJBDM5",
        "outputId": "fe5969cd-85b7-49f2-e104-7cf8828751c7"
      },
      "source": [
        "vif = [variance_inflation_factor(X, i) for i in range(len(X.T))]\n",
        "pd.DataFrame({'VIF': vif[0:]}, index=features).T"
      ],
      "execution_count": 15,
      "outputs": [
        {
          "output_type": "execute_result",
          "data": {
            "text/html": [
              "<div>\n",
              "<style scoped>\n",
              "    .dataframe tbody tr th:only-of-type {\n",
              "        vertical-align: middle;\n",
              "    }\n",
              "\n",
              "    .dataframe tbody tr th {\n",
              "        vertical-align: top;\n",
              "    }\n",
              "\n",
              "    .dataframe thead th {\n",
              "        text-align: right;\n",
              "    }\n",
              "</style>\n",
              "<table border=\"1\" class=\"dataframe\">\n",
              "  <thead>\n",
              "    <tr style=\"text-align: right;\">\n",
              "      <th></th>\n",
              "      <th>R&amp;D Spend</th>\n",
              "      <th>Marketing Spend</th>\n",
              "    </tr>\n",
              "  </thead>\n",
              "  <tbody>\n",
              "    <tr>\n",
              "      <th>VIF</th>\n",
              "      <td>7.156216</td>\n",
              "      <td>7.156216</td>\n",
              "    </tr>\n",
              "  </tbody>\n",
              "</table>\n",
              "</div>"
            ],
            "text/plain": [
              "     R&D Spend  Marketing Spend\n",
              "VIF   7.156216         7.156216"
            ]
          },
          "metadata": {},
          "execution_count": 15
        }
      ]
    },
    {
      "cell_type": "markdown",
      "metadata": {
        "id": "74-4ewBQrUiY"
      },
      "source": [
        "Some papers argue that a VIF<10 is acceptable, but others says that the limit value is 5.\n",
        "- \"10\" as the maximum level of VIF (Hair et al., 1995)\n",
        "- \"5\" as the maximum level of VIF (Ringle et al., 2015)\n"
      ]
    },
    {
      "cell_type": "markdown",
      "metadata": {
        "id": "PsADkcTsropD"
      },
      "source": [
        "Jadi berdasarkab kriteria Hair tidak terjadi kolinearitas, tetapi kalo berdasarkan kriteria Ringle masih terjadi kolinearitas. Disini kita menggunakan teori Hair."
      ]
    },
    {
      "cell_type": "markdown",
      "metadata": {
        "id": "oi9ITfxDVZ1m"
      },
      "source": [
        "## 5. Tidak terjadi autokorelasi\n",
        "Autokorelasi adalah hubungan yang erat antar entry, misalnya antara data ke 4 dengan ke 5, data ke-6 dengan ke-7, dll. Ini juga harus dihindari dalam regresi linier. "
      ]
    },
    {
      "cell_type": "code",
      "metadata": {
        "colab": {
          "base_uri": "https://localhost:8080/",
          "height": 499
        },
        "id": "bo2k_9XORW3p",
        "outputId": "d62e2fb8-76ce-4fb6-a8aa-e56e7343b685"
      },
      "source": [
        "X_constant = sm.add_constant(X)                #Ingat lagi x1 = R&D, x2 =  Marketing\n",
        "lin_reg = sm.OLS(Y,X_constant).fit()\n",
        "lin_reg.summary()"
      ],
      "execution_count": 16,
      "outputs": [
        {
          "output_type": "execute_result",
          "data": {
            "text/html": [
              "<table class=\"simpletable\">\n",
              "<caption>OLS Regression Results</caption>\n",
              "<tr>\n",
              "  <th>Dep. Variable:</th>         <td>Profit</td>      <th>  R-squared:         </th> <td>   0.950</td>\n",
              "</tr>\n",
              "<tr>\n",
              "  <th>Model:</th>                   <td>OLS</td>       <th>  Adj. R-squared:    </th> <td>   0.948</td>\n",
              "</tr>\n",
              "<tr>\n",
              "  <th>Method:</th>             <td>Least Squares</td>  <th>  F-statistic:       </th> <td>   450.8</td>\n",
              "</tr>\n",
              "<tr>\n",
              "  <th>Date:</th>             <td>Sat, 13 Nov 2021</td> <th>  Prob (F-statistic):</th> <td>2.16e-31</td>\n",
              "</tr>\n",
              "<tr>\n",
              "  <th>Time:</th>                 <td>13:56:29</td>     <th>  Log-Likelihood:    </th> <td> -525.54</td>\n",
              "</tr>\n",
              "<tr>\n",
              "  <th>No. Observations:</th>      <td>    50</td>      <th>  AIC:               </th> <td>   1057.</td>\n",
              "</tr>\n",
              "<tr>\n",
              "  <th>Df Residuals:</th>          <td>    47</td>      <th>  BIC:               </th> <td>   1063.</td>\n",
              "</tr>\n",
              "<tr>\n",
              "  <th>Df Model:</th>              <td>     2</td>      <th>                     </th>     <td> </td>   \n",
              "</tr>\n",
              "<tr>\n",
              "  <th>Covariance Type:</th>      <td>nonrobust</td>    <th>                     </th>     <td> </td>   \n",
              "</tr>\n",
              "</table>\n",
              "<table class=\"simpletable\">\n",
              "<tr>\n",
              "    <td></td>       <th>coef</th>     <th>std err</th>      <th>t</th>      <th>P>|t|</th>  <th>[0.025</th>    <th>0.975]</th>  \n",
              "</tr>\n",
              "<tr>\n",
              "  <th>const</th> <td> 4.698e+04</td> <td> 2689.933</td> <td>   17.464</td> <td> 0.000</td> <td> 4.16e+04</td> <td> 5.24e+04</td>\n",
              "</tr>\n",
              "<tr>\n",
              "  <th>x1</th>    <td>    0.7966</td> <td>    0.041</td> <td>   19.266</td> <td> 0.000</td> <td>    0.713</td> <td>    0.880</td>\n",
              "</tr>\n",
              "<tr>\n",
              "  <th>x2</th>    <td>    0.0299</td> <td>    0.016</td> <td>    1.927</td> <td> 0.060</td> <td>   -0.001</td> <td>    0.061</td>\n",
              "</tr>\n",
              "</table>\n",
              "<table class=\"simpletable\">\n",
              "<tr>\n",
              "  <th>Omnibus:</th>       <td>14.677</td> <th>  Durbin-Watson:     </th> <td>   1.257</td>\n",
              "</tr>\n",
              "<tr>\n",
              "  <th>Prob(Omnibus):</th> <td> 0.001</td> <th>  Jarque-Bera (JB):  </th> <td>  21.161</td>\n",
              "</tr>\n",
              "<tr>\n",
              "  <th>Skew:</th>          <td>-0.939</td> <th>  Prob(JB):          </th> <td>2.54e-05</td>\n",
              "</tr>\n",
              "<tr>\n",
              "  <th>Kurtosis:</th>      <td> 5.575</td> <th>  Cond. No.          </th> <td>5.32e+05</td>\n",
              "</tr>\n",
              "</table><br/><br/>Warnings:<br/>[1] Standard Errors assume that the covariance matrix of the errors is correctly specified.<br/>[2] The condition number is large, 5.32e+05. This might indicate that there are<br/>strong multicollinearity or other numerical problems."
            ],
            "text/plain": [
              "<class 'statsmodels.iolib.summary.Summary'>\n",
              "\"\"\"\n",
              "                            OLS Regression Results                            \n",
              "==============================================================================\n",
              "Dep. Variable:                 Profit   R-squared:                       0.950\n",
              "Model:                            OLS   Adj. R-squared:                  0.948\n",
              "Method:                 Least Squares   F-statistic:                     450.8\n",
              "Date:                Sat, 13 Nov 2021   Prob (F-statistic):           2.16e-31\n",
              "Time:                        13:56:29   Log-Likelihood:                -525.54\n",
              "No. Observations:                  50   AIC:                             1057.\n",
              "Df Residuals:                      47   BIC:                             1063.\n",
              "Df Model:                           2                                         \n",
              "Covariance Type:            nonrobust                                         \n",
              "==============================================================================\n",
              "                 coef    std err          t      P>|t|      [0.025      0.975]\n",
              "------------------------------------------------------------------------------\n",
              "const       4.698e+04   2689.933     17.464      0.000    4.16e+04    5.24e+04\n",
              "x1             0.7966      0.041     19.266      0.000       0.713       0.880\n",
              "x2             0.0299      0.016      1.927      0.060      -0.001       0.061\n",
              "==============================================================================\n",
              "Omnibus:                       14.677   Durbin-Watson:                   1.257\n",
              "Prob(Omnibus):                  0.001   Jarque-Bera (JB):               21.161\n",
              "Skew:                          -0.939   Prob(JB):                     2.54e-05\n",
              "Kurtosis:                       5.575   Cond. No.                     5.32e+05\n",
              "==============================================================================\n",
              "\n",
              "Warnings:\n",
              "[1] Standard Errors assume that the covariance matrix of the errors is correctly specified.\n",
              "[2] The condition number is large, 5.32e+05. This might indicate that there are\n",
              "strong multicollinearity or other numerical problems.\n",
              "\"\"\""
            ]
          },
          "metadata": {},
          "execution_count": 16
        }
      ]
    },
    {
      "cell_type": "markdown",
      "metadata": {
        "id": "Ut2QwFWYtbPe"
      },
      "source": [
        "![alt text](https://drive.google.com/uc?id=1iz2TAjhoquwj6nztVU9poi79-8-Bkda_)\n"
      ]
    },
    {
      "cell_type": "markdown",
      "metadata": {
        "id": "7WcEayuNu98A"
      },
      "source": [
        "Download DW table: https://www3.nd.edu/~wevans1/econ30331/Durbin_Watson_tables.pdf. Karena nilai dw = 1.257 < dL= 1.462, maka disini tidak ada masalah autokorelasi"
      ]
    },
    {
      "cell_type": "markdown",
      "metadata": {
        "id": "qa5Delh993OW"
      },
      "source": [
        "## Mengevaluasi hasil regresi linier\n",
        "Kelebihan dari regresi linier dari model machine learning lainnya adalah mudah diinterpretasi dan dapat memberikan insight berapa besar pengaruh suatu feature terhadap labelnya. Berikut interpretasi jika menggunakan tingkat kepercayaan 95% :\n",
        "\n",
        "\n",
        "**1.   Signifikansi pengaruh feature secara sendiri-sendiri.** \n",
        "Perhatikan nilai di kolom \"P>|t|\" yang menunjukkan pvalue dari x1 (R&D) dan x2 (marketing). Terlihat bahwa pvalue x1 < 0.05 dan pvalue x2 > 0.05. Artinya pengaruh R&D terhadap profit perusahaan signifikan sementara pengaruh marketing belum signifikan. \n",
        "\n",
        "**2. Besar pengaruh tiap feature.** Perhatikan kolom \"coef\", pada x1 (R&D) nilainya 0.7966, artinya setiap kenaikan perusahaan menaikkan kinerja R&D 1 level saja mampu meningkatkan profit perusahaan sebesar 0.7966. Sementara koefisien x2 (marketing) sebesar 0.0299. Artinya selama ini pengaruh marketing terhadap profit hanya 0.0299.\n",
        "\n",
        "**3.   Pengaruh kedua variabel secara bersamaan.** Nilai Prob (F-statistic)=\t2.16x 10^(-31). Nilai ini menunjukkan signifikansi pengaruh kedua feature secara bersamaan, karena nilainya < 0.05, maka dapat disimpulkan pengaruh keduanya secara bersamaan terhadap labelnya signifikan.\n",
        "\n",
        "**4. Evaluasi keseluruhan.** Model ini memiliki R2 sebesar 0.95. Artinya 95% variasi dari keseluruhan profit sudah tergambar dalam model ini, sementara sisanya yaitu 5% dipengaruhi faktor lain yang belum ada di model ini.  R2 merupakan metric yang digunakan untuk mengevaluasi model regresi linier yang bagus\n",
        "\n",
        "\n",
        "\n",
        "Open question (bisa didiskusikan): jika kamu adalah bos perusahaan, melihat hasil ini apakah kebijakan yang akan kamu ambil? mengucurkan lebih banyak dana pada tim R&D? atau mengevaluasi tim marketing yang ternyata kerjanya belum signifikan?\n"
      ]
    },
    {
      "cell_type": "markdown",
      "metadata": {
        "id": "ctbx_g4ttCYY"
      },
      "source": [
        "# Naive Bayes"
      ]
    },
    {
      "cell_type": "code",
      "metadata": {
        "id": "MmnFsD97tE2a"
      },
      "source": [
        "import pandas as pd\n",
        "from sklearn.model_selection import train_test_split\n",
        "from sklearn.naive_bayes import GaussianNB\n",
        "from sklearn.metrics import confusion_matrix\n",
        "from collections import Counter\n"
      ],
      "execution_count": 17,
      "outputs": []
    },
    {
      "cell_type": "code",
      "metadata": {
        "id": "l3gY3ybotGZj"
      },
      "source": [
        "headers = ['Age', 'Delivery_Nbr', 'Delivery_Time', 'Blood_Pressure', 'Heart_Problem', 'Caesarian']\n",
        "# read in cars dataset\n",
        "data = pd.read_csv('https://raw.githubusercontent.com/PacktWorkshops/The-Data-Science-Workshop/master/Chapter06/Dataset/caesarian.csv.arff', names=headers, index_col=None, skiprows=15)"
      ],
      "execution_count": 18,
      "outputs": []
    },
    {
      "cell_type": "code",
      "metadata": {
        "colab": {
          "base_uri": "https://localhost:8080/",
          "height": 419
        },
        "id": "EbqzxBM8tIMQ",
        "outputId": "0e39700f-536f-4555-f727-6f07fb2834a9"
      },
      "source": [
        "data"
      ],
      "execution_count": 19,
      "outputs": [
        {
          "output_type": "execute_result",
          "data": {
            "text/html": [
              "<div>\n",
              "<style scoped>\n",
              "    .dataframe tbody tr th:only-of-type {\n",
              "        vertical-align: middle;\n",
              "    }\n",
              "\n",
              "    .dataframe tbody tr th {\n",
              "        vertical-align: top;\n",
              "    }\n",
              "\n",
              "    .dataframe thead th {\n",
              "        text-align: right;\n",
              "    }\n",
              "</style>\n",
              "<table border=\"1\" class=\"dataframe\">\n",
              "  <thead>\n",
              "    <tr style=\"text-align: right;\">\n",
              "      <th></th>\n",
              "      <th>Age</th>\n",
              "      <th>Delivery_Nbr</th>\n",
              "      <th>Delivery_Time</th>\n",
              "      <th>Blood_Pressure</th>\n",
              "      <th>Heart_Problem</th>\n",
              "      <th>Caesarian</th>\n",
              "    </tr>\n",
              "  </thead>\n",
              "  <tbody>\n",
              "    <tr>\n",
              "      <th>0</th>\n",
              "      <td>22</td>\n",
              "      <td>1</td>\n",
              "      <td>0</td>\n",
              "      <td>2</td>\n",
              "      <td>0</td>\n",
              "      <td>0</td>\n",
              "    </tr>\n",
              "    <tr>\n",
              "      <th>1</th>\n",
              "      <td>26</td>\n",
              "      <td>2</td>\n",
              "      <td>0</td>\n",
              "      <td>1</td>\n",
              "      <td>0</td>\n",
              "      <td>1</td>\n",
              "    </tr>\n",
              "    <tr>\n",
              "      <th>2</th>\n",
              "      <td>26</td>\n",
              "      <td>2</td>\n",
              "      <td>1</td>\n",
              "      <td>1</td>\n",
              "      <td>0</td>\n",
              "      <td>0</td>\n",
              "    </tr>\n",
              "    <tr>\n",
              "      <th>3</th>\n",
              "      <td>28</td>\n",
              "      <td>1</td>\n",
              "      <td>0</td>\n",
              "      <td>2</td>\n",
              "      <td>0</td>\n",
              "      <td>0</td>\n",
              "    </tr>\n",
              "    <tr>\n",
              "      <th>4</th>\n",
              "      <td>22</td>\n",
              "      <td>2</td>\n",
              "      <td>0</td>\n",
              "      <td>1</td>\n",
              "      <td>0</td>\n",
              "      <td>1</td>\n",
              "    </tr>\n",
              "    <tr>\n",
              "      <th>...</th>\n",
              "      <td>...</td>\n",
              "      <td>...</td>\n",
              "      <td>...</td>\n",
              "      <td>...</td>\n",
              "      <td>...</td>\n",
              "      <td>...</td>\n",
              "    </tr>\n",
              "    <tr>\n",
              "      <th>75</th>\n",
              "      <td>27</td>\n",
              "      <td>2</td>\n",
              "      <td>1</td>\n",
              "      <td>1</td>\n",
              "      <td>0</td>\n",
              "      <td>0</td>\n",
              "    </tr>\n",
              "    <tr>\n",
              "      <th>76</th>\n",
              "      <td>33</td>\n",
              "      <td>4</td>\n",
              "      <td>0</td>\n",
              "      <td>1</td>\n",
              "      <td>0</td>\n",
              "      <td>1</td>\n",
              "    </tr>\n",
              "    <tr>\n",
              "      <th>77</th>\n",
              "      <td>29</td>\n",
              "      <td>2</td>\n",
              "      <td>1</td>\n",
              "      <td>2</td>\n",
              "      <td>0</td>\n",
              "      <td>1</td>\n",
              "    </tr>\n",
              "    <tr>\n",
              "      <th>78</th>\n",
              "      <td>25</td>\n",
              "      <td>1</td>\n",
              "      <td>2</td>\n",
              "      <td>0</td>\n",
              "      <td>0</td>\n",
              "      <td>1</td>\n",
              "    </tr>\n",
              "    <tr>\n",
              "      <th>79</th>\n",
              "      <td>24</td>\n",
              "      <td>2</td>\n",
              "      <td>2</td>\n",
              "      <td>1</td>\n",
              "      <td>0</td>\n",
              "      <td>0</td>\n",
              "    </tr>\n",
              "  </tbody>\n",
              "</table>\n",
              "<p>80 rows × 6 columns</p>\n",
              "</div>"
            ],
            "text/plain": [
              "    Age  Delivery_Nbr  Delivery_Time  Blood_Pressure  Heart_Problem  Caesarian\n",
              "0    22             1              0               2              0          0\n",
              "1    26             2              0               1              0          1\n",
              "2    26             2              1               1              0          0\n",
              "3    28             1              0               2              0          0\n",
              "4    22             2              0               1              0          1\n",
              "..  ...           ...            ...             ...            ...        ...\n",
              "75   27             2              1               1              0          0\n",
              "76   33             4              0               1              0          1\n",
              "77   29             2              1               2              0          1\n",
              "78   25             1              2               0              0          1\n",
              "79   24             2              2               1              0          0\n",
              "\n",
              "[80 rows x 6 columns]"
            ]
          },
          "metadata": {},
          "execution_count": 19
        }
      ]
    },
    {
      "cell_type": "code",
      "metadata": {
        "colab": {
          "base_uri": "https://localhost:8080/"
        },
        "id": "L4pLPt8ztJqY",
        "outputId": "2783bdf3-cd8b-450c-bc73-087fead105e9"
      },
      "source": [
        "data.isnull().sum()"
      ],
      "execution_count": 20,
      "outputs": [
        {
          "output_type": "execute_result",
          "data": {
            "text/plain": [
              "Age               0\n",
              "Delivery_Nbr      0\n",
              "Delivery_Time     0\n",
              "Blood_Pressure    0\n",
              "Heart_Problem     0\n",
              "Caesarian         0\n",
              "dtype: int64"
            ]
          },
          "metadata": {},
          "execution_count": 20
        }
      ]
    },
    {
      "cell_type": "code",
      "metadata": {
        "id": "2As6kaLrtKnj"
      },
      "source": [
        "# Variabel independen\n",
        "x = data.iloc[:, :5]\n",
        "\n",
        "# Variabel dependen\n",
        "y = data.iloc[:, 5]"
      ],
      "execution_count": 21,
      "outputs": []
    },
    {
      "cell_type": "code",
      "metadata": {
        "colab": {
          "base_uri": "https://localhost:8080/"
        },
        "id": "Kq_O2PZ-tLtn",
        "outputId": "86919f39-23ff-493d-bc48-f8ea58f8b74f"
      },
      "source": [
        "print(x, y)"
      ],
      "execution_count": 22,
      "outputs": [
        {
          "output_type": "stream",
          "name": "stdout",
          "text": [
            "    Age  Delivery_Nbr  Delivery_Time  Blood_Pressure  Heart_Problem\n",
            "0    22             1              0               2              0\n",
            "1    26             2              0               1              0\n",
            "2    26             2              1               1              0\n",
            "3    28             1              0               2              0\n",
            "4    22             2              0               1              0\n",
            "..  ...           ...            ...             ...            ...\n",
            "75   27             2              1               1              0\n",
            "76   33             4              0               1              0\n",
            "77   29             2              1               2              0\n",
            "78   25             1              2               0              0\n",
            "79   24             2              2               1              0\n",
            "\n",
            "[80 rows x 5 columns] 0     0\n",
            "1     1\n",
            "2     0\n",
            "3     0\n",
            "4     1\n",
            "     ..\n",
            "75    0\n",
            "76    1\n",
            "77    1\n",
            "78    1\n",
            "79    0\n",
            "Name: Caesarian, Length: 80, dtype: int64\n"
          ]
        }
      ]
    },
    {
      "cell_type": "code",
      "metadata": {
        "colab": {
          "base_uri": "https://localhost:8080/"
        },
        "id": "FqHzuOYutNau",
        "outputId": "2b9b5179-77f6-4536-9455-eb6ab9718943"
      },
      "source": [
        "Counter(y)"
      ],
      "execution_count": 23,
      "outputs": [
        {
          "output_type": "execute_result",
          "data": {
            "text/plain": [
              "Counter({0: 34, 1: 46})"
            ]
          },
          "metadata": {},
          "execution_count": 23
        }
      ]
    },
    {
      "cell_type": "code",
      "metadata": {
        "id": "QdtvEDREtOsw"
      },
      "source": [
        "x_train, x_test, y_train, y_test = train_test_split(x, y, test_size = 0.2, random_state = 42)"
      ],
      "execution_count": 24,
      "outputs": []
    },
    {
      "cell_type": "code",
      "metadata": {
        "id": "DsZEAwVLtP9d"
      },
      "source": [
        "# Mengaktifkan/memanggil/membuat fungsi klasifikasi Naive Bayes\n",
        "modelnb = GaussianNB()\n",
        "# Memasukkan data training pada fungsi klasifikasi Naive Bayes\n",
        "nbtrain = modelnb.fit(x_train, y_train)"
      ],
      "execution_count": 25,
      "outputs": []
    },
    {
      "cell_type": "code",
      "metadata": {
        "colab": {
          "base_uri": "https://localhost:8080/"
        },
        "id": "EWBB6OFitRFW",
        "outputId": "bb779c89-f1e5-4dff-e384-2f0c77556ede"
      },
      "source": [
        "# Menentukan hasil prediksi dari x_test\n",
        "y_pred = nbtrain.predict(x_test)\n",
        "y_pred"
      ],
      "execution_count": 26,
      "outputs": [
        {
          "output_type": "execute_result",
          "data": {
            "text/plain": [
              "array([0, 1, 0, 1, 1, 1, 1, 1, 0, 0, 1, 1, 1, 1, 0, 1])"
            ]
          },
          "metadata": {},
          "execution_count": 26
        }
      ]
    },
    {
      "cell_type": "code",
      "metadata": {
        "colab": {
          "base_uri": "https://localhost:8080/"
        },
        "id": "xi8rflahtSTf",
        "outputId": "facd8dea-eeb6-4ef7-c5f8-bde9e7126e64"
      },
      "source": [
        "confusion_matrix(y_test, y_pred)"
      ],
      "execution_count": 27,
      "outputs": [
        {
          "output_type": "execute_result",
          "data": {
            "text/plain": [
              "array([[3, 3],\n",
              "       [2, 8]])"
            ]
          },
          "metadata": {},
          "execution_count": 27
        }
      ]
    },
    {
      "cell_type": "code",
      "metadata": {
        "colab": {
          "base_uri": "https://localhost:8080/"
        },
        "id": "6weGNCcDtTcf",
        "outputId": "5100eea6-b675-42ba-ce6e-bb842f06b1c5"
      },
      "source": [
        "from sklearn.metrics import classification_report\n",
        "print(classification_report(y_test, y_pred))"
      ],
      "execution_count": 28,
      "outputs": [
        {
          "output_type": "stream",
          "name": "stdout",
          "text": [
            "              precision    recall  f1-score   support\n",
            "\n",
            "           0       0.60      0.50      0.55         6\n",
            "           1       0.73      0.80      0.76        10\n",
            "\n",
            "    accuracy                           0.69        16\n",
            "   macro avg       0.66      0.65      0.65        16\n",
            "weighted avg       0.68      0.69      0.68        16\n",
            "\n"
          ]
        }
      ]
    }
  ]
}