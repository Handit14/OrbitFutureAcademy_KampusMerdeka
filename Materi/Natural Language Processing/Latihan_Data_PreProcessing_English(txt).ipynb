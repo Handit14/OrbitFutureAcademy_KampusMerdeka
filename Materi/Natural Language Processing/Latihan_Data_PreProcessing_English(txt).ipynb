{
  "nbformat": 4,
  "nbformat_minor": 0,
  "metadata": {
    "colab": {
      "name": "Latihan_Data_PreProcessing_English(txt)",
      "provenance": []
    },
    "kernelspec": {
      "name": "python3",
      "display_name": "Python 3"
    },
    "language_info": {
      "name": "python"
    }
  },
  "cells": [
    {
      "cell_type": "markdown",
      "metadata": {
        "id": "X3ZsuKzJT2FL"
      },
      "source": [
        "# English(txt)"
      ]
    },
    {
      "cell_type": "code",
      "metadata": {
        "colab": {
          "base_uri": "https://localhost:8080/"
        },
        "id": "UEd3lKvpTs9j",
        "outputId": "3f4471a7-4036-448f-853b-47583039fd61"
      },
      "source": [
        "import nltk\n",
        "import re\n",
        "import requests \n",
        "from nltk.corpus import stopwords\n",
        "from nltk.stem import PorterStemmer\n",
        "from nltk.stem import WordNetLemmatizer\n",
        "from nltk import word_tokenize\n",
        "from bs4 import BeautifulSoup\n",
        "\n",
        "nltk.download('punkt')\n",
        "nltk.download('stopwords')\n",
        "nltk.download('wordnet')"
      ],
      "execution_count": 2,
      "outputs": [
        {
          "output_type": "stream",
          "name": "stdout",
          "text": [
            "[nltk_data] Downloading package punkt to /root/nltk_data...\n",
            "[nltk_data]   Unzipping tokenizers/punkt.zip.\n",
            "[nltk_data] Downloading package stopwords to /root/nltk_data...\n",
            "[nltk_data]   Unzipping corpora/stopwords.zip.\n",
            "[nltk_data] Downloading package wordnet to /root/nltk_data...\n",
            "[nltk_data]   Unzipping corpora/wordnet.zip.\n"
          ]
        },
        {
          "output_type": "execute_result",
          "data": {
            "text/plain": [
              "True"
            ]
          },
          "metadata": {},
          "execution_count": 2
        }
      ]
    },
    {
      "cell_type": "code",
      "metadata": {
        "colab": {
          "base_uri": "https://localhost:8080/",
          "height": 105
        },
        "id": "3hURWCGcT9Tr",
        "outputId": "99af5df6-d6d0-4b5c-ee66-31bbd4980b73"
      },
      "source": [
        "text1 = requests.get('https://raw.githubusercontent.com/Handit14/OrbitFutureAcademy_KampusMerdeka/main/Materi/Natural%20Language%20Processing/server.txt').text\n",
        "text1"
      ],
      "execution_count": 3,
      "outputs": [
        {
          "output_type": "execute_result",
          "data": {
            "application/vnd.google.colaboratory.intrinsic+json": {
              "type": "string"
            },
            "text/plain": [
              "'A server is a computer that provides data to other computers. It may serve data to systems on a local area network (LAN) or a wide area network (WAN) over the Internet.\\n\\nMany types of servers exist, including web servers, mail servers, and file servers. Each type runs software specific to the purpose of the server. For example, a Web server may run Apache HTTP Server or Microsoft IIS, which both provide access to websites over the Internet. A mail server may run a program like Exim or iMail, which provides SMTP services for sending and receiving email. A file server might use Samba or the operating system\\'s built-in file sharing services to share files over a network.\\n\\nWhile server software is specific to the type of server, the hardware is not as important. In fact, a regular desktop computers can be turned into a server by adding the appropriate software. For example, a computer connected to a home network can be designated as a file server, print server, or both.\\n\\nWhile any computer can be configured as a server, most large businesses use rack-mountable hardware designed specifically for server functionality. These systems, often 1U in size, take up minimal space and often have useful features such as LED status lights and hot-swappable hard drive bays. Multiple rack-mountable servers can be placed in a single rack and often share the same monitor and input devices. Most servers are accessed remotely using remote access software, so input devices are often not even necessary.\\n\\nWhile servers can run on different types of computers, it is important that the hardware is sufficient to support the demands of the server. For instance, a web server that runs lots of web scripts in real-time should have a fast processor and enough RAM to handle the \"load\" without slowing down. A file server should have one or more fast hard drives or SSDs that can read and write data quickly. Regardless of the type of server, a fast network connection is critical, since all data flows through that connection.'"
            ]
          },
          "metadata": {},
          "execution_count": 3
        }
      ]
    },
    {
      "cell_type": "code",
      "metadata": {
        "colab": {
          "base_uri": "https://localhost:8080/",
          "height": 105
        },
        "id": "EDobMCljUEGd",
        "outputId": "9fc335c6-d6b2-48b2-c67d-3fd398e676b2"
      },
      "source": [
        "# membuat text menjadi lowercase\n",
        "text1 = text1.lower()\n",
        "text1"
      ],
      "execution_count": 4,
      "outputs": [
        {
          "output_type": "execute_result",
          "data": {
            "application/vnd.google.colaboratory.intrinsic+json": {
              "type": "string"
            },
            "text/plain": [
              "'a server is a computer that provides data to other computers. it may serve data to systems on a local area network (lan) or a wide area network (wan) over the internet.\\n\\nmany types of servers exist, including web servers, mail servers, and file servers. each type runs software specific to the purpose of the server. for example, a web server may run apache http server or microsoft iis, which both provide access to websites over the internet. a mail server may run a program like exim or imail, which provides smtp services for sending and receiving email. a file server might use samba or the operating system\\'s built-in file sharing services to share files over a network.\\n\\nwhile server software is specific to the type of server, the hardware is not as important. in fact, a regular desktop computers can be turned into a server by adding the appropriate software. for example, a computer connected to a home network can be designated as a file server, print server, or both.\\n\\nwhile any computer can be configured as a server, most large businesses use rack-mountable hardware designed specifically for server functionality. these systems, often 1u in size, take up minimal space and often have useful features such as led status lights and hot-swappable hard drive bays. multiple rack-mountable servers can be placed in a single rack and often share the same monitor and input devices. most servers are accessed remotely using remote access software, so input devices are often not even necessary.\\n\\nwhile servers can run on different types of computers, it is important that the hardware is sufficient to support the demands of the server. for instance, a web server that runs lots of web scripts in real-time should have a fast processor and enough ram to handle the \"load\" without slowing down. a file server should have one or more fast hard drives or ssds that can read and write data quickly. regardless of the type of server, a fast network connection is critical, since all data flows through that connection.'"
            ]
          },
          "metadata": {},
          "execution_count": 4
        }
      ]
    },
    {
      "cell_type": "code",
      "metadata": {
        "colab": {
          "base_uri": "https://localhost:8080/",
          "height": 105
        },
        "id": "WJqZWsfTVwBt",
        "outputId": "a7cf0a8e-0a34-473c-f690-3b2dfd379d62"
      },
      "source": [
        "# menghilangkan karakter khusus pada teks\n",
        "text1 = re.sub(r\"[-()\\\"#/@;:<>{}`+=~|.!?,]\", \"\", text1)\n",
        "text1"
      ],
      "execution_count": 5,
      "outputs": [
        {
          "output_type": "execute_result",
          "data": {
            "application/vnd.google.colaboratory.intrinsic+json": {
              "type": "string"
            },
            "text/plain": [
              "\"a server is a computer that provides data to other computers it may serve data to systems on a local area network lan or a wide area network wan over the internet\\n\\nmany types of servers exist including web servers mail servers and file servers each type runs software specific to the purpose of the server for example a web server may run apache http server or microsoft iis which both provide access to websites over the internet a mail server may run a program like exim or imail which provides smtp services for sending and receiving email a file server might use samba or the operating system's builtin file sharing services to share files over a network\\n\\nwhile server software is specific to the type of server the hardware is not as important in fact a regular desktop computers can be turned into a server by adding the appropriate software for example a computer connected to a home network can be designated as a file server print server or both\\n\\nwhile any computer can be configured as a server most large businesses use rackmountable hardware designed specifically for server functionality these systems often 1u in size take up minimal space and often have useful features such as led status lights and hotswappable hard drive bays multiple rackmountable servers can be placed in a single rack and often share the same monitor and input devices most servers are accessed remotely using remote access software so input devices are often not even necessary\\n\\nwhile servers can run on different types of computers it is important that the hardware is sufficient to support the demands of the server for instance a web server that runs lots of web scripts in realtime should have a fast processor and enough ram to handle the load without slowing down a file server should have one or more fast hard drives or ssds that can read and write data quickly regardless of the type of server a fast network connection is critical since all data flows through that connection\""
            ]
          },
          "metadata": {},
          "execution_count": 5
        }
      ]
    },
    {
      "cell_type": "markdown",
      "metadata": {
        "id": "GDtwZmpLV67V"
      },
      "source": [
        "# Tokenization"
      ]
    },
    {
      "cell_type": "code",
      "metadata": {
        "colab": {
          "base_uri": "https://localhost:8080/"
        },
        "id": "aAGAN8VxVzh9",
        "outputId": "51b9b5ae-4ceb-47b3-b16e-fff4981b614c"
      },
      "source": [
        "# mengubah teks menjadi token (Tokenization)\n",
        "tokens = word_tokenize(text1)\n",
        "print(tokens)"
      ],
      "execution_count": 6,
      "outputs": [
        {
          "output_type": "stream",
          "name": "stdout",
          "text": [
            "['a', 'server', 'is', 'a', 'computer', 'that', 'provides', 'data', 'to', 'other', 'computers', 'it', 'may', 'serve', 'data', 'to', 'systems', 'on', 'a', 'local', 'area', 'network', 'lan', 'or', 'a', 'wide', 'area', 'network', 'wan', 'over', 'the', 'internet', 'many', 'types', 'of', 'servers', 'exist', 'including', 'web', 'servers', 'mail', 'servers', 'and', 'file', 'servers', 'each', 'type', 'runs', 'software', 'specific', 'to', 'the', 'purpose', 'of', 'the', 'server', 'for', 'example', 'a', 'web', 'server', 'may', 'run', 'apache', 'http', 'server', 'or', 'microsoft', 'iis', 'which', 'both', 'provide', 'access', 'to', 'websites', 'over', 'the', 'internet', 'a', 'mail', 'server', 'may', 'run', 'a', 'program', 'like', 'exim', 'or', 'imail', 'which', 'provides', 'smtp', 'services', 'for', 'sending', 'and', 'receiving', 'email', 'a', 'file', 'server', 'might', 'use', 'samba', 'or', 'the', 'operating', 'system', \"'s\", 'builtin', 'file', 'sharing', 'services', 'to', 'share', 'files', 'over', 'a', 'network', 'while', 'server', 'software', 'is', 'specific', 'to', 'the', 'type', 'of', 'server', 'the', 'hardware', 'is', 'not', 'as', 'important', 'in', 'fact', 'a', 'regular', 'desktop', 'computers', 'can', 'be', 'turned', 'into', 'a', 'server', 'by', 'adding', 'the', 'appropriate', 'software', 'for', 'example', 'a', 'computer', 'connected', 'to', 'a', 'home', 'network', 'can', 'be', 'designated', 'as', 'a', 'file', 'server', 'print', 'server', 'or', 'both', 'while', 'any', 'computer', 'can', 'be', 'configured', 'as', 'a', 'server', 'most', 'large', 'businesses', 'use', 'rackmountable', 'hardware', 'designed', 'specifically', 'for', 'server', 'functionality', 'these', 'systems', 'often', '1u', 'in', 'size', 'take', 'up', 'minimal', 'space', 'and', 'often', 'have', 'useful', 'features', 'such', 'as', 'led', 'status', 'lights', 'and', 'hotswappable', 'hard', 'drive', 'bays', 'multiple', 'rackmountable', 'servers', 'can', 'be', 'placed', 'in', 'a', 'single', 'rack', 'and', 'often', 'share', 'the', 'same', 'monitor', 'and', 'input', 'devices', 'most', 'servers', 'are', 'accessed', 'remotely', 'using', 'remote', 'access', 'software', 'so', 'input', 'devices', 'are', 'often', 'not', 'even', 'necessary', 'while', 'servers', 'can', 'run', 'on', 'different', 'types', 'of', 'computers', 'it', 'is', 'important', 'that', 'the', 'hardware', 'is', 'sufficient', 'to', 'support', 'the', 'demands', 'of', 'the', 'server', 'for', 'instance', 'a', 'web', 'server', 'that', 'runs', 'lots', 'of', 'web', 'scripts', 'in', 'realtime', 'should', 'have', 'a', 'fast', 'processor', 'and', 'enough', 'ram', 'to', 'handle', 'the', 'load', 'without', 'slowing', 'down', 'a', 'file', 'server', 'should', 'have', 'one', 'or', 'more', 'fast', 'hard', 'drives', 'or', 'ssds', 'that', 'can', 'read', 'and', 'write', 'data', 'quickly', 'regardless', 'of', 'the', 'type', 'of', 'server', 'a', 'fast', 'network', 'connection', 'is', 'critical', 'since', 'all', 'data', 'flows', 'through', 'that', 'connection']\n"
          ]
        }
      ]
    },
    {
      "cell_type": "markdown",
      "metadata": {
        "id": "OyJYCG0kWJBm"
      },
      "source": [
        "# Bag of Words"
      ]
    },
    {
      "cell_type": "code",
      "metadata": {
        "colab": {
          "base_uri": "https://localhost:8080/"
        },
        "id": "3PiQP91VV_JV",
        "outputId": "10aca19b-fb9d-44d8-ee75-82b82f7f63bc"
      },
      "source": [
        "for kata in tokens:\n",
        "  print(kata)"
      ],
      "execution_count": 7,
      "outputs": [
        {
          "output_type": "stream",
          "name": "stdout",
          "text": [
            "a\n",
            "server\n",
            "is\n",
            "a\n",
            "computer\n",
            "that\n",
            "provides\n",
            "data\n",
            "to\n",
            "other\n",
            "computers\n",
            "it\n",
            "may\n",
            "serve\n",
            "data\n",
            "to\n",
            "systems\n",
            "on\n",
            "a\n",
            "local\n",
            "area\n",
            "network\n",
            "lan\n",
            "or\n",
            "a\n",
            "wide\n",
            "area\n",
            "network\n",
            "wan\n",
            "over\n",
            "the\n",
            "internet\n",
            "many\n",
            "types\n",
            "of\n",
            "servers\n",
            "exist\n",
            "including\n",
            "web\n",
            "servers\n",
            "mail\n",
            "servers\n",
            "and\n",
            "file\n",
            "servers\n",
            "each\n",
            "type\n",
            "runs\n",
            "software\n",
            "specific\n",
            "to\n",
            "the\n",
            "purpose\n",
            "of\n",
            "the\n",
            "server\n",
            "for\n",
            "example\n",
            "a\n",
            "web\n",
            "server\n",
            "may\n",
            "run\n",
            "apache\n",
            "http\n",
            "server\n",
            "or\n",
            "microsoft\n",
            "iis\n",
            "which\n",
            "both\n",
            "provide\n",
            "access\n",
            "to\n",
            "websites\n",
            "over\n",
            "the\n",
            "internet\n",
            "a\n",
            "mail\n",
            "server\n",
            "may\n",
            "run\n",
            "a\n",
            "program\n",
            "like\n",
            "exim\n",
            "or\n",
            "imail\n",
            "which\n",
            "provides\n",
            "smtp\n",
            "services\n",
            "for\n",
            "sending\n",
            "and\n",
            "receiving\n",
            "email\n",
            "a\n",
            "file\n",
            "server\n",
            "might\n",
            "use\n",
            "samba\n",
            "or\n",
            "the\n",
            "operating\n",
            "system\n",
            "'s\n",
            "builtin\n",
            "file\n",
            "sharing\n",
            "services\n",
            "to\n",
            "share\n",
            "files\n",
            "over\n",
            "a\n",
            "network\n",
            "while\n",
            "server\n",
            "software\n",
            "is\n",
            "specific\n",
            "to\n",
            "the\n",
            "type\n",
            "of\n",
            "server\n",
            "the\n",
            "hardware\n",
            "is\n",
            "not\n",
            "as\n",
            "important\n",
            "in\n",
            "fact\n",
            "a\n",
            "regular\n",
            "desktop\n",
            "computers\n",
            "can\n",
            "be\n",
            "turned\n",
            "into\n",
            "a\n",
            "server\n",
            "by\n",
            "adding\n",
            "the\n",
            "appropriate\n",
            "software\n",
            "for\n",
            "example\n",
            "a\n",
            "computer\n",
            "connected\n",
            "to\n",
            "a\n",
            "home\n",
            "network\n",
            "can\n",
            "be\n",
            "designated\n",
            "as\n",
            "a\n",
            "file\n",
            "server\n",
            "print\n",
            "server\n",
            "or\n",
            "both\n",
            "while\n",
            "any\n",
            "computer\n",
            "can\n",
            "be\n",
            "configured\n",
            "as\n",
            "a\n",
            "server\n",
            "most\n",
            "large\n",
            "businesses\n",
            "use\n",
            "rackmountable\n",
            "hardware\n",
            "designed\n",
            "specifically\n",
            "for\n",
            "server\n",
            "functionality\n",
            "these\n",
            "systems\n",
            "often\n",
            "1u\n",
            "in\n",
            "size\n",
            "take\n",
            "up\n",
            "minimal\n",
            "space\n",
            "and\n",
            "often\n",
            "have\n",
            "useful\n",
            "features\n",
            "such\n",
            "as\n",
            "led\n",
            "status\n",
            "lights\n",
            "and\n",
            "hotswappable\n",
            "hard\n",
            "drive\n",
            "bays\n",
            "multiple\n",
            "rackmountable\n",
            "servers\n",
            "can\n",
            "be\n",
            "placed\n",
            "in\n",
            "a\n",
            "single\n",
            "rack\n",
            "and\n",
            "often\n",
            "share\n",
            "the\n",
            "same\n",
            "monitor\n",
            "and\n",
            "input\n",
            "devices\n",
            "most\n",
            "servers\n",
            "are\n",
            "accessed\n",
            "remotely\n",
            "using\n",
            "remote\n",
            "access\n",
            "software\n",
            "so\n",
            "input\n",
            "devices\n",
            "are\n",
            "often\n",
            "not\n",
            "even\n",
            "necessary\n",
            "while\n",
            "servers\n",
            "can\n",
            "run\n",
            "on\n",
            "different\n",
            "types\n",
            "of\n",
            "computers\n",
            "it\n",
            "is\n",
            "important\n",
            "that\n",
            "the\n",
            "hardware\n",
            "is\n",
            "sufficient\n",
            "to\n",
            "support\n",
            "the\n",
            "demands\n",
            "of\n",
            "the\n",
            "server\n",
            "for\n",
            "instance\n",
            "a\n",
            "web\n",
            "server\n",
            "that\n",
            "runs\n",
            "lots\n",
            "of\n",
            "web\n",
            "scripts\n",
            "in\n",
            "realtime\n",
            "should\n",
            "have\n",
            "a\n",
            "fast\n",
            "processor\n",
            "and\n",
            "enough\n",
            "ram\n",
            "to\n",
            "handle\n",
            "the\n",
            "load\n",
            "without\n",
            "slowing\n",
            "down\n",
            "a\n",
            "file\n",
            "server\n",
            "should\n",
            "have\n",
            "one\n",
            "or\n",
            "more\n",
            "fast\n",
            "hard\n",
            "drives\n",
            "or\n",
            "ssds\n",
            "that\n",
            "can\n",
            "read\n",
            "and\n",
            "write\n",
            "data\n",
            "quickly\n",
            "regardless\n",
            "of\n",
            "the\n",
            "type\n",
            "of\n",
            "server\n",
            "a\n",
            "fast\n",
            "network\n",
            "connection\n",
            "is\n",
            "critical\n",
            "since\n",
            "all\n",
            "data\n",
            "flows\n",
            "through\n",
            "that\n",
            "connection\n"
          ]
        }
      ]
    },
    {
      "cell_type": "code",
      "metadata": {
        "colab": {
          "base_uri": "https://localhost:8080/"
        },
        "id": "C384WwBJWIPZ",
        "outputId": "685e03af-c1bd-4aec-b094-4c48e1d615ac"
      },
      "source": [
        "frekuensi_kata = {} # dictionary\n",
        "for kata in tokens:\n",
        "  if kata not in frekuensi_kata:\n",
        "    frekuensi_kata[kata] = 1\n",
        "  else:\n",
        "    frekuensi_kata[kata] += 1\n",
        "\n",
        "print(frekuensi_kata)"
      ],
      "execution_count": 8,
      "outputs": [
        {
          "output_type": "stream",
          "name": "stdout",
          "text": [
            "{'a': 20, 'server': 17, 'is': 6, 'computer': 3, 'that': 5, 'provides': 2, 'data': 4, 'to': 9, 'other': 1, 'computers': 3, 'it': 2, 'may': 3, 'serve': 1, 'systems': 2, 'on': 2, 'local': 1, 'area': 2, 'network': 5, 'lan': 1, 'or': 7, 'wide': 1, 'wan': 1, 'over': 3, 'the': 14, 'internet': 2, 'many': 1, 'types': 2, 'of': 8, 'servers': 7, 'exist': 1, 'including': 1, 'web': 4, 'mail': 2, 'and': 8, 'file': 5, 'each': 1, 'type': 3, 'runs': 2, 'software': 4, 'specific': 2, 'purpose': 1, 'for': 5, 'example': 2, 'run': 3, 'apache': 1, 'http': 1, 'microsoft': 1, 'iis': 1, 'which': 2, 'both': 2, 'provide': 1, 'access': 2, 'websites': 1, 'program': 1, 'like': 1, 'exim': 1, 'imail': 1, 'smtp': 1, 'services': 2, 'sending': 1, 'receiving': 1, 'email': 1, 'might': 1, 'use': 2, 'samba': 1, 'operating': 1, 'system': 1, \"'s\": 1, 'builtin': 1, 'sharing': 1, 'share': 2, 'files': 1, 'while': 3, 'hardware': 3, 'not': 2, 'as': 4, 'important': 2, 'in': 4, 'fact': 1, 'regular': 1, 'desktop': 1, 'can': 6, 'be': 4, 'turned': 1, 'into': 1, 'by': 1, 'adding': 1, 'appropriate': 1, 'connected': 1, 'home': 1, 'designated': 1, 'print': 1, 'any': 1, 'configured': 1, 'most': 2, 'large': 1, 'businesses': 1, 'rackmountable': 2, 'designed': 1, 'specifically': 1, 'functionality': 1, 'these': 1, 'often': 4, '1u': 1, 'size': 1, 'take': 1, 'up': 1, 'minimal': 1, 'space': 1, 'have': 3, 'useful': 1, 'features': 1, 'such': 1, 'led': 1, 'status': 1, 'lights': 1, 'hotswappable': 1, 'hard': 2, 'drive': 1, 'bays': 1, 'multiple': 1, 'placed': 1, 'single': 1, 'rack': 1, 'same': 1, 'monitor': 1, 'input': 2, 'devices': 2, 'are': 2, 'accessed': 1, 'remotely': 1, 'using': 1, 'remote': 1, 'so': 1, 'even': 1, 'necessary': 1, 'different': 1, 'sufficient': 1, 'support': 1, 'demands': 1, 'instance': 1, 'lots': 1, 'scripts': 1, 'realtime': 1, 'should': 2, 'fast': 3, 'processor': 1, 'enough': 1, 'ram': 1, 'handle': 1, 'load': 1, 'without': 1, 'slowing': 1, 'down': 1, 'one': 1, 'more': 1, 'drives': 1, 'ssds': 1, 'read': 1, 'write': 1, 'quickly': 1, 'regardless': 1, 'connection': 2, 'critical': 1, 'since': 1, 'all': 1, 'flows': 1, 'through': 1}\n"
          ]
        }
      ]
    },
    {
      "cell_type": "code",
      "metadata": {
        "colab": {
          "base_uri": "https://localhost:8080/"
        },
        "id": "eLVB8ioLWOQ2",
        "outputId": "b9c5c0b0-523b-4354-a2b8-1d742693ccf0"
      },
      "source": [
        "# Cetak total kata unik (tanpa duplikat)\n",
        "len(frekuensi_kata.keys())"
      ],
      "execution_count": 9,
      "outputs": [
        {
          "output_type": "execute_result",
          "data": {
            "text/plain": [
              "168"
            ]
          },
          "metadata": {},
          "execution_count": 9
        }
      ]
    },
    {
      "cell_type": "markdown",
      "metadata": {
        "id": "NyghGEdTWUzI"
      },
      "source": [
        "# Menghilangkan Stop Word"
      ]
    },
    {
      "cell_type": "code",
      "metadata": {
        "colab": {
          "base_uri": "https://localhost:8080/"
        },
        "id": "NUS25UTRWTVU",
        "outputId": "fecc4ca3-62a5-4dd4-991d-e78c0b66bb61"
      },
      "source": [
        "# Print daftar stop words dalam bahasa inggris\n",
        "# Stop word ini untuk setiap project dapat disesuaikan\n",
        "print(stopwords.words('english'))"
      ],
      "execution_count": 10,
      "outputs": [
        {
          "output_type": "stream",
          "name": "stdout",
          "text": [
            "['i', 'me', 'my', 'myself', 'we', 'our', 'ours', 'ourselves', 'you', \"you're\", \"you've\", \"you'll\", \"you'd\", 'your', 'yours', 'yourself', 'yourselves', 'he', 'him', 'his', 'himself', 'she', \"she's\", 'her', 'hers', 'herself', 'it', \"it's\", 'its', 'itself', 'they', 'them', 'their', 'theirs', 'themselves', 'what', 'which', 'who', 'whom', 'this', 'that', \"that'll\", 'these', 'those', 'am', 'is', 'are', 'was', 'were', 'be', 'been', 'being', 'have', 'has', 'had', 'having', 'do', 'does', 'did', 'doing', 'a', 'an', 'the', 'and', 'but', 'if', 'or', 'because', 'as', 'until', 'while', 'of', 'at', 'by', 'for', 'with', 'about', 'against', 'between', 'into', 'through', 'during', 'before', 'after', 'above', 'below', 'to', 'from', 'up', 'down', 'in', 'out', 'on', 'off', 'over', 'under', 'again', 'further', 'then', 'once', 'here', 'there', 'when', 'where', 'why', 'how', 'all', 'any', 'both', 'each', 'few', 'more', 'most', 'other', 'some', 'such', 'no', 'nor', 'not', 'only', 'own', 'same', 'so', 'than', 'too', 'very', 's', 't', 'can', 'will', 'just', 'don', \"don't\", 'should', \"should've\", 'now', 'd', 'll', 'm', 'o', 're', 've', 'y', 'ain', 'aren', \"aren't\", 'couldn', \"couldn't\", 'didn', \"didn't\", 'doesn', \"doesn't\", 'hadn', \"hadn't\", 'hasn', \"hasn't\", 'haven', \"haven't\", 'isn', \"isn't\", 'ma', 'mightn', \"mightn't\", 'mustn', \"mustn't\", 'needn', \"needn't\", 'shan', \"shan't\", 'shouldn', \"shouldn't\", 'wasn', \"wasn't\", 'weren', \"weren't\", 'won', \"won't\", 'wouldn', \"wouldn't\"]\n"
          ]
        }
      ]
    },
    {
      "cell_type": "code",
      "metadata": {
        "id": "kcWrzrTkX5cJ"
      },
      "source": [
        "en_stop_words = stopwords.words('english')"
      ],
      "execution_count": 11,
      "outputs": []
    },
    {
      "cell_type": "code",
      "metadata": {
        "id": "lK0g12xeXarY"
      },
      "source": [
        "# Menghapus kata yang termasuk ke dalam stopwords bahasa inggris\n",
        "kata_unik = list(frekuensi_kata.keys())\n",
        "for kata in kata_unik:\n",
        "  if kata in en_stop_words:\n",
        "    del frekuensi_kata[kata]\n",
        "\n",
        "# Update kata unik setelah penghapusan stopwords\n",
        "kata_unik = list(frekuensi_kata.keys())"
      ],
      "execution_count": 12,
      "outputs": []
    },
    {
      "cell_type": "code",
      "metadata": {
        "id": "Wp7dsXMgXdj3",
        "colab": {
          "base_uri": "https://localhost:8080/"
        },
        "outputId": "9a2181ca-1dba-42fc-f140-39b8f53f508d"
      },
      "source": [
        "len(frekuensi_kata.keys())"
      ],
      "execution_count": 13,
      "outputs": [
        {
          "output_type": "execute_result",
          "data": {
            "text/plain": [
              "130"
            ]
          },
          "metadata": {},
          "execution_count": 13
        }
      ]
    },
    {
      "cell_type": "markdown",
      "metadata": {
        "id": "dnwcxMH5Df_p"
      },
      "source": [
        "# Stemming dan Lematization"
      ]
    },
    {
      "cell_type": "code",
      "metadata": {
        "id": "6pJsM2z3DiBd"
      },
      "source": [
        "# Instansiasi objek dari Class PorterStemmer dan WordNetLemmatizer\n",
        "stemmer = PorterStemmer()\n",
        "lemmatizer = WordNetLemmatizer()"
      ],
      "execution_count": 14,
      "outputs": []
    },
    {
      "cell_type": "code",
      "metadata": {
        "colab": {
          "base_uri": "https://localhost:8080/"
        },
        "id": "TwgWbbt9DmWA",
        "outputId": "1c1ba41f-5ff7-4822-d786-5644a51460e0"
      },
      "source": [
        "for kata in kata_unik:\n",
        "  print(kata, '|', lemmatizer.lemmatize(kata), '|', lemmatizer.lemmatize(stemmer.stem(kata)), '|', stemmer.stem(lemmatizer.lemmatize(kata)))"
      ],
      "execution_count": 15,
      "outputs": [
        {
          "output_type": "stream",
          "name": "stdout",
          "text": [
            "server | server | server | server\n",
            "computer | computer | comput | comput\n",
            "provides | provides | provid | provid\n",
            "data | data | data | data\n",
            "computers | computer | comput | comput\n",
            "may | may | may | may\n",
            "serve | serve | serv | serv\n",
            "systems | system | system | system\n",
            "local | local | local | local\n",
            "area | area | area | area\n",
            "network | network | network | network\n",
            "lan | lan | lan | lan\n",
            "wide | wide | wide | wide\n",
            "wan | wan | wan | wan\n",
            "internet | internet | internet | internet\n",
            "many | many | mani | mani\n",
            "types | type | type | type\n",
            "servers | server | server | server\n",
            "exist | exist | exist | exist\n",
            "including | including | includ | includ\n",
            "web | web | web | web\n",
            "mail | mail | mail | mail\n",
            "file | file | file | file\n",
            "type | type | type | type\n",
            "runs | run | run | run\n",
            "software | software | softwar | softwar\n",
            "specific | specific | specif | specif\n",
            "purpose | purpose | purpos | purpos\n",
            "example | example | exampl | exampl\n",
            "run | run | run | run\n",
            "apache | apache | apach | apach\n",
            "http | http | http | http\n",
            "microsoft | microsoft | microsoft | microsoft\n",
            "iis | ii | ii | ii\n",
            "provide | provide | provid | provid\n",
            "access | access | access | access\n",
            "websites | website | websit | websit\n",
            "program | program | program | program\n",
            "like | like | like | like\n",
            "exim | exim | exim | exim\n",
            "imail | imail | imail | imail\n",
            "smtp | smtp | smtp | smtp\n",
            "services | service | servic | servic\n",
            "sending | sending | send | send\n",
            "receiving | receiving | receiv | receiv\n",
            "email | email | email | email\n",
            "might | might | might | might\n",
            "use | use | use | use\n",
            "samba | samba | samba | samba\n",
            "operating | operating | oper | oper\n",
            "system | system | system | system\n",
            "'s | 's | 's | 's\n",
            "builtin | builtin | builtin | builtin\n",
            "sharing | sharing | share | share\n",
            "share | share | share | share\n",
            "files | file | file | file\n",
            "hardware | hardware | hardwar | hardwar\n",
            "important | important | import | import\n",
            "fact | fact | fact | fact\n",
            "regular | regular | regular | regular\n",
            "desktop | desktop | desktop | desktop\n",
            "turned | turned | turn | turn\n",
            "adding | adding | ad | ad\n",
            "appropriate | appropriate | appropri | appropri\n",
            "connected | connected | connect | connect\n",
            "home | home | home | home\n",
            "designated | designated | design | design\n",
            "print | print | print | print\n",
            "configured | configured | configur | configur\n",
            "large | large | larg | larg\n",
            "businesses | business | busi | busi\n",
            "rackmountable | rackmountable | rackmount | rackmount\n",
            "designed | designed | design | design\n",
            "specifically | specifically | specif | specif\n",
            "functionality | functionality | function | function\n",
            "often | often | often | often\n",
            "1u | 1u | 1u | 1u\n",
            "size | size | size | size\n",
            "take | take | take | take\n",
            "minimal | minimal | minim | minim\n",
            "space | space | space | space\n",
            "useful | useful | use | use\n",
            "features | feature | featur | featur\n",
            "led | led | led | led\n",
            "status | status | statu | statu\n",
            "lights | light | light | light\n",
            "hotswappable | hotswappable | hotswapp | hotswapp\n",
            "hard | hard | hard | hard\n",
            "drive | drive | drive | drive\n",
            "bays | bay | bay | bay\n",
            "multiple | multiple | multipl | multipl\n",
            "placed | placed | place | place\n",
            "single | single | singl | singl\n",
            "rack | rack | rack | rack\n",
            "monitor | monitor | monitor | monitor\n",
            "input | input | input | input\n",
            "devices | device | devic | devic\n",
            "accessed | accessed | access | access\n",
            "remotely | remotely | remot | remot\n",
            "using | using | use | use\n",
            "remote | remote | remot | remot\n",
            "even | even | even | even\n",
            "necessary | necessary | necessari | necessari\n",
            "different | different | differ | differ\n",
            "sufficient | sufficient | suffici | suffici\n",
            "support | support | support | support\n",
            "demands | demand | demand | demand\n",
            "instance | instance | instanc | instanc\n",
            "lots | lot | lot | lot\n",
            "scripts | script | script | script\n",
            "realtime | realtime | realtim | realtim\n",
            "fast | fast | fast | fast\n",
            "processor | processor | processor | processor\n",
            "enough | enough | enough | enough\n",
            "ram | ram | ram | ram\n",
            "handle | handle | handl | handl\n",
            "load | load | load | load\n",
            "without | without | without | without\n",
            "slowing | slowing | slow | slow\n",
            "one | one | one | one\n",
            "drives | drive | drive | drive\n",
            "ssds | ssds | ssd | ssd\n",
            "read | read | read | read\n",
            "write | write | write | write\n",
            "quickly | quickly | quickli | quickli\n",
            "regardless | regardless | regardless | regardless\n",
            "connection | connection | connect | connect\n",
            "critical | critical | critic | critic\n",
            "since | since | sinc | sinc\n",
            "flows | flow | flow | flow\n"
          ]
        }
      ]
    },
    {
      "cell_type": "code",
      "metadata": {
        "colab": {
          "base_uri": "https://localhost:8080/"
        },
        "id": "HPEFhNstDs3b",
        "outputId": "deda40dd-bf61-4529-fe3c-3df5f8fa2a2c"
      },
      "source": [
        "# Menggunakan pos pada lemmatizer untuk menentukan part of speech atau kategori kata\n",
        "print(lemmatizer.lemmatize('accessed'))\n",
        "print(lemmatizer.lemmatize('accessed', pos = 'v'))"
      ],
      "execution_count": 17,
      "outputs": [
        {
          "output_type": "stream",
          "name": "stdout",
          "text": [
            "accessed\n",
            "access\n"
          ]
        }
      ]
    },
    {
      "cell_type": "code",
      "metadata": {
        "colab": {
          "base_uri": "https://localhost:8080/"
        },
        "id": "JLW7dr-oDs_J",
        "outputId": "72ae6791-4501-46a6-9b31-d31052d7437f"
      },
      "source": [
        "token_no_stop_words = [kata for kata in tokens if kata not in en_stop_words]\n",
        "token_lemmatized = [lemmatizer.lemmatize(kata) for kata in token_no_stop_words]\n",
        "\n",
        "frekuensi_kata_postprocessing = {}\n",
        "for kata in token_lemmatized:\n",
        "  if kata not in frekuensi_kata_postprocessing:\n",
        "    frekuensi_kata_postprocessing[kata] = 1\n",
        "  else:\n",
        "    frekuensi_kata_postprocessing[kata] += 1\n",
        "\n",
        "\n",
        "frekuensi_kata_postprocessing.keys()"
      ],
      "execution_count": 18,
      "outputs": [
        {
          "output_type": "execute_result",
          "data": {
            "text/plain": [
              "dict_keys(['server', 'computer', 'provides', 'data', 'may', 'serve', 'system', 'local', 'area', 'network', 'lan', 'wide', 'wan', 'internet', 'many', 'type', 'exist', 'including', 'web', 'mail', 'file', 'run', 'software', 'specific', 'purpose', 'example', 'apache', 'http', 'microsoft', 'ii', 'provide', 'access', 'website', 'program', 'like', 'exim', 'imail', 'smtp', 'service', 'sending', 'receiving', 'email', 'might', 'use', 'samba', 'operating', \"'s\", 'builtin', 'sharing', 'share', 'hardware', 'important', 'fact', 'regular', 'desktop', 'turned', 'adding', 'appropriate', 'connected', 'home', 'designated', 'print', 'configured', 'large', 'business', 'rackmountable', 'designed', 'specifically', 'functionality', 'often', '1u', 'size', 'take', 'minimal', 'space', 'useful', 'feature', 'led', 'status', 'light', 'hotswappable', 'hard', 'drive', 'bay', 'multiple', 'placed', 'single', 'rack', 'monitor', 'input', 'device', 'accessed', 'remotely', 'using', 'remote', 'even', 'necessary', 'different', 'sufficient', 'support', 'demand', 'instance', 'lot', 'script', 'realtime', 'fast', 'processor', 'enough', 'ram', 'handle', 'load', 'without', 'slowing', 'one', 'ssds', 'read', 'write', 'quickly', 'regardless', 'connection', 'critical', 'since', 'flow'])"
            ]
          },
          "metadata": {},
          "execution_count": 18
        }
      ]
    },
    {
      "cell_type": "code",
      "metadata": {
        "colab": {
          "base_uri": "https://localhost:8080/"
        },
        "id": "3Xx4UL4WESoe",
        "outputId": "495b3c1f-9b75-455e-bfe9-5536829e80d6"
      },
      "source": [
        "# Membandingkan jumlah kata unik sebelum dan setelah preprocessing dengan melihat isi dari bag of words\n",
        "print(len(frekuensi_kata))\n",
        "print(len(frekuensi_kata_postprocessing))"
      ],
      "execution_count": 19,
      "outputs": [
        {
          "output_type": "stream",
          "name": "stdout",
          "text": [
            "130\n",
            "123\n"
          ]
        }
      ]
    }
  ]
}