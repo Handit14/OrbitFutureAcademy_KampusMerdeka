{
  "nbformat": 4,
  "nbformat_minor": 0,
  "metadata": {
    "colab": {
      "name": "Latihan_Data_PreProcessing_Indonesia(.txt)",
      "provenance": []
    },
    "kernelspec": {
      "name": "python3",
      "display_name": "Python 3"
    },
    "language_info": {
      "name": "python"
    }
  },
  "cells": [
    {
      "cell_type": "markdown",
      "metadata": {
        "id": "aGEOV0v4euAp"
      },
      "source": [
        "# Import Library"
      ]
    },
    {
      "cell_type": "code",
      "metadata": {
        "colab": {
          "base_uri": "https://localhost:8080/"
        },
        "id": "JQlQiY8scvQh",
        "outputId": "c5f42e1f-8c2a-4707-d7ea-42f9809e6412"
      },
      "source": [
        "import nltk\n",
        "import re\n",
        "import requests \n",
        "from nltk.corpus import stopwords\n",
        "from nltk.stem import PorterStemmer\n",
        "from nltk.stem import WordNetLemmatizer\n",
        "from nltk import word_tokenize\n",
        "from bs4 import BeautifulSoup\n",
        "\n",
        "nltk.download('punkt')\n",
        "nltk.download('stopwords')\n",
        "nltk.download('wordnet')"
      ],
      "execution_count": 1,
      "outputs": [
        {
          "output_type": "stream",
          "name": "stdout",
          "text": [
            "[nltk_data] Downloading package punkt to /root/nltk_data...\n",
            "[nltk_data]   Unzipping tokenizers/punkt.zip.\n",
            "[nltk_data] Downloading package stopwords to /root/nltk_data...\n",
            "[nltk_data]   Unzipping corpora/stopwords.zip.\n",
            "[nltk_data] Downloading package wordnet to /root/nltk_data...\n",
            "[nltk_data]   Unzipping corpora/wordnet.zip.\n"
          ]
        },
        {
          "output_type": "execute_result",
          "data": {
            "text/plain": [
              "True"
            ]
          },
          "metadata": {},
          "execution_count": 1
        }
      ]
    },
    {
      "cell_type": "markdown",
      "metadata": {
        "id": "uhgvfePVOpFr"
      },
      "source": [
        "# Bahasa Indonesia (.txt)"
      ]
    },
    {
      "cell_type": "code",
      "metadata": {
        "colab": {
          "base_uri": "https://localhost:8080/",
          "height": 105
        },
        "id": "FqVeGj7tOwGA",
        "outputId": "9c0cd4c9-1847-40f8-e073-b7c816af27c8"
      },
      "source": [
        "text1 = requests.get('https://raw.githubusercontent.com/Handit14/OrbitFutureAcademy_KampusMerdeka/main/Materi/Natural%20Language%20Processing/alam_semesta.txt').text\n",
        "text1"
      ],
      "execution_count": 6,
      "outputs": [
        {
          "output_type": "execute_result",
          "data": {
            "application/vnd.google.colaboratory.intrinsic+json": {
              "type": "string"
            },
            "text/plain": [
              "'Alam semesta merupakan semua ruang dan waktu serta segala isinya, yaitu planet, bintang, galaksi dan semua bentuk energi dan materi. Ruang keseluruhan alam semesta belum dapat dapat diketahui, namun kita dapat mengetahui besar alam semesta yang dapat diobservasi. Diameter alam semesta yang dapat diobservasi adalah 8.8 x 1026 m atau 93 miliar tahun cahaya.\\n\\nModel saintifik awal yang dikembangkan oleh orang Yunani kuno mengatakan bahwa Bumi merupakan titik pusat alam semesta, hingga pada abad ke-16 Nicolaus Copernicus mengembangkan teori heliosentrik. Teori ini menjelaskan bahwa Matahari merupakan pusat tata surya dan bukan Bumi. Pada pengembangan hukum gravitasi universal, Isaac Newton merujuk pada hasil studi Copernicus dan juga hasil observasi oleh Tycho Brahe dan hukum pergerakan planet oleh Johannes Kepler.\\n\\nObservasi lanjutan menunjukan bahwa matahari merupakan salah satu dari ratusan miliar bintang yang terdapat dalam galaksi bima sakti saja, dimana jumlah keseluruhan galaksi di alam semesta sekitar ratusan miliar. Banyak bintang dalam galaksi kita memiliki planet.\\n\\nGalaksi terdistribusi secara merata di segala arah, yang berarti alam semesta tidak memiliki tepi atau pusat. Pada skala kecil, galaksi terdistribusi dalam kluster dan superkluster yang membentuk filamen yang amat luas serta ruang kosong.\\n\\nObservasi di abad ke-20 menunjukan bahwa alam semesta memiliki awal (big bang) dan semenjak itu mengembang dengan laju yang terus bertambah.'"
            ]
          },
          "metadata": {},
          "execution_count": 6
        }
      ]
    },
    {
      "cell_type": "code",
      "metadata": {
        "colab": {
          "base_uri": "https://localhost:8080/",
          "height": 105
        },
        "id": "9O82v5MvSzYl",
        "outputId": "a8d96ec6-ff9d-4e6b-ea43-60a81fd18777"
      },
      "source": [
        "# membuat text menjadi lowercase\n",
        "text1 = text1.lower()\n",
        "text1"
      ],
      "execution_count": 7,
      "outputs": [
        {
          "output_type": "execute_result",
          "data": {
            "application/vnd.google.colaboratory.intrinsic+json": {
              "type": "string"
            },
            "text/plain": [
              "'alam semesta merupakan semua ruang dan waktu serta segala isinya, yaitu planet, bintang, galaksi dan semua bentuk energi dan materi. ruang keseluruhan alam semesta belum dapat dapat diketahui, namun kita dapat mengetahui besar alam semesta yang dapat diobservasi. diameter alam semesta yang dapat diobservasi adalah 8.8 x 1026 m atau 93 miliar tahun cahaya.\\n\\nmodel saintifik awal yang dikembangkan oleh orang yunani kuno mengatakan bahwa bumi merupakan titik pusat alam semesta, hingga pada abad ke-16 nicolaus copernicus mengembangkan teori heliosentrik. teori ini menjelaskan bahwa matahari merupakan pusat tata surya dan bukan bumi. pada pengembangan hukum gravitasi universal, isaac newton merujuk pada hasil studi copernicus dan juga hasil observasi oleh tycho brahe dan hukum pergerakan planet oleh johannes kepler.\\n\\nobservasi lanjutan menunjukan bahwa matahari merupakan salah satu dari ratusan miliar bintang yang terdapat dalam galaksi bima sakti saja, dimana jumlah keseluruhan galaksi di alam semesta sekitar ratusan miliar. banyak bintang dalam galaksi kita memiliki planet.\\n\\ngalaksi terdistribusi secara merata di segala arah, yang berarti alam semesta tidak memiliki tepi atau pusat. pada skala kecil, galaksi terdistribusi dalam kluster dan superkluster yang membentuk filamen yang amat luas serta ruang kosong.\\n\\nobservasi di abad ke-20 menunjukan bahwa alam semesta memiliki awal (big bang) dan semenjak itu mengembang dengan laju yang terus bertambah.'"
            ]
          },
          "metadata": {},
          "execution_count": 7
        }
      ]
    },
    {
      "cell_type": "code",
      "metadata": {
        "colab": {
          "base_uri": "https://localhost:8080/",
          "height": 105
        },
        "id": "V11tPf3vSz18",
        "outputId": "2dfd3a85-1b27-4862-dcab-05b440860ca2"
      },
      "source": [
        "# menghilangkan karakter khusus pada teks\n",
        "text1 = re.sub(r\"[-()\\\"#/@;:<>{}`+=~|.!?,]\", \"\", text1)\n",
        "text1"
      ],
      "execution_count": 9,
      "outputs": [
        {
          "output_type": "execute_result",
          "data": {
            "application/vnd.google.colaboratory.intrinsic+json": {
              "type": "string"
            },
            "text/plain": [
              "'alam semesta merupakan semua ruang dan waktu serta segala isinya yaitu planet bintang galaksi dan semua bentuk energi dan materi ruang keseluruhan alam semesta belum dapat dapat diketahui namun kita dapat mengetahui besar alam semesta yang dapat diobservasi diameter alam semesta yang dapat diobservasi adalah 88 x 1026 m atau 93 miliar tahun cahaya\\n\\nmodel saintifik awal yang dikembangkan oleh orang yunani kuno mengatakan bahwa bumi merupakan titik pusat alam semesta hingga pada abad ke16 nicolaus copernicus mengembangkan teori heliosentrik teori ini menjelaskan bahwa matahari merupakan pusat tata surya dan bukan bumi pada pengembangan hukum gravitasi universal isaac newton merujuk pada hasil studi copernicus dan juga hasil observasi oleh tycho brahe dan hukum pergerakan planet oleh johannes kepler\\n\\nobservasi lanjutan menunjukan bahwa matahari merupakan salah satu dari ratusan miliar bintang yang terdapat dalam galaksi bima sakti saja dimana jumlah keseluruhan galaksi di alam semesta sekitar ratusan miliar banyak bintang dalam galaksi kita memiliki planet\\n\\ngalaksi terdistribusi secara merata di segala arah yang berarti alam semesta tidak memiliki tepi atau pusat pada skala kecil galaksi terdistribusi dalam kluster dan superkluster yang membentuk filamen yang amat luas serta ruang kosong\\n\\nobservasi di abad ke20 menunjukan bahwa alam semesta memiliki awal big bang dan semenjak itu mengembang dengan laju yang terus bertambah'"
            ]
          },
          "metadata": {},
          "execution_count": 9
        }
      ]
    },
    {
      "cell_type": "markdown",
      "metadata": {
        "id": "kk-UH08wbomf"
      },
      "source": [
        "# Tokenization"
      ]
    },
    {
      "cell_type": "code",
      "metadata": {
        "colab": {
          "base_uri": "https://localhost:8080/"
        },
        "id": "lv5L09y5bt_r",
        "outputId": "4ea76bfa-bb6f-4684-ab69-2bca14de8461"
      },
      "source": [
        "# mengubah teks menjadi token (Tokenization)\n",
        "tokens = word_tokenize(text1)\n",
        "print(tokens)"
      ],
      "execution_count": 10,
      "outputs": [
        {
          "output_type": "stream",
          "name": "stdout",
          "text": [
            "['alam', 'semesta', 'merupakan', 'semua', 'ruang', 'dan', 'waktu', 'serta', 'segala', 'isinya', 'yaitu', 'planet', 'bintang', 'galaksi', 'dan', 'semua', 'bentuk', 'energi', 'dan', 'materi', 'ruang', 'keseluruhan', 'alam', 'semesta', 'belum', 'dapat', 'dapat', 'diketahui', 'namun', 'kita', 'dapat', 'mengetahui', 'besar', 'alam', 'semesta', 'yang', 'dapat', 'diobservasi', 'diameter', 'alam', 'semesta', 'yang', 'dapat', 'diobservasi', 'adalah', '88', 'x', '1026', 'm', 'atau', '93', 'miliar', 'tahun', 'cahaya', 'model', 'saintifik', 'awal', 'yang', 'dikembangkan', 'oleh', 'orang', 'yunani', 'kuno', 'mengatakan', 'bahwa', 'bumi', 'merupakan', 'titik', 'pusat', 'alam', 'semesta', 'hingga', 'pada', 'abad', 'ke16', 'nicolaus', 'copernicus', 'mengembangkan', 'teori', 'heliosentrik', 'teori', 'ini', 'menjelaskan', 'bahwa', 'matahari', 'merupakan', 'pusat', 'tata', 'surya', 'dan', 'bukan', 'bumi', 'pada', 'pengembangan', 'hukum', 'gravitasi', 'universal', 'isaac', 'newton', 'merujuk', 'pada', 'hasil', 'studi', 'copernicus', 'dan', 'juga', 'hasil', 'observasi', 'oleh', 'tycho', 'brahe', 'dan', 'hukum', 'pergerakan', 'planet', 'oleh', 'johannes', 'kepler', 'observasi', 'lanjutan', 'menunjukan', 'bahwa', 'matahari', 'merupakan', 'salah', 'satu', 'dari', 'ratusan', 'miliar', 'bintang', 'yang', 'terdapat', 'dalam', 'galaksi', 'bima', 'sakti', 'saja', 'dimana', 'jumlah', 'keseluruhan', 'galaksi', 'di', 'alam', 'semesta', 'sekitar', 'ratusan', 'miliar', 'banyak', 'bintang', 'dalam', 'galaksi', 'kita', 'memiliki', 'planet', 'galaksi', 'terdistribusi', 'secara', 'merata', 'di', 'segala', 'arah', 'yang', 'berarti', 'alam', 'semesta', 'tidak', 'memiliki', 'tepi', 'atau', 'pusat', 'pada', 'skala', 'kecil', 'galaksi', 'terdistribusi', 'dalam', 'kluster', 'dan', 'superkluster', 'yang', 'membentuk', 'filamen', 'yang', 'amat', 'luas', 'serta', 'ruang', 'kosong', 'observasi', 'di', 'abad', 'ke20', 'menunjukan', 'bahwa', 'alam', 'semesta', 'memiliki', 'awal', 'big', 'bang', 'dan', 'semenjak', 'itu', 'mengembang', 'dengan', 'laju', 'yang', 'terus', 'bertambah']\n"
          ]
        }
      ]
    },
    {
      "cell_type": "code",
      "metadata": {
        "colab": {
          "base_uri": "https://localhost:8080/"
        },
        "id": "flMH-w5ReMMO",
        "outputId": "fa4b5aa2-b8ab-49b7-b17c-70615b379c08"
      },
      "source": [
        "# menghilangkan Stop Words dalam bahasa Indonesia\n",
        "# Install Sastrawi\n",
        "!pip3 install Sastrawi"
      ],
      "execution_count": 12,
      "outputs": [
        {
          "output_type": "stream",
          "name": "stdout",
          "text": [
            "Collecting Sastrawi\n",
            "  Downloading Sastrawi-1.0.1-py2.py3-none-any.whl (209 kB)\n",
            "\u001b[?25l\r\u001b[K     |█▋                              | 10 kB 27.5 MB/s eta 0:00:01\r\u001b[K     |███▏                            | 20 kB 31.7 MB/s eta 0:00:01\r\u001b[K     |████▊                           | 30 kB 11.4 MB/s eta 0:00:01\r\u001b[K     |██████▎                         | 40 kB 8.9 MB/s eta 0:00:01\r\u001b[K     |███████▉                        | 51 kB 5.0 MB/s eta 0:00:01\r\u001b[K     |█████████▍                      | 61 kB 5.3 MB/s eta 0:00:01\r\u001b[K     |███████████                     | 71 kB 5.7 MB/s eta 0:00:01\r\u001b[K     |████████████▌                   | 81 kB 6.4 MB/s eta 0:00:01\r\u001b[K     |██████████████                  | 92 kB 6.5 MB/s eta 0:00:01\r\u001b[K     |███████████████▋                | 102 kB 5.2 MB/s eta 0:00:01\r\u001b[K     |█████████████████▏              | 112 kB 5.2 MB/s eta 0:00:01\r\u001b[K     |██████████████████▊             | 122 kB 5.2 MB/s eta 0:00:01\r\u001b[K     |████████████████████▎           | 133 kB 5.2 MB/s eta 0:00:01\r\u001b[K     |█████████████████████▉          | 143 kB 5.2 MB/s eta 0:00:01\r\u001b[K     |███████████████████████▍        | 153 kB 5.2 MB/s eta 0:00:01\r\u001b[K     |█████████████████████████       | 163 kB 5.2 MB/s eta 0:00:01\r\u001b[K     |██████████████████████████▋     | 174 kB 5.2 MB/s eta 0:00:01\r\u001b[K     |████████████████████████████▏   | 184 kB 5.2 MB/s eta 0:00:01\r\u001b[K     |█████████████████████████████▊  | 194 kB 5.2 MB/s eta 0:00:01\r\u001b[K     |███████████████████████████████▎| 204 kB 5.2 MB/s eta 0:00:01\r\u001b[K     |████████████████████████████████| 209 kB 5.2 MB/s \n",
            "\u001b[?25hInstalling collected packages: Sastrawi\n",
            "Successfully installed Sastrawi-1.0.1\n"
          ]
        }
      ]
    },
    {
      "cell_type": "code",
      "metadata": {
        "colab": {
          "base_uri": "https://localhost:8080/"
        },
        "id": "h1tT5beWcD9L",
        "outputId": "5d9e75e0-73f1-41ba-c29a-daaca9fae110"
      },
      "source": [
        "from Sastrawi.StopWordRemover.StopWordRemoverFactory import StopWordRemoverFactory\n",
        "from Sastrawi.Stemmer.StemmerFactory import StemmerFactory\n",
        "stopword_remover_factory = StopWordRemoverFactory()\n",
        "stemmer_factory = StemmerFactory()\n",
        "ina_stemmer = stemmer_factory.create_stemmer()\n",
        "ina_stopword = stopword_remover_factory.create_stop_word_remover()\n",
        "\n",
        "print(stopword_remover_factory.get_stop_words())"
      ],
      "execution_count": 13,
      "outputs": [
        {
          "output_type": "stream",
          "name": "stdout",
          "text": [
            "['yang', 'untuk', 'pada', 'ke', 'para', 'namun', 'menurut', 'antara', 'dia', 'dua', 'ia', 'seperti', 'jika', 'jika', 'sehingga', 'kembali', 'dan', 'tidak', 'ini', 'karena', 'kepada', 'oleh', 'saat', 'harus', 'sementara', 'setelah', 'belum', 'kami', 'sekitar', 'bagi', 'serta', 'di', 'dari', 'telah', 'sebagai', 'masih', 'hal', 'ketika', 'adalah', 'itu', 'dalam', 'bisa', 'bahwa', 'atau', 'hanya', 'kita', 'dengan', 'akan', 'juga', 'ada', 'mereka', 'sudah', 'saya', 'terhadap', 'secara', 'agar', 'lain', 'anda', 'begitu', 'mengapa', 'kenapa', 'yaitu', 'yakni', 'daripada', 'itulah', 'lagi', 'maka', 'tentang', 'demi', 'dimana', 'kemana', 'pula', 'sambil', 'sebelum', 'sesudah', 'supaya', 'guna', 'kah', 'pun', 'sampai', 'sedangkan', 'selagi', 'sementara', 'tetapi', 'apakah', 'kecuali', 'sebab', 'selain', 'seolah', 'seraya', 'seterusnya', 'tanpa', 'agak', 'boleh', 'dapat', 'dsb', 'dst', 'dll', 'dahulu', 'dulunya', 'anu', 'demikian', 'tapi', 'ingin', 'juga', 'nggak', 'mari', 'nanti', 'melainkan', 'oh', 'ok', 'seharusnya', 'sebetulnya', 'setiap', 'setidaknya', 'sesuatu', 'pasti', 'saja', 'toh', 'ya', 'walau', 'tolong', 'tentu', 'amat', 'apalagi', 'bagaimanapun']\n"
          ]
        }
      ]
    },
    {
      "cell_type": "code",
      "metadata": {
        "colab": {
          "base_uri": "https://localhost:8080/"
        },
        "id": "rGVKRi4_cSiM",
        "outputId": "91fa22a1-3287-41b2-dcb6-2ea7a5c3a0c6"
      },
      "source": [
        "# Membuat kalimat baru dari token yang sudah dibuat sebagai parameter untuk dapat digunakan pada fungsi ina_stopword.remove()\n",
        "text_from_token = ' '.join(tokens)\n",
        "print(text_from_token)\n",
        "\n",
        "text_from_token_no_stop_words = ina_stopword.remove(text_from_token)\n",
        "\n",
        "# Mengubah kalimat yang sudah tidak terdapat stop words menjadi token lagi\n",
        "# token = word_tokenize(text_from_token_no_stop_words)\n",
        "# token"
      ],
      "execution_count": 14,
      "outputs": [
        {
          "output_type": "stream",
          "name": "stdout",
          "text": [
            "alam semesta merupakan semua ruang dan waktu serta segala isinya yaitu planet bintang galaksi dan semua bentuk energi dan materi ruang keseluruhan alam semesta belum dapat dapat diketahui namun kita dapat mengetahui besar alam semesta yang dapat diobservasi diameter alam semesta yang dapat diobservasi adalah 88 x 1026 m atau 93 miliar tahun cahaya model saintifik awal yang dikembangkan oleh orang yunani kuno mengatakan bahwa bumi merupakan titik pusat alam semesta hingga pada abad ke16 nicolaus copernicus mengembangkan teori heliosentrik teori ini menjelaskan bahwa matahari merupakan pusat tata surya dan bukan bumi pada pengembangan hukum gravitasi universal isaac newton merujuk pada hasil studi copernicus dan juga hasil observasi oleh tycho brahe dan hukum pergerakan planet oleh johannes kepler observasi lanjutan menunjukan bahwa matahari merupakan salah satu dari ratusan miliar bintang yang terdapat dalam galaksi bima sakti saja dimana jumlah keseluruhan galaksi di alam semesta sekitar ratusan miliar banyak bintang dalam galaksi kita memiliki planet galaksi terdistribusi secara merata di segala arah yang berarti alam semesta tidak memiliki tepi atau pusat pada skala kecil galaksi terdistribusi dalam kluster dan superkluster yang membentuk filamen yang amat luas serta ruang kosong observasi di abad ke20 menunjukan bahwa alam semesta memiliki awal big bang dan semenjak itu mengembang dengan laju yang terus bertambah\n"
          ]
        }
      ]
    },
    {
      "cell_type": "markdown",
      "metadata": {
        "id": "91JhTGWB6VuK"
      },
      "source": [
        "# Stemming"
      ]
    },
    {
      "cell_type": "code",
      "metadata": {
        "colab": {
          "base_uri": "https://localhost:8080/",
          "height": 105
        },
        "id": "qw9FyhvD2fsV",
        "outputId": "8f6293b7-5c7f-49d9-c49a-583c7c3e2566"
      },
      "source": [
        "# stemming\n",
        "stemmed_text = ina_stemmer.stem(text_from_token_no_stop_words)\n",
        "stemmed_text"
      ],
      "execution_count": 15,
      "outputs": [
        {
          "output_type": "execute_result",
          "data": {
            "application/vnd.google.colaboratory.intrinsic+json": {
              "type": "string"
            },
            "text/plain": [
              "'alam semesta rupa semua ruang waktu segala isi planet bintang galaksi semua bentuk energi materi ruang seluruh alam semesta tahu dapat tahu besar alam semesta dapat observasi diameter alam semesta dapat observasi 88 x 1026 m 93 miliar tahun cahaya model saintifik awal kembang orang yunani kuno kata bumi rupa titik pusat alam semesta hingga abad ke16 nicolaus copernicus kembang teori heliosentrik teori jelas matahari rupa pusat tata surya bukan bumi kembang hukum gravitasi universal isaac newton rujuk hasil studi copernicus juga hasil observasi tycho brahe hukum gera planet johannes kepler observasi lanjut tunjuk matahari rupa salah satu ratus miliar bintang dapat galaksi bima sakti mana jumlah seluruh galaksi alam semesta ratus miliar banyak bintang galaksi kita milik planet galaksi distribusi rata segala arah arti alam semesta milik tepi pusat skala kecil galaksi distribusi kluster superkluster bentuk filamen amat luas ruang kosong observasi abad ke20 tunjuk alam semesta milik awal big bang semenjak kembang laju terus tambah'"
            ]
          },
          "metadata": {},
          "execution_count": 15
        }
      ]
    },
    {
      "cell_type": "code",
      "metadata": {
        "colab": {
          "base_uri": "https://localhost:8080/"
        },
        "id": "ahd9bAq72mXc",
        "outputId": "882eb5db-8679-40e1-adfa-aa0bb3d3af6c"
      },
      "source": [
        "token_from_stemmed_text = word_tokenize(stemmed_text)\n",
        "print(token_from_stemmed_text)"
      ],
      "execution_count": 16,
      "outputs": [
        {
          "output_type": "stream",
          "name": "stdout",
          "text": [
            "['alam', 'semesta', 'rupa', 'semua', 'ruang', 'waktu', 'segala', 'isi', 'planet', 'bintang', 'galaksi', 'semua', 'bentuk', 'energi', 'materi', 'ruang', 'seluruh', 'alam', 'semesta', 'tahu', 'dapat', 'tahu', 'besar', 'alam', 'semesta', 'dapat', 'observasi', 'diameter', 'alam', 'semesta', 'dapat', 'observasi', '88', 'x', '1026', 'm', '93', 'miliar', 'tahun', 'cahaya', 'model', 'saintifik', 'awal', 'kembang', 'orang', 'yunani', 'kuno', 'kata', 'bumi', 'rupa', 'titik', 'pusat', 'alam', 'semesta', 'hingga', 'abad', 'ke16', 'nicolaus', 'copernicus', 'kembang', 'teori', 'heliosentrik', 'teori', 'jelas', 'matahari', 'rupa', 'pusat', 'tata', 'surya', 'bukan', 'bumi', 'kembang', 'hukum', 'gravitasi', 'universal', 'isaac', 'newton', 'rujuk', 'hasil', 'studi', 'copernicus', 'juga', 'hasil', 'observasi', 'tycho', 'brahe', 'hukum', 'gera', 'planet', 'johannes', 'kepler', 'observasi', 'lanjut', 'tunjuk', 'matahari', 'rupa', 'salah', 'satu', 'ratus', 'miliar', 'bintang', 'dapat', 'galaksi', 'bima', 'sakti', 'mana', 'jumlah', 'seluruh', 'galaksi', 'alam', 'semesta', 'ratus', 'miliar', 'banyak', 'bintang', 'galaksi', 'kita', 'milik', 'planet', 'galaksi', 'distribusi', 'rata', 'segala', 'arah', 'arti', 'alam', 'semesta', 'milik', 'tepi', 'pusat', 'skala', 'kecil', 'galaksi', 'distribusi', 'kluster', 'superkluster', 'bentuk', 'filamen', 'amat', 'luas', 'ruang', 'kosong', 'observasi', 'abad', 'ke20', 'tunjuk', 'alam', 'semesta', 'milik', 'awal', 'big', 'bang', 'semenjak', 'kembang', 'laju', 'terus', 'tambah']\n"
          ]
        }
      ]
    },
    {
      "cell_type": "markdown",
      "metadata": {
        "id": "zYWPdUZA6P8u"
      },
      "source": [
        "# Bag of Words teks Bahasa Indonesia"
      ]
    },
    {
      "cell_type": "code",
      "metadata": {
        "colab": {
          "base_uri": "https://localhost:8080/"
        },
        "id": "K2tZ-2dE3JaI",
        "outputId": "ee85c55d-7181-441c-f285-ae0c69064cf9"
      },
      "source": [
        "# Membuat Bag of Words dari teks Bahasa Indonesia\n",
        "\n",
        "frekuensi_kata_ina = {}\n",
        "for kata in token_from_stemmed_text:\n",
        "  if kata not in frekuensi_kata_ina:\n",
        "    frekuensi_kata_ina[kata] = 1\n",
        "  else:\n",
        "    frekuensi_kata_ina[kata] += 1\n",
        "\n",
        "print(frekuensi_kata_ina)"
      ],
      "execution_count": null,
      "outputs": [
        {
          "output_type": "stream",
          "name": "stdout",
          "text": [
            "{'share': 1, 'kembang': 19, 'teknologi': 11, 'era': 2, 'revolusi': 2, 'industri': 3, '40': 1, 'makin': 4, 'banyak': 10, 'guna': 10, 'bagai': 7, 'kalang': 2, 'ada': 3, 'sebut': 8, 'bantu': 11, 'aktivitas': 2, 'manusia': 11, 'jadi': 12, 'lebih': 29, 'efektif': 1, 'efisien': 2, 'optimal': 4, 'artificial': 10, 'intelligence': 10, 'salah': 1, 'satu': 3, 'istilah': 4, 'sering': 3, 'dengar': 1, 'baik': 3, 'negara': 2, 'maju': 1, 'maupun': 1, 'tentu': 4, 'saing': 1, 'perangkat': 6, 'device': 1, 'advanced': 3, 'terotomasi': 1, 'wireless': 1, 'nirkabel': 1, 'hingga': 5, 'akhir': 6, 'cerdas': 21, 'buat': 16, 'terobos': 1, 'baru': 2, 'dunia': 1, 'it': 1, 'produk': 7, 'lunak': 2, 'mampu': 11, 'atas': 2, 'masalah': 2, 'problem': 1, 'tunggu': 1, 'perintah': 1, 'instruksi': 1, 'artikel': 1, 'kali': 2, 'bahas': 2, 'jauh': 1, 'kena': 4, 'terap': 13, 'mulai': 1, 'definisi': 1, 'sejarah': 2, 'jenis': 11, 'cara': 2, 'kerja': 8, 'manfaat': 4, 'papar': 1, 'beberapa': 4, 'contoh': 12, 'implementasi': 4, 'mudah': 1, 'kenal': 6, 'dekat': 2, 'jika': 1, 'paham': 1, 'konsep': 3, 'big': 3, 'data': 14, 'internet': 7, 'of': 4, 'things': 4, 'iot': 2, 'sudah': 2, 'barang': 2, 'sangat': 6, 'kait': 6, 'ai': 24, 'tiga': 4, 'sekarang': 1, 'milik': 7, 'sama': 3, 'erat': 1, 'cipta': 3, 'suatu': 5, 'modern': 1, 'otomatis': 2, 'apa': 3, 'sistem': 14, 'tanam': 2, 'tambah': 1, 'nanti': 4, 'konteks': 1, 'ilmiah': 4, 'bentuk': 5, 'entitas': 1, 'sini': 2, 'tekan': 1, 'oleh': 4, 'buah': 11, 'tahu': 7, 'dapat': 15, 'langsung': 1, 'meski': 1, 'konotasi': 1, 'sifat': 2, 'cabang': 1, 'ilmu': 1, 'komputer': 4, 'ajar': 7, 'perilaku': 1, 'behavioral': 1, 'adaptasi': 1, 'mesin': 2, 'pertama': 2, 'tahun': 6, '1956': 1, 'populer': 3, 'tinjau': 1, 'segi': 1, 'tingkat': 3, 'daya': 1, 'simpan': 2, 'komputasinya': 1, 'tahap': 2, 'riset': 1, 'awal': 2, 'proyek': 3, '1950': 1, 'an': 4, 'tuju': 2, 'eksplorasi': 1, 'topik': 1, 'selesai': 2, 'metode': 3, 'simbolik': 1, '1960': 1, 'departemen': 1, 'tahan': 1, 'amerika': 1, 'serikat': 1, 'punya': 3, 'ingin': 1, 'latih': 4, 'nalar': 1, 'dasar': 3, '1970': 1, 'darpa': 2, 'defence': 1, 'research': 1, 'project': 1, 'agency': 1, 'hasil': 11, 'studi': 2, 'kasus': 2, 'meta': 1, 'jalan': 1, 'abad': 1, '21': 1, 'tepat': 1, '2003': 1, 'sukses': 1, 'asisten': 7, 'pribadi': 3, 'terus': 1, 'alami': 2, 'masuk': 4, 'program': 1, 'detail': 1, 'algoritma': 5, 'deep': 3, 'learning': 4, 'dalam': 11, 'tugas': 4, 'beri': 8, 'solusi': 1, 'kompleks': 2, 'kondisi': 1, 'variatif': 1, 'sendiri': 5, 'bagi': 6, 'kategori': 5, 'alokasi': 1, 'weak': 3, 'strong': 3, 'sempit': 1, 'arti': 2, 'laku': 7, 'virtual': 6, 'apple': 1, 'siri': 2, 'amazon': 2, 'alexa': 2, 'google': 2, 'assistant': 2, 'dua': 3, 'umum': 2, 'kognitif': 1, 'common': 1, 'rekomendasi': 6, 'ecommerce': 1, 'media': 3, 'sosial': 1, 'lain': 4, 'request': 1, 'cari': 5, 'user': 1, 'akses': 2, 'aplikasi': 4, 'website': 1, 'erti': 2, 'lanjut': 2, 'ilmuwan': 1, '1980': 1, 'neural': 6, 'rupa': 5, 'representasi': 1, 'simbol': 3, 'neuron': 1, 'otak': 1, 'rekonstruksi': 2, 'kemudian': 3, 'kumpul': 3, 'pecah': 1, 'kecil': 1, 'hubung': 4, 'kelompok': 1, 'bottomup': 1, 'bawah': 1, 'saraf': 1, 'harus': 1, 'bisa': 1, 'alam': 1, 'network': 2, 'atur': 3, 'lapis': 4, 'saling': 1, 'lalu': 3, 'simulasi': 1, 'input': 1, 'paling': 2, 'fungsi': 2, 'sensor': 1, 'tidak': 2, 'besar': 3, 'susun': 1, 'hierarki': 1, 'kirim': 2, 'klasifikasi': 1, 'informasi': 6, 'lewat': 1, 'koneksi': 2, 'abstrak': 2, 'ancang': 1, 'butuh': 4, 'eksperimen': 2, 'coba': 1, 'inti': 1, 'uji': 1, 'struktur': 3, 'logis': 2, 'baca': 4, 'developer': 1, 'simpul': 1, 'gabung': 1, 'jumlah': 1, 'olah': 2, 'ulang': 1, 'mungkin': 2, 'ikut': 3, 'pola': 1, 'fitur': 5, 'bidang': 4, 'luas': 1, 'cakup': 1, 'teori': 1, 'model': 2, 'liput': 1, 'jaring': 3, 'cognitive': 1, 'computation': 1, 'computer': 1, 'vision': 1, 'visi': 1, 'pemrosesan': 3, 'bahasa': 2, 'dukung': 1, 'unit': 1, 'grafis': 1, 'api': 1, 'antarmuka': 1, 'bas': 2, 'machine': 1, 'telah': 7, 'komponen': 1, 'penting': 1, 'itu': 4, 'hidup': 1, 'hari': 2, 'sekali': 2, 'platform': 2, 'keras': 2, 'sedia': 4, 'misal': 1, 'catat': 1, 'waktu': 1, 'acara': 1, 'putar': 1, 'musik': 1, 'pesan': 1, 'buka': 1, 'tarik': 1, 'suka': 1, 'konten': 1, 'tonton': 1, 'usaha': 1, 'raksasa': 1, 'facebook': 1, 'deteksi': 1, 'nali': 2, 'wajah': 2, 'postingan': 1, 'foto': 3, 'ini': 4, 'perlu': 1, 'susah': 1, 'payah': 1, 'tanda': 2, 'manual': 1, 'mana': 3, 'asal': 2, 'saran': 1, 'anda': 9, 'temu': 2, 'transaksi': 2, 'jual': 2, 'beli': 2, 'online': 2, 'situs': 2, 'marketplace': 1, 'sadar': 1, 'lihat': 2, 'muncul': 1, 'nah': 1, 'amat': 1, 'mining': 1, 'bisnis': 3, 'manufaktur': 2, 'analis': 1, 'pabrik': 1, 'cepat': 3, 'retail': 2, 'belanja': 1, 'tawar': 1, 'personal': 1, 'selain': 1, 'diskusi': 1, 'opsi': 1, 'konsumen': 1, 'kelola': 3, 'stok': 1, 'tata': 1, 'letak': 1, 'sehat': 2, 'peran': 3, 'obat': 2, 'sinar': 1, 'x': 1, 'dipersonalisasikan': 1, 'ingat': 1, 'selalu': 1, 'minum': 1, 'olahraga': 1, 'rutin': 1, 'perban': 2, 'identifikasi': 1, 'proses': 3, 'tindak': 1, 'tipu': 1, 'mengotomasi': 1, 'nasabah': 1, 'robot': 3, 'khusus': 2, 'robotika': 2, 'jalur': 1, 'rakit': 1, 'produksi': 1, 'mobil': 1, 'nasa': 1, 'pindah': 1, 'objek': 1, 'luar': 1, 'angkasa': 1, 'tiap': 2, 'giat': 1, 'antara': 1, 'otomasi': 2, 'tangan': 1, 'volume': 1, 'tinggi': 1, 'komputerisasi': 1, 'andal': 1, 'lelah': 1, 'akan': 2, 'beda': 1, 'gerak': 1, 'pisah': 1, 'sisi': 1, 'fungsionalitas': 1, 'kredibilitas': 1, 'seperti': 1, 'jadwal': 1, 'penuh': 1, 'sesuai': 1, 'terampil': 1, 'pemrograman': 1, 'analisa': 1, 'sembunyi': 1, 'diinputkan': 1, 'akurat': 2, 'juga': 1, 'tools': 1, 'adalah': 2, 'dengan': 1, 'krusial': 1, 'unggul': 1, 'kompetitif': 1, 'untuk': 2, 'yaitu': 1, 'symbol': 1, 'manipulating': 1, 'kawan': 2, 'jasa': 1, 'custom': 1, 'software': 1, 'profesional': 1, 'di': 1, 'kota': 2, 'malang': 2, 'yang': 2, 'sila': 1, 'tim': 1, 'kami': 1, 'menu': 1, 'kontak': 1, 'jl': 1, 'maninjau': 1, 'raya': 1, 'no': 1, '29': 1, 'sawojajar': 1, 'jawa': 1, 'timur': 1, '65139': 1, 'indonesia': 1, '0822': 1, '4444': 1, '4312': 1, '0341': 1, '302': 1, '1661': 1, 'facebookinstagramtwitterlinkedin': 1, 'copyright': 1, '2021': 1, 'pt': 1, 'informatika': 1}\n"
          ]
        }
      ]
    }
  ]
}