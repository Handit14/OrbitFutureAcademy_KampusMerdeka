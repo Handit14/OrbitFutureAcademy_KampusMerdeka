{
  "nbformat": 4,
  "nbformat_minor": 0,
  "metadata": {
    "colab": {
      "name": "Belajar_Sentimen_Analisis_Python.ipynb",
      "provenance": [],
      "collapsed_sections": []
    },
    "kernelspec": {
      "display_name": "Python 3",
      "language": "python",
      "name": "python3"
    },
    "language_info": {
      "codemirror_mode": {
        "name": "ipython",
        "version": 3
      },
      "file_extension": ".py",
      "mimetype": "text/x-python",
      "name": "python",
      "nbconvert_exporter": "python",
      "pygments_lexer": "ipython3",
      "version": "3.8.8"
    }
  },
  "cells": [
    {
      "cell_type": "markdown",
      "metadata": {
        "id": "3mebfOxIHlgi"
      },
      "source": [
        "# PENTING DAN MOHON PERHATIAN\n",
        "\n",
        "Pada Preprocessing kode ini menggunakan 2 STOPWORDS, yaitu Stopwords bahasa Indonesia dan Stopwords bahasa Inggris. \n",
        "\n",
        "Langkah-langkah mengerjakan:\n",
        "1. Run Preprocessing kode menggunakan stopwords Bahasa Indonesia terlebih dahulu, run sampai selesai\n",
        "\n",
        "2. Run Preprocessing kode menggunakan stopwords Bahasa Inggris, dan run sampai selesai"
      ]
    },
    {
      "cell_type": "markdown",
      "metadata": {
        "id": "u_z6LklZO7S6"
      },
      "source": [
        "# Analisa Sentimen menggunakan Algoritma Logistic Regression"
      ]
    },
    {
      "cell_type": "code",
      "metadata": {
        "id": "wQi9VQmhO7TB"
      },
      "source": [
        "import numpy as np #linier algebra\n",
        "import pandas as pd # data processing, CSV file I/O (e.g pd.read_csv)\n",
        "import seaborn as sns"
      ],
      "execution_count": 1,
      "outputs": []
    },
    {
      "cell_type": "markdown",
      "metadata": {
        "id": "_f9LllB4O7TE"
      },
      "source": [
        "# Proses 1 (Input Data Training)"
      ]
    },
    {
      "cell_type": "code",
      "metadata": {
        "colab": {
          "base_uri": "https://localhost:8080/",
          "height": 204
        },
        "id": "8otNg1t-O7TF",
        "scrolled": false,
        "outputId": "7c53b715-ca74-4030-fb2c-d23cb2d16e4b"
      },
      "source": [
        "#membaca data training = 1050 data\n",
        "# df = pd.read_csv(r'juli2train.csv')\n",
        "df = pd.read_csv('https://raw.githubusercontent.com/Handit14/OrbitFutureAcademy_KampusMerdeka/main/Materi/juli2train.csv')\n",
        "df.head()"
      ],
      "execution_count": 2,
      "outputs": [
        {
          "output_type": "execute_result",
          "data": {
            "text/html": [
              "<div>\n",
              "<style scoped>\n",
              "    .dataframe tbody tr th:only-of-type {\n",
              "        vertical-align: middle;\n",
              "    }\n",
              "\n",
              "    .dataframe tbody tr th {\n",
              "        vertical-align: top;\n",
              "    }\n",
              "\n",
              "    .dataframe thead th {\n",
              "        text-align: right;\n",
              "    }\n",
              "</style>\n",
              "<table border=\"1\" class=\"dataframe\">\n",
              "  <thead>\n",
              "    <tr style=\"text-align: right;\">\n",
              "      <th></th>\n",
              "      <th>label</th>\n",
              "      <th>tweet</th>\n",
              "    </tr>\n",
              "  </thead>\n",
              "  <tbody>\n",
              "    <tr>\n",
              "      <th>0</th>\n",
              "      <td>1</td>\n",
              "      <td>rt @napqilla  no      ambisinya menguasai raky...</td>\n",
              "    </tr>\n",
              "    <tr>\n",
              "      <th>1</th>\n",
              "      <td>1</td>\n",
              "      <td>rt @pandji  nah gue pikir sentimen petahana ok...</td>\n",
              "    </tr>\n",
              "    <tr>\n",
              "      <th>2</th>\n",
              "      <td>1</td>\n",
              "      <td>rt @pandji  urutan pertama best moment #debat ...</td>\n",
              "    </tr>\n",
              "    <tr>\n",
              "      <th>3</th>\n",
              "      <td>1</td>\n",
              "      <td>rt @pandji  ini artikel yg menjelaskan ternyat...</td>\n",
              "    </tr>\n",
              "    <tr>\n",
              "      <th>4</th>\n",
              "      <td>0</td>\n",
              "      <td>rt @mrtampi  agus makin santai  nahok makin sa...</td>\n",
              "    </tr>\n",
              "  </tbody>\n",
              "</table>\n",
              "</div>"
            ],
            "text/plain": [
              "   label                                              tweet\n",
              "0      1  rt @napqilla  no      ambisinya menguasai raky...\n",
              "1      1  rt @pandji  nah gue pikir sentimen petahana ok...\n",
              "2      1  rt @pandji  urutan pertama best moment #debat ...\n",
              "3      1  rt @pandji  ini artikel yg menjelaskan ternyat...\n",
              "4      0  rt @mrtampi  agus makin santai  nahok makin sa..."
            ]
          },
          "metadata": {},
          "execution_count": 2
        }
      ]
    },
    {
      "cell_type": "code",
      "metadata": {
        "colab": {
          "base_uri": "https://localhost:8080/"
        },
        "id": "mApamD3HO7TG",
        "outputId": "12798e82-bdcc-4e52-abc2-73a93b889997"
      },
      "source": [
        "#menampilkan data label\n",
        "y = df['label']\n",
        "y[0:5]\n"
      ],
      "execution_count": 3,
      "outputs": [
        {
          "output_type": "execute_result",
          "data": {
            "text/plain": [
              "0    1\n",
              "1    1\n",
              "2    1\n",
              "3    1\n",
              "4    0\n",
              "Name: label, dtype: int64"
            ]
          },
          "metadata": {},
          "execution_count": 3
        }
      ]
    },
    {
      "cell_type": "code",
      "metadata": {
        "colab": {
          "base_uri": "https://localhost:8080/",
          "height": 296
        },
        "id": "5R9WXDdrO7TH",
        "outputId": "32298753-8998-402c-c1ac-736b8eafc17a"
      },
      "source": [
        "#menampilkan grafik nilai dari variabel \"label\"\n",
        "sns.countplot(x=\"label\", data=df)"
      ],
      "execution_count": 4,
      "outputs": [
        {
          "output_type": "execute_result",
          "data": {
            "text/plain": [
              "<matplotlib.axes._subplots.AxesSubplot at 0x7fc70b902f90>"
            ]
          },
          "metadata": {},
          "execution_count": 4
        },
        {
          "output_type": "display_data",
          "data": {
            "image/png": "[encoded data removed]",
            "text/plain": [
              "<Figure size 432x288 with 1 Axes>"
            ]
          },
          "metadata": {
            "needs_background": "light"
          }
        }
      ]
    },
    {
      "cell_type": "code",
      "metadata": {
        "colab": {
          "base_uri": "https://localhost:8080/"
        },
        "id": "FjO-bYybO7TI",
        "outputId": "8cf34b39-317e-43d0-e0ac-0042ab9a1fb0"
      },
      "source": [
        "#menghitung jumlah data masing-masing label\n",
        "df[\"label\"].value_counts()"
      ],
      "execution_count": 5,
      "outputs": [
        {
          "output_type": "execute_result",
          "data": {
            "text/plain": [
              "0    530\n",
              "1    520\n",
              "Name: label, dtype: int64"
            ]
          },
          "metadata": {},
          "execution_count": 5
        }
      ]
    },
    {
      "cell_type": "markdown",
      "metadata": {
        "id": "dbyY_-PRO7TK"
      },
      "source": [
        "# Proses 2 (preprocessing, case folding, stopword removal, steming )"
      ]
    },
    {
      "cell_type": "markdown",
      "metadata": {
        "id": "zEmkEvPoO7TL"
      },
      "source": [
        "# Preprocessing"
      ]
    },
    {
      "cell_type": "code",
      "metadata": {
        "id": "O2LCCQGOO7TN"
      },
      "source": [
        "import nltk\n",
        "from nltk.corpus import stopwords\n",
        "from nltk.stem import SnowballStemmer\n",
        "import requests\n",
        "import re"
      ],
      "execution_count": 6,
      "outputs": []
    },
    {
      "cell_type": "markdown",
      "metadata": {
        "id": "ACYtWuxAy4nU"
      },
      "source": [
        "# 1. Preprocessing Menggunakan Stemming Sastrawi dan Stopwordlist Indonesia"
      ]
    },
    {
      "cell_type": "code",
      "metadata": {
        "id": "JVbxcvaiO7TO"
      },
      "source": [
        "#simpan kata-kata stopword\n",
        "\n",
        "# f=open('stopwordlist.txt')\n",
        "\n",
        "url = \"https://raw.githubusercontent.com/Handit14/OrbitFutureAcademy_KampusMerdeka/main/Materi/Natural%20Language%20Processing/stopwordlist.txt\"\n",
        "ina_stopword = requests.get(url).content\n",
        "\n",
        "tempStoplist = []\n",
        "for tempstp in ina_stopword.split():\n",
        "  tempStoplist.append(tempstp)"
      ],
      "execution_count": 7,
      "outputs": []
    },
    {
      "cell_type": "code",
      "metadata": {
        "colab": {
          "base_uri": "https://localhost:8080/"
        },
        "id": "HvKz6r5qXHD8",
        "outputId": "8b6d4cd3-0173-46f5-fddd-58dd55a635cf"
      },
      "source": [
        "!pip install sastrawi"
      ],
      "execution_count": 8,
      "outputs": [
        {
          "output_type": "stream",
          "name": "stdout",
          "text": [
            "Collecting sastrawi\n",
            "  Downloading Sastrawi-1.0.1-py2.py3-none-any.whl (209 kB)\n",
            "\u001b[?25l\r\u001b[K     |█▋                              | 10 kB 9.5 MB/s eta 0:00:01\r\u001b[K     |███▏                            | 20 kB 8.0 MB/s eta 0:00:01\r\u001b[K     |████▊                           | 30 kB 6.2 MB/s eta 0:00:01\r\u001b[K     |██████▎                         | 40 kB 3.7 MB/s eta 0:00:01\r\u001b[K     |███████▉                        | 51 kB 4.0 MB/s eta 0:00:01\r\u001b[K     |█████████▍                      | 61 kB 4.2 MB/s eta 0:00:01\r\u001b[K     |███████████                     | 71 kB 4.3 MB/s eta 0:00:01\r\u001b[K     |████████████▌                   | 81 kB 4.8 MB/s eta 0:00:01\r\u001b[K     |██████████████                  | 92 kB 4.9 MB/s eta 0:00:01\r\u001b[K     |███████████████▋                | 102 kB 3.8 MB/s eta 0:00:01\r\u001b[K     |█████████████████▏              | 112 kB 3.8 MB/s eta 0:00:01\r\u001b[K     |██████████████████▊             | 122 kB 3.8 MB/s eta 0:00:01\r\u001b[K     |████████████████████▎           | 133 kB 3.8 MB/s eta 0:00:01\r\u001b[K     |█████████████████████▉          | 143 kB 3.8 MB/s eta 0:00:01\r\u001b[K     |███████████████████████▍        | 153 kB 3.8 MB/s eta 0:00:01\r\u001b[K     |█████████████████████████       | 163 kB 3.8 MB/s eta 0:00:01\r\u001b[K     |██████████████████████████▋     | 174 kB 3.8 MB/s eta 0:00:01\r\u001b[K     |████████████████████████████▏   | 184 kB 3.8 MB/s eta 0:00:01\r\u001b[K     |█████████████████████████████▊  | 194 kB 3.8 MB/s eta 0:00:01\r\u001b[K     |███████████████████████████████▎| 204 kB 3.8 MB/s eta 0:00:01\r\u001b[K     |████████████████████████████████| 209 kB 3.8 MB/s \n",
            "\u001b[?25hInstalling collected packages: sastrawi\n",
            "Successfully installed sastrawi-1.0.1\n"
          ]
        }
      ]
    },
    {
      "cell_type": "code",
      "metadata": {
        "id": "kbybFUVOXMs0"
      },
      "source": [
        "from Sastrawi.Stemmer.StemmerFactory import StemmerFactory\n",
        "factory = StemmerFactory()\n",
        "stemmer = factory.create_stemmer()"
      ],
      "execution_count": 9,
      "outputs": []
    },
    {
      "cell_type": "code",
      "metadata": {
        "id": "4_4jtHfYXPl7"
      },
      "source": [
        "TEXT_CLEANING_RE = \"@#=-_\\S+|https?:\\S+http?:\\S|{^A-Za-z}+\" #regex untuk remove punctuation\n",
        "\n",
        "def preprocessing(tweet):\n",
        "  tweet = re.sub(TEXT_CLEANING_RE,'',str(tweet).lower()).strip() #casefolding dan remove punctuation\n",
        "  tokens = []\n",
        "  for token in tweet.split():\n",
        "    if token not in tempStoplist: #jika token tidak di stopword maka simpan\n",
        "      token = stemmer.stem(token) #lakukan stemming\n",
        "      tokens.append(token) \n",
        "  return \" \".join(tokens)"
      ],
      "execution_count": 10,
      "outputs": []
    },
    {
      "cell_type": "markdown",
      "metadata": {
        "id": "rqq4x_735IZt"
      },
      "source": [
        "# Mengimplementasikan preprocessing Menggunakan Stemming Sastrawi dan Stopwordlist Indonesia"
      ]
    },
    {
      "cell_type": "code",
      "metadata": {
        "colab": {
          "base_uri": "https://localhost:8080/"
        },
        "id": "94pRUab64nIY",
        "outputId": "5bbb68d8-dc76-409d-817b-351b7b9ca032"
      },
      "source": [
        "# Mengimplementasikan preprocessing Menggunakan Stemming Sastrawi dan Stopwordlist Indonesia\n",
        "# -+ 10 Menit\n",
        "%%time\n",
        "\n",
        "df['clean_twt'] = df.tweet.apply(lambda x: preprocessing(x))\n",
        "df['clean_twt'] = df.clean_twt.str.replace('rt', '')\n",
        "df.head()\n",
        "\n",
        "# HABIS INI LANGSUNG RUN KE PROSES 3 YAITU \"Modeling dengan Metode Logistic Regression\""
      ],
      "execution_count": 11,
      "outputs": [
        {
          "output_type": "stream",
          "name": "stdout",
          "text": [
            "CPU times: user 5min 13s, sys: 809 ms, total: 5min 14s\n",
            "Wall time: 5min 14s\n"
          ]
        }
      ]
    },
    {
      "cell_type": "markdown",
      "metadata": {
        "id": "jG70D55k3cO6"
      },
      "source": [
        "# 2. Preprocessing Menggunakan Stemming English dan Stopwordlist English"
      ]
    },
    {
      "cell_type": "code",
      "metadata": {
        "colab": {
          "base_uri": "https://localhost:8080/"
        },
        "id": "mbDYBRAJ32DS",
        "outputId": "a971830a-6e42-4df9-8808-d89bc6e850b6"
      },
      "source": [
        "nltk.download('stopwords')\n",
        "\n",
        "stop_words = stopwords.words(\"english\")\n",
        "stemmer = SnowballStemmer(\"english\")"
      ],
      "execution_count": 12,
      "outputs": [
        {
          "output_type": "stream",
          "name": "stdout",
          "text": [
            "[nltk_data] Downloading package stopwords to /root/nltk_data...\n",
            "[nltk_data]   Unzipping corpora/stopwords.zip.\n"
          ]
        }
      ]
    },
    {
      "cell_type": "code",
      "metadata": {
        "id": "tONl1k0937_t"
      },
      "source": [
        "#preprocessing, case folding, stopword removal, steming\n",
        "\n",
        "TEXT_CLEANING_RE = \"@#=-_\\S+|https?:\\S+http?:\\S|{^A-Za-z}+\"\n",
        "def preprocess(tweet, stem=False): \n",
        "    #Remove link,user and special characters\n",
        "    tweet = re.sub(TEXT_CLEANING_RE,'',str(tweet).lower()).strip()\n",
        "    tokens = []\n",
        "    for token in tweet.split():\n",
        "        if token not in stop_words:\n",
        "            if stem:\n",
        "                tokens.append(stemmer.stem(token))\n",
        "            else:\n",
        "                  tokens.append(token)\n",
        "    return \" \".join(tokens)"
      ],
      "execution_count": 13,
      "outputs": []
    },
    {
      "cell_type": "markdown",
      "metadata": {
        "id": "BwmbHQ485NMU"
      },
      "source": [
        "Mengimplementasikan preprocessing dengan Menggunakan Stemming English dan Stopwordlist English"
      ]
    },
    {
      "cell_type": "code",
      "metadata": {
        "colab": {
          "base_uri": "https://localhost:8080/"
        },
        "id": "7mANTSnpO7TP",
        "outputId": "b5a37a1e-b957-42fb-c6bc-4d5b875a4706"
      },
      "source": [
        "# Mengimplementasikan preprocessing dengan Menggunakan Stemming English dan Stopwordlist English\n",
        "%%time\n",
        "\n",
        "df['clean_twt'] = df.tweet.apply(lambda x: preprocess(x))\n",
        "df['clean_twt'] = df.clean_twt.str.replace('rt', '')\n",
        "df.head()"
      ],
      "execution_count": 14,
      "outputs": [
        {
          "output_type": "stream",
          "name": "stdout",
          "text": [
            "CPU times: user 74.6 ms, sys: 0 ns, total: 74.6 ms\n",
            "Wall time: 77.1 ms\n"
          ]
        }
      ]
    },
    {
      "cell_type": "code",
      "metadata": {
        "colab": {
          "base_uri": "https://localhost:8080/",
          "height": 204
        },
        "id": "zsEa26ZXHxC1",
        "outputId": "f8066384-7370-48a1-dc57-d221479bac04"
      },
      "source": [
        "df.head()"
      ],
      "execution_count": 15,
      "outputs": [
        {
          "output_type": "execute_result",
          "data": {
            "text/html": [
              "<div>\n",
              "<style scoped>\n",
              "    .dataframe tbody tr th:only-of-type {\n",
              "        vertical-align: middle;\n",
              "    }\n",
              "\n",
              "    .dataframe tbody tr th {\n",
              "        vertical-align: top;\n",
              "    }\n",
              "\n",
              "    .dataframe thead th {\n",
              "        text-align: right;\n",
              "    }\n",
              "</style>\n",
              "<table border=\"1\" class=\"dataframe\">\n",
              "  <thead>\n",
              "    <tr style=\"text-align: right;\">\n",
              "      <th></th>\n",
              "      <th>label</th>\n",
              "      <th>tweet</th>\n",
              "      <th>clean_twt</th>\n",
              "    </tr>\n",
              "  </thead>\n",
              "  <tbody>\n",
              "    <tr>\n",
              "      <th>0</th>\n",
              "      <td>1</td>\n",
              "      <td>rt @napqilla  no      ambisinya menguasai raky...</td>\n",
              "      <td>@napqilla ambisinya menguasai rakyat ambisiny...</td>\n",
              "    </tr>\n",
              "    <tr>\n",
              "      <th>1</th>\n",
              "      <td>1</td>\n",
              "      <td>rt @pandji  nah gue pikir sentimen petahana ok...</td>\n",
              "      <td>@pandji nah gue pikir sentimen petahana oke d...</td>\n",
              "    </tr>\n",
              "    <tr>\n",
              "      <th>2</th>\n",
              "      <td>1</td>\n",
              "      <td>rt @pandji  urutan pertama best moment #debat ...</td>\n",
              "      <td>@pandji urutan peama best moment #debat pilka...</td>\n",
              "    </tr>\n",
              "    <tr>\n",
              "      <th>3</th>\n",
              "      <td>1</td>\n",
              "      <td>rt @pandji  ini artikel yg menjelaskan ternyat...</td>\n",
              "      <td>@pandji ini aikel yg menjelaskan ternyata di ...</td>\n",
              "    </tr>\n",
              "    <tr>\n",
              "      <th>4</th>\n",
              "      <td>0</td>\n",
              "      <td>rt @mrtampi  agus makin santai  nahok makin sa...</td>\n",
              "      <td>@mampi agus makin santai nahok makin santun n...</td>\n",
              "    </tr>\n",
              "  </tbody>\n",
              "</table>\n",
              "</div>"
            ],
            "text/plain": [
              "   label  ...                                          clean_twt\n",
              "0      1  ...   @napqilla ambisinya menguasai rakyat ambisiny...\n",
              "1      1  ...   @pandji nah gue pikir sentimen petahana oke d...\n",
              "2      1  ...   @pandji urutan peama best moment #debat pilka...\n",
              "3      1  ...   @pandji ini aikel yg menjelaskan ternyata di ...\n",
              "4      0  ...   @mampi agus makin santai nahok makin santun n...\n",
              "\n",
              "[5 rows x 3 columns]"
            ]
          },
          "metadata": {},
          "execution_count": 15
        }
      ]
    },
    {
      "cell_type": "markdown",
      "metadata": {
        "id": "EqiF5fZE2s7E"
      },
      "source": [
        "Dan, disini dengan menggunakan stopwords bahasa Inggris waktu preprocessing tidak memakan waktu lama."
      ]
    },
    {
      "cell_type": "markdown",
      "metadata": {
        "id": "QYSRT6QQO7TQ"
      },
      "source": [
        "# Proses 3 (Modeling dengan Metode Logistic Regression)"
      ]
    },
    {
      "cell_type": "markdown",
      "metadata": {
        "id": "seC-HU67O7TQ"
      },
      "source": [
        "# Logistic Regression"
      ]
    },
    {
      "cell_type": "code",
      "metadata": {
        "colab": {
          "base_uri": "https://localhost:8080/"
        },
        "id": "OuebVpJnO7TQ",
        "outputId": "6e9521d5-d194-4b37-c36a-d259fc6a969c"
      },
      "source": [
        "#melakukan pemodelan prediksi\n",
        "\n",
        "%%time\n",
        "\n",
        "from sklearn.feature_extraction.text import TfidfVectorizer\n",
        "from sklearn.linear_model import LogisticRegression\n",
        "from sklearn.model_selection import train_test_split\n",
        "from sklearn.metrics import f1_score, log_loss\n",
        "\n",
        "#membangun vector space model/pembobotan dengan tfidf\n",
        "vectorizer = TfidfVectorizer(ngram_range=(1,3), min_df=10)\n",
        "features = vectorizer.fit_transform(df.clean_twt)\n",
        "\n",
        "#melakukan split data training untuk mengetahui akurasi\n",
        "X_train, X_test, y_train, y_test = train_test_split(features, y, test_size=0.2, random_state=4)\n",
        "\n",
        "#modeling sentiment\n",
        "LR_ = LogisticRegression(C=3, solver='liblinear', max_iter=150).fit(X_train, y_train)\n",
        "\n"
      ],
      "execution_count": 16,
      "outputs": [
        {
          "output_type": "stream",
          "name": "stdout",
          "text": [
            "CPU times: user 93.9 ms, sys: 2 ms, total: 95.9 ms\n",
            "Wall time: 108 ms\n"
          ]
        }
      ]
    },
    {
      "cell_type": "code",
      "metadata": {
        "colab": {
          "base_uri": "https://localhost:8080/"
        },
        "id": "68ubY65irhna",
        "outputId": "214b3f69-8680-4168-97c4-a75827eff4c2"
      },
      "source": [
        "features"
      ],
      "execution_count": 17,
      "outputs": [
        {
          "output_type": "execute_result",
          "data": {
            "text/plain": [
              "<1050x818 sparse matrix of type '<class 'numpy.float64'>'\n",
              "\twith 18952 stored elements in Compressed Sparse Row format>"
            ]
          },
          "metadata": {},
          "execution_count": 17
        }
      ]
    },
    {
      "cell_type": "markdown",
      "metadata": {
        "id": "AGLDsjlxO7TR"
      },
      "source": [
        "# Proses 4 (Evaluation)"
      ]
    },
    {
      "cell_type": "markdown",
      "metadata": {
        "id": "oWJJY9feO7TR"
      },
      "source": [
        "# Evaluation"
      ]
    },
    {
      "cell_type": "code",
      "metadata": {
        "colab": {
          "base_uri": "https://localhost:8080/"
        },
        "id": "90yiG_1YO7TS",
        "outputId": "3c0d8f9b-a361-42c8-8953-9ffd63b990e8"
      },
      "source": [
        "#melakukan evaluasi\n",
        "yhat = LR_.predict(X_test)\n",
        "print('F1 score : ', f1_score(y_test, yhat, average='weighted'))\n",
        "\n",
        "yhat_prob = LR_.predict_proba(X_test)\n",
        "print ('Log Loss : ', log_loss(y_test, yhat_prob))"
      ],
      "execution_count": 18,
      "outputs": [
        {
          "output_type": "stream",
          "name": "stdout",
          "text": [
            "F1 score :  0.7667789001122335\n",
            "Log Loss :  0.4930080660414875\n"
          ]
        }
      ]
    },
    {
      "cell_type": "markdown",
      "metadata": {
        "id": "DZkcLp5UO7TS"
      },
      "source": [
        "# Proses 5 (End Process : Prediction of Data Testing)"
      ]
    },
    {
      "cell_type": "markdown",
      "metadata": {
        "id": "SPzIk_d7Eefo"
      },
      "source": [
        "# Testing Prediksi"
      ]
    },
    {
      "cell_type": "markdown",
      "metadata": {
        "id": "_v16ETW1O7TT"
      },
      "source": [
        "# Prediction"
      ]
    },
    {
      "cell_type": "code",
      "metadata": {
        "colab": {
          "base_uri": "https://localhost:8080/",
          "height": 204
        },
        "id": "ajObEu5XO7TT",
        "outputId": "0434eb41-79e0-4316-ecc5-7d02906365cd"
      },
      "source": [
        "#melakukan prediksi untuk data yang tidak diketahui labelnya\n",
        "\n",
        "#lakukan preprocessing untuk data yang tidak diketahui labelnya\n",
        "# df_test = pd.read_csv('juli2test.csv')\n",
        "df_test = pd.read_csv(r'https://raw.githubusercontent.com/Handit14/OrbitFutureAcademy_KampusMerdeka/main/Materi/juli2test.csv')\n",
        "df_test.head()"
      ],
      "execution_count": 19,
      "outputs": [
        {
          "output_type": "execute_result",
          "data": {
            "text/html": [
              "<div>\n",
              "<style scoped>\n",
              "    .dataframe tbody tr th:only-of-type {\n",
              "        vertical-align: middle;\n",
              "    }\n",
              "\n",
              "    .dataframe tbody tr th {\n",
              "        vertical-align: top;\n",
              "    }\n",
              "\n",
              "    .dataframe thead th {\n",
              "        text-align: right;\n",
              "    }\n",
              "</style>\n",
              "<table border=\"1\" class=\"dataframe\">\n",
              "  <thead>\n",
              "    <tr style=\"text-align: right;\">\n",
              "      <th></th>\n",
              "      <th>tweet</th>\n",
              "    </tr>\n",
              "  </thead>\n",
              "  <tbody>\n",
              "    <tr>\n",
              "      <th>0</th>\n",
              "      <td>soal quran  polisi harus cari saksi yang den...</td>\n",
              "    </tr>\n",
              "    <tr>\n",
              "      <th>1</th>\n",
              "      <td>wajar  rachmawati tersinggung megawati bawa ...</td>\n",
              "    </tr>\n",
              "    <tr>\n",
              "      <th>2</th>\n",
              "      <td>rt @l   n  chirpified  mengapa anies b  gaga...</td>\n",
              "    </tr>\n",
              "    <tr>\n",
              "      <th>3</th>\n",
              "      <td>rt @sibonekakayu  kegaduhan yg diciptakan ah...</td>\n",
              "    </tr>\n",
              "    <tr>\n",
              "      <th>4</th>\n",
              "      <td>vivacoid  ini video saat nusron wahid kritik...</td>\n",
              "    </tr>\n",
              "  </tbody>\n",
              "</table>\n",
              "</div>"
            ],
            "text/plain": [
              "                                               tweet\n",
              "0    soal quran  polisi harus cari saksi yang den...\n",
              "1    wajar  rachmawati tersinggung megawati bawa ...\n",
              "2    rt @l   n  chirpified  mengapa anies b  gaga...\n",
              "3    rt @sibonekakayu  kegaduhan yg diciptakan ah...\n",
              "4    vivacoid  ini video saat nusron wahid kritik..."
            ]
          },
          "metadata": {},
          "execution_count": 19
        }
      ]
    },
    {
      "cell_type": "code",
      "metadata": {
        "colab": {
          "base_uri": "https://localhost:8080/"
        },
        "id": "9VKIjhCsO7TU",
        "scrolled": false,
        "outputId": "66c821e1-dae1-4ccc-ba06-282d110207a1"
      },
      "source": [
        "#casefolding, filtering, steming data yang tidak diketahui labelnya\n",
        "\n",
        "# 1. Ganti PROCESSING jika pakai stopword Indonesia\n",
        "# 2. Ganti PROCESS jika pakai stopword English\n",
        "\n",
        "%%time\n",
        "\n",
        "df_test['clean_twt'] = df_test.tweet.apply(lambda x: preprocessing(x))\n",
        "df_test['clean_twt'] = df_test.clean_twt.str.replace('rt','')\n",
        "df_test.head()"
      ],
      "execution_count": 20,
      "outputs": [
        {
          "output_type": "stream",
          "name": "stdout",
          "text": [
            "CPU times: user 293 ms, sys: 996 µs, total: 294 ms\n",
            "Wall time: 298 ms\n"
          ]
        }
      ]
    },
    {
      "cell_type": "code",
      "metadata": {
        "id": "WRxllaKMO7TU"
      },
      "source": [
        "#pembobotan data yang tidak diketahui labelnya\n",
        "#vector_test = TfidfVectorizer(ngram_range=(1,3), min df=10)\n",
        "#feature_test = vector_test.fit_transform(df_test.clean_twt)"
      ],
      "execution_count": 21,
      "outputs": []
    },
    {
      "cell_type": "code",
      "metadata": {
        "id": "J2c5pfvIO7TV"
      },
      "source": [
        "#melakukan training\n",
        "def training_step(data, vectorizer) :\n",
        "    features = vectorizer.fit_transform(df.clean_twt)\n",
        "    LR_ = LogisticRegression(C = 3, solver='liblinear', max_iter=150).fit(features,y)\n",
        "    return LR_\n",
        "\n",
        "#melakukan testing\n",
        "classifier = training_step(df.clean_twt, vectorizer)\n",
        "result = classifier.predict(vectorizer.transform(df_test.clean_twt))\n",
        "\n",
        "#result"
      ],
      "execution_count": 22,
      "outputs": []
    },
    {
      "cell_type": "code",
      "metadata": {
        "id": "31wMJYvMO7TV"
      },
      "source": [
        "#simpan hasil\n",
        "np.savetxt('hasil_prediksi_juli.txt', result, fmt='%i', delimiter='\\n')"
      ],
      "execution_count": 23,
      "outputs": []
    },
    {
      "cell_type": "code",
      "metadata": {
        "colab": {
          "base_uri": "https://localhost:8080/",
          "height": 204
        },
        "id": "d7icCSqcO7TV",
        "outputId": "3301906e-dd63-4cca-ec26-fad1ee60f685"
      },
      "source": [
        "df_hasil = pd.read_csv(r'hasil_prediksi_juli.txt')\n",
        "df_hasil.head()"
      ],
      "execution_count": 24,
      "outputs": [
        {
          "output_type": "execute_result",
          "data": {
            "text/html": [
              "<div>\n",
              "<style scoped>\n",
              "    .dataframe tbody tr th:only-of-type {\n",
              "        vertical-align: middle;\n",
              "    }\n",
              "\n",
              "    .dataframe tbody tr th {\n",
              "        vertical-align: top;\n",
              "    }\n",
              "\n",
              "    .dataframe thead th {\n",
              "        text-align: right;\n",
              "    }\n",
              "</style>\n",
              "<table border=\"1\" class=\"dataframe\">\n",
              "  <thead>\n",
              "    <tr style=\"text-align: right;\">\n",
              "      <th></th>\n",
              "      <th>1</th>\n",
              "    </tr>\n",
              "  </thead>\n",
              "  <tbody>\n",
              "    <tr>\n",
              "      <th>0</th>\n",
              "      <td>1</td>\n",
              "    </tr>\n",
              "    <tr>\n",
              "      <th>1</th>\n",
              "      <td>0</td>\n",
              "    </tr>\n",
              "    <tr>\n",
              "      <th>2</th>\n",
              "      <td>1</td>\n",
              "    </tr>\n",
              "    <tr>\n",
              "      <th>3</th>\n",
              "      <td>0</td>\n",
              "    </tr>\n",
              "    <tr>\n",
              "      <th>4</th>\n",
              "      <td>1</td>\n",
              "    </tr>\n",
              "  </tbody>\n",
              "</table>\n",
              "</div>"
            ],
            "text/plain": [
              "   1\n",
              "0  1\n",
              "1  0\n",
              "2  1\n",
              "3  0\n",
              "4  1"
            ]
          },
          "metadata": {},
          "execution_count": 24
        }
      ]
    },
    {
      "cell_type": "code",
      "metadata": {
        "id": "gCVG7-AprMqZ"
      },
      "source": [
        "def prediksi_komentar(comment):\n",
        "  result = classifier.predict(vectorizer.transform([comment]))\n",
        "  if result == 1:\n",
        "    return \"Positif\"\n",
        "  else:\n",
        "    return \"Negatif\""
      ],
      "execution_count": 25,
      "outputs": []
    },
    {
      "cell_type": "code",
      "metadata": {
        "colab": {
          "base_uri": "https://localhost:8080/",
          "height": 35
        },
        "id": "1vpVvPUIrS42",
        "outputId": "5d49e97a-2fea-4cb8-a35e-5355c3eec345"
      },
      "source": [
        "prediksi_komentar('saya sangat berterima kasih kepada semuanya')"
      ],
      "execution_count": 39,
      "outputs": [
        {
          "output_type": "execute_result",
          "data": {
            "application/vnd.google.colaboratory.intrinsic+json": {
              "type": "string"
            },
            "text/plain": [
              "'Positif'"
            ]
          },
          "metadata": {},
          "execution_count": 39
        }
      ]
    }
  ]
}