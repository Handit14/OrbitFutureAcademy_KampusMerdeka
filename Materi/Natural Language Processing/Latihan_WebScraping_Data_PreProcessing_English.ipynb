{
  "nbformat": 4,
  "nbformat_minor": 0,
  "metadata": {
    "colab": {
      "name": "Latihan_WebScraping_Data_PreProcessing_English",
      "provenance": []
    },
    "kernelspec": {
      "name": "python3",
      "display_name": "Python 3"
    },
    "language_info": {
      "name": "python"
    }
  },
  "cells": [
    {
      "cell_type": "markdown",
      "metadata": {
        "id": "RHFRD1dY1zW3"
      },
      "source": [
        "# Import Library"
      ]
    },
    {
      "cell_type": "code",
      "metadata": {
        "colab": {
          "base_uri": "https://localhost:8080/"
        },
        "id": "DwG263rW0ohV",
        "outputId": "82b1c9a8-a003-4ec9-8c0c-ff63395b719f"
      },
      "source": [
        "import nltk\n",
        "import re\n",
        "import requests \n",
        "from nltk.corpus import stopwords\n",
        "from nltk.stem import PorterStemmer\n",
        "from nltk.stem import WordNetLemmatizer\n",
        "from nltk import word_tokenize\n",
        "from bs4 import BeautifulSoup\n",
        "\n",
        "nltk.download('punkt')\n",
        "nltk.download('stopwords')\n",
        "nltk.download('wordnet')"
      ],
      "execution_count": null,
      "outputs": [
        {
          "output_type": "stream",
          "name": "stdout",
          "text": [
            "[nltk_data] Downloading package punkt to /root/nltk_data...\n",
            "[nltk_data]   Package punkt is already up-to-date!\n",
            "[nltk_data] Downloading package stopwords to /root/nltk_data...\n",
            "[nltk_data]   Package stopwords is already up-to-date!\n",
            "[nltk_data] Downloading package wordnet to /root/nltk_data...\n",
            "[nltk_data]   Package wordnet is already up-to-date!\n"
          ]
        },
        {
          "output_type": "execute_result",
          "data": {
            "text/plain": [
              "True"
            ]
          },
          "metadata": {},
          "execution_count": 5
        }
      ]
    },
    {
      "cell_type": "markdown",
      "metadata": {
        "id": "NHOuWx-C17QS"
      },
      "source": [
        "# English (Web Scraping)"
      ]
    },
    {
      "cell_type": "code",
      "metadata": {
        "colab": {
          "base_uri": "https://localhost:8080/",
          "height": 105
        },
        "id": "gDfiEKM516d7",
        "outputId": "42e04a46-8cb8-40dc-f98c-07259fdefbf5"
      },
      "source": [
        "result = requests.get(\"https://edu.gcfglobal.org/en/internetbasics/what-is-the-internet/1/\")\n",
        "result.text"
      ],
      "execution_count": null,
      "outputs": [
        {
          "output_type": "execute_result",
          "data": {
            "application/vnd.google.colaboratory.intrinsic+json": {
              "type": "string"
            },
            "text/plain": [
              "'<!doctype html>\\n<html lang=\"en\">\\n<head>\\n<meta charset=\"utf-8\">\\n<meta name=\"viewport\" content=\"width=device-width, initial-scale=1.0\">\\n<meta name=\"description\" content=\"Learn the basics of using the Internet in this free lesson.\" />\\n<title>Internet Basics: What is the Internet?</title>\\n<meta property=\"og:title\" content=\"Internet Basics: What is the Internet?\" />\\n<meta property=\"og:description\" content=\"Learn the basics of using the Internet in this free lesson.\" />\\n<meta property=\"og:type\" content=\"gcfglobal.lesson\" />\\n<meta property=\"og:image\" content=\"https://media.gcflearnfree.org/global/layout/social/gcf-website-image.png\" />\\n<meta property=\"og:site_name\" content=\"GCFGlobal.org\" />\\n<meta property=\"fb:admins\" content=\"100002095670400\" />\\n<meta property=\"fb:page_id\" content=\"198172680436\" />\\n<meta name=\"twitter:card\" content=\"summary\" />\\n<meta name=\"twitter:site\" content=\"GCFGlobal.org\" />\\n<meta name=\"twitter:title\" content=\"Internet Basics: What is the Internet?\" />\\n<meta name=\"twitter:description\" content=\"Learn the basics of using the Internet in this free lesson.\" />\\n<meta name=\"twitter:url\" content=\"https://edu.gcfglobal.org/en/internetbasics/what-is-the-internet/1/\" />\\n<link rel=\"preload\" as=\"font\" href=\\'https://fonts.googleapis.com/css?family=Source+Sans+Pro:300,400,600,700|Kalam:400|Montserrat:100,200,300,500|Overpass:100,300,400,600,700,900?display=swap\\' type=\\'text/css\\'>\\n<link rel=\"stylesheet\" href=\\'https://fonts.googleapis.com/css?family=Source+Sans+Pro:300,400,600,700|Kalam:400|Montserrat:100,200,300,500|Overpass:100,300,400,600,700,900?display=swap\\' type=\\'text/css\\'>\\n<link href=\"https://fonts.googleapis.com/icon?family=Material+Icons\" rel=\"stylesheet\">\\n<link rel=\"preload\" as=\"style\" href=\"/styles/deployment-en/lessonpage-en.concat.css\"><link rel=\"stylesheet\" href=\"/styles/deployment-en/lessonpage-en.concat.css\">\\n<script defer src=\"/scripts/deployment-en/lessonpage-en.concat.js\" type=\"text/javascript\"></script>\\n<link href=\"https://edu.gcfglobal.org/en/internetbasics/what-is-the-internet/1/\" rel=\"canonical\" />\\n</head>\\n<body>\\n<div class=\"header-wrapper\">\\n<header>\\n<div id=\"page-header\" class=\"desktop-header\">\\n<div class=\"primary-header\">\\n<div id=\"subjects-search\">\\n<div id=\"subjects-search-box\">\\n<div class=\"topnav-sls-container\">\\n<a aria-label=\"GCFGlobal homepage\" class=\"logo-link\" href=\"/en/\">\\n<img class=\"logo logo-left main-logo-en\" src=\"https://media.gcflearnfree.org/global/gcfglobal-color.png\" alt=\"GCFGlobal Logo\">\\n<img class=\"logo logo-middle logo-en\" src=\"https://media.gcflearnfree.org/assets/logo/logo.png\" alt=\"GCFLearnFree Logo\">\\n</a>\\n<form id=\"smallSearchbar\" action=\"/en/search/\" onSubmit=\"showSearchSpinner()\">\\n<span class=\"form-content-container\">\\n<input class=\"topnav-search-field-small\" pattern=\".{1,}\" required type=\"text\" name=\"q\" placeholder=\"What can we teach you?\" title=\"Search bar\">\\n<button class=\"search-submit-btn-small search-close-btn\" type=\"button\" aria-label=\"close search bar\">\\n<i onClick=\"showSearchBar(\\'close\\')\" class=\"material-icons close-search-x\">close</i>\\n</button>\\n<button class=\"search-submit-btn-small\" type=\"submit\" aria-label=\"search button\">\\n<i onClick=\"showSearchBar(\\'close\\')\" class=\"material-icons\">search</i>\\n</button>\\n<img class=\"search-submit-spinner left-spinner\" src=\"https://media.gcflearnfree.org/assets/edu-gcfglobal-site/images/transparent-loading-spinner.gif\" alt=\"\">\\n</span>\\n</form>\\n</div>\\n</div>\\n<div class=\"topnav-rightbox\">\\n<button onClick=\"showSearchBar(\\'open\\')\" class=\"header-btn header-search-btn\" aria-label=\"open search bar\">\\n<i class=\"material-icons\">search</i>\\n</button>\\n<button id=\"acc-nav-button\" class=\"subjects-select\" onclick=\"toggleSubjectsDropdown()\" aria-haspopup=\"true\" aria-expanded=\"false\" aria-controls=\"acc-nav-menu\">\\n<i class=\"dropdown-hamburger material-icons\" aria-hidden=\"true\">menu</i>\\n<p>Topics</p>\\n</button>\\n<div id=\"acc-nav-menu\" class=\"dropdown-wrapper\" aria-labelledby=\"acc-nav-button\">\\n<button class=\"dropdown-close-x\" onclick=\"toggleSubjectsDropdown()\">\\n<i class=\"material-icons\">close</i>\\n</button>\\n<div class=\"dropdown-inner site-nav subjectMenuOption selectedMenuOption\">\\n<ul class=\"site-nav-contents site-nav\">\\n<li class=\"supercollection\">\\n<a href=\"/en/subjects/i-want-to/\">I want to...</a>\\n<ul class=\"level-1\">\\n<li>\\n<a href=\"/en/computerbasics/\">Get started with computers</a>\\n</li>\\n<li>\\n<a href=\"/en/subjects/office/\">Learn Microsoft Office</a>\\n</li>\\n<li>\\n<a href=\"/en/topics/applying-for-jobs/\">Apply for a job</a>\\n</li>\\n<li>\\n<a href=\"/en/topics/workplaceskills/\">Improve my work skills</a>\\n</li>\\n<li>\\n<a href=\"/en/beginning-graphic-design/\">Design nice-looking docs</a>\\n</li>\\n<li>\\n<a href=\"/en/subjects/i-want-to/\">More...</a>\\n</li>\\n</ul>\\n</li>\\n<li class=\"supercollection\">\\n<a href=\"/en/subjects/microsoft-office/\">Microsoft</a>\\n<ul class=\"level-1\">\\n<li class=\"multiple-links\">\\n<a href=\"/en/topics/office/\">Office 2019</a> |\\n<a href=\"/en/topics/office2016/\">2016</a> |\\n<a href=\"/en/topics/office2013/\">2013</a>\\n</li>\\n<li>\\n<a href=\"/en/topics/word/\">Word</a>\\n</li>\\n<li>\\n<a href=\"/en/topics/excel/\">Excel</a>\\n</li>\\n<li>\\n<a href=\"/en/topics/powerpoint/\">PowerPoint</a>\\n</li>\\n<li>\\n<a href=\"/en/topics/access/\">Access</a>\\n</li>\\n<li>\\n<a href=\"/en/excelformulas/\">Excel Formulas</a>\\n</li>\\n<li>\\n<a href=\"/en/subjects/microsoft-office/\">More...</a>\\n</li>\\n</ul>\\n</li>\\n<li class=\"supercollection\">\\n<a href=\"/en/subjects/basic-skills/\">Basic Skills</a>\\n<ul class=\"level-1\">\\n<li>\\n<a href=\"/en/topics/computers/\">Computers</a>\\n</li>\\n<li>\\n<a href=\"/en/topics/smartphonesandtablets/\">Smartphones & Tablets</a>\\n</li>\\n<li>\\n<a href=\"/en/typing/\">Typing Tutorial</a>\\n</li>\\n<li>\\n<a href=\"/en/windowsbasics/\">Windows</a>\\n</li>\\n<li>\\n<a href=\"/en/subjects/basic-skills/\">More...</a>\\n</li>\\n</ul>\\n</li>\\n<li class=\"supercollection\">\\n<a href=\"/en/subjects/internet-skills/\">Internet Skills</a>\\n<ul class=\"level-1\">\\n<li>\\n<a href=\"/en/topics/internet/\">Internet</a>\\n</li>\\n<li>\\n<a href=\"/en/topics/onlinesafety/\">Online Safety</a>\\n</li>\\n<li>\\n<a href=\"/en/topics/socialmedia/\">Social Media</a>\\n</li>\\n<li>\\n<a href=\"/en/topics/emailbasics/\">Email</a>\\n</li>\\n<li>\\n<a href=\"/en/search-better-2018/\">Search Better</a>\\n</li>\\n<li>\\n<a href=\"/en/subjects/internet-skills/\">More...</a>\\n</li>\\n</ul>\\n</li>\\n<li class=\"supercollection\">\\n<a href=\"/en/topics/googleapps/\">Google</a>\\n<ul class=\"level-1\">\\n<li>\\n<a href=\"/en/gmail/\">Gmail</a>\\n</li>\\n<li>\\n<a href=\"/en/googledocuments/\">Google Docs</a>\\n</li>\\n<li>\\n<a href=\"/en/googlespreadsheets/\">Google Sheets</a>\\n</li>\\n<li>\\n<a href=\"/en/topics/googleapps/\">More...</a>\\n</li>\\n</ul>\\n</li>\\n<li class=\"supercollection\">\\n<a href=\"/en/subjects/work/\">Work &amp; Career</a>\\n<ul class=\"level-1\">\\n<li>\\n<a href=\"/en/topics/careerplanning/\">Career Planning</a>\\n</li>\\n<li>\\n<a href=\"/en/resumewriting/\">Resume Writing</a>\\n</li>\\n<li>\\n<a href=\"/en/coverletters/\">Cover Letters</a>\\n</li>\\n<li>\\n<a href=\"/en/jobsearchandnetworking/\">Job Search and Networking</a>\\n</li>\\n<li>\\n<a href=\"/en/business-communication/\">Business Communication</a>\\n</li>\\n<li>\\n<a href=\"/en/subjects/work/\">More...</a>\\n</li>\\n</ul>\\n</li>\\n<li class=\"supercollection\">\\n<a href=\"/en/topics/present-day-skills/\">Skills for Today</a>\\n<ul class=\"level-1\">\\n<li>\\n<a href=\"/en/adapting-to-change/\">Adapting to Change</a>\\n</li>\\n<li>\\n<a href=\"/en/thenow/what-is-3d-printing/1/\">3D Printing</a>\\n</li>\\n<li>\\n<a href=\"/en/wearables/\">Wearables</a>\\n</li>\\n<li>\\n<a href=\"/en/freelance-work/\">Freelance Work</a>\\n</li>\\n<li>\\n<a href=\"/en/topics/personal-finance/\">Personal Finance</a>\\n</li>\\n<li>\\n<a href=\"/en/sharingeconomy/\">Sharing Economy</a>\\n</li>\\n<li>\\n<a href=\"/en/problem-solving-and-decision-making/\">Decision-Making</a>\\n</li>\\n<li>\\n<a href=\"/en/topics/present-day-skills/\">More...</a>\\n</li>\\n</ul>\\n</li>\\n<li class=\"supercollection\">\\n<a href=\"/en/topics/creativity-and-design/\">Creativity &amp; Design</a>\\n<ul class=\"level-1\">\\n<li>\\n<a href=\"/en/beginning-graphic-design/\">Graphic Design</a>\\n</li>\\n<li>\\n<a href=\"/en/creativity/\">Creativity</a>\\n</li>\\n<li>\\n<a href=\"/en/digitalphotography/\">Photography</a>\\n</li>\\n<li>\\n<a href=\"/en/imageediting101/\">Image Editing</a>\\n</li>\\n<li>\\n<a href=\"/en/photoshopbasics/\">Photoshop</a>\\n</li>\\n<li>\\n<a href=\"/en/topics/creativity-and-design/\">More...</a>\\n</li>\\n</ul>\\n</li>\\n<li class=\"supercollection\">\\n<a href=\"/en/subjects/core-skills/\">Core Skills</a>\\n<ul class=\"level-1\">\\n<li>\\n<a href=\"/en/topics/math/\">Math</a>\\n</li>\\n<li>\\n<a href=\"/en/topics/reading/\">Reading</a>\\n</li>\\n<li>\\n<a href=\"/en/grammar/\">Grammar</a>\\n</li>\\n<li>\\n<a href=\"/en/subjects/language-learning/\">Language Learning</a>\\n</li>\\n<li>\\n<a href=\"/en/subjects/core-skills/\">More...</a>\\n</li>\\n</ul>\\n</li>\\n</ul>\\n<ul class=\"dropdown-contents level-1 bottom-row\">\\n<li><a href=\"/en/gcfteacherguides/\">For Educators</a></li>\\n<li><a href=\"/en/subjects/global/\">Translations</a></li>\\n<li><a href=\"/en/topics/staff-picks/\">Staff Picks</a></li>\\n<li><a href=\"/en/topics/\">All Topics</a></li>\\n</ul>\\n</div>\\n</div>\\n<a onclick=\"window.print()\" class=\"print-button header-btn header-print-link\">\\n<i class=\"material-icons\">print</i>\\n</a>\\n<div class=\"topnav-language\">\\n<div class=\"language-dropdown\">\\n<button onclick=\"toggleLanguageMenu()\" aria-label=\"Change Language\" aria-haspopup=\"true\" aria-expanded=\"false\" aria-controls=\"acc-language-menu\" id=\"acc-language-button\" class=\"language-dropdown-button\">\\nEnglish\\n<i class=\"material-icons more\" aria-hidden=\"true\">expand_more</i>\\n<i class=\"material-icons less\" aria-hidden=\"true\">expand_less</i>\\n</button>\\n<ul id=\"acc-language-menu\" class=\"language-dropdown-menu\" aria-labelledby=\"acc-language-button\">\\n<li>\\n<a onclick=\"event.preventDefault(); toggleLanguageMenu()\" href=\"/en/\">\\nEnglish\\n<i class=\"material-icons more\" aria-hidden=\"true\">expand_more</i>\\n<i class=\"material-icons less\" aria-hidden=\"true\">expand_less</i>\\n</a>\\n</li>\\n<li>\\n<a href=\"/es/\">\\nEspañol\\n</a>\\n</li>\\n<li>\\n<a href=\"/pt/\">\\nPortuguês\\n</a>\\n</li>\\n</ul>\\n</div>\\n</div>\\n<div style=\"display: inline-block; padding-right: 12px;\"><img style=\"width: 34px; margin-bottom: 25px; margin-right: 1em;\" src=\"https://media.gcflearnfree.org/assets/edu-gcfglobal-site/images/goodwill-image.png\" alt=\"Goodwill Logo\"></div>\\n</div>\\n</div>\\n</div>\\n\\n<div class=\"sub-header\">\\n<div id=\"corner-gradient-left\"></div>\\n<div id=\"corner-gradient-right\"></div>\\n<div class=\"headerfooter-content-wrapper\">\\n<div id=\"subheaderContentContainer\">\\n<div class=\"header-nodesc en\">\\n\\n<div class=\"title-content\">\\n<h1><a class=\"current-tutorial-title\" href=\"/en/internetbasics/\">Internet Basics</a>&nbsp;-</h1>\\n<h2><span id=\"current-lesson-title\">What is the Internet?</span></h2>\\n</div>\\n<a class=\"header-tutorial-link\" href=\"/en/internetbasics/\">Back to Tutorial</a>\\n</div>\\n<img id=\"header-img\" class=\"header-image\" src=\"https://media.gcflearnfree.org/assets/edu-gcfglobal-site/images/city-aqua2.svg\" alt=\"\">\\n</div>\\n</div>\\n</div>\\n</div>\\n<div class=\"print-header\">\\n<div class=\"print-header-wrapper\">\\n<header>\\n<div class=\"desktop-header\">\\n<h1>\\n<div class=\"print-first-title\">Internet Basics</div>\\n<div class=\"print-second-title\">What is the Internet?</div>\\n</h1>\\n<img class=\"logo\" src=\"https://media.gcflearnfree.org/assets/edu-gcfglobal-site/images/gcfglobal-logo-dark.svg\" alt=\"GCFLearnFree.org\" />\\n</div>\\n</header>\\n</div>\\n</div>\\n<div class=\"mobile-header\">\\n<div id=\"page-top\">\\n<a data-route=\"home\" class=\"home-link\" href=\"/\">\\n\\n<img class=\"homeicon en\" src=\"https://media.gcflearnfree.org/global/gcfglobal-color.png\" alt=\"GCFGlobal Logo\">\\n</a>\\n<i onclick=\"toggleSearchCollapse()\" class=\"material-icons menu-icon menu-icon-left\">search</i>\\n<i onclick=\"toggleNavCollapse()\" class=\"material-icons menu-icon menu-icon-right\">menu</i>\\n<div style=\"position: absolute; top: 9px; right: 8px;\"><img style=\"width: 23px; margin-top: 2px; margin-right: 4px;\" src=\"https://media.gcflearnfree.org/assets/edu-gcfglobal-site/images/goodwill-image.png\" alt=\"Goodwill Logo\"></div>\\n</div>\\n<div id=\"navcollapse\">\\n<div class=\"navcollapsecontent\">\\n<a href=\"/en/topics/\">All Topics</a>\\n<a href=\"/en/account/signin/\">My Account</a>\\n<a href=\"/en/info/who-we-are/1/\">About Us</a>\\n<a href=\"https://support.gcflearnfree.org/\">FAQ</a>\\n<a href=\"/en/info/contact-us/1/\">Contact Us</a>\\n<div class=\"language-picker\">\\n<a href=\"/en/\">EN</a>\\n<a href=\"/es/\">ES</a>\\n<a href=\"/pt/\">PT</a>\\n</div>\\n</div>\\n</div>\\n<div class=\"search-control\">\\n<div class=\"search-container\">\\n<div class=\"search-inner-container\">\\n<a class=\"mobile-back-to-tutorial\" href=\"/en/internetbasics/\">\\n<span class=\"no-break\"><i class=\"material-icons\">navigate_before</i> Tutorial</span>\\n</a>\\n<form id=\"gcfsearch\" method=\"get\" action=\"/en/search/\" onSubmit=\"showSearchSpinner()\">\\n<button type=\"submit\" aria-label=\"search button\"><i class=\"material-icons\">search</i></button>\\n<div class=\"mobile-search-input-wrapper\">\\n<input id=\"request\" class=\"searchinput\" pattern=\".{1,}\" required type=\"text\" name=\"q\" name=\"q\" size=\"21\" maxlength=\"120\" placeholder=\"What can we teach you?\" autocomplete=\"off\" title=\"Search bar\">\\n</div>\\n</form>\\n</div>\\n</div>\\n</div>\\n</div>\\n</header>\\n</div>\\n<div id=\"background\">\\n<div class=\"mobile-lesson-title\">\\n<h1>Internet Basics: What is the Internet?</h1>\\n</div>\\n<div id=\"page-wrapper\">\\n<div id=\"content-area\">\\n<span style=\"display:none;\" id=\"playlist-id\">55e879102c9aff7420c71225</span>\\n<span style=\"display:none;\" id=\"lesson-id\">57223c28dba9160e5c387ca3</span>\\n<div>\\n<div class=\"text-plus-page content-item\">\\n<div id=\"lessoncontent\">\\n<div id=\"/en/internetbasics/what-is-the-internet/1/\" class=\"lesson-block lesson imgBoxShadow\" data-title=\"What is the Internet?\">\\n<div id=\"first-divider\" class=\"divider-box\">\\n<div class=\"infinite-scroll-divider\"></div>\\n<h4 tabindex=\"0\" aria-label=\"Lesson Divider Lesson 1: What is the Internet?\">Lesson 1: What is the Internet?</h4>\\n</div>\\n<h3>Introduction</h3>\\n<p>The <strong>Internet</strong> is an increasingly important part of everyday life for people around the world. But if you&apos;ve never used the Internet before, all of this new information might feel a bit confusing at first.</p>\\n<p>Throughout this tutorial, we&apos;ll try to answer some basic questions you may have about the Internet and how it&apos;s used. When you&apos;re done, you&apos;ll have a good understanding of <strong>how the Internet works</strong>, how to <strong>connect to the Internet</strong>, and <strong>how to browse the Web</strong>.</p>\\n<h4>What is the Internet?</h4>\\n<p>The Internet is a <strong>global network </strong>of billions of computers and other electronic devices. With the Internet, it&apos;s possible to access almost any information, communicate with anyone else in the world, and do much more.</p>\\n<p>You can do all of this by connecting a computer to the Internet, which is also called <strong>going</strong> <strong>online</strong><strong>. </strong>When someone says a computer is<strong> </strong>online, it&apos;s just another way of saying it&apos;s connected to the Internet.</p>\\n<div><img longdesc=\"\" alt=\"Computers wirelessly connecting to the Internet\" src=\"https://media.gcflearnfree.org/content/559ae882607fbe195c5d135d_07_06_2015/connectingtotheinternet_image.png\"></div>\\n<h4>What is the Web?</h4>\\n<p>The <strong>World Wide Web</strong>&#x2014;usually called the <strong>Web</strong> for short&#x2014;is a collection of different <strong>websites</strong> you can access through the Internet. A <strong>website </strong>is made up of related text, images, and other resources. Websites can resemble other forms of media&#x2014;like newspaper articles or television programs&#x2014;or they can be interactive in a way that&apos;s unique to computers.</p>\\n<p>The purpose of a website can be almost anything: a news platform, an advertisement, an online library, a forum for sharing images, or an educational site like us!</p>\\n<div class=\"centerImage\"><img src=\"https://media.gcflearnfree.org/content/559ae882607fbe195c5d135d_07_06_2015/browsingtheweb_image.png\" alt=\"A learner browsing GCFLearnFree.org\"></div>\\n<p>Once you are connected to the Internet, you can access and view websites using a type of application called a <strong>web browser</strong>. Just keep in mind that the web browser itself is not the Internet; it only displays websites that are stored on the Internet.</p>\\n<h4>How does the Internet work?</h4>\\n<p>At this point you may be wondering, <strong>how does the Internet work? </strong>The exact answer is pretty complicated and would take a while to explain. Instead, let&apos;s look at some of the most important things you should know.</p>\\n<p>It&apos;s important to realize that the Internet is a global network of <strong>physical cables</strong>, which can include copper telephone wires, TV cables, and fiber optic cables. Even wireless connections like Wi-Fi and 3G/4G rely on these physical cables to access the Internet. </p>\\n<p>When you visit a website, your computer sends a request over these wires to a <strong>server</strong>. A server is where websites are stored, and it works a lot like your computer&apos;s hard drive. Once the request arrives, the server retrieves the website and sends the correct data back to your computer. What&apos;s amazing is that this all happens in just a few seconds! <br></p>\\n<p class=\"chevron\">Watch the video below from Tata Communications to learn more about how the Internet functions.<br></p>\\n<div class=\"video-embed\"><iframe style=\"width: 853px; height: 480px;\" src=\"https://www.youtube.com/embed/jKA5hz3dV-g?rel=0&amp;showinfo=0\" allowfullscreen frameborder=\"0\"></iframe></div>\\n<h4>Other things you can do on the Internet</h4>\\n<p>One of the best features of the Internet is the ability to communicate almost instantly with anyone in the world. <a href=\"http://www.gcflearnfree.org/email101\">Email</a> is one of the oldest and most universal ways to communicate and share information on the Internet, and billions of people use it. <a href=\"http://www.gcflearnfree.org/topics/socialmedia\">Social media</a> allows people to connect in a variety of ways and build communities online.</p>\\n<div class=\"centerImage\"><img src=\"https://media.gcflearnfree.org/content/559ae882607fbe195c5d135d_07_06_2015/ending_image.png\" alt=\"People communicating on the Internet.\"></div>\\n<p>There are many other things you can do on the Internet. There are thousands of ways to keep up with news or <a href=\"http://www.gcflearnfree.org/using-the-web-to-get-stuff-done/online-shopping-advice/1\">shop for anything</a> online. You can pay your bills, <a href=\"http://www.gcflearnfree.org/online-money-tips/online-banking-101/1\">manage your bank accounts</a>, meet new people, <a href=\"http://www.gcflearnfree.org/using-the-web-to-get-stuff-done/streaming-video-services/1\">watch TV</a>, or learn new skills. You can learn or do almost anything online.</p>\\n<div class=\"infinite-nav \">\\n\\n<a role=\"button\" tabindex=\"0\" aria-label=\"Next Lesson\" onMouseEnter=\"$(this).find(\\'img\\').attr(\\'src\\', \\'https://media.gcflearnfree.org/assets/edu-gcfglobal-site/images/outline-arrow_downward-hover.svg\\')\" onMouseLeave=\"$(this).find(\\'img\\').attr(\\'src\\', \\'https://media.gcflearnfree.org/assets/edu-gcfglobal-site/images/outline-arrow_downward.svg\\')\" class=\"linkblue-button nextLoadMore\" onclick=\"infiniteScroll.getNextLesson(\\'55e879102c9aff7420c71225\\', \\'57224ba4dba9160e5c387ca8\\')\" onkeydown=\"infiniteScroll.keyNextLesson(event, \\'55e879102c9aff7420c71225\\', \\'57224ba4dba9160e5c387ca8\\')\">\\n\\n<img class=\"continue-arrow\" src=\"https://media.gcflearnfree.org/assets/edu-gcfglobal-site/images/outline-arrow_downward.svg\" alt=\"\" /><span>Continue</span>\\n</a>\\n</div>\\n<div class=\"fullpage-nav\">\\n<div class=\"full-page-divider\"></div>\\n<div class=\"previous\">\\n<div class=\"arrow-box\">\\n<img id=\"prev\" src=\"https://media.gcflearnfree.org/assets/icons/textplus/bottom-nav-left-arrows.png\" alt=\"previous\">\\n</div>\\n<a href=\"/en/internetbasics/\">Return to Playlist: Internet Basics</a>\\n</div>\\n<div class=\"next\">\\n<a href=\"/en/internetbasics/what-can-you-do-online/1/\">\\n<span>Next:</span><span>What Can You Do Online?</span>\\n</a>\\n<div class=\"arrow-box\">\\n<img id=\"next\" src=\"https://media.gcflearnfree.org/assets/icons/textplus/bottom-nav-right-arrows.png\" alt=\"next\">\\n</div>\\n</div>\\n</div>\\n<p class=\"scroll-trigger\">/en/internetbasics/what-can-you-do-online/content/</p>\\n</div>\\n</div> \\n</div>\\n</div>\\n<div class=\"push\"></div>\\n</div>\\n<div id=\"edlActivityModal\" class=\"overlay-content overlay-body modal\"></div>\\n</div>\\n</div>\\n<footer class=\"footer\">\\n<div class=\"desktopfooter\">\\n<div class=\"main-footer\">\\n<div class=\"footer-drag-handle\" onclick=\"toggleFooter()\">\\n<i class=\"up-arrow material-icons\">keyboard_arrow_up</i>\\n<i class=\"down-arrow material-icons\">keyboard_arrow_down</i>\\n</div>\\n\\n<div id=\"footerContent\">\\n<div>\\n<div class=\"footer-links-container\">\\n<div id=\"sectionOne\" class=\"text-links\">\\n<h4 class=\"footerheaders\">About Us</h4>\\n<a href=\"/en/info/who-we-are/1/\">Who We Are</a><br />\\n<a href=\"/en/info/meet-the-staff/1/\">Meet the Staff</a><br />\\n<a href=\"https://careers.gcfglobal.org/\" target=\"_blank\">Work With Us</a><br />\\n<a href=\"/en/info/who-uses-us-our-partners/1/\">Who Uses Us + Our Partners</a><br />\\n</div>\\n<div id=\"sectionTwo\" class=\"text-links\">\\n<h4 class=\"footerheaders\">Educators\\' Resources</h4>\\n<a href=\"/en/gcfteacherguides/\">Teacher Guides</a><br />\\n<a href=\"/en/info/resources-and-tools/1/\">Resources and Tools</a><br />\\n</div>\\n<div id=\"sectionThree\" class=\"text-links\">\\n<h4 class=\"footerheaders\">Help and Support</h4>\\n<a href=\"https://support.gcflearnfree.org\" target=\"_blank\">FAQ</a><br />\\n<a href=\"/en/info/terms-of-use/1/\">Terms of Use</a><br />\\n<a href=\"/en/info/contact-us/1/\">Contact Us</a>\\n<br><a href=\"/en/account/user/\">My Account</a><br />\\n</div>\\n</div>\\n<div class=\"footer-logo-box\">\\n<div id=\"footer_social_media\">\\n<a href=\"https://www.facebook.com/GCFLearnFree.org\" target=\"_blank\">\\n<img id=\"fb_link\" class=\"footer_social_media_link\" src=\"https://media.gcflearnfree.org/assets/edu-gcfglobal-site/images/social/facebook_icon.svg\" alt=\"facebook\" />\\n</a>\\n<a href=\"https://twitter.com/GCFLearnFree\" target=\"_blank\">\\n<img id=\"twitter_link\" class=\"footer_social_media_link\" src=\"https://media.gcflearnfree.org/assets/edu-gcfglobal-site/images/social/twitter_icon.svg\" alt=\"twitter\" />\\n</a>\\n<a href=\"https://www.youtube.com/user/gcflearnfree\" target=\"_blank\">\\n<img id=\"youtube_link\" class=\"footer_social_media_link\" src=\"https://media.gcflearnfree.org/assets/edu-gcfglobal-site/images/social/youtube_icon.svg\" alt=\"youtube\" />\\n</a>\\n<a href=\"https://pinterest.com/gcflearnfree/\" target=\"_blank\">\\n<img id=\"pinterest\" class=\"footer_social_media_link\" src=\"https://media.gcflearnfree.org/assets/edu-gcfglobal-site/images/social/pinterest_icon.svg\" alt=\"pinterest\" />\\n</a>\\n<a href=\"https://www.instagram.com/gcf_learnfree/\" target=\"_blank\">\\n<img class=\"footer_social_media_link\" src=\"https://media.gcflearnfree.org/assets/edu-gcfglobal-site/images/social/instagram_icon.svg\" alt=\"instagram\" />\\n</a>\\n</div>\\n</div>\\n</div>\\n</div>\\n</div>\\n<div class=\"copyright-wrapper\">\\n<p id=\"copyright\">&copy;1998-2021 Goodwill Community Foundation, Inc. All rights reserved.</p>\\n</div>\\n</div>\\n\\n</footer>\\n</body>\\n</html>\\n'"
            ]
          },
          "metadata": {},
          "execution_count": 6
        }
      ]
    },
    {
      "cell_type": "code",
      "metadata": {
        "colab": {
          "base_uri": "https://localhost:8080/",
          "height": 35
        },
        "id": "FFhQ1QoM2U4q",
        "outputId": "663da884-e092-486b-a14f-016c56fa7ee8"
      },
      "source": [
        "# Mengubah Encoding menjadi utf-8 | Jika tidak dikonversi ke utf-8 untuk karakter khusus \n",
        "# seperti \",'/- dll akan menjadi karakter yang sulit dipahami\n",
        "result.encoding = result.apparent_encoding\n",
        "result.encoding"
      ],
      "execution_count": null,
      "outputs": [
        {
          "output_type": "execute_result",
          "data": {
            "application/vnd.google.colaboratory.intrinsic+json": {
              "type": "string"
            },
            "text/plain": [
              "'utf-8'"
            ]
          },
          "metadata": {},
          "execution_count": 7
        }
      ]
    },
    {
      "cell_type": "code",
      "metadata": {
        "id": "bNoD2B7b3ZEW"
      },
      "source": [
        "wp = BeautifulSoup(result.text, \"html.parser\")"
      ],
      "execution_count": null,
      "outputs": []
    },
    {
      "cell_type": "code",
      "metadata": {
        "colab": {
          "base_uri": "https://localhost:8080/"
        },
        "id": "qegkI66h3eiV",
        "outputId": "98ca7a93-982b-4151-c4c1-94547850cf11"
      },
      "source": [
        "# Mengambil bagian html dengan tag p (secara keseluruhan)\n",
        "wp.find_all(\"p\")"
      ],
      "execution_count": null,
      "outputs": [
        {
          "output_type": "execute_result",
          "data": {
            "text/plain": [
              "[<p>Topics</p>,\n",
              " <p>The <strong>Internet</strong> is an increasingly important part of everyday life for people around the world. But if you&amp;aposve never used the Internet before, all of this new information might feel a bit confusing at first.</p>,\n",
              " <p>Throughout this tutorial, we&amp;aposll try to answer some basic questions you may have about the Internet and how it&amp;aposs used. When you&amp;aposre done, you&amp;aposll have a good understanding of <strong>how the Internet works</strong>, how to <strong>connect to the Internet</strong>, and <strong>how to browse the Web</strong>.</p>,\n",
              " <p>The Internet is a <strong>global network </strong>of billions of computers and other electronic devices. With the Internet, it&amp;aposs possible to access almost any information, communicate with anyone else in the world, and do much more.</p>,\n",
              " <p>You can do all of this by connecting a computer to the Internet, which is also called <strong>going</strong> <strong>online</strong><strong>. </strong>When someone says a computer is<strong> </strong>online, it&amp;aposs just another way of saying it&amp;aposs connected to the Internet.</p>,\n",
              " <p>The <strong>World Wide Web</strong>—usually called the <strong>Web</strong> for short—is a collection of different <strong>websites</strong> you can access through the Internet. A <strong>website </strong>is made up of related text, images, and other resources. Websites can resemble other forms of media—like newspaper articles or television programs—or they can be interactive in a way that&amp;aposs unique to computers.</p>,\n",
              " <p>The purpose of a website can be almost anything: a news platform, an advertisement, an online library, a forum for sharing images, or an educational site like us!</p>,\n",
              " <p>Once you are connected to the Internet, you can access and view websites using a type of application called a <strong>web browser</strong>. Just keep in mind that the web browser itself is not the Internet; it only displays websites that are stored on the Internet.</p>,\n",
              " <p>At this point you may be wondering, <strong>how does the Internet work? </strong>The exact answer is pretty complicated and would take a while to explain. Instead, let&amp;aposs look at some of the most important things you should know.</p>,\n",
              " <p>It&amp;aposs important to realize that the Internet is a global network of <strong>physical cables</strong>, which can include copper telephone wires, TV cables, and fiber optic cables. Even wireless connections like Wi-Fi and 3G/4G rely on these physical cables to access the Internet. </p>,\n",
              " <p>When you visit a website, your computer sends a request over these wires to a <strong>server</strong>. A server is where websites are stored, and it works a lot like your computer&amp;aposs hard drive. Once the request arrives, the server retrieves the website and sends the correct data back to your computer. What&amp;aposs amazing is that this all happens in just a few seconds! <br/></p>,\n",
              " <p class=\"chevron\">Watch the video below from Tata Communications to learn more about how the Internet functions.<br/></p>,\n",
              " <p>One of the best features of the Internet is the ability to communicate almost instantly with anyone in the world. <a href=\"http://www.gcflearnfree.org/email101\">Email</a> is one of the oldest and most universal ways to communicate and share information on the Internet, and billions of people use it. <a href=\"http://www.gcflearnfree.org/topics/socialmedia\">Social media</a> allows people to connect in a variety of ways and build communities online.</p>,\n",
              " <p>There are many other things you can do on the Internet. There are thousands of ways to keep up with news or <a href=\"http://www.gcflearnfree.org/using-the-web-to-get-stuff-done/online-shopping-advice/1\">shop for anything</a> online. You can pay your bills, <a href=\"http://www.gcflearnfree.org/online-money-tips/online-banking-101/1\">manage your bank accounts</a>, meet new people, <a href=\"http://www.gcflearnfree.org/using-the-web-to-get-stuff-done/streaming-video-services/1\">watch TV</a>, or learn new skills. You can learn or do almost anything online.</p>,\n",
              " <p class=\"scroll-trigger\">/en/internetbasics/what-can-you-do-online/content/</p>,\n",
              " <p id=\"copyright\">©1998-2021 Goodwill Community Foundation, Inc. All rights reserved.</p>]"
            ]
          },
          "metadata": {},
          "execution_count": 9
        }
      ]
    },
    {
      "cell_type": "code",
      "metadata": {
        "colab": {
          "base_uri": "https://localhost:8080/"
        },
        "id": "Nr0gdfr93h7s",
        "outputId": "1f416647-ac89-4194-f2b5-bcc2afbc18f6"
      },
      "source": [
        "# Mengambil bagian html dengan tag p, tapi hanya value-nya saja.\n",
        "full_text = []\n",
        "for paragraf in wp.find_all('p'):\n",
        "  full_text.append(paragraf.getText())\n",
        "\n",
        "full_text"
      ],
      "execution_count": null,
      "outputs": [
        {
          "output_type": "execute_result",
          "data": {
            "text/plain": [
              "['Topics',\n",
              " 'The Internet is an increasingly important part of everyday life for people around the world. But if you&aposve never used the Internet before, all of this new information might feel a bit confusing at first.',\n",
              " 'Throughout this tutorial, we&aposll try to answer some basic questions you may have about the Internet and how it&aposs used. When you&aposre done, you&aposll have a good understanding of how the Internet works, how to connect to the Internet, and how to browse the Web.',\n",
              " 'The Internet is a global network of billions of computers and other electronic devices. With the Internet, it&aposs possible to access almost any information, communicate with anyone else in the world, and do much more.',\n",
              " 'You can do all of this by connecting a computer to the Internet, which is also called going online. When someone says a computer is online, it&aposs just another way of saying it&aposs connected to the Internet.',\n",
              " 'The World Wide Web—usually called the Web for short—is a collection of different websites you can access through the Internet. A website is made up of related text, images, and other resources. Websites can resemble other forms of media—like newspaper articles or television programs—or they can be interactive in a way that&aposs unique to computers.',\n",
              " 'The purpose of a website can be almost anything: a news platform, an advertisement, an online library, a forum for sharing images, or an educational site like us!',\n",
              " 'Once you are connected to the Internet, you can access and view websites using a type of application called a web browser. Just keep in mind that the web browser itself is not the Internet; it only displays websites that are stored on the Internet.',\n",
              " 'At this point you may be wondering, how does the Internet work? The exact answer is pretty complicated and would take a while to explain. Instead, let&aposs look at some of the most important things you should know.',\n",
              " 'It&aposs important to realize that the Internet is a global network of physical cables, which can include copper telephone wires, TV cables, and fiber optic cables. Even wireless connections like Wi-Fi and 3G/4G rely on these physical cables to access the Internet. ',\n",
              " 'When you visit a website, your computer sends a request over these wires to a server. A server is where websites are stored, and it works a lot like your computer&aposs hard drive. Once the request arrives, the server retrieves the website and sends the correct data back to your computer. What&aposs amazing is that this all happens in just a few seconds! ',\n",
              " 'Watch the video below from Tata Communications to learn more about how the Internet functions.',\n",
              " 'One of the best features of the Internet is the ability to communicate almost instantly with anyone in the world. Email is one of the oldest and most universal ways to communicate and share information on the Internet, and billions of people use it. Social media allows people to connect in a variety of ways and build communities online.',\n",
              " 'There are many other things you can do on the Internet. There are thousands of ways to keep up with news or shop for anything online. You can pay your bills, manage your bank accounts, meet new people, watch TV, or learn new skills. You can learn or do almost anything online.',\n",
              " '/en/internetbasics/what-can-you-do-online/content/',\n",
              " '©1998-2021 Goodwill Community Foundation, Inc. All rights reserved.']"
            ]
          },
          "metadata": {},
          "execution_count": 10
        }
      ]
    },
    {
      "cell_type": "code",
      "metadata": {
        "colab": {
          "base_uri": "https://localhost:8080/"
        },
        "id": "V9sXLzKd3nrM",
        "outputId": "6a0d4433-186e-4bab-d5ad-b9f9b8a6db85"
      },
      "source": [
        "# Menghapus None dari list full_text sekaligus membersihkan elemen list dari whitespace menggunakan fungsi strip()\n",
        "# List Comprehension\n",
        "full_text = [paragraf.strip() for paragraf in full_text if paragraf != \"\"]\n",
        "full_text"
      ],
      "execution_count": null,
      "outputs": [
        {
          "output_type": "execute_result",
          "data": {
            "text/plain": [
              "['Topics',\n",
              " 'The Internet is an increasingly important part of everyday life for people around the world. But if you&aposve never used the Internet before, all of this new information might feel a bit confusing at first.',\n",
              " 'Throughout this tutorial, we&aposll try to answer some basic questions you may have about the Internet and how it&aposs used. When you&aposre done, you&aposll have a good understanding of how the Internet works, how to connect to the Internet, and how to browse the Web.',\n",
              " 'The Internet is a global network of billions of computers and other electronic devices. With the Internet, it&aposs possible to access almost any information, communicate with anyone else in the world, and do much more.',\n",
              " 'You can do all of this by connecting a computer to the Internet, which is also called going online. When someone says a computer is online, it&aposs just another way of saying it&aposs connected to the Internet.',\n",
              " 'The World Wide Web—usually called the Web for short—is a collection of different websites you can access through the Internet. A website is made up of related text, images, and other resources. Websites can resemble other forms of media—like newspaper articles or television programs—or they can be interactive in a way that&aposs unique to computers.',\n",
              " 'The purpose of a website can be almost anything: a news platform, an advertisement, an online library, a forum for sharing images, or an educational site like us!',\n",
              " 'Once you are connected to the Internet, you can access and view websites using a type of application called a web browser. Just keep in mind that the web browser itself is not the Internet; it only displays websites that are stored on the Internet.',\n",
              " 'At this point you may be wondering, how does the Internet work? The exact answer is pretty complicated and would take a while to explain. Instead, let&aposs look at some of the most important things you should know.',\n",
              " 'It&aposs important to realize that the Internet is a global network of physical cables, which can include copper telephone wires, TV cables, and fiber optic cables. Even wireless connections like Wi-Fi and 3G/4G rely on these physical cables to access the Internet.',\n",
              " 'When you visit a website, your computer sends a request over these wires to a server. A server is where websites are stored, and it works a lot like your computer&aposs hard drive. Once the request arrives, the server retrieves the website and sends the correct data back to your computer. What&aposs amazing is that this all happens in just a few seconds!',\n",
              " 'Watch the video below from Tata Communications to learn more about how the Internet functions.',\n",
              " 'One of the best features of the Internet is the ability to communicate almost instantly with anyone in the world. Email is one of the oldest and most universal ways to communicate and share information on the Internet, and billions of people use it. Social media allows people to connect in a variety of ways and build communities online.',\n",
              " 'There are many other things you can do on the Internet. There are thousands of ways to keep up with news or shop for anything online. You can pay your bills, manage your bank accounts, meet new people, watch TV, or learn new skills. You can learn or do almost anything online.',\n",
              " '/en/internetbasics/what-can-you-do-online/content/',\n",
              " '©1998-2021 Goodwill Community Foundation, Inc. All rights reserved.']"
            ]
          },
          "metadata": {},
          "execution_count": 11
        }
      ]
    },
    {
      "cell_type": "code",
      "metadata": {
        "colab": {
          "base_uri": "https://localhost:8080/",
          "height": 105
        },
        "id": "os_vxMhU3vCA",
        "outputId": "0e0bf41e-0bc4-4439-bf18-418679416b0d"
      },
      "source": [
        "full_text = ' '.join(full_text)\n",
        "full_text"
      ],
      "execution_count": null,
      "outputs": [
        {
          "output_type": "execute_result",
          "data": {
            "application/vnd.google.colaboratory.intrinsic+json": {
              "type": "string"
            },
            "text/plain": [
              "'Topics The Internet is an increasingly important part of everyday life for people around the world. But if you&aposve never used the Internet before, all of this new information might feel a bit confusing at first. Throughout this tutorial, we&aposll try to answer some basic questions you may have about the Internet and how it&aposs used. When you&aposre done, you&aposll have a good understanding of how the Internet works, how to connect to the Internet, and how to browse the Web. The Internet is a global network of billions of computers and other electronic devices. With the Internet, it&aposs possible to access almost any information, communicate with anyone else in the world, and do much more. You can do all of this by connecting a computer to the Internet, which is also called going online. When someone says a computer is online, it&aposs just another way of saying it&aposs connected to the Internet. The World Wide Web—usually called the Web for short—is a collection of different websites you can access through the Internet. A website is made up of related text, images, and other resources. Websites can resemble other forms of media—like newspaper articles or television programs—or they can be interactive in a way that&aposs unique to computers. The purpose of a website can be almost anything: a news platform, an advertisement, an online library, a forum for sharing images, or an educational site like us! Once you are connected to the Internet, you can access and view websites using a type of application called a web browser. Just keep in mind that the web browser itself is not the Internet; it only displays websites that are stored on the Internet. At this point you may be wondering, how does the Internet work? The exact answer is pretty complicated and would take a while to explain. Instead, let&aposs look at some of the most important things you should know. It&aposs important to realize that the Internet is a global network of physical cables, which can include copper telephone wires, TV cables, and fiber optic cables. Even wireless connections like Wi-Fi and 3G/4G rely on these physical cables to access the Internet. When you visit a website, your computer sends a request over these wires to a server. A server is where websites are stored, and it works a lot like your computer&aposs hard drive. Once the request arrives, the server retrieves the website and sends the correct data back to your computer. What&aposs amazing is that this all happens in just a few seconds! Watch the video below from Tata Communications to learn more about how the Internet functions. One of the best features of the Internet is the ability to communicate almost instantly with anyone in the world. Email is one of the oldest and most universal ways to communicate and share information on the Internet, and billions of people use it. Social media allows people to connect in a variety of ways and build communities online. There are many other things you can do on the Internet. There are thousands of ways to keep up with news or shop for anything online. You can pay your bills, manage your bank accounts, meet new people, watch TV, or learn new skills. You can learn or do almost anything online. /en/internetbasics/what-can-you-do-online/content/ ©1998-2021 Goodwill Community Foundation, Inc. All rights reserved.'"
            ]
          },
          "metadata": {},
          "execution_count": 12
        }
      ]
    },
    {
      "cell_type": "code",
      "metadata": {
        "colab": {
          "base_uri": "https://localhost:8080/",
          "height": 105
        },
        "id": "bjPmvhC030jG",
        "outputId": "fba1ec6d-cad2-4e4a-b11d-2315f8da5b0b"
      },
      "source": [
        "# membuat text menjadi lowercase\n",
        "text = full_text.lower()\n",
        "text"
      ],
      "execution_count": null,
      "outputs": [
        {
          "output_type": "execute_result",
          "data": {
            "application/vnd.google.colaboratory.intrinsic+json": {
              "type": "string"
            },
            "text/plain": [
              "'topics the internet is an increasingly important part of everyday life for people around the world. but if you&aposve never used the internet before, all of this new information might feel a bit confusing at first. throughout this tutorial, we&aposll try to answer some basic questions you may have about the internet and how it&aposs used. when you&aposre done, you&aposll have a good understanding of how the internet works, how to connect to the internet, and how to browse the web. the internet is a global network of billions of computers and other electronic devices. with the internet, it&aposs possible to access almost any information, communicate with anyone else in the world, and do much more. you can do all of this by connecting a computer to the internet, which is also called going online. when someone says a computer is online, it&aposs just another way of saying it&aposs connected to the internet. the world wide web—usually called the web for short—is a collection of different websites you can access through the internet. a website is made up of related text, images, and other resources. websites can resemble other forms of media—like newspaper articles or television programs—or they can be interactive in a way that&aposs unique to computers. the purpose of a website can be almost anything: a news platform, an advertisement, an online library, a forum for sharing images, or an educational site like us! once you are connected to the internet, you can access and view websites using a type of application called a web browser. just keep in mind that the web browser itself is not the internet; it only displays websites that are stored on the internet. at this point you may be wondering, how does the internet work? the exact answer is pretty complicated and would take a while to explain. instead, let&aposs look at some of the most important things you should know. it&aposs important to realize that the internet is a global network of physical cables, which can include copper telephone wires, tv cables, and fiber optic cables. even wireless connections like wi-fi and 3g/4g rely on these physical cables to access the internet. when you visit a website, your computer sends a request over these wires to a server. a server is where websites are stored, and it works a lot like your computer&aposs hard drive. once the request arrives, the server retrieves the website and sends the correct data back to your computer. what&aposs amazing is that this all happens in just a few seconds! watch the video below from tata communications to learn more about how the internet functions. one of the best features of the internet is the ability to communicate almost instantly with anyone in the world. email is one of the oldest and most universal ways to communicate and share information on the internet, and billions of people use it. social media allows people to connect in a variety of ways and build communities online. there are many other things you can do on the internet. there are thousands of ways to keep up with news or shop for anything online. you can pay your bills, manage your bank accounts, meet new people, watch tv, or learn new skills. you can learn or do almost anything online. /en/internetbasics/what-can-you-do-online/content/ ©1998-2021 goodwill community foundation, inc. all rights reserved.'"
            ]
          },
          "metadata": {},
          "execution_count": 13
        }
      ]
    },
    {
      "cell_type": "code",
      "metadata": {
        "colab": {
          "base_uri": "https://localhost:8080/",
          "height": 105
        },
        "id": "_Fy7qk0L636j",
        "outputId": "2bcc3ba1-a05e-4962-f672-664acffb9bbb"
      },
      "source": [
        "# menghilangkan karakter khusus pada teks\n",
        "text = re.sub(r\"[-()\\\"#/@;:<>{}`+=~|.!?,]\", \"\", text)\n",
        "text"
      ],
      "execution_count": null,
      "outputs": [
        {
          "output_type": "execute_result",
          "data": {
            "application/vnd.google.colaboratory.intrinsic+json": {
              "type": "string"
            },
            "text/plain": [
              "'topics the internet is an increasingly important part of everyday life for people around the world but if you&aposve never used the internet before all of this new information might feel a bit confusing at first throughout this tutorial we&aposll try to answer some basic questions you may have about the internet and how it&aposs used when you&aposre done you&aposll have a good understanding of how the internet works how to connect to the internet and how to browse the web the internet is a global network of billions of computers and other electronic devices with the internet it&aposs possible to access almost any information communicate with anyone else in the world and do much more you can do all of this by connecting a computer to the internet which is also called going online when someone says a computer is online it&aposs just another way of saying it&aposs connected to the internet the world wide web—usually called the web for short—is a collection of different websites you can access through the internet a website is made up of related text images and other resources websites can resemble other forms of media—like newspaper articles or television programs—or they can be interactive in a way that&aposs unique to computers the purpose of a website can be almost anything a news platform an advertisement an online library a forum for sharing images or an educational site like us once you are connected to the internet you can access and view websites using a type of application called a web browser just keep in mind that the web browser itself is not the internet it only displays websites that are stored on the internet at this point you may be wondering how does the internet work the exact answer is pretty complicated and would take a while to explain instead let&aposs look at some of the most important things you should know it&aposs important to realize that the internet is a global network of physical cables which can include copper telephone wires tv cables and fiber optic cables even wireless connections like wifi and 3g4g rely on these physical cables to access the internet when you visit a website your computer sends a request over these wires to a server a server is where websites are stored and it works a lot like your computer&aposs hard drive once the request arrives the server retrieves the website and sends the correct data back to your computer what&aposs amazing is that this all happens in just a few seconds watch the video below from tata communications to learn more about how the internet functions one of the best features of the internet is the ability to communicate almost instantly with anyone in the world email is one of the oldest and most universal ways to communicate and share information on the internet and billions of people use it social media allows people to connect in a variety of ways and build communities online there are many other things you can do on the internet there are thousands of ways to keep up with news or shop for anything online you can pay your bills manage your bank accounts meet new people watch tv or learn new skills you can learn or do almost anything online eninternetbasicswhatcanyoudoonlinecontent ©19982021 goodwill community foundation inc all rights reserved'"
            ]
          },
          "metadata": {},
          "execution_count": 14
        }
      ]
    },
    {
      "cell_type": "markdown",
      "metadata": {
        "id": "fJ79kkF-7Eyr"
      },
      "source": [
        "# Tokenization"
      ]
    },
    {
      "cell_type": "code",
      "metadata": {
        "colab": {
          "base_uri": "https://localhost:8080/"
        },
        "id": "AlXcx6QH7CDM",
        "outputId": "29ccb305-9e07-419a-ce66-7c66f9343835"
      },
      "source": [
        "# mengubah teks menjadi token (Tokenization)\n",
        "tokens = word_tokenize(text)\n",
        "print(tokens)"
      ],
      "execution_count": null,
      "outputs": [
        {
          "output_type": "stream",
          "name": "stdout",
          "text": [
            "['topics', 'the', 'internet', 'is', 'an', 'increasingly', 'important', 'part', 'of', 'everyday', 'life', 'for', 'people', 'around', 'the', 'world', 'but', 'if', 'you', '&', 'aposve', 'never', 'used', 'the', 'internet', 'before', 'all', 'of', 'this', 'new', 'information', 'might', 'feel', 'a', 'bit', 'confusing', 'at', 'first', 'throughout', 'this', 'tutorial', 'we', '&', 'aposll', 'try', 'to', 'answer', 'some', 'basic', 'questions', 'you', 'may', 'have', 'about', 'the', 'internet', 'and', 'how', 'it', '&', 'aposs', 'used', 'when', 'you', '&', 'aposre', 'done', 'you', '&', 'aposll', 'have', 'a', 'good', 'understanding', 'of', 'how', 'the', 'internet', 'works', 'how', 'to', 'connect', 'to', 'the', 'internet', 'and', 'how', 'to', 'browse', 'the', 'web', 'the', 'internet', 'is', 'a', 'global', 'network', 'of', 'billions', 'of', 'computers', 'and', 'other', 'electronic', 'devices', 'with', 'the', 'internet', 'it', '&', 'aposs', 'possible', 'to', 'access', 'almost', 'any', 'information', 'communicate', 'with', 'anyone', 'else', 'in', 'the', 'world', 'and', 'do', 'much', 'more', 'you', 'can', 'do', 'all', 'of', 'this', 'by', 'connecting', 'a', 'computer', 'to', 'the', 'internet', 'which', 'is', 'also', 'called', 'going', 'online', 'when', 'someone', 'says', 'a', 'computer', 'is', 'online', 'it', '&', 'aposs', 'just', 'another', 'way', 'of', 'saying', 'it', '&', 'aposs', 'connected', 'to', 'the', 'internet', 'the', 'world', 'wide', 'web—usually', 'called', 'the', 'web', 'for', 'short—is', 'a', 'collection', 'of', 'different', 'websites', 'you', 'can', 'access', 'through', 'the', 'internet', 'a', 'website', 'is', 'made', 'up', 'of', 'related', 'text', 'images', 'and', 'other', 'resources', 'websites', 'can', 'resemble', 'other', 'forms', 'of', 'media—like', 'newspaper', 'articles', 'or', 'television', 'programs—or', 'they', 'can', 'be', 'interactive', 'in', 'a', 'way', 'that', '&', 'aposs', 'unique', 'to', 'computers', 'the', 'purpose', 'of', 'a', 'website', 'can', 'be', 'almost', 'anything', 'a', 'news', 'platform', 'an', 'advertisement', 'an', 'online', 'library', 'a', 'forum', 'for', 'sharing', 'images', 'or', 'an', 'educational', 'site', 'like', 'us', 'once', 'you', 'are', 'connected', 'to', 'the', 'internet', 'you', 'can', 'access', 'and', 'view', 'websites', 'using', 'a', 'type', 'of', 'application', 'called', 'a', 'web', 'browser', 'just', 'keep', 'in', 'mind', 'that', 'the', 'web', 'browser', 'itself', 'is', 'not', 'the', 'internet', 'it', 'only', 'displays', 'websites', 'that', 'are', 'stored', 'on', 'the', 'internet', 'at', 'this', 'point', 'you', 'may', 'be', 'wondering', 'how', 'does', 'the', 'internet', 'work', 'the', 'exact', 'answer', 'is', 'pretty', 'complicated', 'and', 'would', 'take', 'a', 'while', 'to', 'explain', 'instead', 'let', '&', 'aposs', 'look', 'at', 'some', 'of', 'the', 'most', 'important', 'things', 'you', 'should', 'know', 'it', '&', 'aposs', 'important', 'to', 'realize', 'that', 'the', 'internet', 'is', 'a', 'global', 'network', 'of', 'physical', 'cables', 'which', 'can', 'include', 'copper', 'telephone', 'wires', 'tv', 'cables', 'and', 'fiber', 'optic', 'cables', 'even', 'wireless', 'connections', 'like', 'wifi', 'and', '3g4g', 'rely', 'on', 'these', 'physical', 'cables', 'to', 'access', 'the', 'internet', 'when', 'you', 'visit', 'a', 'website', 'your', 'computer', 'sends', 'a', 'request', 'over', 'these', 'wires', 'to', 'a', 'server', 'a', 'server', 'is', 'where', 'websites', 'are', 'stored', 'and', 'it', 'works', 'a', 'lot', 'like', 'your', 'computer', '&', 'aposs', 'hard', 'drive', 'once', 'the', 'request', 'arrives', 'the', 'server', 'retrieves', 'the', 'website', 'and', 'sends', 'the', 'correct', 'data', 'back', 'to', 'your', 'computer', 'what', '&', 'aposs', 'amazing', 'is', 'that', 'this', 'all', 'happens', 'in', 'just', 'a', 'few', 'seconds', 'watch', 'the', 'video', 'below', 'from', 'tata', 'communications', 'to', 'learn', 'more', 'about', 'how', 'the', 'internet', 'functions', 'one', 'of', 'the', 'best', 'features', 'of', 'the', 'internet', 'is', 'the', 'ability', 'to', 'communicate', 'almost', 'instantly', 'with', 'anyone', 'in', 'the', 'world', 'email', 'is', 'one', 'of', 'the', 'oldest', 'and', 'most', 'universal', 'ways', 'to', 'communicate', 'and', 'share', 'information', 'on', 'the', 'internet', 'and', 'billions', 'of', 'people', 'use', 'it', 'social', 'media', 'allows', 'people', 'to', 'connect', 'in', 'a', 'variety', 'of', 'ways', 'and', 'build', 'communities', 'online', 'there', 'are', 'many', 'other', 'things', 'you', 'can', 'do', 'on', 'the', 'internet', 'there', 'are', 'thousands', 'of', 'ways', 'to', 'keep', 'up', 'with', 'news', 'or', 'shop', 'for', 'anything', 'online', 'you', 'can', 'pay', 'your', 'bills', 'manage', 'your', 'bank', 'accounts', 'meet', 'new', 'people', 'watch', 'tv', 'or', 'learn', 'new', 'skills', 'you', 'can', 'learn', 'or', 'do', 'almost', 'anything', 'online', 'eninternetbasicswhatcanyoudoonlinecontent', '©19982021', 'goodwill', 'community', 'foundation', 'inc', 'all', 'rights', 'reserved']\n"
          ]
        }
      ]
    },
    {
      "cell_type": "markdown",
      "metadata": {
        "id": "g-wxEt_P7zBR"
      },
      "source": [
        "# Bag of Words"
      ]
    },
    {
      "cell_type": "code",
      "metadata": {
        "colab": {
          "base_uri": "https://localhost:8080/"
        },
        "id": "bXWpHqtk70RU",
        "outputId": "0baa24b6-41da-4ccf-eb16-ec4a0532efaa"
      },
      "source": [
        "for kata in tokens:\n",
        "  print(kata)"
      ],
      "execution_count": null,
      "outputs": [
        {
          "output_type": "stream",
          "name": "stdout",
          "text": [
            "topics\n",
            "the\n",
            "internet\n",
            "is\n",
            "an\n",
            "increasingly\n",
            "important\n",
            "part\n",
            "of\n",
            "everyday\n",
            "life\n",
            "for\n",
            "people\n",
            "around\n",
            "the\n",
            "world\n",
            "but\n",
            "if\n",
            "you\n",
            "&\n",
            "aposve\n",
            "never\n",
            "used\n",
            "the\n",
            "internet\n",
            "before\n",
            "all\n",
            "of\n",
            "this\n",
            "new\n",
            "information\n",
            "might\n",
            "feel\n",
            "a\n",
            "bit\n",
            "confusing\n",
            "at\n",
            "first\n",
            "throughout\n",
            "this\n",
            "tutorial\n",
            "we\n",
            "&\n",
            "aposll\n",
            "try\n",
            "to\n",
            "answer\n",
            "some\n",
            "basic\n",
            "questions\n",
            "you\n",
            "may\n",
            "have\n",
            "about\n",
            "the\n",
            "internet\n",
            "and\n",
            "how\n",
            "it\n",
            "&\n",
            "aposs\n",
            "used\n",
            "when\n",
            "you\n",
            "&\n",
            "aposre\n",
            "done\n",
            "you\n",
            "&\n",
            "aposll\n",
            "have\n",
            "a\n",
            "good\n",
            "understanding\n",
            "of\n",
            "how\n",
            "the\n",
            "internet\n",
            "works\n",
            "how\n",
            "to\n",
            "connect\n",
            "to\n",
            "the\n",
            "internet\n",
            "and\n",
            "how\n",
            "to\n",
            "browse\n",
            "the\n",
            "web\n",
            "the\n",
            "internet\n",
            "is\n",
            "a\n",
            "global\n",
            "network\n",
            "of\n",
            "billions\n",
            "of\n",
            "computers\n",
            "and\n",
            "other\n",
            "electronic\n",
            "devices\n",
            "with\n",
            "the\n",
            "internet\n",
            "it\n",
            "&\n",
            "aposs\n",
            "possible\n",
            "to\n",
            "access\n",
            "almost\n",
            "any\n",
            "information\n",
            "communicate\n",
            "with\n",
            "anyone\n",
            "else\n",
            "in\n",
            "the\n",
            "world\n",
            "and\n",
            "do\n",
            "much\n",
            "more\n",
            "you\n",
            "can\n",
            "do\n",
            "all\n",
            "of\n",
            "this\n",
            "by\n",
            "connecting\n",
            "a\n",
            "computer\n",
            "to\n",
            "the\n",
            "internet\n",
            "which\n",
            "is\n",
            "also\n",
            "called\n",
            "going\n",
            "online\n",
            "when\n",
            "someone\n",
            "says\n",
            "a\n",
            "computer\n",
            "is\n",
            "online\n",
            "it\n",
            "&\n",
            "aposs\n",
            "just\n",
            "another\n",
            "way\n",
            "of\n",
            "saying\n",
            "it\n",
            "&\n",
            "aposs\n",
            "connected\n",
            "to\n",
            "the\n",
            "internet\n",
            "the\n",
            "world\n",
            "wide\n",
            "web—usually\n",
            "called\n",
            "the\n",
            "web\n",
            "for\n",
            "short—is\n",
            "a\n",
            "collection\n",
            "of\n",
            "different\n",
            "websites\n",
            "you\n",
            "can\n",
            "access\n",
            "through\n",
            "the\n",
            "internet\n",
            "a\n",
            "website\n",
            "is\n",
            "made\n",
            "up\n",
            "of\n",
            "related\n",
            "text\n",
            "images\n",
            "and\n",
            "other\n",
            "resources\n",
            "websites\n",
            "can\n",
            "resemble\n",
            "other\n",
            "forms\n",
            "of\n",
            "media—like\n",
            "newspaper\n",
            "articles\n",
            "or\n",
            "television\n",
            "programs—or\n",
            "they\n",
            "can\n",
            "be\n",
            "interactive\n",
            "in\n",
            "a\n",
            "way\n",
            "that\n",
            "&\n",
            "aposs\n",
            "unique\n",
            "to\n",
            "computers\n",
            "the\n",
            "purpose\n",
            "of\n",
            "a\n",
            "website\n",
            "can\n",
            "be\n",
            "almost\n",
            "anything\n",
            "a\n",
            "news\n",
            "platform\n",
            "an\n",
            "advertisement\n",
            "an\n",
            "online\n",
            "library\n",
            "a\n",
            "forum\n",
            "for\n",
            "sharing\n",
            "images\n",
            "or\n",
            "an\n",
            "educational\n",
            "site\n",
            "like\n",
            "us\n",
            "once\n",
            "you\n",
            "are\n",
            "connected\n",
            "to\n",
            "the\n",
            "internet\n",
            "you\n",
            "can\n",
            "access\n",
            "and\n",
            "view\n",
            "websites\n",
            "using\n",
            "a\n",
            "type\n",
            "of\n",
            "application\n",
            "called\n",
            "a\n",
            "web\n",
            "browser\n",
            "just\n",
            "keep\n",
            "in\n",
            "mind\n",
            "that\n",
            "the\n",
            "web\n",
            "browser\n",
            "itself\n",
            "is\n",
            "not\n",
            "the\n",
            "internet\n",
            "it\n",
            "only\n",
            "displays\n",
            "websites\n",
            "that\n",
            "are\n",
            "stored\n",
            "on\n",
            "the\n",
            "internet\n",
            "at\n",
            "this\n",
            "point\n",
            "you\n",
            "may\n",
            "be\n",
            "wondering\n",
            "how\n",
            "does\n",
            "the\n",
            "internet\n",
            "work\n",
            "the\n",
            "exact\n",
            "answer\n",
            "is\n",
            "pretty\n",
            "complicated\n",
            "and\n",
            "would\n",
            "take\n",
            "a\n",
            "while\n",
            "to\n",
            "explain\n",
            "instead\n",
            "let\n",
            "&\n",
            "aposs\n",
            "look\n",
            "at\n",
            "some\n",
            "of\n",
            "the\n",
            "most\n",
            "important\n",
            "things\n",
            "you\n",
            "should\n",
            "know\n",
            "it\n",
            "&\n",
            "aposs\n",
            "important\n",
            "to\n",
            "realize\n",
            "that\n",
            "the\n",
            "internet\n",
            "is\n",
            "a\n",
            "global\n",
            "network\n",
            "of\n",
            "physical\n",
            "cables\n",
            "which\n",
            "can\n",
            "include\n",
            "copper\n",
            "telephone\n",
            "wires\n",
            "tv\n",
            "cables\n",
            "and\n",
            "fiber\n",
            "optic\n",
            "cables\n",
            "even\n",
            "wireless\n",
            "connections\n",
            "like\n",
            "wifi\n",
            "and\n",
            "3g4g\n",
            "rely\n",
            "on\n",
            "these\n",
            "physical\n",
            "cables\n",
            "to\n",
            "access\n",
            "the\n",
            "internet\n",
            "when\n",
            "you\n",
            "visit\n",
            "a\n",
            "website\n",
            "your\n",
            "computer\n",
            "sends\n",
            "a\n",
            "request\n",
            "over\n",
            "these\n",
            "wires\n",
            "to\n",
            "a\n",
            "server\n",
            "a\n",
            "server\n",
            "is\n",
            "where\n",
            "websites\n",
            "are\n",
            "stored\n",
            "and\n",
            "it\n",
            "works\n",
            "a\n",
            "lot\n",
            "like\n",
            "your\n",
            "computer\n",
            "&\n",
            "aposs\n",
            "hard\n",
            "drive\n",
            "once\n",
            "the\n",
            "request\n",
            "arrives\n",
            "the\n",
            "server\n",
            "retrieves\n",
            "the\n",
            "website\n",
            "and\n",
            "sends\n",
            "the\n",
            "correct\n",
            "data\n",
            "back\n",
            "to\n",
            "your\n",
            "computer\n",
            "what\n",
            "&\n",
            "aposs\n",
            "amazing\n",
            "is\n",
            "that\n",
            "this\n",
            "all\n",
            "happens\n",
            "in\n",
            "just\n",
            "a\n",
            "few\n",
            "seconds\n",
            "watch\n",
            "the\n",
            "video\n",
            "below\n",
            "from\n",
            "tata\n",
            "communications\n",
            "to\n",
            "learn\n",
            "more\n",
            "about\n",
            "how\n",
            "the\n",
            "internet\n",
            "functions\n",
            "one\n",
            "of\n",
            "the\n",
            "best\n",
            "features\n",
            "of\n",
            "the\n",
            "internet\n",
            "is\n",
            "the\n",
            "ability\n",
            "to\n",
            "communicate\n",
            "almost\n",
            "instantly\n",
            "with\n",
            "anyone\n",
            "in\n",
            "the\n",
            "world\n",
            "email\n",
            "is\n",
            "one\n",
            "of\n",
            "the\n",
            "oldest\n",
            "and\n",
            "most\n",
            "universal\n",
            "ways\n",
            "to\n",
            "communicate\n",
            "and\n",
            "share\n",
            "information\n",
            "on\n",
            "the\n",
            "internet\n",
            "and\n",
            "billions\n",
            "of\n",
            "people\n",
            "use\n",
            "it\n",
            "social\n",
            "media\n",
            "allows\n",
            "people\n",
            "to\n",
            "connect\n",
            "in\n",
            "a\n",
            "variety\n",
            "of\n",
            "ways\n",
            "and\n",
            "build\n",
            "communities\n",
            "online\n",
            "there\n",
            "are\n",
            "many\n",
            "other\n",
            "things\n",
            "you\n",
            "can\n",
            "do\n",
            "on\n",
            "the\n",
            "internet\n",
            "there\n",
            "are\n",
            "thousands\n",
            "of\n",
            "ways\n",
            "to\n",
            "keep\n",
            "up\n",
            "with\n",
            "news\n",
            "or\n",
            "shop\n",
            "for\n",
            "anything\n",
            "online\n",
            "you\n",
            "can\n",
            "pay\n",
            "your\n",
            "bills\n",
            "manage\n",
            "your\n",
            "bank\n",
            "accounts\n",
            "meet\n",
            "new\n",
            "people\n",
            "watch\n",
            "tv\n",
            "or\n",
            "learn\n",
            "new\n",
            "skills\n",
            "you\n",
            "can\n",
            "learn\n",
            "or\n",
            "do\n",
            "almost\n",
            "anything\n",
            "online\n",
            "eninternetbasicswhatcanyoudoonlinecontent\n",
            "©19982021\n",
            "goodwill\n",
            "community\n",
            "foundation\n",
            "inc\n",
            "all\n",
            "rights\n",
            "reserved\n"
          ]
        }
      ]
    },
    {
      "cell_type": "code",
      "metadata": {
        "colab": {
          "base_uri": "https://localhost:8080/"
        },
        "id": "RAbpIZbJ766P",
        "outputId": "814b59a5-d818-4177-b45a-2418c0851280"
      },
      "source": [
        "frekuensi_kata = {} # dictionary\n",
        "for kata in tokens:\n",
        "  if kata not in frekuensi_kata:\n",
        "    frekuensi_kata[kata] = 1\n",
        "  else:\n",
        "    frekuensi_kata[kata] += 1\n",
        "\n",
        "print(frekuensi_kata)"
      ],
      "execution_count": null,
      "outputs": [
        {
          "output_type": "stream",
          "name": "stdout",
          "text": [
            "{'topics': 1, 'the': 38, 'internet': 20, 'is': 12, 'an': 4, 'increasingly': 1, 'important': 3, 'part': 1, 'of': 20, 'everyday': 1, 'life': 1, 'for': 4, 'people': 4, 'around': 1, 'world': 4, 'but': 1, 'if': 1, 'you': 14, '&': 13, 'aposve': 1, 'never': 1, 'used': 2, 'before': 1, 'all': 4, 'this': 5, 'new': 3, 'information': 3, 'might': 1, 'feel': 1, 'a': 22, 'bit': 1, 'confusing': 1, 'at': 3, 'first': 1, 'throughout': 1, 'tutorial': 1, 'we': 1, 'aposll': 2, 'try': 1, 'to': 19, 'answer': 2, 'some': 2, 'basic': 1, 'questions': 1, 'may': 2, 'have': 2, 'about': 2, 'and': 15, 'how': 6, 'it': 8, 'aposs': 9, 'when': 3, 'aposre': 1, 'done': 1, 'good': 1, 'understanding': 1, 'works': 2, 'connect': 2, 'browse': 1, 'web': 4, 'global': 2, 'network': 2, 'billions': 2, 'computers': 2, 'other': 4, 'electronic': 1, 'devices': 1, 'with': 4, 'possible': 1, 'access': 4, 'almost': 4, 'any': 1, 'communicate': 3, 'anyone': 2, 'else': 1, 'in': 6, 'do': 4, 'much': 1, 'more': 2, 'can': 10, 'by': 1, 'connecting': 1, 'computer': 5, 'which': 2, 'also': 1, 'called': 3, 'going': 1, 'online': 6, 'someone': 1, 'says': 1, 'just': 3, 'another': 1, 'way': 2, 'saying': 1, 'connected': 2, 'wide': 1, 'web—usually': 1, 'short—is': 1, 'collection': 1, 'different': 1, 'websites': 5, 'through': 1, 'website': 4, 'made': 1, 'up': 2, 'related': 1, 'text': 1, 'images': 2, 'resources': 1, 'resemble': 1, 'forms': 1, 'media—like': 1, 'newspaper': 1, 'articles': 1, 'or': 5, 'television': 1, 'programs—or': 1, 'they': 1, 'be': 3, 'interactive': 1, 'that': 5, 'unique': 1, 'purpose': 1, 'anything': 3, 'news': 2, 'platform': 1, 'advertisement': 1, 'library': 1, 'forum': 1, 'sharing': 1, 'educational': 1, 'site': 1, 'like': 3, 'us': 1, 'once': 2, 'are': 5, 'view': 1, 'using': 1, 'type': 1, 'application': 1, 'browser': 2, 'keep': 2, 'mind': 1, 'itself': 1, 'not': 1, 'only': 1, 'displays': 1, 'stored': 2, 'on': 4, 'point': 1, 'wondering': 1, 'does': 1, 'work': 1, 'exact': 1, 'pretty': 1, 'complicated': 1, 'would': 1, 'take': 1, 'while': 1, 'explain': 1, 'instead': 1, 'let': 1, 'look': 1, 'most': 2, 'things': 2, 'should': 1, 'know': 1, 'realize': 1, 'physical': 2, 'cables': 4, 'include': 1, 'copper': 1, 'telephone': 1, 'wires': 2, 'tv': 2, 'fiber': 1, 'optic': 1, 'even': 1, 'wireless': 1, 'connections': 1, 'wifi': 1, '3g4g': 1, 'rely': 1, 'these': 2, 'visit': 1, 'your': 5, 'sends': 2, 'request': 2, 'over': 1, 'server': 3, 'where': 1, 'lot': 1, 'hard': 1, 'drive': 1, 'arrives': 1, 'retrieves': 1, 'correct': 1, 'data': 1, 'back': 1, 'what': 1, 'amazing': 1, 'happens': 1, 'few': 1, 'seconds': 1, 'watch': 2, 'video': 1, 'below': 1, 'from': 1, 'tata': 1, 'communications': 1, 'learn': 3, 'functions': 1, 'one': 2, 'best': 1, 'features': 1, 'ability': 1, 'instantly': 1, 'email': 1, 'oldest': 1, 'universal': 1, 'ways': 3, 'share': 1, 'use': 1, 'social': 1, 'media': 1, 'allows': 1, 'variety': 1, 'build': 1, 'communities': 1, 'there': 2, 'many': 1, 'thousands': 1, 'shop': 1, 'pay': 1, 'bills': 1, 'manage': 1, 'bank': 1, 'accounts': 1, 'meet': 1, 'skills': 1, 'eninternetbasicswhatcanyoudoonlinecontent': 1, '©19982021': 1, 'goodwill': 1, 'community': 1, 'foundation': 1, 'inc': 1, 'rights': 1, 'reserved': 1}\n"
          ]
        }
      ]
    },
    {
      "cell_type": "code",
      "metadata": {
        "colab": {
          "base_uri": "https://localhost:8080/"
        },
        "id": "HJx4A2DK8Cdl",
        "outputId": "b7d4d0e8-f4df-4189-f8cf-81e96e25148a"
      },
      "source": [
        "# Cetak total kata unik (tanpa duplikat)\n",
        "len(frekuensi_kata.keys())"
      ],
      "execution_count": null,
      "outputs": [
        {
          "output_type": "execute_result",
          "data": {
            "text/plain": [
              "248"
            ]
          },
          "metadata": {},
          "execution_count": 18
        }
      ]
    },
    {
      "cell_type": "markdown",
      "metadata": {
        "id": "l8-vxJZQ8Ikk"
      },
      "source": [
        "# Menghilangkan Stop Word"
      ]
    },
    {
      "cell_type": "code",
      "metadata": {
        "colab": {
          "base_uri": "https://localhost:8080/"
        },
        "id": "eUfeBbGm8Fml",
        "outputId": "4a35e0aa-b7d5-45b2-a8ae-e51a8fb489d3"
      },
      "source": [
        "# Print daftar stop words dalam bahasa inggris\n",
        "# Stop word ini untuk setiap project dapat disesuaikan\n",
        "print(stopwords.words('english'))"
      ],
      "execution_count": null,
      "outputs": [
        {
          "output_type": "stream",
          "name": "stdout",
          "text": [
            "['i', 'me', 'my', 'myself', 'we', 'our', 'ours', 'ourselves', 'you', \"you're\", \"you've\", \"you'll\", \"you'd\", 'your', 'yours', 'yourself', 'yourselves', 'he', 'him', 'his', 'himself', 'she', \"she's\", 'her', 'hers', 'herself', 'it', \"it's\", 'its', 'itself', 'they', 'them', 'their', 'theirs', 'themselves', 'what', 'which', 'who', 'whom', 'this', 'that', \"that'll\", 'these', 'those', 'am', 'is', 'are', 'was', 'were', 'be', 'been', 'being', 'have', 'has', 'had', 'having', 'do', 'does', 'did', 'doing', 'a', 'an', 'the', 'and', 'but', 'if', 'or', 'because', 'as', 'until', 'while', 'of', 'at', 'by', 'for', 'with', 'about', 'against', 'between', 'into', 'through', 'during', 'before', 'after', 'above', 'below', 'to', 'from', 'up', 'down', 'in', 'out', 'on', 'off', 'over', 'under', 'again', 'further', 'then', 'once', 'here', 'there', 'when', 'where', 'why', 'how', 'all', 'any', 'both', 'each', 'few', 'more', 'most', 'other', 'some', 'such', 'no', 'nor', 'not', 'only', 'own', 'same', 'so', 'than', 'too', 'very', 's', 't', 'can', 'will', 'just', 'don', \"don't\", 'should', \"should've\", 'now', 'd', 'll', 'm', 'o', 're', 've', 'y', 'ain', 'aren', \"aren't\", 'couldn', \"couldn't\", 'didn', \"didn't\", 'doesn', \"doesn't\", 'hadn', \"hadn't\", 'hasn', \"hasn't\", 'haven', \"haven't\", 'isn', \"isn't\", 'ma', 'mightn', \"mightn't\", 'mustn', \"mustn't\", 'needn', \"needn't\", 'shan', \"shan't\", 'shouldn', \"shouldn't\", 'wasn', \"wasn't\", 'weren', \"weren't\", 'won', \"won't\", 'wouldn', \"wouldn't\"]\n"
          ]
        }
      ]
    },
    {
      "cell_type": "code",
      "metadata": {
        "id": "7qrG-sNB8U-w"
      },
      "source": [
        "en_stop_words = stopwords.words('english')"
      ],
      "execution_count": null,
      "outputs": []
    },
    {
      "cell_type": "code",
      "metadata": {
        "id": "a57kT5Kj8bOG"
      },
      "source": [
        "# Menghapus kata yang termasuk ke dalam stopwords bahasa inggris\n",
        "kata_unik = list(frekuensi_kata.keys())\n",
        "for kata in kata_unik:\n",
        "  if kata in en_stop_words:\n",
        "    del frekuensi_kata[kata]\n",
        "\n",
        "# Update kata unik setelah penghapusan stopwords\n",
        "kata_unik = list(frekuensi_kata.keys())"
      ],
      "execution_count": null,
      "outputs": []
    },
    {
      "cell_type": "code",
      "metadata": {
        "id": "TQLmKFcj8ekN",
        "colab": {
          "base_uri": "https://localhost:8080/"
        },
        "outputId": "9ec76e1c-6de1-439a-cfa4-2737e7337169"
      },
      "source": [
        "len(frekuensi_kata.keys())"
      ],
      "execution_count": null,
      "outputs": [
        {
          "output_type": "execute_result",
          "data": {
            "text/plain": [
              "191"
            ]
          },
          "metadata": {},
          "execution_count": 22
        }
      ]
    },
    {
      "cell_type": "markdown",
      "metadata": {
        "id": "hzqaSLVRQFuf"
      },
      "source": [
        "# Stemming dan Lematization"
      ]
    },
    {
      "cell_type": "code",
      "metadata": {
        "id": "JKOGSWAr8fPT"
      },
      "source": [
        "# Instansiasi objek dari Class PorterStemmer dan WordNetLemmatizer\n",
        "stemmer = PorterStemmer()\n",
        "lemmatizer = WordNetLemmatizer()"
      ],
      "execution_count": null,
      "outputs": []
    },
    {
      "cell_type": "code",
      "metadata": {
        "colab": {
          "base_uri": "https://localhost:8080/"
        },
        "id": "iSFxcrRGQjRu",
        "outputId": "dcb35e53-5436-465c-b4c6-a43e69f5d8ed"
      },
      "source": [
        "for kata in kata_unik:\n",
        "  print(kata, '|', lemmatizer.lemmatize(kata), '|', lemmatizer.lemmatize(stemmer.stem(kata)), '|', stemmer.stem(lemmatizer.lemmatize(kata)))"
      ],
      "execution_count": null,
      "outputs": [
        {
          "output_type": "stream",
          "name": "stdout",
          "text": [
            "topics | topic | topic | topic\n",
            "internet | internet | internet | internet\n",
            "increasingly | increasingly | increasingli | increasingli\n",
            "important | important | import | import\n",
            "part | part | part | part\n",
            "everyday | everyday | everyday | everyday\n",
            "life | life | life | life\n",
            "people | people | peopl | peopl\n",
            "around | around | around | around\n",
            "world | world | world | world\n",
            "& | & | & | &\n",
            "aposve | aposve | aposv | aposv\n",
            "never | never | never | never\n",
            "used | used | use | use\n",
            "new | new | new | new\n",
            "information | information | inform | inform\n",
            "might | might | might | might\n",
            "feel | feel | feel | feel\n",
            "bit | bit | bit | bit\n",
            "confusing | confusing | confus | confus\n",
            "first | first | first | first\n",
            "throughout | throughout | throughout | throughout\n",
            "tutorial | tutorial | tutori | tutori\n",
            "aposll | aposll | aposl | aposl\n",
            "try | try | tri | tri\n",
            "answer | answer | answer | answer\n",
            "basic | basic | basic | basic\n",
            "questions | question | question | question\n",
            "may | may | may | may\n",
            "aposs | aposs | aposs | aposs\n",
            "aposre | aposre | aposr | aposr\n",
            "done | done | done | done\n",
            "good | good | good | good\n",
            "understanding | understanding | understand | understand\n",
            "works | work | work | work\n",
            "connect | connect | connect | connect\n",
            "browse | browse | brow | brows\n",
            "web | web | web | web\n",
            "global | global | global | global\n",
            "network | network | network | network\n",
            "billions | billion | billion | billion\n",
            "computers | computer | comput | comput\n",
            "electronic | electronic | electron | electron\n",
            "devices | device | devic | devic\n",
            "possible | possible | possibl | possibl\n",
            "access | access | access | access\n",
            "almost | almost | almost | almost\n",
            "communicate | communicate | commun | commun\n",
            "anyone | anyone | anyon | anyon\n",
            "else | else | el | els\n",
            "much | much | much | much\n",
            "connecting | connecting | connect | connect\n",
            "computer | computer | comput | comput\n",
            "also | also | also | also\n",
            "called | called | call | call\n",
            "going | going | go | go\n",
            "online | online | onlin | onlin\n",
            "someone | someone | someon | someon\n",
            "says | say | say | say\n",
            "another | another | anoth | anoth\n",
            "way | way | way | way\n",
            "saying | saying | say | say\n",
            "connected | connected | connect | connect\n",
            "wide | wide | wide | wide\n",
            "web—usually | web—usually | web—usu | web—usu\n",
            "short—is | short—is | short—i | short—i\n",
            "collection | collection | collect | collect\n",
            "different | different | differ | differ\n",
            "websites | website | websit | websit\n",
            "website | website | websit | websit\n",
            "made | made | made | made\n",
            "related | related | relat | relat\n",
            "text | text | text | text\n",
            "images | image | imag | imag\n",
            "resources | resource | resourc | resourc\n",
            "resemble | resemble | resembl | resembl\n",
            "forms | form | form | form\n",
            "media—like | media—like | media—lik | media—lik\n",
            "newspaper | newspaper | newspap | newspap\n",
            "articles | article | articl | articl\n",
            "television | television | televis | televis\n",
            "programs—or | programs—or | programs—or | programs—or\n",
            "interactive | interactive | interact | interact\n",
            "unique | unique | uniqu | uniqu\n",
            "purpose | purpose | purpos | purpos\n",
            "anything | anything | anyth | anyth\n",
            "news | news | news | news\n",
            "platform | platform | platform | platform\n",
            "advertisement | advertisement | advertis | advertis\n",
            "library | library | librari | librari\n",
            "forum | forum | forum | forum\n",
            "sharing | sharing | share | share\n",
            "educational | educational | educ | educ\n",
            "site | site | site | site\n",
            "like | like | like | like\n",
            "us | u | u | u\n",
            "view | view | view | view\n",
            "using | using | use | use\n",
            "type | type | type | type\n",
            "application | application | applic | applic\n",
            "browser | browser | browser | browser\n",
            "keep | keep | keep | keep\n",
            "mind | mind | mind | mind\n",
            "displays | display | display | display\n",
            "stored | stored | store | store\n",
            "point | point | point | point\n",
            "wondering | wondering | wonder | wonder\n",
            "work | work | work | work\n",
            "exact | exact | exact | exact\n",
            "pretty | pretty | pretti | pretti\n",
            "complicated | complicated | complic | complic\n",
            "would | would | would | would\n",
            "take | take | take | take\n",
            "explain | explain | explain | explain\n",
            "instead | instead | instead | instead\n",
            "let | let | let | let\n",
            "look | look | look | look\n",
            "things | thing | thing | thing\n",
            "know | know | know | know\n",
            "realize | realize | realiz | realiz\n",
            "physical | physical | physic | physic\n",
            "cables | cable | cabl | cabl\n",
            "include | include | includ | includ\n",
            "copper | copper | copper | copper\n",
            "telephone | telephone | telephon | telephon\n",
            "wires | wire | wire | wire\n",
            "tv | tv | tv | tv\n",
            "fiber | fiber | fiber | fiber\n",
            "optic | optic | optic | optic\n",
            "even | even | even | even\n",
            "wireless | wireless | wireless | wireless\n",
            "connections | connection | connect | connect\n",
            "wifi | wifi | wifi | wifi\n",
            "3g4g | 3g4g | 3g4g | 3g4g\n",
            "rely | rely | reli | reli\n",
            "visit | visit | visit | visit\n",
            "sends | sends | send | send\n",
            "request | request | request | request\n",
            "server | server | server | server\n",
            "lot | lot | lot | lot\n",
            "hard | hard | hard | hard\n",
            "drive | drive | drive | drive\n",
            "arrives | arrives | arriv | arriv\n",
            "retrieves | retrieves | retriev | retriev\n",
            "correct | correct | correct | correct\n",
            "data | data | data | data\n",
            "back | back | back | back\n",
            "amazing | amazing | amaz | amaz\n",
            "happens | happens | happen | happen\n",
            "seconds | second | second | second\n",
            "watch | watch | watch | watch\n",
            "video | video | video | video\n",
            "tata | tata | tata | tata\n",
            "communications | communication | commun | commun\n",
            "learn | learn | learn | learn\n",
            "functions | function | function | function\n",
            "one | one | one | one\n",
            "best | best | best | best\n",
            "features | feature | featur | featur\n",
            "ability | ability | abil | abil\n",
            "instantly | instantly | instantli | instantli\n",
            "email | email | email | email\n",
            "oldest | oldest | oldest | oldest\n",
            "universal | universal | univers | univers\n",
            "ways | way | way | way\n",
            "share | share | share | share\n",
            "use | use | use | use\n",
            "social | social | social | social\n",
            "media | medium | medium | medium\n",
            "allows | allows | allow | allow\n",
            "variety | variety | varieti | varieti\n",
            "build | build | build | build\n",
            "communities | community | commun | commun\n",
            "many | many | mani | mani\n",
            "thousands | thousand | thousand | thousand\n",
            "shop | shop | shop | shop\n",
            "pay | pay | pay | pay\n",
            "bills | bill | bill | bill\n",
            "manage | manage | manag | manag\n",
            "bank | bank | bank | bank\n",
            "accounts | account | account | account\n",
            "meet | meet | meet | meet\n",
            "skills | skill | skill | skill\n",
            "eninternetbasicswhatcanyoudoonlinecontent | eninternetbasicswhatcanyoudoonlinecontent | eninternetbasicswhatcanyoudoonlinecont | eninternetbasicswhatcanyoudoonlinecont\n",
            "©19982021 | ©19982021 | ©19982021 | ©19982021\n",
            "goodwill | goodwill | goodwil | goodwil\n",
            "community | community | commun | commun\n",
            "foundation | foundation | foundat | foundat\n",
            "inc | inc | inc | inc\n",
            "rights | right | right | right\n",
            "reserved | reserved | reserv | reserv\n"
          ]
        }
      ]
    },
    {
      "cell_type": "code",
      "metadata": {
        "colab": {
          "base_uri": "https://localhost:8080/"
        },
        "id": "LE9vYnsMRl0j",
        "outputId": "ddaecc0e-34db-4b0e-8c46-a481b92aa0df"
      },
      "source": [
        "# Menggunakan pos pada lemmatizer untuk menentukan part of speech atau kategori kata\n",
        "print(lemmatizer.lemmatize('exercising'))\n",
        "print(lemmatizer.lemmatize('exercising', pos = 'v'))"
      ],
      "execution_count": null,
      "outputs": [
        {
          "output_type": "stream",
          "name": "stdout",
          "text": [
            "exercising\n",
            "exercise\n"
          ]
        }
      ]
    },
    {
      "cell_type": "code",
      "metadata": {
        "colab": {
          "base_uri": "https://localhost:8080/"
        },
        "id": "gSPlNw_3RmjS",
        "outputId": "48a36b1b-6e7b-4af4-d9ab-5b082ae07bba"
      },
      "source": [
        "token_no_stop_words = [kata for kata in tokens if kata not in en_stop_words]\n",
        "token_lemmatized = [lemmatizer.lemmatize(kata) for kata in token_no_stop_words]\n",
        "\n",
        "frekuensi_kata_postprocessing = {}\n",
        "for kata in token_lemmatized:\n",
        "  if kata not in frekuensi_kata_postprocessing:\n",
        "    frekuensi_kata_postprocessing[kata] = 1\n",
        "  else:\n",
        "    frekuensi_kata_postprocessing[kata] += 1\n",
        "\n",
        "\n",
        "frekuensi_kata_postprocessing.keys()"
      ],
      "execution_count": null,
      "outputs": [
        {
          "output_type": "execute_result",
          "data": {
            "text/plain": [
              "dict_keys(['topic', 'internet', 'increasingly', 'important', 'part', 'everyday', 'life', 'people', 'around', 'world', '&', 'aposve', 'never', 'used', 'new', 'information', 'might', 'feel', 'bit', 'confusing', 'first', 'throughout', 'tutorial', 'aposll', 'try', 'answer', 'basic', 'question', 'may', 'aposs', 'aposre', 'done', 'good', 'understanding', 'work', 'connect', 'browse', 'web', 'global', 'network', 'billion', 'computer', 'electronic', 'device', 'possible', 'access', 'almost', 'communicate', 'anyone', 'else', 'much', 'connecting', 'also', 'called', 'going', 'online', 'someone', 'say', 'another', 'way', 'saying', 'connected', 'wide', 'web—usually', 'short—is', 'collection', 'different', 'website', 'made', 'related', 'text', 'image', 'resource', 'resemble', 'form', 'media—like', 'newspaper', 'article', 'television', 'programs—or', 'interactive', 'unique', 'purpose', 'anything', 'news', 'platform', 'advertisement', 'library', 'forum', 'sharing', 'educational', 'site', 'like', 'u', 'view', 'using', 'type', 'application', 'browser', 'keep', 'mind', 'display', 'stored', 'point', 'wondering', 'exact', 'pretty', 'complicated', 'would', 'take', 'explain', 'instead', 'let', 'look', 'thing', 'know', 'realize', 'physical', 'cable', 'include', 'copper', 'telephone', 'wire', 'tv', 'fiber', 'optic', 'even', 'wireless', 'connection', 'wifi', '3g4g', 'rely', 'visit', 'sends', 'request', 'server', 'lot', 'hard', 'drive', 'arrives', 'retrieves', 'correct', 'data', 'back', 'amazing', 'happens', 'second', 'watch', 'video', 'tata', 'communication', 'learn', 'function', 'one', 'best', 'feature', 'ability', 'instantly', 'email', 'oldest', 'universal', 'share', 'use', 'social', 'medium', 'allows', 'variety', 'build', 'community', 'many', 'thousand', 'shop', 'pay', 'bill', 'manage', 'bank', 'account', 'meet', 'skill', 'eninternetbasicswhatcanyoudoonlinecontent', '©19982021', 'goodwill', 'foundation', 'inc', 'right', 'reserved'])"
            ]
          },
          "metadata": {},
          "execution_count": 26
        }
      ]
    },
    {
      "cell_type": "code",
      "metadata": {
        "colab": {
          "base_uri": "https://localhost:8080/"
        },
        "id": "y2r6_ME5Rw9m",
        "outputId": "a18f594e-ed07-4e9c-9626-fb970f03e0c0"
      },
      "source": [
        "# Membandingkan jumlah kata unik sebelum dan setelah preprocessing dengan melihat isi dari bag of words\n",
        "print(len(frekuensi_kata))\n",
        "print(len(frekuensi_kata_postprocessing))"
      ],
      "execution_count": null,
      "outputs": [
        {
          "output_type": "stream",
          "name": "stdout",
          "text": [
            "191\n",
            "186\n"
          ]
        }
      ]
    }
  ]
}