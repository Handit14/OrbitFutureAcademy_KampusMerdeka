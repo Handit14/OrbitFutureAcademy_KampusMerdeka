{
  "nbformat": 4,
  "nbformat_minor": 0,
  "metadata": {
    "colab": {
      "name": "JM-09-Vektorisasi Kata dan TF-IDF.ipynb",
      "provenance": [],
      "collapsed_sections": []
    },
    "kernelspec": {
      "name": "python3",
      "display_name": "Python 3"
    },
    "language_info": {
      "name": "python"
    }
  },
  "cells": [
    {
      "cell_type": "code",
      "metadata": {
        "id": "RP6hW8NDVzaI"
      },
      "source": [
        "# Import Library yang dibutuhkan\n",
        "\n",
        "import nltk\n",
        "from nltk.tokenize import word_tokenize\n",
        "from gensim.models import Word2Vec\n",
        "import re"
      ],
      "execution_count": null,
      "outputs": []
    },
    {
      "cell_type": "code",
      "metadata": {
        "colab": {
          "base_uri": "https://localhost:8080/"
        },
        "id": "gKe7ZPUfmjYA",
        "outputId": "2fc82f4c-a946-4e22-9a6b-e535eaab7294"
      },
      "source": [
        "nltk.download('punkt')"
      ],
      "execution_count": null,
      "outputs": [
        {
          "output_type": "stream",
          "name": "stdout",
          "text": [
            "[nltk_data] Downloading package punkt to /root/nltk_data...\n",
            "[nltk_data]   Unzipping tokenizers/punkt.zip.\n"
          ]
        },
        {
          "output_type": "execute_result",
          "data": {
            "text/plain": [
              "True"
            ]
          },
          "metadata": {},
          "execution_count": 3
        }
      ]
    },
    {
      "cell_type": "code",
      "metadata": {
        "id": "rmfhSdxekrEh"
      },
      "source": [
        "komentar = [\n",
        "          \"Pengiriman cepat, kualitas produk baik, penjual ramah\",\n",
        "          \"Produk tidak sesuai gambar, tapi memang sesuai harga\",\n",
        "          \"penjual responsif dan ramah, produk berfungsi dengan baik\",\n",
        "          \"Lumayan untuk harga segini sudah dapat produk bagus\",\n",
        "          \"Tidak sesuai ekspektasi, produk berbeda dengan gambar\",    \n",
        "]"
      ],
      "execution_count": null,
      "outputs": []
    },
    {
      "cell_type": "code",
      "metadata": {
        "colab": {
          "base_uri": "https://localhost:8080/"
        },
        "id": "QX4OeAmEmsdL",
        "outputId": "383d5a63-df47-4fa8-ba4d-7d62a3b819b7"
      },
      "source": [
        "komentar = [re.sub(r'[,.]', '', k) for k in komentar]\n",
        "komentar"
      ],
      "execution_count": null,
      "outputs": [
        {
          "output_type": "execute_result",
          "data": {
            "text/plain": [
              "['Pengiriman cepat kualitas produk baik penjual ramah',\n",
              " 'Produk tidak sesuai gambar tapi memang sesuai harga',\n",
              " 'penjual responsif dan ramah produk berfungsi dengan baik',\n",
              " 'Lumayan untuk harga segini sudah dapat produk bagus',\n",
              " 'Tidak sesuai ekspektasi produk berbeda dengan gambar']"
            ]
          },
          "metadata": {},
          "execution_count": 24
        }
      ]
    },
    {
      "cell_type": "code",
      "metadata": {
        "colab": {
          "base_uri": "https://localhost:8080/"
        },
        "id": "KJPae-LBmH3N",
        "outputId": "e2e3f4f1-26d6-45e9-e23b-76cb3f2e77a1"
      },
      "source": [
        "corpus = [word_tokenize(k.lower()) for k in komentar]\n",
        "corpus"
      ],
      "execution_count": null,
      "outputs": [
        {
          "output_type": "execute_result",
          "data": {
            "text/plain": [
              "[['pengiriman', 'cepat', 'kualitas', 'produk', 'baik', 'penjual', 'ramah'],\n",
              " ['produk', 'tidak', 'sesuai', 'gambar', 'tapi', 'memang', 'sesuai', 'harga'],\n",
              " ['penjual',\n",
              "  'responsif',\n",
              "  'dan',\n",
              "  'ramah',\n",
              "  'produk',\n",
              "  'berfungsi',\n",
              "  'dengan',\n",
              "  'baik'],\n",
              " ['lumayan', 'untuk', 'harga', 'segini', 'sudah', 'dapat', 'produk', 'bagus'],\n",
              " ['tidak', 'sesuai', 'ekspektasi', 'produk', 'berbeda', 'dengan', 'gambar']]"
            ]
          },
          "metadata": {},
          "execution_count": 25
        }
      ]
    },
    {
      "cell_type": "markdown",
      "metadata": {
        "id": "ilqs6oh8nJyx"
      },
      "source": [
        "## Train Word2Vec Model"
      ]
    },
    {
      "cell_type": "code",
      "metadata": {
        "id": "Zr3eUJ0Tmfmt"
      },
      "source": [
        "model = Word2Vec(corpus, size=100, window=5, workers=2, min_count=1, iter=100)\n"
      ],
      "execution_count": null,
      "outputs": []
    },
    {
      "cell_type": "markdown",
      "metadata": {
        "id": "W3GOj9NDobAK"
      },
      "source": [
        "## Menyimpan model"
      ]
    },
    {
      "cell_type": "code",
      "metadata": {
        "id": "4me7Ne3gn3OM"
      },
      "source": [
        "model.save(\"komentar_app.w2v\")"
      ],
      "execution_count": null,
      "outputs": []
    },
    {
      "cell_type": "markdown",
      "metadata": {
        "id": "6_RJ3olWocLH"
      },
      "source": [
        "## Load Model\n",
        "> Menggunakan pretrained model (model yang sudah dibuat sebelumnya)"
      ]
    },
    {
      "cell_type": "code",
      "metadata": {
        "id": "LIRAsG-Jn9Hn"
      },
      "source": [
        "model = Word2Vec.load(\"komentar_app.w2v\")\n"
      ],
      "execution_count": null,
      "outputs": []
    },
    {
      "cell_type": "markdown",
      "metadata": {
        "id": "X6jijQCcorCg"
      },
      "source": [
        "## Menampilkan Informasi dari Model yang Sudah Dibuat"
      ]
    },
    {
      "cell_type": "code",
      "metadata": {
        "id": "XCc72C54ot_w"
      },
      "source": [
        "# model.wv adalah Word Vector dari Model yang sudah dibuat\n",
        "w2v = model.wv"
      ],
      "execution_count": null,
      "outputs": []
    },
    {
      "cell_type": "code",
      "metadata": {
        "colab": {
          "base_uri": "https://localhost:8080/"
        },
        "id": "ZKrvWt9Io422",
        "outputId": "c8aefb00-6f58-43a5-f215-09e71c04ec0e"
      },
      "source": [
        "# Menampilkan semua vocabulary yang sudah di-train\n",
        "w2v.index2word"
      ],
      "execution_count": null,
      "outputs": [
        {
          "output_type": "execute_result",
          "data": {
            "text/plain": [
              "['produk',\n",
              " 'sesuai',\n",
              " 'baik',\n",
              " 'penjual',\n",
              " 'ramah',\n",
              " 'tidak',\n",
              " 'gambar',\n",
              " 'harga',\n",
              " 'dengan',\n",
              " 'pengiriman',\n",
              " 'cepat',\n",
              " 'kualitas',\n",
              " 'tapi',\n",
              " 'memang',\n",
              " 'responsif',\n",
              " 'dan',\n",
              " 'berfungsi',\n",
              " 'lumayan',\n",
              " 'untuk',\n",
              " 'segini',\n",
              " 'sudah',\n",
              " 'dapat',\n",
              " 'bagus',\n",
              " 'ekspektasi',\n",
              " 'berbeda']"
            ]
          },
          "metadata": {},
          "execution_count": 30
        }
      ]
    },
    {
      "cell_type": "code",
      "metadata": {
        "colab": {
          "base_uri": "https://localhost:8080/"
        },
        "id": "cINrhrKWpDwK",
        "outputId": "61101423-ca9a-436e-c5da-8d1574f02c48"
      },
      "source": [
        "# Menampilkan vector yang sudah dibuat dari dokumen teks\n",
        "w2v.vectors"
      ],
      "execution_count": null,
      "outputs": [
        {
          "output_type": "execute_result",
          "data": {
            "text/plain": [
              "array([[ 3.9714132e-03,  4.1619530e-03,  4.8448369e-03, ...,\n",
              "         3.8407887e-03,  1.7142000e-04, -3.1266702e-04],\n",
              "       [-6.1331331e-05, -1.1072751e-03, -4.5927903e-03, ...,\n",
              "        -1.8023440e-03,  1.1041751e-03,  1.6276845e-03],\n",
              "       [-1.0416263e-03, -4.0254984e-03,  4.4483799e-03, ...,\n",
              "         6.5217726e-04, -4.2001903e-03, -3.2869203e-03],\n",
              "       ...,\n",
              "       [ 1.9852284e-03, -1.9470670e-03, -4.8563955e-03, ...,\n",
              "        -2.7973058e-03, -3.1645007e-03, -4.7252164e-03],\n",
              "       [ 1.2433286e-04,  4.8821224e-03,  4.7640307e-03, ...,\n",
              "        -2.2607211e-04, -3.9831772e-03,  3.2439231e-04],\n",
              "       [ 3.4628487e-03,  1.1259685e-03, -1.1736915e-03, ...,\n",
              "        -2.3114004e-03,  1.8257706e-03, -4.5408430e-03]], dtype=float32)"
            ]
          },
          "metadata": {},
          "execution_count": 31
        }
      ]
    },
    {
      "cell_type": "code",
      "metadata": {
        "colab": {
          "base_uri": "https://localhost:8080/"
        },
        "id": "lyQPHKDQpfLi",
        "outputId": "d1327c26-52aa-4a38-cf0c-fcde8060e205"
      },
      "source": [
        "# Menampilkan ukuran vektor\n",
        "w2v.vector_size"
      ],
      "execution_count": null,
      "outputs": [
        {
          "output_type": "execute_result",
          "data": {
            "text/plain": [
              "100"
            ]
          },
          "metadata": {},
          "execution_count": 32
        }
      ]
    },
    {
      "cell_type": "code",
      "metadata": {
        "colab": {
          "base_uri": "https://localhost:8080/"
        },
        "id": "u1htiGu_p36V",
        "outputId": "f5b9fb0e-9c39-4bb9-92db-7d1ae8907074"
      },
      "source": [
        "# Menampilkan vektor kata yang terdapat pada vocabulary\n",
        "w2v['berbeda']"
      ],
      "execution_count": null,
      "outputs": [
        {
          "output_type": "execute_result",
          "data": {
            "text/plain": [
              "array([ 3.4628487e-03,  1.1259685e-03, -1.1736915e-03,  1.4940773e-04,\n",
              "       -4.6265321e-03,  2.3042408e-04,  1.1079601e-03,  1.2726558e-03,\n",
              "        4.5803590e-03,  2.7464612e-03,  1.9025562e-03, -1.7826980e-05,\n",
              "       -7.9582614e-04, -3.9386414e-03, -2.0605840e-03, -3.5422919e-03,\n",
              "        4.5009335e-03, -1.7051502e-03, -7.8461959e-04, -1.0296669e-03,\n",
              "        1.3496052e-03,  3.4532950e-03,  3.0615677e-03,  1.1765223e-05,\n",
              "       -2.0134014e-04, -1.3056609e-03,  4.9794139e-04, -2.8960297e-03,\n",
              "       -3.5737650e-03, -8.4068067e-04,  3.4798641e-04, -4.5240023e-03,\n",
              "       -1.1356770e-03,  3.8953824e-03, -1.0158601e-03, -2.4795069e-03,\n",
              "        7.9460273e-04,  4.7654756e-03, -3.8458826e-04, -4.9019982e-03,\n",
              "       -1.8169029e-03,  2.4350707e-03, -3.9984598e-03,  3.8442544e-03,\n",
              "       -3.9370824e-03, -4.2563202e-03,  1.8134867e-03, -1.8653600e-03,\n",
              "       -1.7654847e-03, -4.8456690e-03, -1.8530511e-03,  2.5302968e-03,\n",
              "        1.6521275e-03,  4.9425187e-03,  1.9009678e-03,  3.0517462e-03,\n",
              "       -4.2874110e-03, -2.9422054e-03, -3.4694988e-03, -8.7215361e-04,\n",
              "       -2.3139128e-03, -3.1438237e-03, -1.1750103e-03, -1.2395262e-03,\n",
              "        2.7479678e-03, -3.0233189e-03,  2.5974072e-03,  1.6135571e-03,\n",
              "       -1.7060883e-03, -3.4351563e-03, -4.1401931e-03, -3.8953978e-03,\n",
              "        2.8783393e-03, -1.5601162e-03, -3.1410896e-03,  7.2509376e-04,\n",
              "        1.9155049e-03, -1.3451318e-03,  8.3238748e-04, -3.2532499e-03,\n",
              "        7.1918720e-04,  3.0793906e-03, -5.4625305e-04, -7.4006489e-04,\n",
              "       -2.7973212e-03,  3.0928201e-03, -4.6286411e-03,  1.0698716e-03,\n",
              "       -1.1183691e-04, -5.1469135e-05, -3.7245790e-03,  2.4190817e-03,\n",
              "        1.2879048e-03,  2.2632380e-03,  3.0238146e-03, -3.6170003e-03,\n",
              "       -1.7883639e-04, -2.3114004e-03,  1.8257706e-03, -4.5408430e-03],\n",
              "      dtype=float32)"
            ]
          },
          "metadata": {},
          "execution_count": 33
        }
      ]
    },
    {
      "cell_type": "markdown",
      "metadata": {
        "id": "TPklgZ0AqX4O"
      },
      "source": [
        "## Sanity Check\n",
        "> Untuk mengetahui apakah model yang sudah kita train sudah memiliki makna atau masih perlu dilakukan training lanjutan"
      ]
    },
    {
      "cell_type": "markdown",
      "metadata": {
        "id": "LYb7IP93qin1"
      },
      "source": [
        "### Similar Word"
      ]
    },
    {
      "cell_type": "code",
      "metadata": {
        "colab": {
          "base_uri": "https://localhost:8080/"
        },
        "id": "-0xUDnlFp-6n",
        "outputId": "cf54799d-5260-4f26-84d1-d30f45b218f4"
      },
      "source": [
        "# Menampilkan kata yang memiliki kemiripan makna dengan kata `produk`\n",
        "# atau dalam kata lain yaitu melihat hubungan semantik dari kata `produk` dengan kata lainnya.\n",
        "w2v.similar_by_word(\"produk\", topn=5)"
      ],
      "execution_count": null,
      "outputs": [
        {
          "output_type": "execute_result",
          "data": {
            "text/plain": [
              "[('berfungsi', 0.17501422762870789),\n",
              " ('ekspektasi', 0.15458053350448608),\n",
              " ('memang', 0.13562309741973877),\n",
              " ('kualitas', 0.11416354030370712),\n",
              " ('lumayan', 0.10700599104166031)]"
            ]
          },
          "metadata": {},
          "execution_count": 34
        }
      ]
    },
    {
      "cell_type": "markdown",
      "metadata": {
        "id": "AZ7e5HNHte2X"
      },
      "source": [
        "---"
      ]
    },
    {
      "cell_type": "markdown",
      "metadata": {
        "id": "4VvPSHL9tawr"
      },
      "source": [
        "## TF-IDF"
      ]
    },
    {
      "cell_type": "code",
      "metadata": {
        "colab": {
          "base_uri": "https://localhost:8080/"
        },
        "id": "AEnPHEPH1uzL",
        "outputId": "2e5c8e9b-7d3b-4936-c2f1-bf9a56d0feec"
      },
      "source": [
        "# Menggunakan dataset yang sama seperti pada Word2vec. \n",
        "komentar"
      ],
      "execution_count": null,
      "outputs": [
        {
          "output_type": "execute_result",
          "data": {
            "text/plain": [
              "['Pengiriman cepat kualitas produk baik penjual ramah',\n",
              " 'Produk tidak sesuai gambar tapi memang sesuai harga',\n",
              " 'penjual responsif dan ramah produk berfungsi dengan baik',\n",
              " 'Lumayan untuk harga segini sudah dapat produk bagus',\n",
              " 'Tidak sesuai ekspektasi produk berbeda dengan gambar']"
            ]
          },
          "metadata": {},
          "execution_count": 35
        }
      ]
    },
    {
      "cell_type": "code",
      "metadata": {
        "id": "DYJzS0h9shOE"
      },
      "source": [
        "# Import Library yang dibutuhkan\n",
        "from sklearn.feature_extraction.text import TfidfVectorizer\n",
        "import pandas as pd\n",
        "\n",
        "\n",
        "vectorizer = TfidfVectorizer()\n",
        "result = vectorizer.fit_transform(komentar) #tfidf"
      ],
      "execution_count": null,
      "outputs": []
    },
    {
      "cell_type": "code",
      "metadata": {
        "colab": {
          "base_uri": "https://localhost:8080/"
        },
        "id": "Ev0sewgU15Be",
        "outputId": "1594aa43-7bc5-40ab-aba3-bd456e475324"
      },
      "source": [
        "# Menampilkan nama fitur / token dari dataset\n",
        "print(vectorizer.get_feature_names())"
      ],
      "execution_count": null,
      "outputs": [
        {
          "output_type": "stream",
          "name": "stdout",
          "text": [
            "['bagus', 'baik', 'berbeda', 'berfungsi', 'cepat', 'dan', 'dapat', 'dengan', 'ekspektasi', 'gambar', 'harga', 'kualitas', 'lumayan', 'memang', 'pengiriman', 'penjual', 'produk', 'ramah', 'responsif', 'segini', 'sesuai', 'sudah', 'tapi', 'tidak', 'untuk']\n"
          ]
        }
      ]
    },
    {
      "cell_type": "code",
      "metadata": {
        "colab": {
          "base_uri": "https://localhost:8080/"
        },
        "id": "zKAohjpG10w5",
        "outputId": "4a992828-cabe-4b90-a9eb-a57f5cb9ba44"
      },
      "source": [
        "# Menampilkan hasil vektor kata\n",
        "print(result)"
      ],
      "execution_count": null,
      "outputs": [
        {
          "output_type": "stream",
          "name": "stdout",
          "text": [
            "  (0, 17)\t0.354491454113195\n",
            "  (0, 15)\t0.354491454113195\n",
            "  (0, 1)\t0.354491454113195\n",
            "  (0, 16)\t0.20936836335513379\n",
            "  (0, 11)\t0.4393830201954138\n",
            "  (0, 4)\t0.4393830201954138\n",
            "  (0, 14)\t0.4393830201954138\n",
            "  (1, 10)\t0.3097679976786992\n",
            "  (1, 13)\t0.38394944871221537\n",
            "  (1, 22)\t0.38394944871221537\n",
            "  (1, 9)\t0.3097679976786992\n",
            "  (1, 20)\t0.6195359953573985\n",
            "  (1, 23)\t0.3097679976786992\n",
            "  (1, 16)\t0.18295396952806844\n",
            "  (2, 7)\t0.33411913201775406\n",
            "  (2, 3)\t0.4141320520639498\n",
            "  (2, 5)\t0.4141320520639498\n",
            "  (2, 18)\t0.4141320520639498\n",
            "  (2, 17)\t0.33411913201775406\n",
            "  (2, 15)\t0.33411913201775406\n",
            "  (2, 1)\t0.33411913201775406\n",
            "  (2, 16)\t0.1973361417447812\n",
            "  (3, 0)\t0.3813025879625254\n",
            "  (3, 6)\t0.3813025879625254\n",
            "  (3, 21)\t0.3813025879625254\n",
            "  (3, 19)\t0.3813025879625254\n",
            "  (3, 24)\t0.3813025879625254\n",
            "  (3, 12)\t0.3813025879625254\n",
            "  (3, 10)\t0.30763252709183986\n",
            "  (3, 16)\t0.18169272619885407\n",
            "  (4, 2)\t0.4549817658305219\n",
            "  (4, 8)\t0.4549817658305219\n",
            "  (4, 7)\t0.36707642387391093\n",
            "  (4, 9)\t0.36707642387391093\n",
            "  (4, 20)\t0.36707642387391093\n",
            "  (4, 23)\t0.36707642387391093\n",
            "  (4, 16)\t0.21680124922897376\n"
          ]
        }
      ]
    },
    {
      "cell_type": "markdown",
      "metadata": {
        "id": "gvtQRTZX8Llu"
      },
      "source": [
        "**(4, 16)\t0.21680124922897376**\n",
        "Artinya:\n",
        "> Terdapat kata dengan index ke-16 pada `vectorizer.get_feature_names()` dalam dokumen ke-5 (index dari nol)\n",
        ">\n",
        "> dengan bobot TF-IDF 0.21680124922897376"
      ]
    },
    {
      "cell_type": "code",
      "metadata": {
        "colab": {
          "base_uri": "https://localhost:8080/"
        },
        "id": "Cx-59-0B8POw",
        "outputId": "f06b719b-4786-42eb-a01e-88e76394e1ad"
      },
      "source": [
        "print(f\"Teks dokumen ke-{4+1}:\\n{komentar[4]}\")\n",
        "print(f\"Fitur Name ke-16: {vectorizer.get_feature_names()[16]}\")"
      ],
      "execution_count": null,
      "outputs": [
        {
          "output_type": "stream",
          "name": "stdout",
          "text": [
            "Teks dokumen ke-5:\n",
            "Tidak sesuai ekspektasi produk berbeda dengan gambar\n",
            "Fitur Name ke-16: produk\n"
          ]
        }
      ]
    },
    {
      "cell_type": "markdown",
      "metadata": {
        "id": "QDZxrB4p8STH"
      },
      "source": [
        "> Dapat diketahui bahwa di dalam dokumen ke-1 (index ke-0) terdapat kata produk"
      ]
    },
    {
      "cell_type": "code",
      "metadata": {
        "id": "SDBhuCu-2V7Z"
      },
      "source": [
        "# Menampilkan hasil TF-IDF dalam bentuk list dua dimensi\n",
        "result.todense()"
      ],
      "execution_count": null,
      "outputs": []
    },
    {
      "cell_type": "code",
      "metadata": {
        "colab": {
          "base_uri": "https://localhost:8080/",
          "height": 824
        },
        "id": "9j2RVkIb2ZkT",
        "outputId": "9659159c-dadf-44e0-84c9-05139527942e"
      },
      "source": [
        "# Membuat dataframe dari list dua dimensi tersebut. \n",
        "# Dilakukan transpose agar nama kolom berubah menjadi nama baris\n",
        "# Nama kolom diubah menjadi urutan dokumen\n",
        "df = pd.DataFrame(result.todense().T,\n",
        "                  index=vectorizer.get_feature_names(),\n",
        "                  columns=[f\"D{i+1}\" for i in range(len(komentar))])\n",
        "df"
      ],
      "execution_count": null,
      "outputs": [
        {
          "output_type": "execute_result",
          "data": {
            "text/html": [
              "<div>\n",
              "<style scoped>\n",
              "    .dataframe tbody tr th:only-of-type {\n",
              "        vertical-align: middle;\n",
              "    }\n",
              "\n",
              "    .dataframe tbody tr th {\n",
              "        vertical-align: top;\n",
              "    }\n",
              "\n",
              "    .dataframe thead th {\n",
              "        text-align: right;\n",
              "    }\n",
              "</style>\n",
              "<table border=\"1\" class=\"dataframe\">\n",
              "  <thead>\n",
              "    <tr style=\"text-align: right;\">\n",
              "      <th></th>\n",
              "      <th>D1</th>\n",
              "      <th>D2</th>\n",
              "      <th>D3</th>\n",
              "      <th>D4</th>\n",
              "      <th>D5</th>\n",
              "    </tr>\n",
              "  </thead>\n",
              "  <tbody>\n",
              "    <tr>\n",
              "      <th>bagus</th>\n",
              "      <td>0.000000</td>\n",
              "      <td>0.000000</td>\n",
              "      <td>0.000000</td>\n",
              "      <td>0.381303</td>\n",
              "      <td>0.000000</td>\n",
              "    </tr>\n",
              "    <tr>\n",
              "      <th>baik</th>\n",
              "      <td>0.354491</td>\n",
              "      <td>0.000000</td>\n",
              "      <td>0.334119</td>\n",
              "      <td>0.000000</td>\n",
              "      <td>0.000000</td>\n",
              "    </tr>\n",
              "    <tr>\n",
              "      <th>berbeda</th>\n",
              "      <td>0.000000</td>\n",
              "      <td>0.000000</td>\n",
              "      <td>0.000000</td>\n",
              "      <td>0.000000</td>\n",
              "      <td>0.454982</td>\n",
              "    </tr>\n",
              "    <tr>\n",
              "      <th>berfungsi</th>\n",
              "      <td>0.000000</td>\n",
              "      <td>0.000000</td>\n",
              "      <td>0.414132</td>\n",
              "      <td>0.000000</td>\n",
              "      <td>0.000000</td>\n",
              "    </tr>\n",
              "    <tr>\n",
              "      <th>cepat</th>\n",
              "      <td>0.439383</td>\n",
              "      <td>0.000000</td>\n",
              "      <td>0.000000</td>\n",
              "      <td>0.000000</td>\n",
              "      <td>0.000000</td>\n",
              "    </tr>\n",
              "    <tr>\n",
              "      <th>dan</th>\n",
              "      <td>0.000000</td>\n",
              "      <td>0.000000</td>\n",
              "      <td>0.414132</td>\n",
              "      <td>0.000000</td>\n",
              "      <td>0.000000</td>\n",
              "    </tr>\n",
              "    <tr>\n",
              "      <th>dapat</th>\n",
              "      <td>0.000000</td>\n",
              "      <td>0.000000</td>\n",
              "      <td>0.000000</td>\n",
              "      <td>0.381303</td>\n",
              "      <td>0.000000</td>\n",
              "    </tr>\n",
              "    <tr>\n",
              "      <th>dengan</th>\n",
              "      <td>0.000000</td>\n",
              "      <td>0.000000</td>\n",
              "      <td>0.334119</td>\n",
              "      <td>0.000000</td>\n",
              "      <td>0.367076</td>\n",
              "    </tr>\n",
              "    <tr>\n",
              "      <th>ekspektasi</th>\n",
              "      <td>0.000000</td>\n",
              "      <td>0.000000</td>\n",
              "      <td>0.000000</td>\n",
              "      <td>0.000000</td>\n",
              "      <td>0.454982</td>\n",
              "    </tr>\n",
              "    <tr>\n",
              "      <th>gambar</th>\n",
              "      <td>0.000000</td>\n",
              "      <td>0.309768</td>\n",
              "      <td>0.000000</td>\n",
              "      <td>0.000000</td>\n",
              "      <td>0.367076</td>\n",
              "    </tr>\n",
              "    <tr>\n",
              "      <th>harga</th>\n",
              "      <td>0.000000</td>\n",
              "      <td>0.309768</td>\n",
              "      <td>0.000000</td>\n",
              "      <td>0.307633</td>\n",
              "      <td>0.000000</td>\n",
              "    </tr>\n",
              "    <tr>\n",
              "      <th>kualitas</th>\n",
              "      <td>0.439383</td>\n",
              "      <td>0.000000</td>\n",
              "      <td>0.000000</td>\n",
              "      <td>0.000000</td>\n",
              "      <td>0.000000</td>\n",
              "    </tr>\n",
              "    <tr>\n",
              "      <th>lumayan</th>\n",
              "      <td>0.000000</td>\n",
              "      <td>0.000000</td>\n",
              "      <td>0.000000</td>\n",
              "      <td>0.381303</td>\n",
              "      <td>0.000000</td>\n",
              "    </tr>\n",
              "    <tr>\n",
              "      <th>memang</th>\n",
              "      <td>0.000000</td>\n",
              "      <td>0.383949</td>\n",
              "      <td>0.000000</td>\n",
              "      <td>0.000000</td>\n",
              "      <td>0.000000</td>\n",
              "    </tr>\n",
              "    <tr>\n",
              "      <th>pengiriman</th>\n",
              "      <td>0.439383</td>\n",
              "      <td>0.000000</td>\n",
              "      <td>0.000000</td>\n",
              "      <td>0.000000</td>\n",
              "      <td>0.000000</td>\n",
              "    </tr>\n",
              "    <tr>\n",
              "      <th>penjual</th>\n",
              "      <td>0.354491</td>\n",
              "      <td>0.000000</td>\n",
              "      <td>0.334119</td>\n",
              "      <td>0.000000</td>\n",
              "      <td>0.000000</td>\n",
              "    </tr>\n",
              "    <tr>\n",
              "      <th>produk</th>\n",
              "      <td>0.209368</td>\n",
              "      <td>0.182954</td>\n",
              "      <td>0.197336</td>\n",
              "      <td>0.181693</td>\n",
              "      <td>0.216801</td>\n",
              "    </tr>\n",
              "    <tr>\n",
              "      <th>ramah</th>\n",
              "      <td>0.354491</td>\n",
              "      <td>0.000000</td>\n",
              "      <td>0.334119</td>\n",
              "      <td>0.000000</td>\n",
              "      <td>0.000000</td>\n",
              "    </tr>\n",
              "    <tr>\n",
              "      <th>responsif</th>\n",
              "      <td>0.000000</td>\n",
              "      <td>0.000000</td>\n",
              "      <td>0.414132</td>\n",
              "      <td>0.000000</td>\n",
              "      <td>0.000000</td>\n",
              "    </tr>\n",
              "    <tr>\n",
              "      <th>segini</th>\n",
              "      <td>0.000000</td>\n",
              "      <td>0.000000</td>\n",
              "      <td>0.000000</td>\n",
              "      <td>0.381303</td>\n",
              "      <td>0.000000</td>\n",
              "    </tr>\n",
              "    <tr>\n",
              "      <th>sesuai</th>\n",
              "      <td>0.000000</td>\n",
              "      <td>0.619536</td>\n",
              "      <td>0.000000</td>\n",
              "      <td>0.000000</td>\n",
              "      <td>0.367076</td>\n",
              "    </tr>\n",
              "    <tr>\n",
              "      <th>sudah</th>\n",
              "      <td>0.000000</td>\n",
              "      <td>0.000000</td>\n",
              "      <td>0.000000</td>\n",
              "      <td>0.381303</td>\n",
              "      <td>0.000000</td>\n",
              "    </tr>\n",
              "    <tr>\n",
              "      <th>tapi</th>\n",
              "      <td>0.000000</td>\n",
              "      <td>0.383949</td>\n",
              "      <td>0.000000</td>\n",
              "      <td>0.000000</td>\n",
              "      <td>0.000000</td>\n",
              "    </tr>\n",
              "    <tr>\n",
              "      <th>tidak</th>\n",
              "      <td>0.000000</td>\n",
              "      <td>0.309768</td>\n",
              "      <td>0.000000</td>\n",
              "      <td>0.000000</td>\n",
              "      <td>0.367076</td>\n",
              "    </tr>\n",
              "    <tr>\n",
              "      <th>untuk</th>\n",
              "      <td>0.000000</td>\n",
              "      <td>0.000000</td>\n",
              "      <td>0.000000</td>\n",
              "      <td>0.381303</td>\n",
              "      <td>0.000000</td>\n",
              "    </tr>\n",
              "  </tbody>\n",
              "</table>\n",
              "</div>"
            ],
            "text/plain": [
              "                  D1        D2        D3        D4        D5\n",
              "bagus       0.000000  0.000000  0.000000  0.381303  0.000000\n",
              "baik        0.354491  0.000000  0.334119  0.000000  0.000000\n",
              "berbeda     0.000000  0.000000  0.000000  0.000000  0.454982\n",
              "berfungsi   0.000000  0.000000  0.414132  0.000000  0.000000\n",
              "cepat       0.439383  0.000000  0.000000  0.000000  0.000000\n",
              "dan         0.000000  0.000000  0.414132  0.000000  0.000000\n",
              "dapat       0.000000  0.000000  0.000000  0.381303  0.000000\n",
              "dengan      0.000000  0.000000  0.334119  0.000000  0.367076\n",
              "ekspektasi  0.000000  0.000000  0.000000  0.000000  0.454982\n",
              "gambar      0.000000  0.309768  0.000000  0.000000  0.367076\n",
              "harga       0.000000  0.309768  0.000000  0.307633  0.000000\n",
              "kualitas    0.439383  0.000000  0.000000  0.000000  0.000000\n",
              "lumayan     0.000000  0.000000  0.000000  0.381303  0.000000\n",
              "memang      0.000000  0.383949  0.000000  0.000000  0.000000\n",
              "pengiriman  0.439383  0.000000  0.000000  0.000000  0.000000\n",
              "penjual     0.354491  0.000000  0.334119  0.000000  0.000000\n",
              "produk      0.209368  0.182954  0.197336  0.181693  0.216801\n",
              "ramah       0.354491  0.000000  0.334119  0.000000  0.000000\n",
              "responsif   0.000000  0.000000  0.414132  0.000000  0.000000\n",
              "segini      0.000000  0.000000  0.000000  0.381303  0.000000\n",
              "sesuai      0.000000  0.619536  0.000000  0.000000  0.367076\n",
              "sudah       0.000000  0.000000  0.000000  0.381303  0.000000\n",
              "tapi        0.000000  0.383949  0.000000  0.000000  0.000000\n",
              "tidak       0.000000  0.309768  0.000000  0.000000  0.367076\n",
              "untuk       0.000000  0.000000  0.000000  0.381303  0.000000"
            ]
          },
          "metadata": {},
          "execution_count": 22
        }
      ]
    },
    {
      "cell_type": "markdown",
      "metadata": {
        "id": "1ODlrrrp9H3b"
      },
      "source": [
        "Kata **tidak** memiliki bobot lebih tinggi pada dokumen ke-5 daripada bobot pada dokumen ke-2"
      ]
    },
    {
      "cell_type": "code",
      "metadata": {
        "id": "gYLHzpn-1rMm"
      },
      "source": [
        ""
      ],
      "execution_count": null,
      "outputs": []
    }
  ]
}