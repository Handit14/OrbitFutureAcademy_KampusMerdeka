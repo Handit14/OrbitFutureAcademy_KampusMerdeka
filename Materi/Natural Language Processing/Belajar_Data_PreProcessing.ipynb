{
  "nbformat": 4,
  "nbformat_minor": 5,
  "metadata": {
    "kernelspec": {
      "display_name": "Python 3",
      "language": "python",
      "name": "python3"
    },
    "language_info": {
      "codemirror_mode": {
        "name": "ipython",
        "version": 3
      },
      "file_extension": ".py",
      "mimetype": "text/x-python",
      "name": "python",
      "nbconvert_exporter": "python",
      "pygments_lexer": "ipython3",
      "version": "3.8.8"
    },
    "colab": {
      "name": "Belajar_Data_PreProcessing",
      "provenance": [],
      "collapsed_sections": []
    }
  },
  "cells": [
    {
      "cell_type": "markdown",
      "metadata": {
        "id": "wTB1ZnW8cvro"
      },
      "source": [
        "## Materials\n",
        "- Scraping | BeautifulSoup4 | website legal untuk scraping\n",
        "  - Prequisite: Basic HTML dan CSS Selector\n",
        "  > Tetapi untuk materi ini cukup ketahui cara kerja dan gambaran umumnya saja. Jika tertarik lebih dalam mengenai HTML dan CSS (terutama CSS Selector) untuk Web Scraping, dapat menggunakan referensi berikut untuk belajar tambahan:\n",
        "    - [Playlist Dasar HTML by WPU](https://www.youtube.com/playlist?list=PLFIM0718LjIVuONHysfOK0ZtiqUWvrx4F) | Video\n",
        "    - [Dasar HTML by Petani Kode](https://www.petanikode.com/tutorial/html/) | Artikel\n",
        "    - [Dasar HTML by W3School](https://www.w3schools.com/html/) | Artikel dan Lab Hands On\n",
        "    - [CSS Selector by WPU](https://www.youtube.com/watch?v=0KLwWyQyMQo&list=PLFIM0718LjIUBrbm6Gdh6k7ZUvPIAZm7p&index=7) | Video\n",
        "    - [CSS Selector by W3School](https://www.w3schools.com/cssref/css_selectors.asp) | Artikel dan Lab Hands On\n",
        "\n",
        "- Import data dari file txt\n",
        "- Bag of Word (sebelum preprocessing)\n",
        "- Preprocessing\n",
        "  - Tokenization\n",
        "  - Stemming\n",
        "  - Lemmatization\n",
        "- Bag of Word (Setelah Preprocessing)"
      ],
      "id": "wTB1ZnW8cvro"
    },
    {
      "cell_type": "code",
      "metadata": {
        "id": "Y6xSbUxu6kBI"
      },
      "source": [
        "# Import Library yang dibutuhkan\n",
        "import requests   # Library untuk melakukan request dari website tertentu\n",
        "from bs4 import BeautifulSoup # Library untuk ekstraksi konten dalam website"
      ],
      "id": "Y6xSbUxu6kBI",
      "execution_count": 97,
      "outputs": []
    },
    {
      "cell_type": "markdown",
      "metadata": {
        "id": "tbdnuzAW1jPz"
      },
      "source": [
        "Untuk website yang akan kita gunakan untuk scraping adalah website warstek.com. Website ini milik Coach Wayan dan sudah mendapatkan persetujuan untuk dijadikan objek web scraping :)"
      ],
      "id": "tbdnuzAW1jPz"
    },
    {
      "cell_type": "code",
      "metadata": {
        "id": "-NUU0XFM8VgK"
      },
      "source": [
        "result = requests.get(\"https://warstek.com/kabel-laut/\")"
      ],
      "id": "-NUU0XFM8VgK",
      "execution_count": 98,
      "outputs": []
    },
    {
      "cell_type": "code",
      "metadata": {
        "colab": {
          "base_uri": "https://localhost:8080/",
          "height": 103
        },
        "id": "hAn7hf6csiE7",
        "outputId": "3f77d2e7-8c61-45a5-e840-0aee84a63f85"
      },
      "source": [
        "result.text"
      ],
      "id": "hAn7hf6csiE7",
      "execution_count": 99,
      "outputs": [
        {
          "output_type": "execute_result",
          "data": {
            "application/vnd.google.colaboratory.intrinsic+json": {
              "type": "string"
            },
            "text/plain": [
              "'<!DOCTYPE html>\\n<html lang=\"id-ID\">\\n<head>\\n<script data-ad-client=\"ca-pub-9638064869561472\" async src=\"https://pagead2.googlesyndication.com/pagead/js/adsbygoogle.js\"></script>\\n<meta charset=\"UTF-8\">\\n<meta name=\"viewport\" content=\"width=device-width, initial-scale=1, minimum-scale=1\">\\n<link rel=\"profile\" href=\"http://gmpg.org/xfn/11\">\\n<meta name=\\'robots\\' content=\\'index, follow, max-image-preview:large, max-snippet:-1, max-video-preview:-1\\'/>\\n<link rel=\"preload\" href=\"https://warstek.com/wp-content/plugins/rate-my-post/public/css/fonts/ratemypost.ttf\" type=\"font/ttf\" as=\"font\" crossorigin=\"anonymous\">\\n<title>Mengenal Kabel Laut - Bagian Utama dari Internet</title>\\n<meta name=\"description\" content=\"Hampir seluruh internet kita melewati kabel laut, bukan satelit. Namun, meski jauh lebih murah dan cepat, kabel laut juga memiliki kelemahan\"/>\\n<link rel=\"canonical\" href=\"https://warstek.com/kabel-laut/\"/>\\n<meta property=\"og:locale\" content=\"id_ID\"/>\\n<meta property=\"og:type\" content=\"article\"/>\\n<meta property=\"og:title\" content=\"Mengenal Kabel Laut - Bagian Utama dari Internet\"/>\\n<meta property=\"og:description\" content=\"Hampir seluruh internet kita melewati kabel laut, bukan satelit. Namun, meski jauh lebih murah dan cepat, kabel laut juga memiliki kelemahan\"/>\\n<meta property=\"og:url\" content=\"https://warstek.com/kabel-laut/\"/>\\n<meta property=\"og:site_name\" content=\"Warung Sains Teknologi\"/>\\n<meta property=\"article:publisher\" content=\"http://fb.com/warstek\"/>\\n<meta property=\"article:published_time\" content=\"2021-09-25T12:23:06+00:00\"/>\\n<meta property=\"article:modified_time\" content=\"2021-09-25T12:23:09+00:00\"/>\\n<meta property=\"og:image\" content=\"https://warstek.com/wp-content/uploads/2021/09/image-12.png\"/>\\n<meta property=\"og:image:width\" content=\"982\"/>\\n<meta property=\"og:image:height\" content=\"360\"/>\\n<meta name=\"twitter:card\" content=\"summary\"/>\\n<meta name=\"twitter:creator\" content=\"@KimiaWarstek\"/>\\n<meta name=\"twitter:site\" content=\"@KimiaWarstek\"/>\\n<meta name=\"twitter:label1\" content=\"Ditulis oleh\"/>\\n<meta name=\"twitter:data1\" content=\"Pandega Abyan Zumarsyah\"/>\\n<meta name=\"twitter:label2\" content=\"Estimasi waktu membaca\"/>\\n<meta name=\"twitter:data2\" content=\"6 menit\"/>\\n<script type=\"application/ld+json\" class=\"yoast-schema-graph\">{\"@context\":\"https://schema.org\",\"@graph\":[{\"@type\":\"WebSite\",\"@id\":\"https://warstek.com/#website\",\"url\":\"https://warstek.com/\",\"name\":\"Warung Sains Teknologi\",\"description\":\"Sains dan Teknologi yang Seru dan Menyenangkan\",\"potentialAction\":[{\"@type\":\"SearchAction\",\"target\":{\"@type\":\"EntryPoint\",\"urlTemplate\":\"https://warstek.com/?s={search_term_string}\"},\"query-input\":\"required name=search_term_string\"}],\"inLanguage\":\"id-ID\"},{\"@type\":\"ImageObject\",\"@id\":\"https://warstek.com/kabel-laut/#primaryimage\",\"inLanguage\":\"id-ID\",\"url\":\"https://warstek.com/wp-content/uploads/2021/09/image-12.png\",\"contentUrl\":\"https://warstek.com/wp-content/uploads/2021/09/image-12.png\",\"width\":982,\"height\":360,\"caption\":\"Mengenal Kabel Laut - Bagian Utama dari Internet\"},{\"@type\":\"WebPage\",\"@id\":\"https://warstek.com/kabel-laut/#webpage\",\"url\":\"https://warstek.com/kabel-laut/\",\"name\":\"Mengenal Kabel Laut - Bagian Utama dari Internet\",\"isPartOf\":{\"@id\":\"https://warstek.com/#website\"},\"primaryImageOfPage\":{\"@id\":\"https://warstek.com/kabel-laut/#primaryimage\"},\"datePublished\":\"2021-09-25T12:23:06+00:00\",\"dateModified\":\"2021-09-25T12:23:09+00:00\",\"author\":{\"@id\":\"https://warstek.com/#/schema/person/2f7479aaba211e0befcf8dbaf62d3312\"},\"description\":\"Hampir seluruh internet kita melewati kabel laut, bukan satelit. Namun, meski jauh lebih murah dan cepat, kabel laut juga memiliki kelemahan\",\"breadcrumb\":{\"@id\":\"https://warstek.com/kabel-laut/#breadcrumb\"},\"inLanguage\":\"id-ID\",\"potentialAction\":[{\"@type\":\"ReadAction\",\"target\":[\"https://warstek.com/kabel-laut/\"]}]},{\"@type\":\"BreadcrumbList\",\"@id\":\"https://warstek.com/kabel-laut/#breadcrumb\",\"itemListElement\":[{\"@type\":\"ListItem\",\"position\":1,\"name\":\"Home\",\"item\":\"https://warstek.com/\"},{\"@type\":\"ListItem\",\"position\":2,\"name\":\"Mengenal Kabel Laut &#8211; Bagian Utama dari Internet\"}]},{\"@type\":\"Person\",\"@id\":\"https://warstek.com/#/schema/person/2f7479aaba211e0befcf8dbaf62d3312\",\"name\":\"Pandega Abyan Zumarsyah\",\"image\":{\"@type\":\"ImageObject\",\"@id\":\"https://warstek.com/#personlogo\",\"inLanguage\":\"id-ID\",\"url\":\"https://secure.gravatar.com/avatar/71620aaaf0c8f7cc91705d7587a28b59?s=96&d=retro&r=g\",\"contentUrl\":\"https://secure.gravatar.com/avatar/71620aaaf0c8f7cc91705d7587a28b59?s=96&d=retro&r=g\",\"caption\":\"Pandega Abyan Zumarsyah\"},\"description\":\"Mahasiswa S-1 Teknik Elektro di Universitas Gadjah Mada. Tertarik pada semua bidang sains dan teknologi secara umum; terutama bidang Fisika, Sejarah Sains, dan Teknik Elektro\",\"sameAs\":[\"http://pandegaaz101.blogspot.com\",\"https://www.instagram.com/pandegaaz/\",\"https://www.linkedin.com/in/pandega-abyan-zumarsyah-43910a152\"],\"url\":\"https://warstek.com/author/pandegaabyan/\"}]}</script>\\n<link rel=\"alternate\" type=\"application/rss+xml\" title=\"Warung Sains Teknologi &raquo; Feed\" href=\"https://warstek.com/feed/\"/>\\n<link rel=\"alternate\" type=\"application/rss+xml\" title=\"Warung Sains Teknologi &raquo; Umpan Komentar\" href=\"https://warstek.com/comments/feed/\"/>\\n<link rel=\"alternate\" type=\"application/rss+xml\" title=\"Warung Sains Teknologi &raquo; Mengenal Kabel Laut &#8211; Bagian Utama dari Internet Umpan Komentar\" href=\"https://warstek.com/kabel-laut/feed/\"/>\\n<link rel=\"stylesheet\" type=\"text/css\" href=\"//warstek.com/wp-content/cache/wpfc-minified/e4buso0a/dx2m4.css\" media=\"all\"/>\\n<style id=\\'wp-block-library-inline-css\\'>.has-text-align-justify{text-align:justify;}</style>\\n<link rel=\"stylesheet\" type=\"text/css\" href=\"//warstek.com/wp-content/cache/wpfc-minified/lbfp6j25/e4tew.css\" media=\"all\"/>\\n<style id=\\'neve-style-inline-css\\'>.header-menu-sidebar-inner li.menu-item-nav-search{display:none;}\\n.container{max-width:748px;}\\n.has-neve-button-color-color{color:var(--nv-primary-accent)!important;}\\n.has-neve-button-color-background-color{background-color:var(--nv-primary-accent)!important;}\\n.single-post-container .alignfull > [class*=\"__inner-container\"], .single-post-container .alignwide > [class*=\"__inner-container\"]{max-width:718px}\\n.button.button-primary, button, input[type=button], .btn, input[type=\"submit\"], \\nul[id^=\"nv-primary-navigation\"] li.button.button-primary > a, .menu li.button.button-primary > a, .wp-block-button.is-style-primary .wp-block-button__link, .wc-block-grid .wp-block-button .wp-block-button__link, form input[type=\"submit\"], form button[type=\"submit\"], #comments input[type=\"submit\"]{background-color:var(--nv-primary-accent);color:#ffffff;border-radius:3px;border:none;border-width:1px 1px 1px 1px;}\\n.button.button-primary:hover, ul[id^=\"nv-primary-navigation\"] li.button.button-primary > a:hover, .menu li.button.button-primary > a:hover, .wp-block-button.is-style-primary .wp-block-button__link:hover, .wc-block-grid .wp-block-button .wp-block-button__link:hover, form input[type=\"submit\"]:hover, form button[type=\"submit\"]:hover, #comments input[type=\"submit\"]:hover{background-color:var(--nv-primary-accent);color:#ffffff;}\\n.button.button-secondary:not(.secondary-default), .wp-block-button.is-style-secondary .wp-block-button__link{background-color:rgba(0,0,0,0);color:var(--nv-text-color);border-radius:3px;border:1px solid;border-width:1px 1px 1px 1px;}\\n.button.button-secondary.secondary-default{background-color:rgba(0,0,0,0);color:var(--nv-text-color);border-radius:3px;border:1px solid;border-width:1px 1px 1px 1px;}\\n.button.button-secondary:not(.secondary-default):hover, .wp-block-button.is-style-secondary .wp-block-button__link:hover{background-color:rgba(0,0,0,0);color:var(--nv-text-color);}\\n.button.button-secondary.secondary-default:hover{background-color:rgba(0,0,0,0);color:var(--nv-text-color);}\\nbody, .site-title{font-size:16px;}\\nform:not([role=\"search\"]):not(.woocommerce-cart-form):not(.woocommerce-ordering):not(.cart) input:read-write:not(#coupon_code), form textarea, form select, .widget select{margin-bottom:10px;}\\nform input:read-write, form textarea, form select, form select option, form.wp-block-search input.wp-block-search__input, .widget select{color:var(--nv-text-color);}\\nform label, .wpforms-container .wpforms-field-label{margin-bottom:10px;}\\nform.search-form input:read-write{padding-right:45px !important;}\\n.header-main-inner,.header-main-inner a:not(.button),.header-main-inner .navbar-toggle{color:var(--nv-text-color);}\\n.header-main-inner .nv-icon svg,.header-main-inner .nv-contact-list svg{fill:var(--nv-text-color);}\\n.header-main-inner .icon-bar{background-color:var(--nv-text-color);}\\n.hfg_header .header-main-inner .nav-ul .sub-menu{background-color:#ffffff;}\\n.hfg_header .header-main-inner{background-color:#ffffff;}\\n.header-bottom-inner,.header-bottom-inner a:not(.button),.header-bottom-inner .navbar-toggle{color:var(--nv-text-dark-bg);}\\n.header-bottom-inner .nv-icon svg,.header-bottom-inner .nv-contact-list svg{fill:var(--nv-text-dark-bg);}\\n.header-bottom-inner .icon-bar{background-color:var(--nv-text-dark-bg);}\\n.hfg_header .header-bottom-inner .nav-ul .sub-menu{background-color:#fba912;}\\n.hfg_header .header-bottom-inner{background-color:#fba912;}\\n.header-menu-sidebar .header-menu-sidebar-bg,.header-menu-sidebar .header-menu-sidebar-bg a:not(.button),.header-menu-sidebar .header-menu-sidebar-bg .navbar-toggle{color:var(--nv-text-color);}\\n.header-menu-sidebar .header-menu-sidebar-bg .nv-icon svg,.header-menu-sidebar .header-menu-sidebar-bg .nv-contact-list svg{fill:var(--nv-text-color);}\\n.header-menu-sidebar .header-menu-sidebar-bg .icon-bar{background-color:var(--nv-text-color);}\\n.hfg_header .header-menu-sidebar .header-menu-sidebar-bg .nav-ul .sub-menu{background-color:#ffffff;}\\n.hfg_header .header-menu-sidebar .header-menu-sidebar-bg{background-color:#ffffff;}\\n.header-menu-sidebar{width:360px;}\\n.builder-item--logo .site-logo img{max-width:120px;}\\n.builder-item--logo .site-logo{padding:10px 0px 10px 0px;}\\n.builder-item--logo{margin:0px 0px 0px 0px;}\\n.builder-item--nav-icon .navbar-toggle{padding:10px 15px 10px 15px;}\\n.builder-item--nav-icon{margin:0px 0px 0px 0px;}\\n.builder-item--primary-menu .nav-menu-primary > .nav-ul li:not(.woocommerce-mini-cart-item) > a,.builder-item--primary-menu .nav-menu-primary > .nav-ul .has-caret > a,.builder-item--primary-menu .nav-menu-primary > .nav-ul .neve-mm-heading span,.builder-item--primary-menu .nav-menu-primary > .nav-ul .has-caret{color:var(--nv-text-color);}\\n.builder-item--primary-menu .nav-menu-primary > .nav-ul li:not(.woocommerce-mini-cart-item) > a:after,.builder-item--primary-menu .nav-menu-primary > .nav-ul li > .has-caret > a:after{background-color:var(--nv-secondary-accent);}\\n.builder-item--primary-menu .nav-menu-primary > .nav-ul li:not(.woocommerce-mini-cart-item):hover > a,.builder-item--primary-menu .nav-menu-primary > .nav-ul li:hover > .has-caret > a,.builder-item--primary-menu .nav-menu-primary > .nav-ul li:hover > .has-caret{color:var(--nv-secondary-accent);}\\n.builder-item--primary-menu .nav-menu-primary > .nav-ul li:hover > .has-caret svg{fill:var(--nv-secondary-accent);}\\n.builder-item--primary-menu .nav-menu-primary > .nav-ul li.current-menu-item > a,.builder-item--primary-menu .nav-menu-primary > .nav-ul li.current_page_item > a,.builder-item--primary-menu .nav-menu-primary > .nav-ul li.current_page_item > .has-caret > a{color:var(--nv-primary-accent);}\\n.builder-item--primary-menu .nav-menu-primary > .nav-ul li.current-menu-item > .has-caret svg{fill:var(--nv-primary-accent);}\\n.builder-item--primary-menu .nav-ul > li:not(:last-of-type){margin-right:20px;}\\n.builder-item--primary-menu .style-full-height .nav-ul li:not(.menu-item-nav-search):not(.menu-item-nav-cart):hover > a:after{width:calc(100% + 20px);}\\n.builder-item--primary-menu .nav-ul li a, .builder-item--primary-menu .neve-mm-heading span{min-height:25px;}\\n.builder-item--primary-menu{font-size:1em;line-height:1.6em;letter-spacing:0px;font-weight:500;text-transform:none;padding:0px 0px 0px 0px;margin:0px 0px 0px 0px;}\\n.builder-item--primary-menu svg{width:1em;height:1em;}\\n.builder-item--custom_html .nv-html-content{font-size:1em;line-height:1.6em;letter-spacing:0px;font-weight:900;text-transform:none;}\\n.builder-item--custom_html .nv-html-content svg{width:1em;height:1em;}\\n.builder-item--custom_html{padding:0px 0px 0px 0px;margin:0px 0px 0px 0px;}\\n.footer-top-inner{background-color:#ffffff;}\\n.footer-top-inner,.footer-top-inner a:not(.button),.footer-top-inner .navbar-toggle{color:var(--nv-text-color);}\\n.footer-top-inner .nv-icon svg,.footer-top-inner .nv-contact-list svg{fill:var(--nv-text-color);}\\n.footer-top-inner .icon-bar{background-color:var(--nv-text-color);}\\n.footer-top-inner .nav-ul .sub-menu{background-color:#ffffff;}\\n.footer-bottom-inner{background-color:#24292e;}\\n.footer-bottom-inner,.footer-bottom-inner a:not(.button),.footer-bottom-inner .navbar-toggle{color:#ffffff;}\\n.footer-bottom-inner .nv-icon svg,.footer-bottom-inner .nv-contact-list svg{fill:#ffffff;}\\n.footer-bottom-inner .icon-bar{background-color:#ffffff;}\\n.footer-bottom-inner .nav-ul .sub-menu{background-color:#24292e;}\\n.builder-item--footer-one-widgets{padding:0px 0px 0px 0px;margin:0px 0px 0px 0px;}\\n.builder-item--footer-two-widgets{padding:0px 0px 0px 0px;margin:0px 0px 0px 0px;}\\n.builder-item--footer_copyright{font-size:1em;line-height:1.6em;letter-spacing:0px;font-weight:500;text-transform:none;padding:0px 0px 0px 0px;margin:0px 0px 0px 0px;}\\n.builder-item--footer_copyright svg{width:1em;height:1em;}\\n@media(min-width:576px){ .container{max-width:992px;}\\n.single-post-container .alignfull > [class*=\"__inner-container\"], .single-post-container .alignwide > [class*=\"__inner-container\"]{max-width:962px}\\nbody, .site-title{font-size:16px;}\\n.header-menu-sidebar{width:360px;}\\n.builder-item--logo .site-logo img{max-width:120px;}\\n.builder-item--logo .site-logo{padding:10px 0px 10px 0px;}\\n.builder-item--logo{margin:0px 0px 0px 0px;}\\n.builder-item--nav-icon .navbar-toggle{padding:10px 15px 10px 15px;}\\n.builder-item--nav-icon{margin:0px 0px 0px 0px;}\\n.builder-item--primary-menu .nav-ul > li:not(:last-of-type){margin-right:20px;}\\n.builder-item--primary-menu .style-full-height .nav-ul li:not(.menu-item-nav-search):not(.menu-item-nav-cart):hover > a:after{width:calc(100% + 20px);}\\n.builder-item--primary-menu .nav-ul li a, .builder-item--primary-menu .neve-mm-heading span{min-height:25px;}\\n.builder-item--primary-menu{font-size:1em;line-height:1.6em;letter-spacing:0px;padding:0px 0px 0px 0px;margin:0px 0px 0px 0px;}\\n.builder-item--primary-menu svg{width:1em;height:1em;}\\n.builder-item--custom_html .nv-html-content{font-size:1em;line-height:1.6em;letter-spacing:0px;}\\n.builder-item--custom_html .nv-html-content svg{width:1em;height:1em;}\\n.builder-item--custom_html{padding:0px 0px 0px 0px;margin:0px 0px 0px 0px;}\\n.builder-item--footer-one-widgets{padding:0px 0px 0px 0px;margin:0px 0px 0px 0px;}\\n.builder-item--footer-two-widgets{padding:0px 0px 0px 0px;margin:0px 0px 0px 0px;}\\n.builder-item--footer_copyright{font-size:1em;line-height:1.6em;letter-spacing:0px;padding:0px 0px 0px 0px;margin:0px 0px 0px 0px;}\\n.builder-item--footer_copyright svg{width:1em;height:1em;}\\n}@media(min-width:960px){ .container{max-width:1170px;}\\n.neve-main > .archive-container .nv-index-posts.col{max-width:75%;}\\n.neve-main > .archive-container .nv-sidebar-wrap{max-width:25%;}\\n.neve-main > .single-post-container .nv-single-post-wrap.col{max-width:70%;}\\n.single-post-container .alignfull > [class*=\"__inner-container\"], .single-post-container .alignwide > [class*=\"__inner-container\"]{max-width:789px}\\n.container-fluid.single-post-container .alignfull > [class*=\"__inner-container\"], .container-fluid.single-post-container .alignwide > [class*=\"__inner-container\"]{max-width:calc(70% + 15px)}\\n.neve-main > .single-post-container .nv-sidebar-wrap{max-width:30%;}\\nbody, .site-title{font-size:15px;}\\n.header-menu-sidebar{width:360px;}\\n.builder-item--logo .site-logo img{max-width:210px;}\\n.builder-item--logo .site-logo{padding:10px 0px 10px 0px;}\\n.builder-item--logo{margin:0px 0px 0px 0px;}\\n.builder-item--nav-icon .navbar-toggle{padding:10px 15px 10px 15px;}\\n.builder-item--nav-icon{margin:0px 0px 0px 0px;}\\n.builder-item--primary-menu .nav-ul > li:not(:last-of-type){margin-right:20px;}\\n.builder-item--primary-menu .style-full-height .nav-ul li:not(.menu-item-nav-search):not(.menu-item-nav-cart) > a:after{left:-10px;right:-10px}\\n.builder-item--primary-menu .style-full-height .nav-ul li:not(.menu-item-nav-search):not(.menu-item-nav-cart):hover > a:after{width:calc(100% + 20px);}\\n.builder-item--primary-menu .nav-ul li a, .builder-item--primary-menu .neve-mm-heading span{min-height:25px;}\\n.builder-item--primary-menu{font-size:1em;line-height:1.6em;letter-spacing:0px;padding:0px 0px 0px 0px;margin:0px 0px 0px 0px;}\\n.builder-item--primary-menu svg{width:1em;height:1em;}\\n.builder-item--custom_html .nv-html-content{font-size:1.7em;line-height:1.6em;letter-spacing:0px;}\\n.builder-item--custom_html .nv-html-content svg{width:1.7em;height:1.7em;}\\n.builder-item--custom_html{padding:0px 0px 0px 0px;margin:0px 0px 0px 0px;}\\n.builder-item--footer-one-widgets{padding:0px 0px 0px 0px;margin:0px 0px 0px 0px;}\\n.builder-item--footer-two-widgets{padding:0px 0px 0px 0px;margin:0px 0px 0px 0px;}\\n.builder-item--footer_copyright{font-size:1em;line-height:1.6em;letter-spacing:0px;padding:0px 0px 0px 0px;margin:0px 0px 0px 0px;}\\n.builder-item--footer_copyright svg{width:1em;height:1em;}\\n}.nv-content-wrap .elementor a:not(.button):not(.wp-block-file__button){text-decoration:none;}:root{--nv-primary-accent:#ffa500;--nv-secondary-accent:#ffa500;--nv-site-bg:#ffffff;--nv-light-bg:#ededed;--nv-dark-bg:#14171c;--nv-text-color:#393939;--nv-text-dark-bg:#ffffff;--nv-c-1:#77b978;--nv-c-2:#f37262;--nv-fallback-ff:Arial, Helvetica, sans-serif;}:root{--e-global-color-nvprimaryaccent:#ffa500;--e-global-color-nvsecondaryaccent:#ffa500;--e-global-color-nvsitebg:#;--e-global-color-nvlightbg:#ededed;--e-global-color-nvdarkbg:#14171c;--e-global-color-nvtextcolor:#393939;--e-global-color-nvtextdarkbg:#ffffff;--e-global-color-nvc1:#77b978;--e-global-color-nvc2:#f37262;}</style>\\n<link rel=\"stylesheet\" type=\"text/css\" href=\"//warstek.com/wp-content/cache/wpfc-minified/1e3worhh/dx2m4.css\" media=\"all\"/>\\n<style id=\\'quads-styles-inline-css\\'>.quads-location ins.adsbygoogle{background:transparent !important;}\\n.quads-ad-label{font-size:12px;text-align:center;color:#333;}</style>\\n<link rel=\"https://api.w.org/\" href=\"https://warstek.com/wp-json/\"/><link rel=\"alternate\" type=\"application/json\" href=\"https://warstek.com/wp-json/wp/v2/posts/53058\"/><link rel=\"EditURI\" type=\"application/rsd+xml\" title=\"RSD\" href=\"https://warstek.com/xmlrpc.php?rsd\"/>\\n<link rel=\"wlwmanifest\" type=\"application/wlwmanifest+xml\" href=\"https://warstek.com/wp-includes/wlwmanifest.xml\"/> \\n<meta name=\"generator\" content=\"WordPress 5.8.2\"/>\\n<link rel=\\'shortlink\\' href=\\'https://warstek.com/?p=53058\\'/>\\n<link rel=\"alternate\" type=\"application/json+oembed\" href=\"https://warstek.com/wp-json/oembed/1.0/embed?url=https%3A%2F%2Fwarstek.com%2Fkabel-laut%2F\"/>\\n<link rel=\"alternate\" type=\"text/xml+oembed\" href=\"https://warstek.com/wp-json/oembed/1.0/embed?url=https%3A%2F%2Fwarstek.com%2Fkabel-laut%2F&#038;format=xml\"/>\\n<style>.abh_tab_content .abh_text .abh_name,section.abh_tab{padding:0!important;margin:0!important}.abh_box,.abh_tabs{width:100%!important}.abh_box{clear:both!important;position:relative!important;padding:25px 0!important}.abh_tabs{list-style:none!important;padding:5px 0 1px!important;margin:0!important;font:13px arial!important;border-bottom:1px solid #ccc!important}.abh_tab_content .abh_text ul,.abh_tabs li{list-style:none!important;padding:0!important}.abh_tabs li{display:inline!important;margin:0!important}.abh_tabs li:after,.abh_tabs li:before{content:\"\"!important;padding:0!important;margin:0!important}.abh_tab_content .abh_tab,.abh_tabs li i{display:none}.abh_tabs li a,.abh_tabs li a:hover{padding:4px 10px 5px!important;box-shadow:none!important;-webkit-box-shadow:none!important}.abh_tabs li a{background-color:transparent!important;border:0 solid #ccc!important;text-decoration:none!important;border-bottom:none!important;outline:0!important;font-size:100%!important;line-height:23px!important}.abh_tabs li a:hover{background-color:#ddd!important}.abh_tabs li a,.abh_tabs li.abh_active a{color:#333!important}.abh_tabs li.abh_active a,.abh_tabs li.abh_active a:hover{background-color:#eee!important;padding:4px 10px 5px!important;border-bottom:none!important;box-shadow:none!important;-webkit-box-shadow:none!important}.abh_tabs li a.icon_accept:hover{padding-left:24px!important}.abh_tabs_content_container{border:2px solid #ccc!important;border-top:none!important;padding:10px!important;width:400px!important}.abh_tab_content{padding:20px 12px!important;min-height:80px!important;overflow:hidden!important;border-bottom:1px solid #ccc!important}.abh_tab_content .abh_image{display:block;float:left!important;width:80px!important;margin-top:10px!important}.abh_tab_content .abh_image img{max-width:80px!important;height:auto;box-shadow:0 1px 4px rgba(0,0,0,.2)!important;overflow:hidden!important;-webkit-border-radius:50% 50% 50% 50%!important;-moz-border-radius:50% 50% 50% 50%!important;border-radius:50% 50% 50% 50%!important}.abh_tab_content .abh_image a{border:0!important;box-shadow:0 1px 4px rgba(0,0,0,.2)!important;-webkit-box-shadow:none!important}.abh_tab_content .abh_text{margin-left:96px!important;font-size:100%!important;line-height:1.5!important}.abh_tab_content .abh_text .abh_name{font-size:20px!important;clear:none!important;font-weight:700!important;text-align:left!important;line-height:20px!important}.abh_tab_content .abh_text .fn{text-transform:capitalize!important;clear:none!important;font-size:18px!important;line-height:24px!important;margin:0!important;padding:0!important;border:0!important}.abh_tab_content .abh_text a{font-size:100%!important}.abh_tab_content .abh_text .abh_job{line-height:20px!important;font-size:100%!important}.abh_tab_content .abh_text .abh_job span{vertical-align:top!important;font-size:13px!important;background-image:none!important;padding:0!important;margin:0!important}.abh_tab_content .abh_text .abh_description{position:static!important;padding-top:6px!important;font-size:14px!important;width:100%!important}.abh_tab_content .abh_text .abh_allposts{font-size:11px!important;vertical-align:middle!important}.abh_tab_content .abh_text ul{margin:5px 0 0 15px!important}.abh_tab_content .abh_text ul li,.abh_tab_content .abh_text ul li span{font-size:13px!important;line-height:20px!important;margin:0!important}.abh_tab_content .abh_social{display:block;float:right!important;line-height:1px!important;padding:0!important;margin:3px 0 0!important;text-align:right!important}.abh_tab_content .abh_social div{width:140px!important;margin:0 0 0 auto!important}.abh_box .abh_pwb a,.abh_tab_content .abh_social a,.abh_tab_content .abh_text a{text-decoration:none!important;box-shadow:none!important;-webkit-box-shadow:none!important}.abh_tab_content .abh_social a{display:inline-block;background:url(//warstek.com/wp-content/plugins/starbox/themes/business/img/sprite.png) no-repeat!important;width:24px!important;height:24px!important;margin:1px!important;padding:0!important;opacity:.5!important;transition:opacity .2s!important;-moz-transition:opacity .2s!important;-webkit-transition:opacity .2s!important;-o-transition:opacity .2s!important;border-radius:5px!important;-webkit-border-radius:5px!important;-moz-border-radius:5px!important}.abh_tab_content .abh_social a:hover{opacity:1!important}.abh_tab_content .abh_social a.abh_facebook{background-position:0 0!important}.abh_tab_content .abh_social a.abh_flickr{background-position:-24px 0!important}.abh_tab_content .abh_social a.abh_google{background-position:-48px 0!important}.abh_tab_content .abh_social a.abh_instagram{background-position:-72px 0!important}.abh_tab_content .abh_social a.abh_linkedin{background-position:-96px 0!important}.abh_tab_content .abh_social a.abh_pinterest{background-position:-120px 0!important}.abh_tab_content .abh_social a.abh_tumblr{background-position:-144px 0!important}.abh_tab_content .abh_social a.abh_twitter{background-position:-168px 0!important}.abh_tab_content .abh_social a.abh_vimeo{background-position:-192px 0!important}.abh_tab_content .abh_social a.abh_youtube{background-position:-216px 0!important}.abh_box .vcard{background:0 0!important;font-size:100%!important;border:0!important}.abh_box .abh_pwb a{position:absolute!important;font-size:9px!important;color:#999!important;right:0!important;bottom:5px!important}#author-bio-box,#authorarea,#cab-author,#entry-author-info,#post-author,.article-author,.author-bio,.author-box,.author-info,.author-wrap,.autore,.card-profile{display:none}</style>\\n<style>.um_request_name{display:none !important;}</style>\\n<script>!function(e,n){\"function\"==typeof define&&define.amd?define([],n(\"adsenseLoader\")):\"object\"==typeof exports?module.exports=n(\"adsenseLoader\"):e.adsenseLoader=n(\"adsenseLoader\")}(this,function(e){\"use strict\";var n=250,t={laziness:1,onLoad:!1},o=function(e,n){var t,o={};for(t in e)Object.prototype.hasOwnProperty.call(e,t)&&(o[t]=e[t]);for(t in n)Object.prototype.hasOwnProperty.call(n,t)&&(o[t]=n[t]);return o},r=function(e,n){var t,o;return function(){var r=this,a=arguments,i=+new Date;t&&i<t+e?(clearTimeout(o),o=setTimeout(function(){t=i,n.apply(r,a)},e)):(t=i,n.apply(r,a))}},a=[],i=[],s=[],d=function(){if(!a.length)return!0;var e=window.pageYOffset,n=window.innerHeight;a.forEach(function(t){var o,r,d=(o=t,r=o.getBoundingClientRect(),{top:r.top+document.body.scrollTop,left:r.left+document.body.scrollLeft}).top,f=t._adsenseLoaderData.options.laziness+1;if(d-e>n*f||e-d-t.offsetHeight-n*f>0)return!0;a=u(a,t),t._adsenseLoaderData.width=c(t),function(e,n){e.classList?e.classList.add(n):e.className+=\" \"+n}(t.querySelector(\"ins\"),\"adsbygoogle\"),i.push(t),\"undefined\"!=typeof adsbygoogle?function(e){(adsbygoogle=window.adsbygoogle||[]).push({});var n=e._adsenseLoaderData.options.onLoad;\"function\"==typeof n&&e.querySelector(\"iframe\")&&e.querySelector(\"iframe\").addEventListener(\"load\",function(){n(e)})}(t):s.push(t)})},c=function(e){return parseInt(window.getComputedStyle(e,\":before\").getPropertyValue(\"content\").slice(1,-1)||9999)},u=function(e,n){return e.filter(function(e){return e!==n})},f=function(e,n){return e._adsenseLoaderData={originalHTML:e.innerHTML,options:n},e.adsenseLoader=function(n){\"destroy\"==n&&(a=u(a,e),i=u(i,e),s=u(i,e),e.innerHTML=e._adsenseLoaderData.originalHTML)},e};function l(e,n){\"string\"==typeof e?e=document.querySelectorAll(e):void 0===e.length&&(e=[e]),n=o(t,n),[].forEach.call(e,function(e){e=f(e,n),a.push(e)}),this.elements=e,d()}return window.addEventListener(\"scroll\",r(n,d)),window.addEventListener(\"resize\",r(n,d)),window.addEventListener(\"resize\",r(n,function(){if(!i.length)return!0;var e=!1;i.forEach(function(n){n.querySelector(\"ins\").classList.contains(\"adsbygoogle\")||n._adsenseLoaderData.width==c(n)||(e=!0,i=u(i,n),n.innerHTML=n._adsenseLoaderData.originalHTML,a.push(n))}),e&&d()})),l.prototype={destroy:function(){this.elements.forEach(function(e){e.adsenseLoader(\"destroy\")})}},window.adsenseLoaderConfig=function(e){void 0!==e.throttle&&(n=e.throttle)},l});</script>\\n<style>img#wpstats{display:none}</style>\\n<link rel=\"icon\" href=\"https://warstek.com/wp-content/uploads/2018/12/cropped-logo-kecil-32x32.png\" sizes=\"32x32\"/>\\n<link rel=\"icon\" href=\"https://warstek.com/wp-content/uploads/2018/12/cropped-logo-kecil-192x192.png\" sizes=\"192x192\"/>\\n<link rel=\"apple-touch-icon\" href=\"https://warstek.com/wp-content/uploads/2018/12/cropped-logo-kecil-180x180.png\"/>\\n<meta name=\"msapplication-TileImage\" content=\"https://warstek.com/wp-content/uploads/2018/12/cropped-logo-kecil-270x270.png\"/>\\n<style id=\"wp-custom-css\">.entry-date{display:none;}</style>\\n<script data-wpfc-render=\"false\">var Wpfcll={s:[],osl:0,scroll:false,i:function(){Wpfcll.ss();window.addEventListener(\\'load\\',function(){window.addEventListener(\"DOMSubtreeModified\",function(e){Wpfcll.osl=Wpfcll.s.length;Wpfcll.ss();if(Wpfcll.s.length > Wpfcll.osl){Wpfcll.ls(false);}},false);Wpfcll.ls(true);});window.addEventListener(\\'scroll\\',function(){Wpfcll.scroll=true;Wpfcll.ls(false);});window.addEventListener(\\'resize\\',function(){Wpfcll.scroll=true;Wpfcll.ls(false);});window.addEventListener(\\'click\\',function(){Wpfcll.scroll=true;Wpfcll.ls(false);});},c:function(e,pageload){var w=document.documentElement.clientHeight || body.clientHeight;var n=0;if(pageload){n=0;}else{n=(w > 800) ? 800:200;n=Wpfcll.scroll ? 800:n;}var er=e.getBoundingClientRect();var t=0;var p=e.parentNode ? e.parentNode:false;if(typeof p.getBoundingClientRect==\"undefined\"){var pr=false;}else{var pr=p.getBoundingClientRect();}if(er.x==0 && er.y==0){for(var i=0;i < 10;i++){if(p){if(pr.x==0 && pr.y==0){if(p.parentNode){p=p.parentNode;}if(typeof p.getBoundingClientRect==\"undefined\"){pr=false;}else{pr=p.getBoundingClientRect();}}else{t=pr.top;break;}}};}else{t=er.top;}if(w - t+n > 0){return true;}return false;},r:function(e,pageload){var s=this;var oc,ot;try{oc=e.getAttribute(\"data-wpfc-original-src\");ot=e.getAttribute(\"data-wpfc-original-srcset\");originalsizes=e.getAttribute(\"data-wpfc-original-sizes\");if(s.c(e,pageload)){if(oc || ot){if(e.tagName==\"DIV\" || e.tagName==\"A\" || e.tagName==\"SPAN\"){e.style.backgroundImage=\"url(\"+oc+\")\";e.removeAttribute(\"data-wpfc-original-src\");e.removeAttribute(\"data-wpfc-original-srcset\");e.removeAttribute(\"onload\");}else{if(oc){e.setAttribute(\\'src\\',oc);}if(ot){e.setAttribute(\\'srcset\\',ot);}if(originalsizes){e.setAttribute(\\'sizes\\',originalsizes);}if(e.getAttribute(\"alt\") && e.getAttribute(\"alt\")==\"blank\"){e.removeAttribute(\"alt\");}e.removeAttribute(\"data-wpfc-original-src\");e.removeAttribute(\"data-wpfc-original-srcset\");e.removeAttribute(\"data-wpfc-original-sizes\");e.removeAttribute(\"onload\");if(e.tagName==\"IFRAME\"){var y=\"https://www.youtube.com/embed/\";if(navigator.userAgent.match(/\\\\sEdge?\\\\/\\\\d/i)){e.setAttribute(\\'src\\',e.getAttribute(\"src\").replace(/.+\\\\/templates\\\\/youtube\\\\.html\\\\#/,y));}e.onload=function(){if(typeof window.jQuery !=\"undefined\"){if(jQuery.fn.fitVids){jQuery(e).parent().fitVids({customSelector:\"iframe[src]\"});}}var s=e.getAttribute(\"src\").match(/templates\\\\/youtube\\\\.html\\\\#(.+)/);if(s){try{var i=e.contentDocument || e.contentWindow;if(i.location.href==\"about:blank\"){e.setAttribute(\\'src\\',y+s[1]);}}catch(err){e.setAttribute(\\'src\\',y+s[1]);}}}}}}else{if(e.tagName==\"NOSCRIPT\"){if(jQuery(e).attr(\"data-type\")==\"wpfc\"){e.removeAttribute(\"data-type\");jQuery(e).after(jQuery(e).text());}}}}}catch(error){console.log(error);console.log(\"==>\",e);}},ss:function(){var i=Array.prototype.slice.call(document.getElementsByTagName(\"img\"));var f=Array.prototype.slice.call(document.getElementsByTagName(\"iframe\"));var d=Array.prototype.slice.call(document.getElementsByTagName(\"div\"));var a=Array.prototype.slice.call(document.getElementsByTagName(\"a\"));var s=Array.prototype.slice.call(document.getElementsByTagName(\"span\"));var n=Array.prototype.slice.call(document.getElementsByTagName(\"noscript\"));this.s=i.concat(f).concat(d).concat(a).concat(s).concat(n);},ls:function(pageload){var s=this;[].forEach.call(s.s,function(e,index){s.r(e,pageload);});}};document.addEventListener(\\'DOMContentLoaded\\',function(){wpfci();});function wpfci(){Wpfcll.i();}</script>\\n</head>\\n<body class=\"post-template-default single single-post postid-53058 single-format-standard wp-custom-logo nv-sidebar-right menu_sidebar_slide_left elementor-default elementor-kit-47276\" id=\"neve_body\">\\n<div class=\"wrapper\">\\n<header class=\"header\" role=\"banner\">\\n<a class=\"neve-skip-link show-on-focus\" href=\"#content\" tabindex=\"0\">\\nLompat ke konten\\t\\t</a>\\n<div id=\"header-grid\" class=\"hfg_header site-header\">\\n<nav class=\"header--row header-main hide-on-mobile hide-on-tablet layout-full-contained nv-navbar header--row\" data-row-id=\"main\" data-show-on=\"desktop\">\\n<div class=\"header--row-inner header-main-inner\">\\n<div class=\"container\">\\n<div class=\"row row--wrapper\" data-section=\"hfg_header_layout_main\">\\n<div class=\"builder-item hfg-item-first col-4 desktop-left\"><div class=\"item--inner builder-item--logo\" data-section=\"title_tagline\" data-item-id=\"logo\">\\n<div class=\"site-logo\"> <a class=\"brand\" href=\"https://warstek.com/\" title=\"Warung Sains Teknologi\" aria-label=\"Warung Sains Teknologi\"><img width=\"296\" height=\"90\" src=\"https://warstek.com/wp-content/uploads/2017/08/footer-logo-copy-1.png\" class=\"skip-lazy\" alt=\"\" loading=\"lazy\"/></a></div></div></div><div class=\"builder-item has-nav hfg-item-last col-8 desktop-right\"><div class=\"item--inner builder-item--primary-menu has_menu\" data-section=\"header_menu_primary\" data-item-id=\"primary-menu\">\\n<div class=\"nv-nav-wrap\">\\n<div role=\"navigation\" class=\"style-plain nav-menu-primary\" aria-label=\"Menu Utama\">\\n<ul id=\"nv-primary-navigation-main\" class=\"primary-menu-ul nav-ul\"><li id=\"menu-item-32620\" class=\"menu-item menu-item-type-custom menu-item-object-custom menu-item-home menu-item-32620\"><a href=\"https://warstek.com\">Beranda</a></li>\\n<li id=\"menu-item-43746\" class=\"menu-item menu-item-type-custom menu-item-object-custom menu-item-has-children menu-item-43746\"><a href=\"#\"><span class=\"menu-item-title-wrap\">Sains</span><div class=\"caret-wrap 2\" tabindex=\"0\"><span class=\"caret\"><svg xmlns=\"http://www.w3.org/2000/svg\" viewBox=\"0 0 448 512\"><path d=\"M207.029 381.476L12.686 187.132c-9.373-9.373-9.373-24.569 0-33.941l22.667-22.667c9.357-9.357 24.522-9.375 33.901-.04L224 284.505l154.745-154.021c9.379-9.335 24.544-9.317 33.901.04l22.667 22.667c9.373 9.373 9.373 24.569 0 33.941L240.971 381.476c-9.373 9.372-24.569 9.372-33.942 0z\"/></svg></span></div></a>\\n<ul class=\"sub-menu\">\\n<li id=\"menu-item-32644\" class=\"menu-item menu-item-type-taxonomy menu-item-object-category menu-item-32644\"><a href=\"https://warstek.com/category/sains-alam/\">Sains Alam</a></li>\\n<li id=\"menu-item-32645\" class=\"menu-item menu-item-type-taxonomy menu-item-object-category menu-item-32645\"><a href=\"https://warstek.com/category/sains-sosial/\">Sains Sosial</a></li>\\n</ul>\\n</li>\\n<li id=\"menu-item-32646\" class=\"menu-item menu-item-type-taxonomy menu-item-object-category current-post-ancestor current-menu-parent current-post-parent menu-item-32646\"><a href=\"https://warstek.com/category/teknologi/\">Teknologi</a></li>\\n<li id=\"menu-item-44128\" class=\"menu-item menu-item-type-custom menu-item-object-custom menu-item-44128\"><a href=\"https://warstek.com/materi/\">Materi Sekolah</a></li>\\n<li id=\"menu-item-43747\" class=\"menu-item menu-item-type-custom menu-item-object-custom menu-item-43747\"><a href=\"https://warstek.com/dashboard\">Kontributor</a></li>\\n<li id=\"menu-item-32647\" class=\"menu-item menu-item-type-post_type menu-item-object-page menu-item-32647\"><a href=\"https://warstek.com/kontak/\">Kontak</a></li>\\n<li class=\"menu-item-nav-search minimal\" id=\"nv-menu-item-search-1\" tabindex=\"0\" aria-label=\"search\"><a href=\"#\" class=\"nv-nav-search-icon\"><div class=\"nv-icon nv-search\"> <svg width=\"15\" height=\"15\" viewBox=\"0 0 1792 1792\" xmlns=\"http://www.w3.org/2000/svg\"><path d=\"M1216 832q0-185-131.5-316.5t-316.5-131.5-316.5 131.5-131.5 316.5 131.5 316.5 316.5 131.5 316.5-131.5 131.5-316.5zm512 832q0 52-38 90t-90 38q-54 0-90-38l-343-342q-179 124-399 124-143 0-273.5-55.5t-225-150-150-225-55.5-273.5 55.5-273.5 150-225 225-150 273.5-55.5 273.5 55.5 225 150 150 225 55.5 273.5q0 220-124 399l343 343q37 37 37 90z\"/></svg></div></a><div class=\"nv-nav-search\"><form role=\"search\" method=\"get\" class=\"search-form\" action=\"https://warstek.com/\"> <label> <span class=\"screen-reader-text\">Cari untuk:</span> <input type=\"search\" class=\"search-field\" placeholder=\"Cari &hellip;\" value=\"\" name=\"s\" /> </label> <input type=\"submit\" class=\"search-submit\" value=\"Cari\" /> <div class=\"nv-search-icon-wrap\"><div class=\"nv-icon nv-search\"> <svg width=\"15\" height=\"15\" viewBox=\"0 0 1792 1792\" xmlns=\"http://www.w3.org/2000/svg\"><path d=\"M1216 832q0-185-131.5-316.5t-316.5-131.5-316.5 131.5-131.5 316.5 131.5 316.5 316.5 131.5 316.5-131.5 131.5-316.5zm512 832q0 52-38 90t-90 38q-54 0-90-38l-343-342q-179 124-399 124-143 0-273.5-55.5t-225-150-150-225-55.5-273.5 55.5-273.5 150-225 225-150 273.5-55.5 273.5 55.5 225 150 150 225 55.5 273.5q0 220-124 399l343 343q37 37 37 90z\"/></svg></div></div></form></div></li></ul></div></div></div></div></div></div></div></nav>\\n<div class=\"header--row header-bottom hide-on-mobile hide-on-tablet layout-fullwidth header--row\" data-row-id=\"bottom\" data-show-on=\"desktop\">\\n<div class=\"header--row-inner header-bottom-inner\">\\n<div class=\"container\">\\n<div class=\"row row--wrapper\" data-section=\"hfg_header_layout_bottom\">\\n<div class=\"builder-item hfg-item-last hfg-item-first col-12 desktop-center\"><div class=\"item--inner builder-item--custom_html\" data-section=\"custom_html\" data-item-id=\"custom_html\">\\n<div class=\"nv-html-content\"> <p>Sains dan Teknologi yang Seru dan Menyenangkan</p></div></div></div></div></div></div></div><nav class=\"header--row header-main hide-on-desktop layout-full-contained nv-navbar header--row\" data-row-id=\"main\" data-show-on=\"mobile\">\\n<div class=\"header--row-inner header-main-inner\">\\n<div class=\"container\">\\n<div class=\"row row--wrapper\" data-section=\"hfg_header_layout_main\">\\n<div class=\"builder-item hfg-item-first col-8 tablet-left mobile-left\"><div class=\"item--inner builder-item--logo\" data-section=\"title_tagline\" data-item-id=\"logo\">\\n<div class=\"site-logo\"> <a class=\"brand\" href=\"https://warstek.com/\" title=\"Warung Sains Teknologi\" aria-label=\"Warung Sains Teknologi\"><img width=\"296\" height=\"90\" src=\"https://warstek.com/wp-content/uploads/2017/08/footer-logo-copy-1.png\" class=\"skip-lazy\" alt=\"\" loading=\"lazy\"/></a></div></div></div><div class=\"builder-item hfg-item-last col-4 tablet-right mobile-right\"><div class=\"item--inner builder-item--nav-icon\" data-section=\"header_menu_icon\" data-item-id=\"nav-icon\">\\n<div class=\"menu-mobile-toggle item-button navbar-toggle-wrapper\">\\n<button class=\"navbar-toggle\"\\naria-label=\"\\nMenu Navigasi\\t\\t\\t\">\\n<div class=\"bars\"> <span class=\"icon-bar\"></span> <span class=\"icon-bar\"></span> <span class=\"icon-bar\"></span></div><span class=\"screen-reader-text\">Tombol Navigasi</span>\\n</button></div></div></div></div></div></div></nav>\\n<div id=\"header-menu-sidebar\" class=\"header-menu-sidebar menu-sidebar-panel slide_left\">\\n<div id=\"header-menu-sidebar-bg\" class=\"header-menu-sidebar-bg\">\\n<div class=\"close-sidebar-panel navbar-toggle-wrapper\">\\n<button class=\"navbar-toggle active\" \\t\\t\\t\\t\\taria-label=\"\\nMenu Navigasi\\t\\t\\t\\t\">\\n<div class=\"bars\"> <span class=\"icon-bar\"></span> <span class=\"icon-bar\"></span> <span class=\"icon-bar\"></span></div><span class=\"screen-reader-text\">\\nTombol Navigasi\\t\\t\\t\\t\\t</span>\\n</button></div><div id=\"header-menu-sidebar-inner\" class=\"header-menu-sidebar-inner\">\\n<div class=\"builder-item has-nav hfg-item-last hfg-item-first col-12 desktop-right tablet-left mobile-left\"><div class=\"item--inner builder-item--primary-menu has_menu\" data-section=\"header_menu_primary\" data-item-id=\"primary-menu\">\\n<div class=\"nv-nav-wrap\">\\n<div role=\"navigation\" class=\"style-plain nav-menu-primary\" aria-label=\"Menu Utama\">\\n<ul id=\"nv-primary-navigation-sidebar\" class=\"primary-menu-ul nav-ul\"><li class=\"menu-item menu-item-type-custom menu-item-object-custom menu-item-home menu-item-32620\"><a href=\"https://warstek.com\">Beranda</a></li>\\n<li class=\"menu-item menu-item-type-custom menu-item-object-custom menu-item-has-children menu-item-43746\"><a href=\"#\"><span class=\"menu-item-title-wrap\">Sains</span><div class=\"caret-wrap 2\" tabindex=\"0\"><span class=\"caret\"><svg xmlns=\"http://www.w3.org/2000/svg\" viewBox=\"0 0 448 512\"><path d=\"M207.029 381.476L12.686 187.132c-9.373-9.373-9.373-24.569 0-33.941l22.667-22.667c9.357-9.357 24.522-9.375 33.901-.04L224 284.505l154.745-154.021c9.379-9.335 24.544-9.317 33.901.04l22.667 22.667c9.373 9.373 9.373 24.569 0 33.941L240.971 381.476c-9.373 9.372-24.569 9.372-33.942 0z\"/></svg></span></div></a>\\n<ul class=\"sub-menu\">\\n<li class=\"menu-item menu-item-type-taxonomy menu-item-object-category menu-item-32644\"><a href=\"https://warstek.com/category/sains-alam/\">Sains Alam</a></li>\\n<li class=\"menu-item menu-item-type-taxonomy menu-item-object-category menu-item-32645\"><a href=\"https://warstek.com/category/sains-sosial/\">Sains Sosial</a></li>\\n</ul>\\n</li>\\n<li class=\"menu-item menu-item-type-taxonomy menu-item-object-category current-post-ancestor current-menu-parent current-post-parent menu-item-32646\"><a href=\"https://warstek.com/category/teknologi/\">Teknologi</a></li>\\n<li class=\"menu-item menu-item-type-custom menu-item-object-custom menu-item-44128\"><a href=\"https://warstek.com/materi/\">Materi Sekolah</a></li>\\n<li class=\"menu-item menu-item-type-custom menu-item-object-custom menu-item-43747\"><a href=\"https://warstek.com/dashboard\">Kontributor</a></li>\\n<li class=\"menu-item menu-item-type-post_type menu-item-object-page menu-item-32647\"><a href=\"https://warstek.com/kontak/\">Kontak</a></li>\\n<li class=\"menu-item-nav-search minimal\" id=\"nv-menu-item-search-2\" tabindex=\"0\" aria-label=\"search\"><a href=\"#\" class=\"nv-nav-search-icon\"><div class=\"nv-icon nv-search\"> <svg width=\"15\" height=\"15\" viewBox=\"0 0 1792 1792\" xmlns=\"http://www.w3.org/2000/svg\"><path d=\"M1216 832q0-185-131.5-316.5t-316.5-131.5-316.5 131.5-131.5 316.5 131.5 316.5 316.5 131.5 316.5-131.5 131.5-316.5zm512 832q0 52-38 90t-90 38q-54 0-90-38l-343-342q-179 124-399 124-143 0-273.5-55.5t-225-150-150-225-55.5-273.5 55.5-273.5 150-225 225-150 273.5-55.5 273.5 55.5 225 150 150 225 55.5 273.5q0 220-124 399l343 343q37 37 37 90z\"/></svg></div></a><div class=\"nv-nav-search\"><form role=\"search\" method=\"get\" class=\"search-form\" action=\"https://warstek.com/\"> <label> <span class=\"screen-reader-text\">Cari untuk:</span> <input type=\"search\" class=\"search-field\" placeholder=\"Cari &hellip;\" value=\"\" name=\"s\" /> </label> <input type=\"submit\" class=\"search-submit\" value=\"Cari\" /> <div class=\"nv-search-icon-wrap\"><div class=\"nv-icon nv-search\"> <svg width=\"15\" height=\"15\" viewBox=\"0 0 1792 1792\" xmlns=\"http://www.w3.org/2000/svg\"><path d=\"M1216 832q0-185-131.5-316.5t-316.5-131.5-316.5 131.5-131.5 316.5 131.5 316.5 316.5 131.5 316.5-131.5 131.5-316.5zm512 832q0 52-38 90t-90 38q-54 0-90-38l-343-342q-179 124-399 124-143 0-273.5-55.5t-225-150-150-225-55.5-273.5 55.5-273.5 150-225 225-150 273.5-55.5 273.5 55.5 225 150 150 225 55.5 273.5q0 220-124 399l343 343q37 37 37 90z\"/></svg></div></div></form></div></li></ul></div></div></div></div></div></div></div><div class=\"header-menu-sidebar-overlay\"></div></div></header>\\n<main id=\"content\" class=\"neve-main\" role=\"main\">\\n<div class=\"container single-post-container\">\\n<div class=\"row\">\\n<article id=\"post-53058\" class=\"nv-single-post-wrap col post-53058 post type-post status-publish format-standard has-post-thumbnail hentry category-pilihan-editor category-teknologi tag-fiber-optic tag-internet tag-jasuka tag-kabel-laut tag-telkomsel\">\\n<div class=\"entry-header\"><div class=\"nv-title-meta-wrap\"><h1 class=\"title entry-title \">Mengenal Kabel Laut &#8211; Bagian Utama dari Internet</h1><ul class=\"nv-meta-list\"><li class=\"meta author vcard\"><span class=\"author-name fn\">by <a href=\"https://warstek.com/author/pandegaabyan/\" title=\"Posts by Pandega Abyan Zumarsyah\" rel=\"author\">Pandega Abyan Zumarsyah</a></span></li><li class=\"meta date posted-on\"><time class=\"entry-date published\" datetime=\"2021-09-25T19:23:06+07:00\" content=\"2021-09-25\">25 September 2021</time><time class=\"updated\" datetime=\"2021-09-25T19:23:09+07:00\">25 September 2021</time></li></ul></div></div><div class=\"nv-thumb-wrap\"><img width=\"930\" height=\"360\" src=\"https://warstek.com/wp-content/uploads/2021/09/image-12-930x360.png\" class=\"skip-lazy wp-post-image\" alt=\"Mengenal Kabel Laut - Bagian Utama dari Internet\" loading=\"lazy\"/></div><div class=\"nv-content-wrap entry-content\">\\n<div class=\"quads-location quads-ad1\" id=\"quads-ad1\" style=\"float:none;margin:0px 0 0px 0;text-align:center;\">\\n<script async src=\"//pagead2.googlesyndication.com/pagead/js/adsbygoogle.js\"></script>\\n<ins class=\"adsbygoogle\" style=\"display:block; text-align:center;\" data-ad-layout=\"in-article\" data-ad-format=\"fluid\" data-ad-client=\"ca-pub-9638064869561472\" data-ad-slot=\"6075996024\"></ins>\\n<script>(adsbygoogle=window.adsbygoogle||[]).push({});</script></div><h2><span id=\"Telkomsel_Indihome_dan_Kabel_Laut_JaSuKa\">Telkomsel, Indihome, dan Kabel Laut JaSuKa</span></h2>\\n<p>Pada hari Minggu lalu (19 September 2021), terjadi gangguan jaringan internet pada Telkomsel dan Indihome. Gangguan tersebut menyebabkan penurunan kualitas layanan TelkomGroup baik <em>fixed</em> maupun <em>mobile broadband</em> di beberapa wilayah Indonesia. Di masa pandemi yang menuntut orang untuk berada di rumah seperti ini, gangguan internet tentu menjadi masalah besar. Berbagai kegiatan penting seperti Seleksi Kompetensi Dasar (SKD) CPNS mengalami penundaan. Netizen pun banyak berkomentar negatif terkait hal ini. Saat artikel ini dirilis, gangguan tersebut mungkin belum benar-benar terselesaikan.</p>\\n<p>Gangguan tersebut disebabkan oleh masalah pada sistem komunikasi kabel laut JaSuKa (Jawa, Sumatera dan Kalimantan) ruas Batam-Pontianak. Telkom memperkirakan proses perbaikan kabel laut yang terganggu akan berlangsung sekitar sebulan. Meski begitu, Telkom mencoba berbagai alternatif agar jaringan internet tetap dapat berjalan sebaik mungkin, meski tentu tidak sebaik ketika kondisi normal. </p>\\n<p>Bagaimana pun juga, gangguan ini membuat banyak orang bertanya-tanya, â\\x80\\x9cApa hubungannya kabel di laut dengan internet?â\\x80\\x9d, â\\x80\\x9cKenapa jaringan internet itu malah lewat kabel laut?â\\x80\\x9d, â\\x80\\x9cKenapa nggak pakai satelit aja?â\\x80\\x9d, â\\x80\\x9cKenapa jaringannya tidak segera membaik?â\\x80\\x9d, dan lainnya. Artikel singkat ini akan mencoba membahas sedikit terkait hal itu. </p>\\n<div class=\"quads-location quads-ad3\" id=\"quads-ad3\" style=\"float:none;margin:0px 0 0px 0;text-align:center;\">\\n<script async src=\"//pagead2.googlesyndication.com/pagead/js/adsbygoogle.js\"></script>\\n<ins class=\"adsbygoogle\" style=\"display:block; text-align:center;\" data-ad-layout=\"in-article\" data-ad-format=\"fluid\" data-ad-client=\"ca-pub-9638064869561472\" data-ad-slot=\"6075996024\"></ins>\\n<script>(adsbygoogle=window.adsbygoogle||[]).push({});</script></div><h2><span id=\"Ya_Internet_itu_ada_di_Bawah_Laut\">Ya, Internet itu ada di Bawah Laut</span></h2>\\n<p>Internet sering diasosiasikan dengan kata <em>cloud</em> atau <em>wireless </em>sehingga kita merasa bahwa internet itu dibawa oleh udara di sekitar kita. Ketika kita mendengar kata â\\x80\\x9cjaringan internetâ\\x80\\x9d, yang terbayang mungkin gelombang antara menara pemancar di Bumi dengan satelit di angkasa. Itu tidak sepenuhnya salah. Internet memang ada di sekitar kita dan satelit memegang peran penting untuk itu. Namun, persepsi itu membuat kita melupakan bagian lain dari internet. Bagian terpenting yang sangat vital namun tidak akan pernah kita lihat, yaitu kabel laut. Sebelumnya, perlu kita ketahui bersama bahwa:</p>\\n<blockquote class=\"wp-block-quote has-text-align-center\"><p>99% Komunikasi Data Internasional itu Melalui Kabel Laut</p></blockquote>\\n<p>Itu adalah kalimat yang sudah banyak disampaikan di berbagai media massa, namun sepertinya masih belum banyak diketahui masyarakat umum. Lebih detailnya lagi, hanya sekitar 300 kabel bawah laut yang bertanggung jawab terhadap 99% lalu lintas komunikasi data internasional. </p>\\n<figure class=\"wp-block-image size-full\"><img onload=\"Wpfcll.r(this,true);\" src=\"https://warstek.com/wp-content/plugins/wp-fastest-cache-premium/pro/images/blank.gif\" loading=\"lazy\" width=\"979\" height=\"582\" data-wpfc-original-src=\"https://warstek.com/wp-content/uploads/2021/09/image-10.png\" alt=\"Jaringan Kabel Laut di Dunia - https://www.submarinecablemap.com\" class=\"wp-image-53060\" data-wpfc-original-srcset=\"https://warstek.com/wp-content/uploads/2021/09/image-10.png 979w, https://warstek.com/wp-content/uploads/2021/09/image-10-300x178.png 300w, https://warstek.com/wp-content/uploads/2021/09/image-10-768x457.png 768w\" data-wpfc-original-sizes=\"(max-width: 979px) 100vw, 979px\"><figcaption>Jaringan Kabel Laut di Dunia â\\x80\\x93 <a href=\"https://www.submarinecablemap.com\">www.submarinecablemap.com</a></figcaption></figure>\\n<p>Gambar di atas merupakan jaringan kabel laut di dunia yang dapat diakses di <a href=\"https://www.submarinecablemap.com/\">www.submarinecablemap.com</a>. Di sana, kita tidak hanya bisa melihat jaringan kabel secara keseluruhan, namun juga melihat lebih detail terkait salah satu kabel yang ada. Dari gambar di atas, jaringannya memang terlihat sangat banyak dan sangat rumit. Namun, kita perlu ingat bahwa komunikasi yang senantiasa terjadi di internet itu juga sangat banyak dan sangat rumit, jauh lebih banyak dan lebih rumit dari yang bisa kita bayangkan. </p>\\n<p>Ketika kita mengirim satu chat ke teman di samping kita misalnya. Bisa jadi chat kita akan menempuh perjalanan yang amat sangat jauh. Mulai dari puluhan kilometer jalur darat secara <em>wireless</em>, kemudian melalui ribuan kilometer kabel laut, menuju ke <em>data center </em>di China atau Amerika, lalu kembali lagi ke Indonesia melalui kabel laut, dan sampai ke teman di samping kita  secara <em>wireless</em>. Itu salah satu skenario yang mungkin terjadi, bisa saja jauh lebih pendek atau jauh lebih panjang. Sebagai mahasiswa Teknik Elektro yang pernah sedikit mendalami internet, yang bisa penulis katakan terkait internet adalah <em>â\\x80\\x9cItâ\\x80\\x99s never been simpleâ\\x80\\x9d</em></p>\\n<h2><span id=\"Mengenal_Kabel_Laut\">Mengenal Kabel Laut</span></h2>\\n<p>Ketika mendengar bahwa 99% internet itu melewati kabel laut, apa bayangan kita terkait bentuk fisik dari kabel laut itu? Ukurannya mungkin memang sangat bervariasi, namun gambar berikut bisa memberikan gambaran bahwa ukuran kabelnya bisa jadi hanya sekecil ini</p>\\n<figure class=\"wp-block-image size-full\"><img onload=\"Wpfcll.r(this,true);\" src=\"https://warstek.com/wp-content/plugins/wp-fastest-cache-premium/pro/images/blank.gif\" loading=\"lazy\" width=\"841\" height=\"555\" data-wpfc-original-src=\"https://warstek.com/wp-content/uploads/2021/09/image-11.png\" alt=\"Mengenal Kabel Laut - Bagian Utama dari Internet\" class=\"wp-image-53061\" data-wpfc-original-srcset=\"https://warstek.com/wp-content/uploads/2021/09/image-11.png 841w, https://warstek.com/wp-content/uploads/2021/09/image-11-300x198.png 300w, https://warstek.com/wp-content/uploads/2021/09/image-11-768x507.png 768w\" data-wpfc-original-sizes=\"(max-width: 841px) 100vw, 841px\"><figcaption>Isi dari Kabel Laut â\\x80\\x93 <a href=\"https://99percentinvisible.org/article/underwater-cloud-inside-cables-carrying-99-international-data-traffic/\">99percentinvisible.org</a></figcaption></figure>\\n<p>Hampir seluruh luasannya digunakan sebagai pelindung. Bagian yang mengalirkan informasi adalah fiber optik yang ukurannya tidak berbeda jauh dari sehelai rambut kita. Meski sangat kecil, dia mampu membawa informasi dengan sangat cepat, mendekati kecepatan cahaya. Itu karena informasi dibawa bukan sebagai sinyal listrik seperti kabel di rumah, namun sebagai sinyal cahaya. Kapasitasnya juga sangat besar, satu helai saja bisa memiliki kapasitas 100 gigabit per sekon. [Baca: <a href=\"https://warstek.com/ftth/\">Dasar Komunikasi Fiber Optik dan FTTH (Fiber To The Home)</a>]</p>\\n<p>Dengan itu semua, kabel laut jauh lebih cepat daripada satelit. Itu karena satelit yang biasanya digunakan untuk internet berada puluhan ribu kilometer di atas kita. Sementara itu, jalur melalui laut tidak akan lebih dari belasan ribu kilometer saja. Kapasitas transfer data dari satelit juga jauh lebih sulit untuk ditingkatkan dibanding kabel laut. Maka, meski keduanya memanfaatkan kecepatan cahaya, secara umum kabel laut tetap jauh lebih cepat daripada satelit. (Baca: <a href=\"https://warstek.com/starlink/\">SpaceX Luncurkan 60 Satelit Penyedia Internet Starlink</a>)</p>\\n<p>Namun, kabel laut juga memiliki banyak masalah. Banyak pihak yang menyebutkan bahwa kabel laut yang menjadi tulang punggung internet kita ini sebenarnya sangatlah rentan. Kabel laut dapat mengalami masalah akibat faktor alam, namun ini hanya mencakup 14 persen saja.  <em>Association of Sea Cable Communication Systems</em> menyebutkan bahwa sebanyak 47% gangguan kabel laut disebabkan oleh jangkar kapal. Sementara itu, 28% disebabkan oleh sektor perikanan yang menggunakan FAD (<em>fish aggregating devices</em>). Di Indonesia pun, jangkar juga menjadi penyebab gangguan kabel terbesar. Hal itu mengingat lautan Indonesia juga sering dilewati banyak kapal. </p>\\n<h2><span id=\"Jaringan_Kabel_Laut_di_Indonesia\">Jaringan Kabel Laut di Indonesia</span></h2>\\n<p>Kabel laut yang ada di negeri kita juga cukup banyak. Hal itu dapat dilihat pada Gambar berikut yang juga didapatkan dari  <a href=\"https://www.submarinecablemap.com\">www.submarinecablemap.com</a>. Pada Gambar ini, jaringan kabel JaSuKa yang dimiliki Telkom Indonesia terlihat berwarna biru tua dan menghubungkan berbagai titik di Jawa, Sumatera, dan Kalimantan. JaSuKa memiliki total panjang hampir 11 ribu kilometer dan disebut menjadi salah satu yang terpanjang di dunia. </p>\\n<figure class=\"wp-block-image size-full\"><img onload=\"Wpfcll.r(this,true);\" src=\"https://warstek.com/wp-content/plugins/wp-fastest-cache-premium/pro/images/blank.gif\" loading=\"lazy\" width=\"982\" height=\"360\" data-wpfc-original-src=\"https://warstek.com/wp-content/uploads/2021/09/image-12.png\" alt=\"Jaringan Kabel Laut di Indonesia - www.submarinecablemap.com\" class=\"wp-image-53064\" data-wpfc-original-srcset=\"https://warstek.com/wp-content/uploads/2021/09/image-12.png 982w, https://warstek.com/wp-content/uploads/2021/09/image-12-300x110.png 300w, https://warstek.com/wp-content/uploads/2021/09/image-12-768x282.png 768w\" data-wpfc-original-sizes=\"(max-width: 982px) 100vw, 982px\"><figcaption> Jaringan Kabel Laut di Indonesia â\\x80\\x93 <a href=\"https://www.submarinecablemap.com\">www.submarinecablemap.com</a> </figcaption></figure>\\n<p>Kabel laut memang jauh lebih murah daripada satelit, namun tetap saja tidak mudah dan tidak sederhana. Baik perencanaan maupun pengelolaannya memerlukan banyak pengorbanan. Ini wajar saja mengingat dunia bawah laut sangatlah kompleks dan penuh dengan berbagai hal yang tak terduga. Perlu diketahui pula bahwa setiap beberapa puluh kilometer, perlu terdapat <em>repeater </em>untuk menguatkan kembali sinyal cahaya yang telah melemah. Melihat kompleksitas itu, wajar saja jika perbaikan gangguan tidak bisa selesai dalam satu malam. </p>\\n<p>Meski demikian, sistem yang besar umumnya memiliki berbagai alternatif jika sistem utamanya gagal. Hal ini juga kita dengar dari pihak Telkom, bahwa jalur backup dan alternatif telah diaktifkan untuk destinasi utama tertentu. Berbagai hal teknis yang tidak akan dipahami masyarakat umum pasti juga telah dilakukan. </p>\\n<div class=\"quads-location quads-ad5\" id=\"quads-ad5\" style=\"float:none;margin:0px 0 0px 0;text-align:center;\">\\n<script async src=\"//pagead2.googlesyndication.com/pagead/js/adsbygoogle.js\"></script>\\n<ins class=\"adsbygoogle\" style=\"display:block; text-align:center;\" data-ad-layout=\"in-article\" data-ad-format=\"fluid\" data-ad-client=\"ca-pub-9638064869561472\" data-ad-slot=\"6075996024\"></ins>\\n<script>(adsbygoogle=window.adsbygoogle||[]).push({});</script></div><p>Bagaimana pun juga, gangguan ini menunjukan pada kita semua bahwa sistem internet di Indonesia sebenarnya masih belum kuat dan sangat rentan, apalagi jika kita meninjau Indonesia Timur. Di satu sisi, masyarakat umum perlu menyadari bahwa sistem internet secara fisiknya memang sangat kompleks dan sangat rentan terhadap berbagai gangguan serta tidak bisa diperbaiki dengan mudah. Di sisi lain, berbagai pihak yang berpartisipasi langsung di dalamnya perlu terus melakukan evaluasi dan pengembangan agar sistem internet di negeri kita dapat menjadi lebih handal. (Baca: <a href=\"https://warstek.com/internet/\">Analisis terhadap Kualitas Jaringan Internet Indonesia yang Memburuk</a>)</p>\\n<h2><span id=\"Referensi\">Referensi</span></h2>\\n<ul><li>Nur Fitriatus Shalihah, Sari Hardiyanto. <em>Kronologi Gangguan Indihome dan Telkomsel Selama Beberapa Hari</em>. Diakses dari Kompas: <a href=\"https://www.kompas.com/tren/read/2021/09/22/100958665/kronologi-gangguan-indihome-dan-telkomsel-selama-beberapa-hari?page=all\">https://www.kompas.com/tren/read/2021/09/22/100958665/kronologi-gangguan-indihome-dan-telkomsel-selama-beberapa-hari?page=all</a></li><li>Conney Stephanie, Oik Yusuf. <em>Telkom Sebut Perbaikan Kabel Laut Jasuka Butuh Waktu Sebulan. </em>Diakses dari Kompas: <a href=\"https://tekno.kompas.com/read/2021/09/22/19534287/telkom-sebut-perbaikan-kabel-laut-jasuka-butuh-waktu-sebulan\">https://tekno.kompas.com/read/2021/09/22/19534287/telkom-sebut-perbaikan-kabel-laut-jasuka-butuh-waktu-sebulan</a></li><li>Submarine Cable Map. <a href=\"https://www.submarinecablemap.com/\">https://www.submarinecablemap.com</a></li><li>Kurt Kohlstedt. <em>Underwater Cloud: Inside the Cables Carrying 99% of Transoceanic Data Traffic</em>. Diakses dari 99% Invisible: <a href=\"https://99percentinvisible.org/article/underwater-cloud-inside-cables-carrying-99-international-data-traffic\">https://99percentinvisible.org/article/underwater-cloud-inside-cables-carrying-99-international-data-traffic</a></li><li>Dedi Dinarto. <em>The Security Challenges Facing Indonesiaâ\\x80\\x99s Submarine Cable Communication System</em>. Diakses dari The Diplomat: <a href=\"https://thediplomat.com/2021/06/the-security-challenges-facing-indonesias-submarine-cable-communication-system\">https://thediplomat.com/2021/06/the-security-challenges-facing-indonesias-submarine-cable-communication-system</a></li></ul>\\n<div class=\"rmp-widgets-container rmp-wp-plugin rmp-main-container js-rmp-widgets-container js-rmp-widgets-container--53058\" data-post-id=\"53058\">      <div class=\"rmp-rating-widget js-rmp-rating-widget\">          <p class=\"rmp-heading rmp-heading--title\">        Setelah selesai membaca, yuk berikan artikel ini penilaian!      </p>              <p class=\"rmp-heading rmp-heading--subtitle\">        Klik berdasarkan jumlah bintang untuk menilai!      </p>        <div class=\"rmp-rating-widget__icons\"> <ul class=\"rmp-rating-widget__icons-list js-rmp-rating-icons-list\"> <li class=\"rmp-rating-widget__icons-list__icon js-rmp-rating-item\" data-descriptive-rating=\"Artikel Menyesatkan\" data-value=\"1\"> <i class=\"js-rmp-rating-icon rmp-icon rmp-icon--ratings rmp-icon--star rmp-icon--full-highlight\"></i> </li> <li class=\"rmp-rating-widget__icons-list__icon js-rmp-rating-item\" data-descriptive-rating=\"Artikel Kurang Berkualitas\" data-value=\"2\"> <i class=\"js-rmp-rating-icon rmp-icon rmp-icon--ratings rmp-icon--star rmp-icon--full-highlight\"></i> </li> <li class=\"rmp-rating-widget__icons-list__icon js-rmp-rating-item\" data-descriptive-rating=\"Artikel Biasa Saja\" data-value=\"3\"> <i class=\"js-rmp-rating-icon rmp-icon rmp-icon--ratings rmp-icon--star rmp-icon--full-highlight\"></i> </li> <li class=\"rmp-rating-widget__icons-list__icon js-rmp-rating-item\" data-descriptive-rating=\"Artikel Bermanfaat\" data-value=\"4\"> <i class=\"js-rmp-rating-icon rmp-icon rmp-icon--ratings rmp-icon--star rmp-icon--full-highlight\"></i> </li> <li class=\"rmp-rating-widget__icons-list__icon js-rmp-rating-item\" data-descriptive-rating=\"Artikel Sangat Bermanfaat\" data-value=\"5\"> <i class=\"js-rmp-rating-icon rmp-icon rmp-icon--ratings rmp-icon--star rmp-icon--full-highlight\"></i> </li> </ul></div><p class=\"rmp-rating-widget__hover-text js-rmp-hover-text\"></p>    <button class=\"rmp-rating-widget__submit-btn rmp-btn js-submit-rating-btn\">      Berikan penilaian    </button>    <p class=\"rmp-rating-widget__results js-rmp-results\">      Rata-rata nilai <span class=\"rmp-rating-widget__results__rating js-rmp-avg-rating\">5</span> / 5. Banyaknya vote: <span class=\"rmp-rating-widget__results__votes js-rmp-vote-count\">3</span>    </p>    <p class=\"rmp-rating-widget__not-rated js-rmp-not-rated rmp-rating-widget__not-rated--hidden\">      Belum ada yang menilai! Yuk jadi yang pertama kali menilai!    </p>    <p class=\"rmp-rating-widget__msg js-rmp-msg\">\\n</p><div class=\"quads-location quads-ad4\" id=\"quads-ad4\" style=\"float:none;margin:0px 0 0px 0;text-align:center;\">\\nBaca juga:\\n<br>\\n<script async src=\"//pagead2.googlesyndication.com/pagead/js/adsbygoogle.js\"></script>\\n<ins class=\"adsbygoogle\" style=\"display:inline-block;width:100%;height:150px\" data-ad-client=\"ca-pub-9638064869561472\" data-ad-slot=\"5198682179\"></ins>\\n<script>(adsbygoogle=window.adsbygoogle||[]).push({});</script></div></div></div><div class=\"abh_box abh_box_down abh_box_business\"><ul class=\"abh_tabs\"> <li class=\"abh_about abh_active\"><a href=\"#abh_about\">About</a></li> <li class=\"abh_posts\"><a href=\"#abh_posts\">Latest Posts</a></li></ul><div class=\"abh_tab_content\"><section class=\"vcard author abh_about_tab abh_tab\" itemscope itemprop=\"author\" itemtype=\"http://schema.org/Person\" style=\"display:block\"><div class=\"abh_image\" itemscope itemtype=\"http://schema.org/ImageObject\"><a href=\"http://pandegaaz101.blogspot.com\" class=\"url\" target=\"_blank\" title=\"Pandega Abyan Zumarsyah\" rel=\"nofollow\"> <img onload=\"Wpfcll.r(this,true);\" src=\"https://warstek.com/wp-content/plugins/wp-fastest-cache-premium/pro/images/blank.gif\" data-wpfc-original-src=\"https://warstek.com/wp-content/uploads/2017/12/logo-warstek-bulat.png\" class=\"gravatar avatar avatar-250 um-avatar um-avatar-default\" width=\"250\" height=\"250\" alt=\"Pandega Abyan Zumarsyah\" data-default=\"https://warstek.com/wp-content/uploads/2017/12/logo-warstek-bulat.png\" onerror=\"if ( ! this.getAttribute(\\'data-load-error\\') ){ this.setAttribute(\\'data-load-error\\',\\'1\\');this.setAttribute(\\'src\\', this.getAttribute(\\'data-default\\'));}\"></a></div><div class=\"abh_social\"></div><div class=\"abh_text\"><div class=\"abh_name fn name\" itemprop=\"name\"><a href=\"http://pandegaaz101.blogspot.com\" class=\"url\" target=\"_blank\" rel=\"nofollow\">Pandega Abyan Zumarsyah</a></div><div class=\"abh_job\"><span class=\"title\">Mahasiswa</span> at <span class=\"org\">Universitas Gadjah Mada</span></div><div class=\"description note abh_description\" itemprop=\"description\">Mahasiswa S-1 Teknik Elektro di Universitas Gadjah Mada. Tertarik pada semua bidang sains dan teknologi secara umum; terutama bidang Fisika, Sejarah Sains, dan Teknik Elektro</div></div></section><section class=\"abh_posts_tab abh_tab\"><div class=\"abh_image\"><a href=\"http://pandegaaz101.blogspot.com\" class=\"url\" target=\"_blank\" title=\"Pandega Abyan Zumarsyah\" rel=\"nofollow\"><img onload=\"Wpfcll.r(this,true);\" src=\"https://warstek.com/wp-content/plugins/wp-fastest-cache-premium/pro/images/blank.gif\" data-wpfc-original-src=\"https://warstek.com/wp-content/uploads/2017/12/logo-warstek-bulat.png\" class=\"gravatar avatar avatar-250 um-avatar um-avatar-default\" width=\"250\" height=\"250\" alt=\"Pandega Abyan Zumarsyah\" data-default=\"https://warstek.com/wp-content/uploads/2017/12/logo-warstek-bulat.png\" onerror=\"if ( ! this.getAttribute(\\'data-load-error\\') ){ this.setAttribute(\\'data-load-error\\',\\'1\\');this.setAttribute(\\'src\\', this.getAttribute(\\'data-default\\'));}\"></a></div><div class=\"abh_social\"></div><div class=\"abh_text\"><div class=\"abh_name\">Latest posts by Pandega Abyan Zumarsyah <span class=\"abh_allposts\">(<a href=\"https://warstek.com/author/pandegaabyan/\">see all</a>)</span></div><div class=\"abh_description note\"><ul> <li> <a href=\"https://warstek.com/kabel-laut/\">Mengenal Kabel Laut â\\x80\\x93 Bagian Utama dari Internet</a><span> - 25 September 2021</span> </li> <li> <a href=\"https://warstek.com/observasi-luar-angkasa-2/\">Observasi Luar Angkasa: Meninjau â\\x80\\x9cMasa Laluâ\\x80\\x9d untuk Mengembangkan Masa Depan</a><span> - 23 September 2021</span> </li> <li> <a href=\"https://warstek.com/observasi-luar-angkasa/\">Observasi Luar Angkasa: Meninjau Masa Lalu dan Mengembangkan Masa Depan</a><span> - 06 Agustus 2021</span> </li></ul></div></div></section></div></div><div class=\"sharedaddy sd-sharing-enabled\"><div class=\"robots-nocontent sd-block sd-social sd-social-icon-text sd-sharing\"><h3 class=\"sd-title\"><span id=\"Bagikan_ini\">Bagikan ini:</span></h3><div class=\"sd-content\"><ul><li class=\"share-print\"><a rel=\"nofollow noopener noreferrer\" data-shared=\"\" class=\"share-print sd-button share-icon\" href=\"https://warstek.com/kabel-laut/#print\" target=\"_blank\" title=\"Klik untuk mencetak\"><span>Cetak</span></a></li><li class=\"share-jetpack-whatsapp\"><a rel=\"nofollow noopener noreferrer\" data-shared=\"\" class=\"share-jetpack-whatsapp sd-button share-icon\" href=\"https://warstek.com/kabel-laut/?share=jetpack-whatsapp\" target=\"_blank\" title=\"Klik untuk berbagi di WhatsApp\"><span>WhatsApp</span></a></li><li class=\"share-facebook\"><a rel=\"nofollow noopener noreferrer\" data-shared=\"sharing-facebook-53058\" class=\"share-facebook sd-button share-icon\" href=\"https://warstek.com/kabel-laut/?share=facebook\" target=\"_blank\" title=\"Klik untuk membagikan di Facebook\"><span>Facebook</span></a></li><li class=\"share-twitter\"><a rel=\"nofollow noopener noreferrer\" data-shared=\"sharing-twitter-53058\" class=\"share-twitter sd-button share-icon\" href=\"https://warstek.com/kabel-laut/?share=twitter\" target=\"_blank\" title=\"Klik untuk berbagi pada Twitter\"><span>Twitter</span></a></li><li class=\"share-telegram\"><a rel=\"nofollow noopener noreferrer\" data-shared=\"\" class=\"share-telegram sd-button share-icon\" href=\"https://warstek.com/kabel-laut/?share=telegram\" target=\"_blank\" title=\"Klik untuk berbagi di Telegram\"><span>Telegram</span></a></li><li class=\"share-end\"></ul></div></div></div><div class=\"quads-location quads-ad2\" id=\"quads-ad2\" style=\"float:none;margin:0px 0 0px 0;text-align:center;\">\\nArtikel Berhubungan:\\n<script async src=\"//pagead2.googlesyndication.com/pagead/js/adsbygoogle.js\"></script>\\n<ins class=\"adsbygoogle\" style=\"display:block\" data-ad-format=\"autorelaxed\" data-ad-client=\"ca-pub-9638064869561472\" data-ad-slot=\"4368873124\"></ins>\\n<script>(adsbygoogle=window.adsbygoogle||[]).push({});</script>\\n<br>\\n<br> <style>div#btm_banner{width:100%;bottom:0;left:0;position:fixed;opacity:0.9;}div#btm_banner img{border:0;cursor:pointer;}</style><div style=\"height: 0px;\"></div><div align=\"center\" id=\"btm_banner\" style=\"height: 100px; z-index: 9999;\"><div style=\"text-align: right; width: 320px; height: 6px;\"></div><div style=\"clear: both;\"></div><p></p><p></p><center>\\n<center><div style=\"position:fixed;bottom:0; width:100%;\"><ins class=\"adsbyadop\" _adop_zon=\"6e6a8d7b-22fe-46c3-896b-2b87c25df83b\" _adop_type=\"rs\" style=\"display:inline-block;width:320px;height:50px;\" _page_url=\"\" _over_size=\"auto\" _over_zone=\\'{\"728x90\":\"68af245d-5c6b-41b8-8d8f-df928265291d\"}\\'></ins></div></center>\\n</center></div><div id=\"ADOP_V_c1RqTHa2x8\" style=\"height:0;\"></div></div></div><div class=\"nv-tags-list\"><span>Tag:</span><a href=https://warstek.com/tag/fiber-optic/ title=\"fiber optic\" class=fiber-optic rel=\"tag\">fiber optic</a><a href=https://warstek.com/tag/internet/ title=\"Internet\" class=internet rel=\"tag\">Internet</a><a href=https://warstek.com/tag/jasuka/ title=\"JaSuKa\" class=jasuka rel=\"tag\">JaSuKa</a><a href=https://warstek.com/tag/kabel-laut/ title=\"kabel laut\" class=kabel-laut rel=\"tag\">kabel laut</a><a href=https://warstek.com/tag/telkomsel/ title=\"Telkomsel\" class=telkomsel rel=\"tag\">Telkomsel</a></div><div id=\"comments\" class=\"comments-area\">\\n<div id=\"respond\" class=\"comment-respond\">\\n<h3 id=\"reply-title\" class=\"comment-reply-title\">Tinggalkan Balasan <small><a rel=\"nofollow\" id=\"cancel-comment-reply-link\" href=\"/kabel-laut/#respond\" style=\"display:none;\">Batalkan balasan</a></small></h3><form action=\"https://warstek.com/wp-comments-post.php\" method=\"post\" id=\"commentform\" class=\"comment-form\"><p class=\"comment-notes\"><span id=\"email-notes\">Alamat email Anda tidak akan dipublikasikan.</span> Ruas yang wajib ditandai <span class=\"required\">*</span></p><p class=\"comment-form-comment\"><label for=\"comment\">Komentar</label> <textarea id=\"comment\" name=\"comment\" cols=\"45\" rows=\"8\" maxlength=\"65525\" required=\"required\"></textarea></p><p class=\"comment-form-author\"><label for=\"author\">Nama <span class=\"required\">*</span></label> <input id=\"author\" name=\"author\" type=\"text\" value=\"\" size=\"30\" maxlength=\"245\" required=\\'required\\' /></p>\\n<p class=\"comment-form-email\"><label for=\"email\">Email <span class=\"required\">*</span></label> <input id=\"email\" name=\"email\" type=\"text\" value=\"\" size=\"30\" maxlength=\"100\" aria-describedby=\"email-notes\" required=\\'required\\' /></p>\\n<p class=\"comment-form-url\"><label for=\"url\">Situs Web</label> <input id=\"url\" name=\"url\" type=\"text\" value=\"\" size=\"30\" maxlength=\"200\" /></p>\\n<p class=\"form-submit\"><input name=\"submit\" type=\"submit\" id=\"submit\" class=\"submit\" value=\"Kirim Komentar\" /> <input type=\\'hidden\\' name=\\'comment_post_ID\\' value=\\'53058\\' id=\\'comment_post_ID\\' />\\n<input type=\\'hidden\\' name=\\'comment_parent\\' id=\\'comment_parent\\' value=\\'0\\' />\\n</p></form></div></div></article>\\n<div class=\"nv-sidebar-wrap col-sm-12 nv-right blog-sidebar\">\\n<aside id=\"secondary\" role=\"complementary\">\\n<div id=\"search-3\" class=\"widget widget_search\"><p class=\"widget-title\">Cari Artikel</p><form role=\"search\" method=\"get\" class=\"search-form\" action=\"https://warstek.com/\">\\n<label>\\n<span class=\"screen-reader-text\">Cari untuk:</span>\\n<input type=\"search\" class=\"search-field\" placeholder=\"Cari &hellip;\" value=\"\" name=\"s\" />\\n</label>\\n<input type=\"submit\" class=\"search-submit\" value=\"Cari\" />\\n<div class=\"nv-search-icon-wrap\"><div class=\"nv-icon nv-search\"> <svg width=\"15\" height=\"15\" viewBox=\"0 0 1792 1792\" xmlns=\"http://www.w3.org/2000/svg\"><path d=\"M1216 832q0-185-131.5-316.5t-316.5-131.5-316.5 131.5-131.5 316.5 131.5 316.5 316.5 131.5 316.5-131.5 131.5-316.5zm512 832q0 52-38 90t-90 38q-54 0-90-38l-343-342q-179 124-399 124-143 0-273.5-55.5t-225-150-150-225-55.5-273.5 55.5-273.5 150-225 225-150 273.5-55.5 273.5 55.5 225 150 150 225 55.5 273.5q0 220-124 399l343 343q37 37 37 90z\"/></svg></div></div></form></div><div id=\"custom_html-49\" class=\"widget_text widget widget_custom_html\"><p class=\"widget-title\">Langganan via Email</p><div class=\"textwidget custom-html-widget\"><form style=\"border:0px solid #ccc;padding:0px;text-align:center;\" action=\"https://feedburner.google.com/fb/a/mailverify\" method=\"post\" target=\"popupwindow\" onsubmit=\"window.open(\\'https://feedburner.google.com/fb/a/mailverify?uri=warstek/EOtr\\', \\'popupwindow\\', \\'scrollbars=yes,width=550,height=520\\');return true\"><p>Masukkan Email Anda:</p><p><input type=\"text\" style=\"width:180px\" name=\"email\"/></p><input type=\"hidden\" value=\"warstek/EOtr\" name=\"uri\"/><input type=\"hidden\" name=\"loc\" value=\"en_US\"/><input type=\"submit\" value=\"Langganan\" /></form></div></div><div id=\"eaw-recent-posts-plus-2\" class=\"widget widget_recent_posts_plus\"><p class=\"widget-title\">Artikel Pilihan Editor</p>\\t\\t\\t\\t<div class=\"eaw-recent-posts\">\\n<img onload=\"Wpfcll.r(this,true);\" src=\"https://warstek.com/wp-content/plugins/wp-fastest-cache-premium/pro/images/blank.gif\" width=\"300\" height=\"150\" data-wpfc-original-src=\"https://warstek.com/wp-content/uploads/2021/11/resources_news_2021_08_13_47718_664xauto-40-kata-kata-bijak-albert-einstein-tentang-cinta-pendidikan-dan-kehidupan-210813e-300x150.jpg\" class=\"attachment-medium size-medium wp-post-image\" alt=\"blank\" loading=\"lazy\" data-wpfc-original-srcset=\"https://warstek.com/wp-content/uploads/2021/11/resources_news_2021_08_13_47718_664xauto-40-kata-kata-bijak-albert-einstein-tentang-cinta-pendidikan-dan-kehidupan-210813e-300x150.jpg 300w, https://warstek.com/wp-content/uploads/2021/11/resources_news_2021_08_13_47718_664xauto-40-kata-kata-bijak-albert-einstein-tentang-cinta-pendidikan-dan-kehidupan-210813e.jpg 664w\" data-wpfc-original-sizes=\"(max-width: 300px) 100vw, 300px\"/>\\t\\t\\t\\t\\t<div class=\"eaw-content\"> <h3><a href=\"https://warstek.com/4-hal-ini-menurut-si-genius-einstein-yang-harus-ditekankan-di-sekolah/\">4 Hal ini Menurut Si Genius Einstein yang Harus Ditekankan di Sekolah</a> </h3> <p> Hallo Sahabat Warstek, pernah gak sih bertanya-tanya, kenapa Einstein bisa begitu genius? Adakah metode khusus yang gurunya ajarkan di Sekolah? &hellip; </p></div></div><div class=\"eaw-recent-posts\">\\n<img onload=\"Wpfcll.r(this,true);\" src=\"https://warstek.com/wp-content/plugins/wp-fastest-cache-premium/pro/images/blank.gif\" width=\"300\" height=\"169\" data-wpfc-original-src=\"https://warstek.com/wp-content/uploads/2021/11/hkHeAZ4YyB92MJv19e3JZQ5eBUab3sWFhGVfE4CpAJIw-300x169.jpg\" class=\"attachment-medium size-medium wp-post-image\" alt=\"blank\" loading=\"lazy\" data-wpfc-original-srcset=\"https://warstek.com/wp-content/uploads/2021/11/hkHeAZ4YyB92MJv19e3JZQ5eBUab3sWFhGVfE4CpAJIw-300x169.jpg 300w, https://warstek.com/wp-content/uploads/2021/11/hkHeAZ4YyB92MJv19e3JZQ5eBUab3sWFhGVfE4CpAJIw-1024x577.jpg 1024w, https://warstek.com/wp-content/uploads/2021/11/hkHeAZ4YyB92MJv19e3JZQ5eBUab3sWFhGVfE4CpAJIw-768x433.jpg 768w, https://warstek.com/wp-content/uploads/2021/11/hkHeAZ4YyB92MJv19e3JZQ5eBUab3sWFhGVfE4CpAJIw-1536x866.jpg 1536w, https://warstek.com/wp-content/uploads/2021/11/hkHeAZ4YyB92MJv19e3JZQ5eBUab3sWFhGVfE4CpAJIw.jpg 2000w\" data-wpfc-original-sizes=\"(max-width: 300px) 100vw, 300px\"/>\\t\\t\\t\\t\\t<div class=\"eaw-content\"> <h3><a href=\"https://warstek.com/mengenal-bintang-lebih-jauh/\">Mengenal Bintang Lebih Jauh</a> </h3> <p> Di antara kita pastinya sudah tahu apa itu bintang. Nah, bintang merupakan benda langit yang dapat memancarkan cahaya sendiri. Penyebabnya &hellip; </p></div></div><div class=\"eaw-recent-posts\">\\n<img onload=\"Wpfcll.r(this,true);\" src=\"https://warstek.com/wp-content/plugins/wp-fastest-cache-premium/pro/images/blank.gif\" width=\"300\" height=\"209\" data-wpfc-original-src=\"https://warstek.com/wp-content/uploads/2021/10/image-300x209.jpg\" class=\"attachment-medium size-medium wp-post-image\" alt=\"M51 berlokasi di galaksi Whirlpool, memiliki sebuah exoplanet\" loading=\"lazy\" data-wpfc-original-srcset=\"https://warstek.com/wp-content/uploads/2021/10/image-300x209.jpg 300w, https://warstek.com/wp-content/uploads/2021/10/image-1024x712.jpg 1024w, https://warstek.com/wp-content/uploads/2021/10/image-768x534.jpg 768w, https://warstek.com/wp-content/uploads/2021/10/image.jpg 1243w\" data-wpfc-original-sizes=\"(max-width: 300px) 100vw, 300px\"/>\\t\\t\\t\\t\\t<div class=\"eaw-content\"> <h3><a href=\"https://warstek.com/exoplanet-pertama-di-luar-galaksi-bimasakti/\">Astronom Menemukan Exoplanet Pertama di Luar Galaksi Bimasakti</a> </h3> <p> Tanggal 25 Oktober 2021, peneliti mengumumkan penemuan planet pertama di luar galaksi Bimasakti. Exoplanet ini berlokasi di galaksi Whirlpool (M51), &hellip; </p></div></div></div><div id=\"rate-my-post-top-rated-widget-2\" class=\"widget widget_rate-my-post-top-rated-widget\"><p class=\"widget-title\">Artikel Terpopuler</p>        \\n<div class=\"rmp-tr-posts-widget\">\\n<div class=\"rmp-tr-posts-widget__post\">\\n<div class=\"rmp-tr-posts-widget__img-container\"> <a href=\"https://warstek.com/4-hal-ini-menurut-si-genius-einstein-yang-harus-ditekankan-di-sekolah/\"> <img onload=\"Wpfcll.r(this,true);\" src=\"https://warstek.com/wp-content/plugins/wp-fastest-cache-premium/pro/images/blank.gif\" class=\"rmp-tr-posts-widget__img\" data-wpfc-original-src=\"https://warstek.com/wp-content/uploads/2021/11/resources_news_2021_08_13_47718_664xauto-40-kata-kata-bijak-albert-einstein-tentang-cinta-pendidikan-dan-kehidupan-210813e.jpg\" alt=\"4 Hal ini Menurut Si Genius Einstein yang Harus Ditekankan di Sekolah\"/> </a></div><div class=\"rmp-tr-posts-widget__star-rating\"> <i class=\"rmp-icon rmp-icon--ratings rmp-icon--star rmp-icon--full-highlight\"></i><i class=\"rmp-icon rmp-icon--ratings rmp-icon--star rmp-icon--full-highlight\"></i><i class=\"rmp-icon rmp-icon--ratings rmp-icon--star rmp-icon--full-highlight\"></i><i class=\"rmp-icon rmp-icon--ratings rmp-icon--star rmp-icon--full-highlight\"></i><i class=\"rmp-icon rmp-icon--ratings rmp-icon--star rmp-icon--full-highlight\"></i> <span class=\"rmp-tr-posts-widget__avg-rating\">5</span> <span class=\"rmp-tr-posts-widget__num-votes\">(1)</span></div><p>\\n<a class=\"rmp-tr-posts-widget__link\" href=\"https://warstek.com/4-hal-ini-menurut-si-genius-einstein-yang-harus-ditekankan-di-sekolah/\">4 Hal ini Menurut Si Genius Einstein yang Harus Ditekankan di Sekolah</a>\\n</p></div><div class=\"rmp-tr-posts-widget__post\">\\n<div class=\"rmp-tr-posts-widget__img-container\"> <a href=\"https://warstek.com/ingatan-palsu/\"> <img onload=\"Wpfcll.r(this,true);\" src=\"https://warstek.com/wp-content/plugins/wp-fastest-cache-premium/pro/images/blank.gif\" class=\"rmp-tr-posts-widget__img\" data-wpfc-original-src=\"https://warstek.com/wp-content/uploads/2020/11/Brain-program-dark-large-bigstock-1024x768-1.jpg\" alt=\"Ingatan Palsu &#8211; Pengertian, Penyebab, dan Dampak yang Ditimbulkan\"/> </a></div><div class=\"rmp-tr-posts-widget__star-rating\"> <i class=\"rmp-icon rmp-icon--ratings rmp-icon--star rmp-icon--full-highlight\"></i><i class=\"rmp-icon rmp-icon--ratings rmp-icon--star rmp-icon--full-highlight\"></i><i class=\"rmp-icon rmp-icon--ratings rmp-icon--star rmp-icon--full-highlight\"></i><i class=\"rmp-icon rmp-icon--ratings rmp-icon--star rmp-icon--full-highlight\"></i><i class=\"rmp-icon rmp-icon--ratings rmp-icon--star rmp-icon--full-highlight\"></i> <span class=\"rmp-tr-posts-widget__avg-rating\">5</span> <span class=\"rmp-tr-posts-widget__num-votes\">(1)</span></div><p>\\n<a class=\"rmp-tr-posts-widget__link\" href=\"https://warstek.com/ingatan-palsu/\">Ingatan Palsu &#8211; Pengertian, Penyebab, dan Dampak yang Ditimbulkan</a>\\n</p></div><div class=\"rmp-tr-posts-widget__post\">\\n<div class=\"rmp-tr-posts-widget__img-container\"> <a href=\"https://warstek.com/bioinformatika-apa-sih-bioinformatika-itu/\"> <img onload=\"Wpfcll.r(this,true);\" src=\"https://warstek.com/wp-content/plugins/wp-fastest-cache-premium/pro/images/blank.gif\" class=\"rmp-tr-posts-widget__img\" data-wpfc-original-src=\"https://warstek.com/wp-content/uploads/2020/10/istockphoto-533906136-1024x1024-1.jpg\" alt=\"Bioinformatika, apa sih Bioinformatika itu?\"/> </a></div><div class=\"rmp-tr-posts-widget__star-rating\"> <i class=\"rmp-icon rmp-icon--ratings rmp-icon--star rmp-icon--full-highlight\"></i><i class=\"rmp-icon rmp-icon--ratings rmp-icon--star rmp-icon--full-highlight\"></i><i class=\"rmp-icon rmp-icon--ratings rmp-icon--star rmp-icon--full-highlight\"></i><i class=\"rmp-icon rmp-icon--ratings rmp-icon--star rmp-icon--full-highlight\"></i><i class=\"rmp-icon rmp-icon--ratings rmp-icon--star rmp-icon--full-highlight\"></i> <span class=\"rmp-tr-posts-widget__avg-rating\">5</span> <span class=\"rmp-tr-posts-widget__num-votes\">(1)</span></div><p>\\n<a class=\"rmp-tr-posts-widget__link\" href=\"https://warstek.com/bioinformatika-apa-sih-bioinformatika-itu/\">Bioinformatika, apa sih Bioinformatika itu?</a>\\n</p></div><div class=\"rmp-tr-posts-widget__post\">\\n<div class=\"rmp-tr-posts-widget__img-container\"> <a href=\"https://warstek.com/pancasila/\"> <img onload=\"Wpfcll.r(this,true);\" src=\"https://warstek.com/wp-content/plugins/wp-fastest-cache-premium/pro/images/blank.gif\" class=\"rmp-tr-posts-widget__img\" data-wpfc-original-src=\"https://warstek.com/wp-content/uploads/2020/11/Untitled-3.jpg\" alt=\"Pancasila: Pengertian, Sejarah, Butir, Nilai, dan Dasar Pandangan Hidup [Lengkap + Contoh Soal]\"/> </a></div><div class=\"rmp-tr-posts-widget__star-rating\"> <i class=\"rmp-icon rmp-icon--ratings rmp-icon--star rmp-icon--full-highlight\"></i><i class=\"rmp-icon rmp-icon--ratings rmp-icon--star rmp-icon--full-highlight\"></i><i class=\"rmp-icon rmp-icon--ratings rmp-icon--star rmp-icon--full-highlight\"></i><i class=\"rmp-icon rmp-icon--ratings rmp-icon--star rmp-icon--full-highlight\"></i><i class=\"rmp-icon rmp-icon--ratings rmp-icon--star rmp-icon--full-highlight\"></i> <span class=\"rmp-tr-posts-widget__avg-rating\">5</span> <span class=\"rmp-tr-posts-widget__num-votes\">(1)</span></div><p>\\n<a class=\"rmp-tr-posts-widget__link\" href=\"https://warstek.com/pancasila/\">Pancasila:  Pengertian, Sejarah, Butir, Nilai, dan Dasar Pandangan Hidup [Lengkap + Contoh Soal]</a>\\n</p></div><div class=\"rmp-tr-posts-widget__post\">\\n<div class=\"rmp-tr-posts-widget__img-container\"> <a href=\"https://warstek.com/mengenal-tribologi-ilmu-tentang-gesekan-dan-aplikasinya-dalam-kehidupan/\"> <img onload=\"Wpfcll.r(this,true);\" src=\"https://warstek.com/wp-content/plugins/wp-fastest-cache-premium/pro/images/blank.gif\" class=\"rmp-tr-posts-widget__img\" data-wpfc-original-src=\"https://warstek.com/wp-content/uploads/2020/11/tae12122017web.jpg\" alt=\"Mengenal Tribologi (Ilmu Tentang Gesekan) dan Aplikasinya dalam Kehidupan\"/> </a></div><div class=\"rmp-tr-posts-widget__star-rating\"> <i class=\"rmp-icon rmp-icon--ratings rmp-icon--star rmp-icon--full-highlight\"></i><i class=\"rmp-icon rmp-icon--ratings rmp-icon--star rmp-icon--full-highlight\"></i><i class=\"rmp-icon rmp-icon--ratings rmp-icon--star rmp-icon--full-highlight\"></i><i class=\"rmp-icon rmp-icon--ratings rmp-icon--star rmp-icon--full-highlight\"></i><i class=\"rmp-icon rmp-icon--ratings rmp-icon--star rmp-icon--full-highlight\"></i> <span class=\"rmp-tr-posts-widget__avg-rating\">5</span> <span class=\"rmp-tr-posts-widget__num-votes\">(1)</span></div><p>\\n<a class=\"rmp-tr-posts-widget__link\" href=\"https://warstek.com/mengenal-tribologi-ilmu-tentang-gesekan-dan-aplikasinya-dalam-kehidupan/\">Mengenal Tribologi (Ilmu Tentang Gesekan) dan Aplikasinya dalam Kehidupan</a>\\n</p></div></div></div><div id=\"custom_html-50\" class=\"widget_text widget widget_custom_html\"><p class=\"widget-title\">Artikel yang Terkait</p><div class=\"textwidget custom-html-widget\">\\n<script async src=\"//pagead2.googlesyndication.com/pagead/js/adsbygoogle.js\"></script>\\n<ins class=\"adsbygoogle\"\\nstyle=\"display:block\"\\ndata-ad-format=\"autorelaxed\"\\ndata-ad-client=\"ca-pub-9638064869561472\"\\ndata-ad-slot=\"4368873124\"></ins>\\n<script>(adsbygoogle=window.adsbygoogle||[]).push({});</script>\\n<br/>\\n<ins class=\\'adsbyadop\\' _adop_zon = \\'6dc5bcbb-1006-49b8-9ffd-eb8a5e464239\\' _adop_type = \\'re\\' style=\\'display:inline-block;width:300px;height:250px;\\' _page_url=\\'\\'></ins></div></div></aside></div></div></div></main>\\n<footer class=\"site-footer\" id=\"site-footer\">\\n<div class=\"hfg_footer\">\\n<div class=\"footer--row footer-top layout-full-contained\" id=\"cb-row--footer-top\" data-row-id=\"top\" data-show-on=\"desktop\">\\n<div class=\"footer--row-inner footer-top-inner footer-content-wrap\">\\n<div class=\"container\">\\n<div class=\"hfg-grid nv-footer-content hfg-grid-top row--wrapper row\" data-section=\"hfg_footer_layout_top\">\\n<div class=\"builder-item hfg-item-last hfg-item-first col-12 desktop-center tablet-center mobile-center hfg-item-v-middle\"><div class=\"item--inner builder-item--footer_copyright\" data-section=\"footer_copyright\" data-item-id=\"footer_copyright\">\\n<div class=\"component-wrap\"> <p>Didesain dengan hati | Copyright Warstek.com 2021 </p></div></div></div></div></div></div></div><div class=\"footer--row footer-bottom layout-full-contained\" id=\"cb-row--footer-bottom\" data-row-id=\"bottom\" data-show-on=\"desktop\">\\n<div class=\"footer--row-inner footer-bottom-inner footer-content-wrap\">\\n<div class=\"container\">\\n<div class=\"hfg-grid nv-footer-content hfg-grid-bottom row--wrapper row\" data-section=\"hfg_footer_layout_bottom\">\\n<div class=\"builder-item hfg-item-first col-6 desktop-left tablet-left mobile-left hfg-item-v-middle\"><div class=\"item--inner builder-item--footer-one-widgets\" data-section=\"sidebar-widgets-footer-one-widgets\" data-item-id=\"footer-one-widgets\">\\n<div class=\"widget-area\">\\n<div id=\"text-7\" class=\"widget widget_text\">\\t\\t\\t<div class=\"textwidget\"><p><img onload=\"Wpfcll.r(this,true);\" src=\"https://warstek.com/wp-content/plugins/wp-fastest-cache-premium/pro/images/blank.gif\" loading=\"lazy\" data-wpfc-original-src=\"http://warstek.com/wp-content/uploads/2017/12/footer-logo-copy-min.png\" alt=\"blank\" width=\"163\" height=\"50\"/></p>\\n<div><strong>UP TO DATE | TERPERCAYAÂ\\xa0| SERU</strong></div><div></div><div style=\"margin: 0px 0 0px 0;\">Warstek adalah media SAINS POPULER yang dibuat untuk seluruh masyarakat Indonesia baik kalangan akademisi, masyarakat sipil, atau industri.</div></div></div></div></div></div><div class=\"builder-item hfg-item-last col-6 desktop-left tablet-left mobile-left hfg-item-v-middle\"><div class=\"item--inner builder-item--footer-two-widgets\" data-section=\"sidebar-widgets-footer-two-widgets\" data-item-id=\"footer-two-widgets\">\\n<div class=\"widget-area\">\\n<div id=\"text-4\" class=\"widget widget_text\"><p class=\"widget-title\">Kontak</p>\\t\\t\\t<div class=\"textwidget\"><p>Address: Jl. Sukolilo Baru gg. VI no 10 | Surabaya | Indonesia<br /> Phone: (+62)87750118140<br /> Email: warstek.jurnal@gmail.com<br /> Office Hour: 08.00 WIB Â\\xa0&#8211; 15.00 WIB (Monday &#8211; Friday)</p></div></div></div></div></div></div></div></div></div></div></footer></div><div id=\"um_upload_single\" style=\"display:none\"></div><div id=\"um_view_photo\" style=\"display:none\">\\n<a href=\"javascript:void(0);\" data-action=\"um_remove_modal\" class=\"um-modal-close\" aria-label=\"Close view photo modal\">\\n<i class=\"um-faicon-times\"></i>\\n</a>\\n<div class=\"um-modal-body photo\">\\n<div class=\"um-modal-photo\"></div></div></div><ul class=\"obfx-sharing obfx-sharing-right obfx-sharing-bottom\">\\n<li> <a class =\"facebook\" href=\"https://www.facebook.com/sharer.php?u=https://warstek.com/kabel-laut/\"> <i class=\"socicon-facebook\"></i> </a> </li>\\n<li> <a class =\"twitter\" href=\"https://twitter.com/intent/tweet?url=https://warstek.com/kabel-laut/&#038;text=Mengenal%20Kabel%20Laut%20&#8211;%20Bagian%20Utama%20dari%20Internet&#038;hashtags=Pilihan%20Editor,Teknologi\"> <i class=\"socicon-twitter\"></i> </a> </li>\\n<li> <a class =\"whatsapp\" href=\"whatsapp://send?text=https://warstek.com/kabel-laut/\"> <i class=\"socicon-whatsapp\"></i> </a> </li>\\n</ul>\\n<div class=\"wp-dark-mode-switcher wp-dark-mode-ignore style-1 floating right_bottom\">\\n<label for=\"wp-dark-mode-switch\" class=\"wp-dark-mode-ignore wp-dark-mode-wobble\">\\n<div class=\"modes wp-dark-mode-ignore\"> <img onload=\"Wpfcll.r(this,true);\" src=\"https://warstek.com/wp-content/plugins/wp-fastest-cache-premium/pro/images/blank.gif\" class=\"light\" data-wpfc-original-src=\"https://warstek.com/wp-content/plugins/wp-dark-mode//assets/images/btn-1/light.png\" alt=\"Light\"> <img onload=\"Wpfcll.r(this,true);\" src=\"https://warstek.com/wp-content/plugins/wp-fastest-cache-premium/pro/images/blank.gif\" class=\"dark\" data-wpfc-original-src=\"https://warstek.com/wp-content/plugins/wp-dark-mode//assets/images/btn-1/dark.png\" alt=\"Dark\"></div></label></div><script id=\\'rate-my-post-js-extra\\'>var rmp_frontend={\"admin_ajax\":\"https:\\\\/\\\\/warstek.com\\\\/wp-admin\\\\/admin-ajax.php\",\"postID\":\"53058\",\"noVotes\":\"Belum ada yang menilai! Yuk jadi yang pertama kali menilai!\",\"cookie\":\"Anda telah memberikan penilaian.\",\"afterVote\":\"Terima kasih telah menilai post ini :)\",\"notShowRating\":\"1\",\"social\":\"1\",\"feedback\":\"1\",\"cookieDisable\":\"1\",\"emptyFeedback\":\"Please insert your feedback in the box above!\",\"hoverTexts\":\"2\",\"preventAccidental\":\"2\",\"grecaptcha\":\"1\",\"siteKey\":\"\",\"votingPriv\":\"1\",\"loggedIn\":\"\",\"positiveThreshold\":\"2\",\"ajaxLoad\":\"1\",\"nonce\":\"2b5986ab14\"};</script>\\n<script id=\\'wp-util-js-extra\\'>var _wpUtilSettings={\"ajax\":{\"url\":\"\\\\/wp-admin\\\\/admin-ajax.php\"}};</script>\\n<script id=\\'wp-dark-mode-frontend-js-extra\\'>var wpDarkMode={\"config\":{\"brightness\":100,\"contrast\":90,\"sepia\":10},\"enable_preset\":\"\",\"customize_colors\":\"\",\"colors\":{\"bg\":\"#000\",\"text\":\"#dfdedb\",\"link\":\"#e58c17\"},\"enable_frontend\":\"1\",\"enable_backend\":\"\",\"enable_os_mode\":\"1\",\"excludes\":\"rs-fullwidth-wrap,.mejs-container\",\"includes\":\"\",\"is_excluded\":\"\",\"remember_darkmode\":\"\",\"default_mode\":\"1\",\"keyboard_shortcut\":\"1\",\"images\":\"\",\"videos\":\"\",\"is_pro_active\":\"\",\"is_ultimate_active\":\"\",\"pro_version\":\"0\",\"is_elementor_editor\":\"\",\"is_block_editor\":\"\",\"frontend_mode\":\"\"};</script>\\n<script id=\\'neve-script-js-extra\\'>var NeveProperties={\"ajaxurl\":\"https:\\\\/\\\\/warstek.com\\\\/wp-admin\\\\/admin-ajax.php\",\"nonce\":\"a8ef99f8c4\",\"isRTL\":\"\",\"isCustomize\":\"\"};</script>\\n<script id=\\'um_scripts-js-extra\\'>var um_scripts={\"max_upload_size\":\"134217728\",\"nonce\":\"7966d652d3\"};</script>\\n<script id=\\'sharing-js-js-extra\\'>var sharing_js_options={\"lang\":\"en\",\"counts\":\"1\",\"is_stats_active\":\"1\"};</script>\\n<script async src=\\'https://propsid.b-cdn.net/gpt/warstek.js\\'></script>\\n<script src=\\'//warstek.com/wp-content/cache/wpfc-minified/1pd75ehe/e4tew.js\\'></script>\\n<script>(function (){\\nwindow.wpDarkMode={\"config\":{\"brightness\":100,\"contrast\":90,\"sepia\":10},\"enable_preset\":false,\"customize_colors\":false,\"colors\":{\"bg\":\"#000\",\"text\":\"#dfdedb\",\"link\":\"#e58c17\"},\"enable_frontend\":true,\"enable_backend\":false,\"enable_os_mode\":true,\"excludes\":\"rs-fullwidth-wrap,.mejs-container\",\"includes\":\"\",\"is_excluded\":false,\"remember_darkmode\":false,\"default_mode\":true,\"keyboard_shortcut\":true,\"images\":\"\",\"videos\":\"\",\"is_pro_active\":false,\"is_ultimate_active\":false,\"pro_version\":0,\"is_elementor_editor\":false,\"is_block_editor\":false,\"frontend_mode\":false};\\nwindow.checkOsDarkMode=()=> {\\nif(!wpDarkMode.enable_os_mode||localStorage.getItem(\\'wp_dark_mode_active\\')){\\nreturn false;\\n}\\nconst darkMediaQuery=window.matchMedia(\\'(prefers-color-scheme: dark)\\');\\nif(darkMediaQuery.matches) return true;\\ntry {\\ndarkMediaQuery.addEventListener(\\'change\\', function (e){\\nconst newColorScheme=e.matches ? \\'dark\\':\\'light\\';\\nconst isDark=\\'dark\\'===newColorScheme;\\nreturn isDark;\\n});\\n} catch (e1){\\ntry {\\ndarkMediaQuery.addListener(function (e){\\nconst newColorScheme=e.matches ? \\'dark\\':\\'light\\';\\nconst isDark=\\'dark\\'===newColorScheme;\\nreturn isDark\\n});\\n} catch (e2){\\nconsole.error(e2);\\nreturn false;\\n}}\\nreturn false;\\n}\\nconst is_saved=localStorage.getItem(\\'wp_dark_mode_active\\');\\nconst isCustomColor=parseInt(\"\");\\nconst shouldDarkMode=is_saved==\\'1\\'||(!is_saved&&wpDarkMode.default_mode)||checkOsDarkMode();\\nif(shouldDarkMode){\\ndocument.querySelector(\\'html\\').classList.add(\\'wp-dark-mode-active\\');\\nconst isPerformanceMode=Boolean();\\nif(!isCustomColor&&!isPerformanceMode){\\nvar css=`body, div, section, header, article, main, aside{background-color: #2B2D2D !important;}`;\\nvar head=document.head||document.getElementsByTagName(\\'head\\')[0],\\nstyle=document.createElement(\\'style\\');\\nstyle.setAttribute(\\'id\\', \\'pre_css\\');\\nhead.appendChild(style);\\nstyle.type=\\'text/css\\';\\nif(style.styleSheet){\\nstyle.styleSheet.cssText=css;\\n}else{\\nstyle.appendChild(document.createTextNode(css));\\n}}\\n}})();</script>\\n<script>document.cookie=\\'quads_browser_width=\\'+screen.width;</script>\\n<script async src=\\'//ajax.googleapis.com/ajax/libs/jquery/1.4.2/jquery.min.js\\'></script>\\n<script async src=\\'//compass.adop.cc/assets/js/adop/adop.js?v=10\\'></script>\\n<script src=\\'https://compasscdn.adop.cc/js/adop_new_collapse_width100_0.0.1.js\\' data-id=\\'ADOP_V_c1RqTHa2x8\\' data-width=\\'336\\' data-height=\\'280\\' data-type=\\'re\\' data-zone=\\'29afe64a-216e-40c3-b40e-db77f972d773\\' data-fl=\\'Y\\' data-margin=\\'0,0,0,0\\' data-fl-width=\\'400\\' data-loc=\\'rt\\'></script>\\n<script async src=\\'//compass.adop.cc/assets/js/adop/adopJ.js?v=10\\'></script>\\n<script>;(function (){\\nwindow.wpDarkMode={\"config\":{\"brightness\":100,\"contrast\":90,\"sepia\":10},\"enable_preset\":false,\"customize_colors\":false,\"colors\":{\"bg\":\"#000\",\"text\":\"#dfdedb\",\"link\":\"#e58c17\"},\"enable_frontend\":true,\"enable_backend\":false,\"enable_os_mode\":true,\"excludes\":\"rs-fullwidth-wrap,.mejs-container\",\"includes\":\"\",\"is_excluded\":false,\"remember_darkmode\":false,\"default_mode\":true,\"keyboard_shortcut\":true,\"images\":\"\",\"videos\":\"\",\"is_pro_active\":false,\"is_ultimate_active\":false,\"pro_version\":0,\"is_elementor_editor\":false,\"is_block_editor\":false,\"frontend_mode\":false};\\nconst is_saved=localStorage.getItem(\\'wp_dark_mode_active\\');\\nconst shouldDarkMode=is_saved==\\'1\\'||(!is_saved&&wpDarkMode.default_mode)||checkOsDarkMode();\\nif(shouldDarkMode){\\nconst isCustomColor=parseInt(\"\");\\nconst isPerformanceMode=Boolean();\\nif(!isCustomColor&&!isPerformanceMode){\\nif(document.getElementById(\\'pre_css\\')){\\ndocument.getElementById(\\'pre_css\\').remove();\\n}\\nif(\\'\\'===``){\\nDarkMode.enable();\\n}}\\n}})();</script>\\n<script>window.WPCOM_sharing_counts={\"https:\\\\/\\\\/warstek.com\\\\/kabel-laut\\\\/\":53058};</script>\\n<script src=\\'//warstek.com/wp-content/cache/wpfc-minified/6ojeht00/e4tew.js\\'></script>\\n<script id=\\'wp-i18n-js-after\\'>wp.i18n.setLocaleData({ \\'text direction\\\\u0004ltr\\': [ \\'ltr\\' ] });</script>\\n<script src=\\'//warstek.com/wp-content/cache/wpfc-minified/8mnw8w79/dx2m4.js\\'></script>\\n<script id=\\'sharing-js-js-after\\'>var windowOpen;\\n(function (){\\nfunction matches(el, sel){\\nreturn !! (\\nel.matches&&el.matches(sel) ||\\nel.msMatchesSelector&&el.msMatchesSelector(sel)\\n);\\n}\\ndocument.body.addEventListener(\\'click\\', function(event){\\nif(! event.target){\\nreturn;\\n}\\nvar el;\\nif(matches(event.target, \\'a.share-facebook\\')){\\nel=event.target;\\n}else if(event.target.parentNode&&matches(event.target.parentNode, \\'a.share-facebook\\')){\\nel=event.target.parentNode;\\n}\\nif(el){\\nevent.preventDefault();\\nif(typeof windowOpen!==\\'undefined\\'){\\nwindowOpen.close();\\n}\\nwindowOpen=window.open(el.getAttribute(\\'href\\'), \\'wpcomfacebook\\', \\'menubar=1,resizable=1,width=600,height=400\\');\\nreturn false;\\n}});\\n})();\\nvar windowOpen;\\n(function (){\\nfunction matches(el, sel){\\nreturn !! (\\nel.matches&&el.matches(sel) ||\\nel.msMatchesSelector&&el.msMatchesSelector(sel)\\n);\\n}\\ndocument.body.addEventListener(\\'click\\', function(event){\\nif(! event.target){\\nreturn;\\n}\\nvar el;\\nif(matches(event.target, \\'a.share-twitter\\')){\\nel=event.target;\\n}else if(event.target.parentNode&&matches(event.target.parentNode, \\'a.share-twitter\\')){\\nel=event.target.parentNode;\\n}\\nif(el){\\nevent.preventDefault();\\nif(typeof windowOpen!==\\'undefined\\'){\\nwindowOpen.close();\\n}\\nwindowOpen=window.open(el.getAttribute(\\'href\\'), \\'wpcomtwitter\\', \\'menubar=1,resizable=1,width=600,height=350\\');\\nreturn false;\\n}});\\n})();\\nvar windowOpen;\\n(function (){\\nfunction matches(el, sel){\\nreturn !! (\\nel.matches&&el.matches(sel) ||\\nel.msMatchesSelector&&el.msMatchesSelector(sel)\\n);\\n}\\ndocument.body.addEventListener(\\'click\\', function(event){\\nif(! event.target){\\nreturn;\\n}\\nvar el;\\nif(matches(event.target, \\'a.share-telegram\\')){\\nel=event.target;\\n}else if(event.target.parentNode&&matches(event.target.parentNode, \\'a.share-telegram\\')){\\nel=event.target.parentNode;\\n}\\nif(el){\\nevent.preventDefault();\\nif(typeof windowOpen!==\\'undefined\\'){\\nwindowOpen.close();\\n}\\nwindowOpen=window.open(el.getAttribute(\\'href\\'), \\'wpcomtelegram\\', \\'menubar=1,resizable=1,width=450,height=450\\');\\nreturn false;\\n}});\\n})();</script>\\n<script defer src=\\'https://stats.wp.com/e-202145.js\\' defer></script>\\n<script>_stq=window._stq||[];\\n_stq.push([ \\'view\\', {v:\\'ext\\',j:\\'1:10.3\\',blog:\\'139897316\\',post:\\'53058\\',tz:\\'7\\',srv:\\'warstek.com\\'} ]);\\n_stq.push([ \\'clickTrackerInit\\', \\'139897316\\', \\'53058\\' ]);</script>\\n<script>document.addEventListener(\\'DOMContentLoaded\\',function(){\\njQuery(window).on(\\'load\\', function(){\\njQuery(\\'input[name=\"um_request\"]\\').val(\\'\\');\\n});});</script>\\n</body>\\n</html><!-- WP Fastest Cache file was created in 1.6827590465546 seconds, on 14-11-21 9:00:05 -->'"
            ]
          },
          "metadata": {},
          "execution_count": 99
        }
      ]
    },
    {
      "cell_type": "code",
      "metadata": {
        "colab": {
          "base_uri": "https://localhost:8080/",
          "height": 35
        },
        "id": "4PBxcJMTQSIr",
        "outputId": "3acd825f-2048-4192-88cc-9461b6ca6845"
      },
      "source": [
        "# Mengubah Encoding menjadi utf-8 | Jika tidak dikonversi ke utf-8 untuk karakter khusus \n",
        "# seperti \",'/- dll akan menjadi karakter yang sulit dipahami\n",
        "result.encoding = result.apparent_encoding\n",
        "result.encoding"
      ],
      "id": "4PBxcJMTQSIr",
      "execution_count": 100,
      "outputs": [
        {
          "output_type": "execute_result",
          "data": {
            "application/vnd.google.colaboratory.intrinsic+json": {
              "type": "string"
            },
            "text/plain": [
              "'utf-8'"
            ]
          },
          "metadata": {},
          "execution_count": 100
        }
      ]
    },
    {
      "cell_type": "code",
      "metadata": {
        "id": "rxX4v4Rs8vQ7"
      },
      "source": [
        "wp = BeautifulSoup(result.text, \"html.parser\")"
      ],
      "id": "rxX4v4Rs8vQ7",
      "execution_count": 101,
      "outputs": []
    },
    {
      "cell_type": "markdown",
      "metadata": {
        "id": "8m8HVOkA0m8S"
      },
      "source": [
        "Mengambil bagian html dengan tag 'p' paling awal (paragraph)\n",
        "Silakan klik link wartek yang mengarah ke artikel https://warstek.com/kabel-laut/\n",
        "\n",
        "Nah, pada artikel tersebut kita akan menemukan tag 'p' dengan klik kanan pada artikel lalu pilih 'Inspect'\n",
        "\n",
        "![download.png](data:image/png;base64,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)\n",
        "\n",
        "Lalu akan muncul seperti berikut,\n",
        "\n",
        "![image.png](data:image/png;base64,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)\n",
        "\n",
        "Tampilan tersebut merupakan struktur dasar dari halaman web yang berupa HTML. Struktur tersebut memiliki beberapa elemen dengan fungsinya masing - masing yang ditandai dengan adanya tag seperti `<p>`, `<img>`, `<a>`, `<table>`, `<div>` dll. \n",
        "\n",
        "Karena yang akan kita ambil adalah bagian konten teks dan konten teks tersebut tersimpan pada tag `<p>` (paragraph), maka kita akan menggunakan tag tersebut sebagai selector atau penanda.\n",
        "\n",
        "Nah, pada bagian Element itu akan muncul html untuk tag 'p' tadi, kalo mau cepat nyarinya bisa dengan pencarian cepat dengan tekan CRTL + f lalu ketik p, maka akan lebih cepat nyarinya, atau bisa juga telusuri satu-satu. Nanti akan ktemu tag 'p' seperti dibawah ini:\n",
        "\n",
        "Nahh, kira-kira demikian proses buat dapetin tag 'p'-nya."
      ],
      "id": "8m8HVOkA0m8S"
    },
    {
      "cell_type": "markdown",
      "metadata": {
        "id": "TJrgpuONpLmN"
      },
      "source": [
        "Nah, pada bagian Element itu akan muncul html untuk tag 'p' tadi, kalo mau cepat nyarinya bisa dengan pencarian cepat dengan tekan CRTL + f lalu ketik p, maka akan lebih cepat nyarinya, atau bisa juga telusuri satu-satu. Anati akan ktemu tag 'p' seperti dibawah ini:\n",
        "\n",
        "![image.png](data:image/png;base64,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)\n",
        "\n",
        "Nahh, kira-kira demikian proses buat dapetin tag 'p'-nya."
      ],
      "id": "TJrgpuONpLmN"
    },
    {
      "cell_type": "code",
      "metadata": {
        "colab": {
          "base_uri": "https://localhost:8080/"
        },
        "id": "LNAkCy6VEHra",
        "outputId": "b0d8949a-f053-4376-8952-5a056ac9750a"
      },
      "source": [
        "# Mengambil bagian html dengan tag p paling awal (paragraph)\n",
        "wp.find(\"p\")"
      ],
      "id": "LNAkCy6VEHra",
      "execution_count": 102,
      "outputs": [
        {
          "output_type": "execute_result",
          "data": {
            "text/plain": [
              "<p>Sains dan Teknologi yang Seru dan Menyenangkan</p>"
            ]
          },
          "metadata": {},
          "execution_count": 102
        }
      ]
    },
    {
      "cell_type": "code",
      "metadata": {
        "colab": {
          "base_uri": "https://localhost:8080/",
          "height": 35
        },
        "id": "NSAsJ6F_EMnc",
        "outputId": "9c49dbb5-6264-418c-d86f-13e6d87880a4"
      },
      "source": [
        "# Mengambil bagian html dengan tag p paling awal, tapi hanya value-nya saja.\n",
        "wp.find(\"p\").getText()"
      ],
      "id": "NSAsJ6F_EMnc",
      "execution_count": 103,
      "outputs": [
        {
          "output_type": "execute_result",
          "data": {
            "application/vnd.google.colaboratory.intrinsic+json": {
              "type": "string"
            },
            "text/plain": [
              "'Sains dan Teknologi yang Seru dan Menyenangkan'"
            ]
          },
          "metadata": {},
          "execution_count": 103
        }
      ]
    },
    {
      "cell_type": "code",
      "metadata": {
        "colab": {
          "base_uri": "https://localhost:8080/",
          "height": 35
        },
        "id": "MZiW6vlpuyz5",
        "outputId": "0daee7fa-f87f-4cc6-be76-e8de91cc5b18"
      },
      "source": [
        "wp.find('p').getText()"
      ],
      "id": "MZiW6vlpuyz5",
      "execution_count": 104,
      "outputs": [
        {
          "output_type": "execute_result",
          "data": {
            "application/vnd.google.colaboratory.intrinsic+json": {
              "type": "string"
            },
            "text/plain": [
              "'Sains dan Teknologi yang Seru dan Menyenangkan'"
            ]
          },
          "metadata": {},
          "execution_count": 104
        }
      ]
    },
    {
      "cell_type": "code",
      "metadata": {
        "colab": {
          "base_uri": "https://localhost:8080/"
        },
        "id": "P1_uWk_e-MWD",
        "outputId": "f0720547-ae76-4193-89e3-a433b07cd084"
      },
      "source": [
        "# Mengambil bagian html dengan tag p (secara keseluruhan)\n",
        "wp.find_all(\"p\")"
      ],
      "id": "P1_uWk_e-MWD",
      "execution_count": 105,
      "outputs": [
        {
          "output_type": "execute_result",
          "data": {
            "text/plain": [
              "[<p>Sains dan Teknologi yang Seru dan Menyenangkan</p>,\n",
              " <p>Pada hari Minggu lalu (19 September 2021), terjadi gangguan jaringan internet pada Telkomsel dan Indihome. Gangguan tersebut menyebabkan penurunan kualitas layanan TelkomGroup baik <em>fixed</em> maupun <em>mobile broadband</em> di beberapa wilayah Indonesia. Di masa pandemi yang menuntut orang untuk berada di rumah seperti ini, gangguan internet tentu menjadi masalah besar. Berbagai kegiatan penting seperti Seleksi Kompetensi Dasar (SKD) CPNS mengalami penundaan. Netizen pun banyak berkomentar negatif terkait hal ini. Saat artikel ini dirilis, gangguan tersebut mungkin belum benar-benar terselesaikan.</p>,\n",
              " <p>Gangguan tersebut disebabkan oleh masalah pada sistem komunikasi kabel laut JaSuKa (Jawa, Sumatera dan Kalimantan) ruas Batam-Pontianak. Telkom memperkirakan proses perbaikan kabel laut yang terganggu akan berlangsung sekitar sebulan. Meski begitu, Telkom mencoba berbagai alternatif agar jaringan internet tetap dapat berjalan sebaik mungkin, meski tentu tidak sebaik ketika kondisi normal. </p>,\n",
              " <p>Bagaimana pun juga, gangguan ini membuat banyak orang bertanya-tanya, “Apa hubungannya kabel di laut dengan internet?”, “Kenapa jaringan internet itu malah lewat kabel laut?”, “Kenapa nggak pakai satelit aja?”, “Kenapa jaringannya tidak segera membaik?”, dan lainnya. Artikel singkat ini akan mencoba membahas sedikit terkait hal itu. </p>,\n",
              " <p>Internet sering diasosiasikan dengan kata <em>cloud</em> atau <em>wireless </em>sehingga kita merasa bahwa internet itu dibawa oleh udara di sekitar kita. Ketika kita mendengar kata “jaringan internet”, yang terbayang mungkin gelombang antara menara pemancar di Bumi dengan satelit di angkasa. Itu tidak sepenuhnya salah. Internet memang ada di sekitar kita dan satelit memegang peran penting untuk itu. Namun, persepsi itu membuat kita melupakan bagian lain dari internet. Bagian terpenting yang sangat vital namun tidak akan pernah kita lihat, yaitu kabel laut. Sebelumnya, perlu kita ketahui bersama bahwa:</p>,\n",
              " <p>99% Komunikasi Data Internasional itu Melalui Kabel Laut</p>,\n",
              " <p>Itu adalah kalimat yang sudah banyak disampaikan di berbagai media massa, namun sepertinya masih belum banyak diketahui masyarakat umum. Lebih detailnya lagi, hanya sekitar 300 kabel bawah laut yang bertanggung jawab terhadap 99% lalu lintas komunikasi data internasional. </p>,\n",
              " <p>Gambar di atas merupakan jaringan kabel laut di dunia yang dapat diakses di <a href=\"https://www.submarinecablemap.com/\">www.submarinecablemap.com</a>. Di sana, kita tidak hanya bisa melihat jaringan kabel secara keseluruhan, namun juga melihat lebih detail terkait salah satu kabel yang ada. Dari gambar di atas, jaringannya memang terlihat sangat banyak dan sangat rumit. Namun, kita perlu ingat bahwa komunikasi yang senantiasa terjadi di internet itu juga sangat banyak dan sangat rumit, jauh lebih banyak dan lebih rumit dari yang bisa kita bayangkan. </p>,\n",
              " <p>Ketika kita mengirim satu chat ke teman di samping kita misalnya. Bisa jadi chat kita akan menempuh perjalanan yang amat sangat jauh. Mulai dari puluhan kilometer jalur darat secara <em>wireless</em>, kemudian melalui ribuan kilometer kabel laut, menuju ke <em>data center </em>di China atau Amerika, lalu kembali lagi ke Indonesia melalui kabel laut, dan sampai ke teman di samping kita  secara <em>wireless</em>. Itu salah satu skenario yang mungkin terjadi, bisa saja jauh lebih pendek atau jauh lebih panjang. Sebagai mahasiswa Teknik Elektro yang pernah sedikit mendalami internet, yang bisa penulis katakan terkait internet adalah <em>“It’s never been simple”</em></p>,\n",
              " <p>Ketika mendengar bahwa 99% internet itu melewati kabel laut, apa bayangan kita terkait bentuk fisik dari kabel laut itu? Ukurannya mungkin memang sangat bervariasi, namun gambar berikut bisa memberikan gambaran bahwa ukuran kabelnya bisa jadi hanya sekecil ini</p>,\n",
              " <p>Hampir seluruh luasannya digunakan sebagai pelindung. Bagian yang mengalirkan informasi adalah fiber optik yang ukurannya tidak berbeda jauh dari sehelai rambut kita. Meski sangat kecil, dia mampu membawa informasi dengan sangat cepat, mendekati kecepatan cahaya. Itu karena informasi dibawa bukan sebagai sinyal listrik seperti kabel di rumah, namun sebagai sinyal cahaya. Kapasitasnya juga sangat besar, satu helai saja bisa memiliki kapasitas 100 gigabit per sekon. [Baca: <a href=\"https://warstek.com/ftth/\">Dasar Komunikasi Fiber Optik dan FTTH (Fiber To The Home)</a>]</p>,\n",
              " <p>Dengan itu semua, kabel laut jauh lebih cepat daripada satelit. Itu karena satelit yang biasanya digunakan untuk internet berada puluhan ribu kilometer di atas kita. Sementara itu, jalur melalui laut tidak akan lebih dari belasan ribu kilometer saja. Kapasitas transfer data dari satelit juga jauh lebih sulit untuk ditingkatkan dibanding kabel laut. Maka, meski keduanya memanfaatkan kecepatan cahaya, secara umum kabel laut tetap jauh lebih cepat daripada satelit. (Baca: <a href=\"https://warstek.com/starlink/\">SpaceX Luncurkan 60 Satelit Penyedia Internet Starlink</a>)</p>,\n",
              " <p>Namun, kabel laut juga memiliki banyak masalah. Banyak pihak yang menyebutkan bahwa kabel laut yang menjadi tulang punggung internet kita ini sebenarnya sangatlah rentan. Kabel laut dapat mengalami masalah akibat faktor alam, namun ini hanya mencakup 14 persen saja.  <em>Association of Sea Cable Communication Systems</em> menyebutkan bahwa sebanyak 47% gangguan kabel laut disebabkan oleh jangkar kapal. Sementara itu, 28% disebabkan oleh sektor perikanan yang menggunakan FAD (<em>fish aggregating devices</em>). Di Indonesia pun, jangkar juga menjadi penyebab gangguan kabel terbesar. Hal itu mengingat lautan Indonesia juga sering dilewati banyak kapal. </p>,\n",
              " <p>Kabel laut yang ada di negeri kita juga cukup banyak. Hal itu dapat dilihat pada Gambar berikut yang juga didapatkan dari  <a href=\"https://www.submarinecablemap.com\">www.submarinecablemap.com</a>. Pada Gambar ini, jaringan kabel JaSuKa yang dimiliki Telkom Indonesia terlihat berwarna biru tua dan menghubungkan berbagai titik di Jawa, Sumatera, dan Kalimantan. JaSuKa memiliki total panjang hampir 11 ribu kilometer dan disebut menjadi salah satu yang terpanjang di dunia. </p>,\n",
              " <p>Kabel laut memang jauh lebih murah daripada satelit, namun tetap saja tidak mudah dan tidak sederhana. Baik perencanaan maupun pengelolaannya memerlukan banyak pengorbanan. Ini wajar saja mengingat dunia bawah laut sangatlah kompleks dan penuh dengan berbagai hal yang tak terduga. Perlu diketahui pula bahwa setiap beberapa puluh kilometer, perlu terdapat <em>repeater </em>untuk menguatkan kembali sinyal cahaya yang telah melemah. Melihat kompleksitas itu, wajar saja jika perbaikan gangguan tidak bisa selesai dalam satu malam. </p>,\n",
              " <p>Meski demikian, sistem yang besar umumnya memiliki berbagai alternatif jika sistem utamanya gagal. Hal ini juga kita dengar dari pihak Telkom, bahwa jalur backup dan alternatif telah diaktifkan untuk destinasi utama tertentu. Berbagai hal teknis yang tidak akan dipahami masyarakat umum pasti juga telah dilakukan. </p>,\n",
              " <p>Bagaimana pun juga, gangguan ini menunjukan pada kita semua bahwa sistem internet di Indonesia sebenarnya masih belum kuat dan sangat rentan, apalagi jika kita meninjau Indonesia Timur. Di satu sisi, masyarakat umum perlu menyadari bahwa sistem internet secara fisiknya memang sangat kompleks dan sangat rentan terhadap berbagai gangguan serta tidak bisa diperbaiki dengan mudah. Di sisi lain, berbagai pihak yang berpartisipasi langsung di dalamnya perlu terus melakukan evaluasi dan pengembangan agar sistem internet di negeri kita dapat menjadi lebih handal. (Baca: <a href=\"https://warstek.com/internet/\">Analisis terhadap Kualitas Jaringan Internet Indonesia yang Memburuk</a>)</p>,\n",
              " <p class=\"rmp-heading rmp-heading--title\">        Setelah selesai membaca, yuk berikan artikel ini penilaian!      </p>,\n",
              " <p class=\"rmp-heading rmp-heading--subtitle\">        Klik berdasarkan jumlah bintang untuk menilai!      </p>,\n",
              " <p class=\"rmp-rating-widget__hover-text js-rmp-hover-text\"></p>,\n",
              " <p class=\"rmp-rating-widget__results js-rmp-results\">      Rata-rata nilai <span class=\"rmp-rating-widget__results__rating js-rmp-avg-rating\">5</span> / 5. Banyaknya vote: <span class=\"rmp-rating-widget__results__votes js-rmp-vote-count\">3</span> </p>,\n",
              " <p class=\"rmp-rating-widget__not-rated js-rmp-not-rated rmp-rating-widget__not-rated--hidden\">      Belum ada yang menilai! Yuk jadi yang pertama kali menilai!    </p>,\n",
              " <p class=\"rmp-rating-widget__msg js-rmp-msg\">\n",
              " </p>,\n",
              " <p></p>,\n",
              " <p></p>,\n",
              " <p class=\"comment-notes\"><span id=\"email-notes\">Alamat email Anda tidak akan dipublikasikan.</span> Ruas yang wajib ditandai <span class=\"required\">*</span></p>,\n",
              " <p class=\"comment-form-comment\"><label for=\"comment\">Komentar</label> <textarea cols=\"45\" id=\"comment\" maxlength=\"65525\" name=\"comment\" required=\"required\" rows=\"8\"></textarea></p>,\n",
              " <p class=\"comment-form-author\"><label for=\"author\">Nama <span class=\"required\">*</span></label> <input id=\"author\" maxlength=\"245\" name=\"author\" required=\"required\" size=\"30\" type=\"text\" value=\"\"/></p>,\n",
              " <p class=\"comment-form-email\"><label for=\"email\">Email <span class=\"required\">*</span></label> <input aria-describedby=\"email-notes\" id=\"email\" maxlength=\"100\" name=\"email\" required=\"required\" size=\"30\" type=\"text\" value=\"\"/></p>,\n",
              " <p class=\"comment-form-url\"><label for=\"url\">Situs Web</label> <input id=\"url\" maxlength=\"200\" name=\"url\" size=\"30\" type=\"text\" value=\"\"/></p>,\n",
              " <p class=\"form-submit\"><input class=\"submit\" id=\"submit\" name=\"submit\" type=\"submit\" value=\"Kirim Komentar\"/> <input id=\"comment_post_ID\" name=\"comment_post_ID\" type=\"hidden\" value=\"53058\"/>\n",
              " <input id=\"comment_parent\" name=\"comment_parent\" type=\"hidden\" value=\"0\"/>\n",
              " </p>,\n",
              " <p class=\"widget-title\">Cari Artikel</p>,\n",
              " <p class=\"widget-title\">Langganan via Email</p>,\n",
              " <p>Masukkan Email Anda:</p>,\n",
              " <p><input name=\"email\" style=\"width:180px\" type=\"text\"/></p>,\n",
              " <p class=\"widget-title\">Artikel Pilihan Editor</p>,\n",
              " <p> Hallo Sahabat Warstek, pernah gak sih bertanya-tanya, kenapa Einstein bisa begitu genius? Adakah metode khusus yang gurunya ajarkan di Sekolah? … </p>,\n",
              " <p> Di antara kita pastinya sudah tahu apa itu bintang. Nah, bintang merupakan benda langit yang dapat memancarkan cahaya sendiri. Penyebabnya … </p>,\n",
              " <p> Tanggal 25 Oktober 2021, peneliti mengumumkan penemuan planet pertama di luar galaksi Bimasakti. Exoplanet ini berlokasi di galaksi Whirlpool (M51), … </p>,\n",
              " <p class=\"widget-title\">Artikel Terpopuler</p>,\n",
              " <p>\n",
              " <a class=\"rmp-tr-posts-widget__link\" href=\"https://warstek.com/4-hal-ini-menurut-si-genius-einstein-yang-harus-ditekankan-di-sekolah/\">4 Hal ini Menurut Si Genius Einstein yang Harus Ditekankan di Sekolah</a>\n",
              " </p>,\n",
              " <p>\n",
              " <a class=\"rmp-tr-posts-widget__link\" href=\"https://warstek.com/ingatan-palsu/\">Ingatan Palsu – Pengertian, Penyebab, dan Dampak yang Ditimbulkan</a>\n",
              " </p>,\n",
              " <p>\n",
              " <a class=\"rmp-tr-posts-widget__link\" href=\"https://warstek.com/bioinformatika-apa-sih-bioinformatika-itu/\">Bioinformatika, apa sih Bioinformatika itu?</a>\n",
              " </p>,\n",
              " <p>\n",
              " <a class=\"rmp-tr-posts-widget__link\" href=\"https://warstek.com/pancasila/\">Pancasila:  Pengertian, Sejarah, Butir, Nilai, dan Dasar Pandangan Hidup [Lengkap + Contoh Soal]</a>\n",
              " </p>,\n",
              " <p>\n",
              " <a class=\"rmp-tr-posts-widget__link\" href=\"https://warstek.com/mengenal-tribologi-ilmu-tentang-gesekan-dan-aplikasinya-dalam-kehidupan/\">Mengenal Tribologi (Ilmu Tentang Gesekan) dan Aplikasinya dalam Kehidupan</a>\n",
              " </p>,\n",
              " <p class=\"widget-title\">Artikel yang Terkait</p>,\n",
              " <p>Didesain dengan hati | Copyright Warstek.com 2021 </p>,\n",
              " <p><img alt=\"blank\" data-wpfc-original-src=\"http://warstek.com/wp-content/uploads/2017/12/footer-logo-copy-min.png\" height=\"50\" loading=\"lazy\" onload=\"Wpfcll.r(this,true);\" src=\"https://warstek.com/wp-content/plugins/wp-fastest-cache-premium/pro/images/blank.gif\" width=\"163\"/></p>,\n",
              " <p class=\"widget-title\">Kontak</p>,\n",
              " <p>Address: Jl. Sukolilo Baru gg. VI no 10 | Surabaya | Indonesia<br> Phone: (+62)87750118140<br> Email: warstek.jurnal@gmail.com<br/> Office Hour: 08.00 WIB  – 15.00 WIB (Monday – Friday)</br></br></p>]"
            ]
          },
          "metadata": {},
          "execution_count": 105
        }
      ]
    },
    {
      "cell_type": "code",
      "metadata": {
        "colab": {
          "base_uri": "https://localhost:8080/"
        },
        "id": "vOj-fv1ZDdCo",
        "outputId": "10bc3b00-7b78-4f1f-9bfa-d436fdc5f8b4"
      },
      "source": [
        "full_text = []\n",
        "for paragraf in wp.find_all('p'):\n",
        "  full_text.append(paragraf.getText())\n",
        "\n",
        "full_text"
      ],
      "id": "vOj-fv1ZDdCo",
      "execution_count": 106,
      "outputs": [
        {
          "output_type": "execute_result",
          "data": {
            "text/plain": [
              "['Sains dan Teknologi yang Seru dan Menyenangkan',\n",
              " 'Pada hari Minggu lalu (19 September 2021), terjadi gangguan jaringan internet pada Telkomsel dan Indihome. Gangguan tersebut menyebabkan penurunan kualitas layanan TelkomGroup baik fixed maupun mobile broadband di beberapa wilayah Indonesia. Di masa pandemi yang menuntut orang untuk berada di rumah seperti ini, gangguan internet tentu menjadi masalah besar. Berbagai kegiatan penting seperti Seleksi Kompetensi Dasar (SKD) CPNS mengalami penundaan. Netizen pun banyak berkomentar negatif terkait hal ini. Saat artikel ini dirilis, gangguan tersebut mungkin belum benar-benar terselesaikan.',\n",
              " 'Gangguan tersebut disebabkan oleh masalah pada sistem komunikasi kabel laut JaSuKa (Jawa, Sumatera dan Kalimantan) ruas Batam-Pontianak. Telkom memperkirakan proses perbaikan kabel laut yang terganggu akan berlangsung sekitar sebulan. Meski begitu, Telkom mencoba berbagai alternatif agar jaringan internet tetap dapat berjalan sebaik mungkin, meski tentu tidak sebaik ketika kondisi normal. ',\n",
              " 'Bagaimana pun juga, gangguan ini membuat banyak orang bertanya-tanya, “Apa hubungannya kabel di laut dengan internet?”, “Kenapa jaringan internet itu malah lewat kabel laut?”, “Kenapa nggak pakai satelit aja?”, “Kenapa jaringannya tidak segera membaik?”, dan lainnya. Artikel singkat ini akan mencoba membahas sedikit terkait hal itu. ',\n",
              " 'Internet sering diasosiasikan dengan kata cloud atau wireless sehingga kita merasa bahwa internet itu dibawa oleh udara di sekitar kita. Ketika kita mendengar kata “jaringan internet”, yang terbayang mungkin gelombang antara menara pemancar di Bumi dengan satelit di angkasa. Itu tidak sepenuhnya salah. Internet memang ada di sekitar kita dan satelit memegang peran penting untuk itu. Namun, persepsi itu membuat kita melupakan bagian lain dari internet. Bagian terpenting yang sangat vital namun tidak akan pernah kita lihat, yaitu kabel laut. Sebelumnya, perlu kita ketahui bersama bahwa:',\n",
              " '99% Komunikasi Data Internasional itu Melalui Kabel Laut',\n",
              " 'Itu adalah kalimat yang sudah banyak disampaikan di berbagai media massa, namun sepertinya masih belum banyak diketahui masyarakat umum. Lebih detailnya lagi, hanya sekitar 300 kabel bawah laut yang bertanggung jawab terhadap 99% lalu lintas komunikasi data internasional. ',\n",
              " 'Gambar di atas merupakan jaringan kabel laut di dunia yang dapat diakses di www.submarinecablemap.com. Di sana, kita tidak hanya bisa melihat jaringan kabel secara keseluruhan, namun juga melihat lebih detail terkait salah satu kabel yang ada. Dari gambar di atas, jaringannya memang terlihat sangat banyak dan sangat rumit. Namun, kita perlu ingat bahwa komunikasi yang senantiasa terjadi di internet itu juga sangat banyak dan sangat rumit, jauh lebih banyak dan lebih rumit dari yang bisa kita bayangkan. ',\n",
              " 'Ketika kita mengirim satu chat ke teman di samping kita misalnya. Bisa jadi chat kita akan menempuh perjalanan yang amat sangat jauh. Mulai dari puluhan kilometer jalur darat secara wireless, kemudian melalui ribuan kilometer kabel laut, menuju ke data center di China atau Amerika, lalu kembali lagi ke Indonesia melalui kabel laut, dan sampai ke teman di samping kita  secara wireless. Itu salah satu skenario yang mungkin terjadi, bisa saja jauh lebih pendek atau jauh lebih panjang. Sebagai mahasiswa Teknik Elektro yang pernah sedikit mendalami internet, yang bisa penulis katakan terkait internet adalah “It’s never been simple”',\n",
              " 'Ketika mendengar bahwa 99% internet itu melewati kabel laut, apa bayangan kita terkait bentuk fisik dari kabel laut itu? Ukurannya mungkin memang sangat bervariasi, namun gambar berikut bisa memberikan gambaran bahwa ukuran kabelnya bisa jadi hanya sekecil ini',\n",
              " 'Hampir seluruh luasannya digunakan sebagai pelindung. Bagian yang mengalirkan informasi adalah fiber optik yang ukurannya tidak berbeda jauh dari sehelai rambut kita. Meski sangat kecil, dia mampu membawa informasi dengan sangat cepat, mendekati kecepatan cahaya. Itu karena informasi dibawa bukan sebagai sinyal listrik seperti kabel di rumah, namun sebagai sinyal cahaya. Kapasitasnya juga sangat besar, satu helai saja bisa memiliki kapasitas 100 gigabit per sekon. [Baca: Dasar Komunikasi Fiber Optik dan FTTH (Fiber To The Home)]',\n",
              " 'Dengan itu semua, kabel laut jauh lebih cepat daripada satelit. Itu karena satelit yang biasanya digunakan untuk internet berada puluhan ribu kilometer di atas kita. Sementara itu, jalur melalui laut tidak akan lebih dari belasan ribu kilometer saja. Kapasitas transfer data dari satelit juga jauh lebih sulit untuk ditingkatkan dibanding kabel laut. Maka, meski keduanya memanfaatkan kecepatan cahaya, secara umum kabel laut tetap jauh lebih cepat daripada satelit. (Baca: SpaceX Luncurkan 60 Satelit Penyedia Internet Starlink)',\n",
              " 'Namun, kabel laut juga memiliki banyak masalah. Banyak pihak yang menyebutkan bahwa kabel laut yang menjadi tulang punggung internet kita ini sebenarnya sangatlah rentan. Kabel laut dapat mengalami masalah akibat faktor alam, namun ini hanya mencakup 14 persen saja.  Association of Sea Cable Communication Systems menyebutkan bahwa sebanyak 47% gangguan kabel laut disebabkan oleh jangkar kapal. Sementara itu, 28% disebabkan oleh sektor perikanan yang menggunakan FAD (fish aggregating devices). Di Indonesia pun, jangkar juga menjadi penyebab gangguan kabel terbesar. Hal itu mengingat lautan Indonesia juga sering dilewati banyak kapal. ',\n",
              " 'Kabel laut yang ada di negeri kita juga cukup banyak. Hal itu dapat dilihat pada Gambar berikut yang juga didapatkan dari  www.submarinecablemap.com. Pada Gambar ini, jaringan kabel JaSuKa yang dimiliki Telkom Indonesia terlihat berwarna biru tua dan menghubungkan berbagai titik di Jawa, Sumatera, dan Kalimantan. JaSuKa memiliki total panjang hampir 11 ribu kilometer dan disebut menjadi salah satu yang terpanjang di dunia. ',\n",
              " 'Kabel laut memang jauh lebih murah daripada satelit, namun tetap saja tidak mudah dan tidak sederhana. Baik perencanaan maupun pengelolaannya memerlukan banyak pengorbanan. Ini wajar saja mengingat dunia bawah laut sangatlah kompleks dan penuh dengan berbagai hal yang tak terduga. Perlu diketahui pula bahwa setiap beberapa puluh kilometer, perlu terdapat repeater untuk menguatkan kembali sinyal cahaya yang telah melemah. Melihat kompleksitas itu, wajar saja jika perbaikan gangguan tidak bisa selesai dalam satu malam. ',\n",
              " 'Meski demikian, sistem yang besar umumnya memiliki berbagai alternatif jika sistem utamanya gagal. Hal ini juga kita dengar dari pihak Telkom, bahwa jalur backup dan alternatif telah diaktifkan untuk destinasi utama tertentu. Berbagai hal teknis yang tidak akan dipahami masyarakat umum pasti juga telah dilakukan. ',\n",
              " 'Bagaimana pun juga, gangguan ini menunjukan pada kita semua bahwa sistem internet di Indonesia sebenarnya masih belum kuat dan sangat rentan, apalagi jika kita meninjau Indonesia Timur. Di satu sisi, masyarakat umum perlu menyadari bahwa sistem internet secara fisiknya memang sangat kompleks dan sangat rentan terhadap berbagai gangguan serta tidak bisa diperbaiki dengan mudah. Di sisi lain, berbagai pihak yang berpartisipasi langsung di dalamnya perlu terus melakukan evaluasi dan pengembangan agar sistem internet di negeri kita dapat menjadi lebih handal. (Baca: Analisis terhadap Kualitas Jaringan Internet Indonesia yang Memburuk)',\n",
              " '        Setelah selesai membaca, yuk berikan artikel ini penilaian!      ',\n",
              " '        Klik berdasarkan jumlah bintang untuk menilai!      ',\n",
              " '',\n",
              " '      Rata-rata nilai 5 / 5. Banyaknya vote: 3 ',\n",
              " '      Belum ada yang menilai! Yuk jadi yang pertama kali menilai!    ',\n",
              " '\\n',\n",
              " '',\n",
              " '',\n",
              " 'Alamat email Anda tidak akan dipublikasikan. Ruas yang wajib ditandai *',\n",
              " 'Komentar ',\n",
              " 'Nama * ',\n",
              " 'Email * ',\n",
              " 'Situs Web ',\n",
              " ' \\n\\n',\n",
              " 'Cari Artikel',\n",
              " 'Langganan via Email',\n",
              " 'Masukkan Email Anda:',\n",
              " '',\n",
              " 'Artikel Pilihan Editor',\n",
              " ' Hallo Sahabat Warstek, pernah gak sih bertanya-tanya, kenapa Einstein bisa begitu genius? Adakah metode khusus yang gurunya ajarkan di Sekolah? … ',\n",
              " ' Di antara kita pastinya sudah tahu apa itu bintang. Nah, bintang merupakan benda langit yang dapat memancarkan cahaya sendiri. Penyebabnya … ',\n",
              " ' Tanggal 25 Oktober 2021, peneliti mengumumkan penemuan planet pertama di luar galaksi Bimasakti. Exoplanet ini berlokasi di galaksi Whirlpool (M51), … ',\n",
              " 'Artikel Terpopuler',\n",
              " '\\n4 Hal ini Menurut Si Genius Einstein yang Harus Ditekankan di Sekolah\\n',\n",
              " '\\nIngatan Palsu – Pengertian, Penyebab, dan Dampak yang Ditimbulkan\\n',\n",
              " '\\nBioinformatika, apa sih Bioinformatika itu?\\n',\n",
              " '\\nPancasila:  Pengertian, Sejarah, Butir, Nilai, dan Dasar Pandangan Hidup [Lengkap + Contoh Soal]\\n',\n",
              " '\\nMengenal Tribologi (Ilmu Tentang Gesekan) dan Aplikasinya dalam Kehidupan\\n',\n",
              " 'Artikel yang Terkait',\n",
              " 'Didesain dengan hati | Copyright Warstek.com 2021 ',\n",
              " '',\n",
              " 'Kontak',\n",
              " 'Address: Jl. Sukolilo Baru gg. VI no 10 | Surabaya | Indonesia Phone: (+62)87750118140 Email: warstek.jurnal@gmail.com Office Hour: 08.00 WIB \\xa0– 15.00 WIB (Monday – Friday)']"
            ]
          },
          "metadata": {},
          "execution_count": 106
        }
      ]
    },
    {
      "cell_type": "markdown",
      "metadata": {
        "id": "_19ON3LZ2FrO"
      },
      "source": [
        "> Terlihat bahwa link text masih banyak whitespace atau spasi kosong yang terdapat pada list sehingga perlu dibersihkan juga."
      ],
      "id": "_19ON3LZ2FrO"
    },
    {
      "cell_type": "code",
      "metadata": {
        "colab": {
          "base_uri": "https://localhost:8080/"
        },
        "id": "B-SE-CBOGGsi",
        "outputId": "9c8bcb63-69bc-42ff-9d3c-5f2246794631"
      },
      "source": [
        "# Menghapus None dari list full_text sekaligus membersihkan elemen list dari whitespace menggunakan fungsi strip()\n",
        "# List Comprehension\n",
        "full_text = [paragraf.strip() for paragraf in full_text if paragraf != \"\"]\n",
        "full_text"
      ],
      "id": "B-SE-CBOGGsi",
      "execution_count": 107,
      "outputs": [
        {
          "output_type": "execute_result",
          "data": {
            "text/plain": [
              "['Sains dan Teknologi yang Seru dan Menyenangkan',\n",
              " 'Pada hari Minggu lalu (19 September 2021), terjadi gangguan jaringan internet pada Telkomsel dan Indihome. Gangguan tersebut menyebabkan penurunan kualitas layanan TelkomGroup baik fixed maupun mobile broadband di beberapa wilayah Indonesia. Di masa pandemi yang menuntut orang untuk berada di rumah seperti ini, gangguan internet tentu menjadi masalah besar. Berbagai kegiatan penting seperti Seleksi Kompetensi Dasar (SKD) CPNS mengalami penundaan. Netizen pun banyak berkomentar negatif terkait hal ini. Saat artikel ini dirilis, gangguan tersebut mungkin belum benar-benar terselesaikan.',\n",
              " 'Gangguan tersebut disebabkan oleh masalah pada sistem komunikasi kabel laut JaSuKa (Jawa, Sumatera dan Kalimantan) ruas Batam-Pontianak. Telkom memperkirakan proses perbaikan kabel laut yang terganggu akan berlangsung sekitar sebulan. Meski begitu, Telkom mencoba berbagai alternatif agar jaringan internet tetap dapat berjalan sebaik mungkin, meski tentu tidak sebaik ketika kondisi normal.',\n",
              " 'Bagaimana pun juga, gangguan ini membuat banyak orang bertanya-tanya, “Apa hubungannya kabel di laut dengan internet?”, “Kenapa jaringan internet itu malah lewat kabel laut?”, “Kenapa nggak pakai satelit aja?”, “Kenapa jaringannya tidak segera membaik?”, dan lainnya. Artikel singkat ini akan mencoba membahas sedikit terkait hal itu.',\n",
              " 'Internet sering diasosiasikan dengan kata cloud atau wireless sehingga kita merasa bahwa internet itu dibawa oleh udara di sekitar kita. Ketika kita mendengar kata “jaringan internet”, yang terbayang mungkin gelombang antara menara pemancar di Bumi dengan satelit di angkasa. Itu tidak sepenuhnya salah. Internet memang ada di sekitar kita dan satelit memegang peran penting untuk itu. Namun, persepsi itu membuat kita melupakan bagian lain dari internet. Bagian terpenting yang sangat vital namun tidak akan pernah kita lihat, yaitu kabel laut. Sebelumnya, perlu kita ketahui bersama bahwa:',\n",
              " '99% Komunikasi Data Internasional itu Melalui Kabel Laut',\n",
              " 'Itu adalah kalimat yang sudah banyak disampaikan di berbagai media massa, namun sepertinya masih belum banyak diketahui masyarakat umum. Lebih detailnya lagi, hanya sekitar 300 kabel bawah laut yang bertanggung jawab terhadap 99% lalu lintas komunikasi data internasional.',\n",
              " 'Gambar di atas merupakan jaringan kabel laut di dunia yang dapat diakses di www.submarinecablemap.com. Di sana, kita tidak hanya bisa melihat jaringan kabel secara keseluruhan, namun juga melihat lebih detail terkait salah satu kabel yang ada. Dari gambar di atas, jaringannya memang terlihat sangat banyak dan sangat rumit. Namun, kita perlu ingat bahwa komunikasi yang senantiasa terjadi di internet itu juga sangat banyak dan sangat rumit, jauh lebih banyak dan lebih rumit dari yang bisa kita bayangkan.',\n",
              " 'Ketika kita mengirim satu chat ke teman di samping kita misalnya. Bisa jadi chat kita akan menempuh perjalanan yang amat sangat jauh. Mulai dari puluhan kilometer jalur darat secara wireless, kemudian melalui ribuan kilometer kabel laut, menuju ke data center di China atau Amerika, lalu kembali lagi ke Indonesia melalui kabel laut, dan sampai ke teman di samping kita  secara wireless. Itu salah satu skenario yang mungkin terjadi, bisa saja jauh lebih pendek atau jauh lebih panjang. Sebagai mahasiswa Teknik Elektro yang pernah sedikit mendalami internet, yang bisa penulis katakan terkait internet adalah “It’s never been simple”',\n",
              " 'Ketika mendengar bahwa 99% internet itu melewati kabel laut, apa bayangan kita terkait bentuk fisik dari kabel laut itu? Ukurannya mungkin memang sangat bervariasi, namun gambar berikut bisa memberikan gambaran bahwa ukuran kabelnya bisa jadi hanya sekecil ini',\n",
              " 'Hampir seluruh luasannya digunakan sebagai pelindung. Bagian yang mengalirkan informasi adalah fiber optik yang ukurannya tidak berbeda jauh dari sehelai rambut kita. Meski sangat kecil, dia mampu membawa informasi dengan sangat cepat, mendekati kecepatan cahaya. Itu karena informasi dibawa bukan sebagai sinyal listrik seperti kabel di rumah, namun sebagai sinyal cahaya. Kapasitasnya juga sangat besar, satu helai saja bisa memiliki kapasitas 100 gigabit per sekon. [Baca: Dasar Komunikasi Fiber Optik dan FTTH (Fiber To The Home)]',\n",
              " 'Dengan itu semua, kabel laut jauh lebih cepat daripada satelit. Itu karena satelit yang biasanya digunakan untuk internet berada puluhan ribu kilometer di atas kita. Sementara itu, jalur melalui laut tidak akan lebih dari belasan ribu kilometer saja. Kapasitas transfer data dari satelit juga jauh lebih sulit untuk ditingkatkan dibanding kabel laut. Maka, meski keduanya memanfaatkan kecepatan cahaya, secara umum kabel laut tetap jauh lebih cepat daripada satelit. (Baca: SpaceX Luncurkan 60 Satelit Penyedia Internet Starlink)',\n",
              " 'Namun, kabel laut juga memiliki banyak masalah. Banyak pihak yang menyebutkan bahwa kabel laut yang menjadi tulang punggung internet kita ini sebenarnya sangatlah rentan. Kabel laut dapat mengalami masalah akibat faktor alam, namun ini hanya mencakup 14 persen saja.  Association of Sea Cable Communication Systems menyebutkan bahwa sebanyak 47% gangguan kabel laut disebabkan oleh jangkar kapal. Sementara itu, 28% disebabkan oleh sektor perikanan yang menggunakan FAD (fish aggregating devices). Di Indonesia pun, jangkar juga menjadi penyebab gangguan kabel terbesar. Hal itu mengingat lautan Indonesia juga sering dilewati banyak kapal.',\n",
              " 'Kabel laut yang ada di negeri kita juga cukup banyak. Hal itu dapat dilihat pada Gambar berikut yang juga didapatkan dari  www.submarinecablemap.com. Pada Gambar ini, jaringan kabel JaSuKa yang dimiliki Telkom Indonesia terlihat berwarna biru tua dan menghubungkan berbagai titik di Jawa, Sumatera, dan Kalimantan. JaSuKa memiliki total panjang hampir 11 ribu kilometer dan disebut menjadi salah satu yang terpanjang di dunia.',\n",
              " 'Kabel laut memang jauh lebih murah daripada satelit, namun tetap saja tidak mudah dan tidak sederhana. Baik perencanaan maupun pengelolaannya memerlukan banyak pengorbanan. Ini wajar saja mengingat dunia bawah laut sangatlah kompleks dan penuh dengan berbagai hal yang tak terduga. Perlu diketahui pula bahwa setiap beberapa puluh kilometer, perlu terdapat repeater untuk menguatkan kembali sinyal cahaya yang telah melemah. Melihat kompleksitas itu, wajar saja jika perbaikan gangguan tidak bisa selesai dalam satu malam.',\n",
              " 'Meski demikian, sistem yang besar umumnya memiliki berbagai alternatif jika sistem utamanya gagal. Hal ini juga kita dengar dari pihak Telkom, bahwa jalur backup dan alternatif telah diaktifkan untuk destinasi utama tertentu. Berbagai hal teknis yang tidak akan dipahami masyarakat umum pasti juga telah dilakukan.',\n",
              " 'Bagaimana pun juga, gangguan ini menunjukan pada kita semua bahwa sistem internet di Indonesia sebenarnya masih belum kuat dan sangat rentan, apalagi jika kita meninjau Indonesia Timur. Di satu sisi, masyarakat umum perlu menyadari bahwa sistem internet secara fisiknya memang sangat kompleks dan sangat rentan terhadap berbagai gangguan serta tidak bisa diperbaiki dengan mudah. Di sisi lain, berbagai pihak yang berpartisipasi langsung di dalamnya perlu terus melakukan evaluasi dan pengembangan agar sistem internet di negeri kita dapat menjadi lebih handal. (Baca: Analisis terhadap Kualitas Jaringan Internet Indonesia yang Memburuk)',\n",
              " 'Setelah selesai membaca, yuk berikan artikel ini penilaian!',\n",
              " 'Klik berdasarkan jumlah bintang untuk menilai!',\n",
              " 'Rata-rata nilai 5 / 5. Banyaknya vote: 3',\n",
              " 'Belum ada yang menilai! Yuk jadi yang pertama kali menilai!',\n",
              " '',\n",
              " 'Alamat email Anda tidak akan dipublikasikan. Ruas yang wajib ditandai *',\n",
              " 'Komentar',\n",
              " 'Nama *',\n",
              " 'Email *',\n",
              " 'Situs Web',\n",
              " '',\n",
              " 'Cari Artikel',\n",
              " 'Langganan via Email',\n",
              " 'Masukkan Email Anda:',\n",
              " 'Artikel Pilihan Editor',\n",
              " 'Hallo Sahabat Warstek, pernah gak sih bertanya-tanya, kenapa Einstein bisa begitu genius? Adakah metode khusus yang gurunya ajarkan di Sekolah? …',\n",
              " 'Di antara kita pastinya sudah tahu apa itu bintang. Nah, bintang merupakan benda langit yang dapat memancarkan cahaya sendiri. Penyebabnya …',\n",
              " 'Tanggal 25 Oktober 2021, peneliti mengumumkan penemuan planet pertama di luar galaksi Bimasakti. Exoplanet ini berlokasi di galaksi Whirlpool (M51), …',\n",
              " 'Artikel Terpopuler',\n",
              " '4 Hal ini Menurut Si Genius Einstein yang Harus Ditekankan di Sekolah',\n",
              " 'Ingatan Palsu – Pengertian, Penyebab, dan Dampak yang Ditimbulkan',\n",
              " 'Bioinformatika, apa sih Bioinformatika itu?',\n",
              " 'Pancasila:  Pengertian, Sejarah, Butir, Nilai, dan Dasar Pandangan Hidup [Lengkap + Contoh Soal]',\n",
              " 'Mengenal Tribologi (Ilmu Tentang Gesekan) dan Aplikasinya dalam Kehidupan',\n",
              " 'Artikel yang Terkait',\n",
              " 'Didesain dengan hati | Copyright Warstek.com 2021',\n",
              " 'Kontak',\n",
              " 'Address: Jl. Sukolilo Baru gg. VI no 10 | Surabaya | Indonesia Phone: (+62)87750118140 Email: warstek.jurnal@gmail.com Office Hour: 08.00 WIB \\xa0– 15.00 WIB (Monday – Friday)']"
            ]
          },
          "metadata": {},
          "execution_count": 107
        }
      ]
    },
    {
      "cell_type": "code",
      "metadata": {
        "colab": {
          "base_uri": "https://localhost:8080/",
          "height": 103
        },
        "id": "xXqugg_jGojg",
        "outputId": "c3693780-a991-4621-fde5-3408fe7228a3"
      },
      "source": [
        "full_text = ' '.join(full_text)\n",
        "full_text"
      ],
      "id": "xXqugg_jGojg",
      "execution_count": 108,
      "outputs": [
        {
          "output_type": "execute_result",
          "data": {
            "application/vnd.google.colaboratory.intrinsic+json": {
              "type": "string"
            },
            "text/plain": [
              "'Sains dan Teknologi yang Seru dan Menyenangkan Pada hari Minggu lalu (19 September 2021), terjadi gangguan jaringan internet pada Telkomsel dan Indihome. Gangguan tersebut menyebabkan penurunan kualitas layanan TelkomGroup baik fixed maupun mobile broadband di beberapa wilayah Indonesia. Di masa pandemi yang menuntut orang untuk berada di rumah seperti ini, gangguan internet tentu menjadi masalah besar. Berbagai kegiatan penting seperti Seleksi Kompetensi Dasar (SKD) CPNS mengalami penundaan. Netizen pun banyak berkomentar negatif terkait hal ini. Saat artikel ini dirilis, gangguan tersebut mungkin belum benar-benar terselesaikan. Gangguan tersebut disebabkan oleh masalah pada sistem komunikasi kabel laut JaSuKa (Jawa, Sumatera dan Kalimantan) ruas Batam-Pontianak. Telkom memperkirakan proses perbaikan kabel laut yang terganggu akan berlangsung sekitar sebulan. Meski begitu, Telkom mencoba berbagai alternatif agar jaringan internet tetap dapat berjalan sebaik mungkin, meski tentu tidak sebaik ketika kondisi normal. Bagaimana pun juga, gangguan ini membuat banyak orang bertanya-tanya, “Apa hubungannya kabel di laut dengan internet?”, “Kenapa jaringan internet itu malah lewat kabel laut?”, “Kenapa nggak pakai satelit aja?”, “Kenapa jaringannya tidak segera membaik?”, dan lainnya. Artikel singkat ini akan mencoba membahas sedikit terkait hal itu. Internet sering diasosiasikan dengan kata cloud atau wireless sehingga kita merasa bahwa internet itu dibawa oleh udara di sekitar kita. Ketika kita mendengar kata “jaringan internet”, yang terbayang mungkin gelombang antara menara pemancar di Bumi dengan satelit di angkasa. Itu tidak sepenuhnya salah. Internet memang ada di sekitar kita dan satelit memegang peran penting untuk itu. Namun, persepsi itu membuat kita melupakan bagian lain dari internet. Bagian terpenting yang sangat vital namun tidak akan pernah kita lihat, yaitu kabel laut. Sebelumnya, perlu kita ketahui bersama bahwa: 99% Komunikasi Data Internasional itu Melalui Kabel Laut Itu adalah kalimat yang sudah banyak disampaikan di berbagai media massa, namun sepertinya masih belum banyak diketahui masyarakat umum. Lebih detailnya lagi, hanya sekitar 300 kabel bawah laut yang bertanggung jawab terhadap 99% lalu lintas komunikasi data internasional. Gambar di atas merupakan jaringan kabel laut di dunia yang dapat diakses di www.submarinecablemap.com. Di sana, kita tidak hanya bisa melihat jaringan kabel secara keseluruhan, namun juga melihat lebih detail terkait salah satu kabel yang ada. Dari gambar di atas, jaringannya memang terlihat sangat banyak dan sangat rumit. Namun, kita perlu ingat bahwa komunikasi yang senantiasa terjadi di internet itu juga sangat banyak dan sangat rumit, jauh lebih banyak dan lebih rumit dari yang bisa kita bayangkan. Ketika kita mengirim satu chat ke teman di samping kita misalnya. Bisa jadi chat kita akan menempuh perjalanan yang amat sangat jauh. Mulai dari puluhan kilometer jalur darat secara wireless, kemudian melalui ribuan kilometer kabel laut, menuju ke data center di China atau Amerika, lalu kembali lagi ke Indonesia melalui kabel laut, dan sampai ke teman di samping kita  secara wireless. Itu salah satu skenario yang mungkin terjadi, bisa saja jauh lebih pendek atau jauh lebih panjang. Sebagai mahasiswa Teknik Elektro yang pernah sedikit mendalami internet, yang bisa penulis katakan terkait internet adalah “It’s never been simple” Ketika mendengar bahwa 99% internet itu melewati kabel laut, apa bayangan kita terkait bentuk fisik dari kabel laut itu? Ukurannya mungkin memang sangat bervariasi, namun gambar berikut bisa memberikan gambaran bahwa ukuran kabelnya bisa jadi hanya sekecil ini Hampir seluruh luasannya digunakan sebagai pelindung. Bagian yang mengalirkan informasi adalah fiber optik yang ukurannya tidak berbeda jauh dari sehelai rambut kita. Meski sangat kecil, dia mampu membawa informasi dengan sangat cepat, mendekati kecepatan cahaya. Itu karena informasi dibawa bukan sebagai sinyal listrik seperti kabel di rumah, namun sebagai sinyal cahaya. Kapasitasnya juga sangat besar, satu helai saja bisa memiliki kapasitas 100 gigabit per sekon. [Baca: Dasar Komunikasi Fiber Optik dan FTTH (Fiber To The Home)] Dengan itu semua, kabel laut jauh lebih cepat daripada satelit. Itu karena satelit yang biasanya digunakan untuk internet berada puluhan ribu kilometer di atas kita. Sementara itu, jalur melalui laut tidak akan lebih dari belasan ribu kilometer saja. Kapasitas transfer data dari satelit juga jauh lebih sulit untuk ditingkatkan dibanding kabel laut. Maka, meski keduanya memanfaatkan kecepatan cahaya, secara umum kabel laut tetap jauh lebih cepat daripada satelit. (Baca: SpaceX Luncurkan 60 Satelit Penyedia Internet Starlink) Namun, kabel laut juga memiliki banyak masalah. Banyak pihak yang menyebutkan bahwa kabel laut yang menjadi tulang punggung internet kita ini sebenarnya sangatlah rentan. Kabel laut dapat mengalami masalah akibat faktor alam, namun ini hanya mencakup 14 persen saja.  Association of Sea Cable Communication Systems menyebutkan bahwa sebanyak 47% gangguan kabel laut disebabkan oleh jangkar kapal. Sementara itu, 28% disebabkan oleh sektor perikanan yang menggunakan FAD (fish aggregating devices). Di Indonesia pun, jangkar juga menjadi penyebab gangguan kabel terbesar. Hal itu mengingat lautan Indonesia juga sering dilewati banyak kapal. Kabel laut yang ada di negeri kita juga cukup banyak. Hal itu dapat dilihat pada Gambar berikut yang juga didapatkan dari  www.submarinecablemap.com. Pada Gambar ini, jaringan kabel JaSuKa yang dimiliki Telkom Indonesia terlihat berwarna biru tua dan menghubungkan berbagai titik di Jawa, Sumatera, dan Kalimantan. JaSuKa memiliki total panjang hampir 11 ribu kilometer dan disebut menjadi salah satu yang terpanjang di dunia. Kabel laut memang jauh lebih murah daripada satelit, namun tetap saja tidak mudah dan tidak sederhana. Baik perencanaan maupun pengelolaannya memerlukan banyak pengorbanan. Ini wajar saja mengingat dunia bawah laut sangatlah kompleks dan penuh dengan berbagai hal yang tak terduga. Perlu diketahui pula bahwa setiap beberapa puluh kilometer, perlu terdapat repeater untuk menguatkan kembali sinyal cahaya yang telah melemah. Melihat kompleksitas itu, wajar saja jika perbaikan gangguan tidak bisa selesai dalam satu malam. Meski demikian, sistem yang besar umumnya memiliki berbagai alternatif jika sistem utamanya gagal. Hal ini juga kita dengar dari pihak Telkom, bahwa jalur backup dan alternatif telah diaktifkan untuk destinasi utama tertentu. Berbagai hal teknis yang tidak akan dipahami masyarakat umum pasti juga telah dilakukan. Bagaimana pun juga, gangguan ini menunjukan pada kita semua bahwa sistem internet di Indonesia sebenarnya masih belum kuat dan sangat rentan, apalagi jika kita meninjau Indonesia Timur. Di satu sisi, masyarakat umum perlu menyadari bahwa sistem internet secara fisiknya memang sangat kompleks dan sangat rentan terhadap berbagai gangguan serta tidak bisa diperbaiki dengan mudah. Di sisi lain, berbagai pihak yang berpartisipasi langsung di dalamnya perlu terus melakukan evaluasi dan pengembangan agar sistem internet di negeri kita dapat menjadi lebih handal. (Baca: Analisis terhadap Kualitas Jaringan Internet Indonesia yang Memburuk) Setelah selesai membaca, yuk berikan artikel ini penilaian! Klik berdasarkan jumlah bintang untuk menilai! Rata-rata nilai 5 / 5. Banyaknya vote: 3 Belum ada yang menilai! Yuk jadi yang pertama kali menilai!  Alamat email Anda tidak akan dipublikasikan. Ruas yang wajib ditandai * Komentar Nama * Email * Situs Web  Cari Artikel Langganan via Email Masukkan Email Anda: Artikel Pilihan Editor Hallo Sahabat Warstek, pernah gak sih bertanya-tanya, kenapa Einstein bisa begitu genius? Adakah metode khusus yang gurunya ajarkan di Sekolah? … Di antara kita pastinya sudah tahu apa itu bintang. Nah, bintang merupakan benda langit yang dapat memancarkan cahaya sendiri. Penyebabnya … Tanggal 25 Oktober 2021, peneliti mengumumkan penemuan planet pertama di luar galaksi Bimasakti. Exoplanet ini berlokasi di galaksi Whirlpool (M51), … Artikel Terpopuler 4 Hal ini Menurut Si Genius Einstein yang Harus Ditekankan di Sekolah Ingatan Palsu – Pengertian, Penyebab, dan Dampak yang Ditimbulkan Bioinformatika, apa sih Bioinformatika itu? Pancasila:  Pengertian, Sejarah, Butir, Nilai, dan Dasar Pandangan Hidup [Lengkap + Contoh Soal] Mengenal Tribologi (Ilmu Tentang Gesekan) dan Aplikasinya dalam Kehidupan Artikel yang Terkait Didesain dengan hati | Copyright Warstek.com 2021 Kontak Address: Jl. Sukolilo Baru gg. VI no 10 | Surabaya | Indonesia Phone: (+62)87750118140 Email: warstek.jurnal@gmail.com Office Hour: 08.00 WIB \\xa0– 15.00 WIB (Monday – Friday)'"
            ]
          },
          "metadata": {},
          "execution_count": 108
        }
      ]
    },
    {
      "cell_type": "markdown",
      "metadata": {
        "id": "sEypVV3KS3Lj"
      },
      "source": [
        "---"
      ],
      "id": "sEypVV3KS3Lj"
    },
    {
      "cell_type": "code",
      "metadata": {
        "id": "TmDcEBQ3qCOj"
      },
      "source": [
        "# NLTK, library NLP di bahasa pemrograman python\n",
        "import nltk\n",
        "\n",
        "# Regex (re), library untuk mengenali dan memanipulasi pola text\n",
        "import re\n",
        "\n",
        "from nltk.corpus import stopwords\n",
        "from nltk.stem import PorterStemmer\n",
        "from nltk.stem import WordNetLemmatizer\n",
        "from nltk import word_tokenize\n",
        "import requests\n"
      ],
      "id": "TmDcEBQ3qCOj",
      "execution_count": 109,
      "outputs": []
    },
    {
      "cell_type": "code",
      "metadata": {
        "colab": {
          "base_uri": "https://localhost:8080/"
        },
        "id": "9W5Kzmqtn4rV",
        "outputId": "c24d470e-be11-4018-e60c-2042f5ad9eca"
      },
      "source": [
        "nltk.download('punkt')\n",
        "nltk.download('stopwords')\n",
        "nltk.download('wordnet')"
      ],
      "id": "9W5Kzmqtn4rV",
      "execution_count": 110,
      "outputs": [
        {
          "output_type": "stream",
          "name": "stdout",
          "text": [
            "[nltk_data] Downloading package punkt to /root/nltk_data...\n",
            "[nltk_data]   Package punkt is already up-to-date!\n",
            "[nltk_data] Downloading package stopwords to /root/nltk_data...\n",
            "[nltk_data]   Package stopwords is already up-to-date!\n",
            "[nltk_data] Downloading package wordnet to /root/nltk_data...\n",
            "[nltk_data]   Package wordnet is already up-to-date!\n"
          ]
        },
        {
          "output_type": "execute_result",
          "data": {
            "text/plain": [
              "True"
            ]
          },
          "metadata": {},
          "execution_count": 110
        }
      ]
    },
    {
      "cell_type": "markdown",
      "metadata": {
        "id": "NsRfQ0lpfaJi"
      },
      "source": [
        "## Import teks dari file eksternal\n",
        "> Masukkan ke dalam folder terlebih dahulu\n",
        "\n",
        "- [at_school.txt](https://drive.google.com/file/d/1E0_V6uPowTwKHr01VMhAVWrt0gSYgZdp/view)\n",
        "- [rendang.txt](https://drive.google.com/file/d/16q4Gwk8IUBGHUqqNatKWCx-EbAEygyod/view)\n"
      ],
      "id": "NsRfQ0lpfaJi"
    },
    {
      "cell_type": "code",
      "metadata": {
        "id": "v0VsnQuRfhZx",
        "colab": {
          "base_uri": "https://localhost:8080/",
          "height": 103
        },
        "outputId": "b462eef4-fcf2-4b74-89a8-177fc010c211"
      },
      "source": [
        "# f = open(\"at_school.txt\", \"r\")\n",
        "# text = f.read()\n",
        "# f.close()\n",
        "\n",
        "text = requests.get('https://raw.githubusercontent.com/Handit14/OrbitFutureAcademy_KampusMerdeka/main/Materi/Natural%20Language%20Processing/at_school.txt').text\n",
        "text"
      ],
      "id": "v0VsnQuRfhZx",
      "execution_count": 111,
      "outputs": [
        {
          "output_type": "execute_result",
          "data": {
            "application/vnd.google.colaboratory.intrinsic+json": {
              "type": "string"
            },
            "text/plain": [
              "'At school\\nLucas goes to school every day of the week. He has many subjects to go to each school day: English, art, science, mathematics, gym, and history. His mother packs a big backpack full of books and lunch for Lucas.\\n\\nHis first class is English, and he likes that teacher very much. His English teacher says that he is a good pupil, which Lucas knows means that she thinks he is a good student.\\n\\nHis next class is art. He draws on paper with crayons and pencils and sometimes uses a ruler. Lucas likes art. It is his favorite class.\\n\\nHis third class is science. This class is very hard for Lucas to figure out, but he gets to work with his classmates a lot, which he likes to do. His friend, Kyle, works with Lucas in science class, and they have fun.\\n\\nThen Lucas gets his break for lunch. He sits with Kyle while he eats. The principal, or the headmaster as some call him, likes to walk around and talk to students during lunch to check that they are all behaving.\\n\\nThe next class is mathematics, which most of the students just call math. Kyle has trouble getting a good grade in mathematics, but the teacher is very nice and helpful.\\n\\nHis fourth class is gym. It is just exercising.\\n\\nHistory is his last class of the day Lucas has a hard time staying awake. Many lessons are boring, and he is very tired after doing gym.'"
            ]
          },
          "metadata": {},
          "execution_count": 111
        }
      ]
    },
    {
      "cell_type": "code",
      "metadata": {
        "colab": {
          "base_uri": "https://localhost:8080/",
          "height": 103
        },
        "id": "qlvXwB0Rg8oc",
        "outputId": "c112bc7c-7de6-42f1-ca5e-eca93bbc2278"
      },
      "source": [
        "# Print text\n",
        "text"
      ],
      "id": "qlvXwB0Rg8oc",
      "execution_count": 112,
      "outputs": [
        {
          "output_type": "execute_result",
          "data": {
            "application/vnd.google.colaboratory.intrinsic+json": {
              "type": "string"
            },
            "text/plain": [
              "'At school\\nLucas goes to school every day of the week. He has many subjects to go to each school day: English, art, science, mathematics, gym, and history. His mother packs a big backpack full of books and lunch for Lucas.\\n\\nHis first class is English, and he likes that teacher very much. His English teacher says that he is a good pupil, which Lucas knows means that she thinks he is a good student.\\n\\nHis next class is art. He draws on paper with crayons and pencils and sometimes uses a ruler. Lucas likes art. It is his favorite class.\\n\\nHis third class is science. This class is very hard for Lucas to figure out, but he gets to work with his classmates a lot, which he likes to do. His friend, Kyle, works with Lucas in science class, and they have fun.\\n\\nThen Lucas gets his break for lunch. He sits with Kyle while he eats. The principal, or the headmaster as some call him, likes to walk around and talk to students during lunch to check that they are all behaving.\\n\\nThe next class is mathematics, which most of the students just call math. Kyle has trouble getting a good grade in mathematics, but the teacher is very nice and helpful.\\n\\nHis fourth class is gym. It is just exercising.\\n\\nHistory is his last class of the day Lucas has a hard time staying awake. Many lessons are boring, and he is very tired after doing gym.'"
            ]
          },
          "metadata": {},
          "execution_count": 112
        }
      ]
    },
    {
      "cell_type": "markdown",
      "metadata": {
        "id": "L_ljXFVIgsQd"
      },
      "source": [
        "## Membuat Text menjadi Lowercase\n",
        "Mengubah kata menjadi huruf kecil (NLP -> nlp).\n",
        "\n",
        "Kata-kata seperti Buku dan buku memiliki arti yang sama tetapi ketika tidak diubah menjadi huruf kecil, keduanya direpresentasikan sebagai dua kata yang berbeda dalam model ruang vektor."
      ],
      "id": "L_ljXFVIgsQd"
    },
    {
      "cell_type": "code",
      "metadata": {
        "colab": {
          "base_uri": "https://localhost:8080/",
          "height": 103
        },
        "id": "k13br1PEgpiK",
        "outputId": "f46abb47-318f-415c-acad-4571f92fe2ec"
      },
      "source": [
        "text = text.lower()\n",
        "text"
      ],
      "id": "k13br1PEgpiK",
      "execution_count": 113,
      "outputs": [
        {
          "output_type": "execute_result",
          "data": {
            "application/vnd.google.colaboratory.intrinsic+json": {
              "type": "string"
            },
            "text/plain": [
              "'at school\\nlucas goes to school every day of the week. he has many subjects to go to each school day: english, art, science, mathematics, gym, and history. his mother packs a big backpack full of books and lunch for lucas.\\n\\nhis first class is english, and he likes that teacher very much. his english teacher says that he is a good pupil, which lucas knows means that she thinks he is a good student.\\n\\nhis next class is art. he draws on paper with crayons and pencils and sometimes uses a ruler. lucas likes art. it is his favorite class.\\n\\nhis third class is science. this class is very hard for lucas to figure out, but he gets to work with his classmates a lot, which he likes to do. his friend, kyle, works with lucas in science class, and they have fun.\\n\\nthen lucas gets his break for lunch. he sits with kyle while he eats. the principal, or the headmaster as some call him, likes to walk around and talk to students during lunch to check that they are all behaving.\\n\\nthe next class is mathematics, which most of the students just call math. kyle has trouble getting a good grade in mathematics, but the teacher is very nice and helpful.\\n\\nhis fourth class is gym. it is just exercising.\\n\\nhistory is his last class of the day lucas has a hard time staying awake. many lessons are boring, and he is very tired after doing gym.'"
            ]
          },
          "metadata": {},
          "execution_count": 113
        }
      ]
    },
    {
      "cell_type": "markdown",
      "metadata": {
        "id": "zAOpm-VPqnIy"
      },
      "source": [
        "## Menghilangkan karakter khusus pada text"
      ],
      "id": "zAOpm-VPqnIy"
    },
    {
      "cell_type": "code",
      "metadata": {
        "colab": {
          "base_uri": "https://localhost:8080/",
          "height": 103
        },
        "id": "NPud9rhdqNTM",
        "outputId": "83c61700-a290-4e53-b553-e97ac8dfa922"
      },
      "source": [
        "text = re.sub(r\"[-()\\\"#/@;:<>{}`+=~|.!?,]\", \"\", text)\n",
        "text\n",
        "\n",
        "# Untuk karakter new line (\\n) akan diproses pada proses tokenisasi"
      ],
      "id": "NPud9rhdqNTM",
      "execution_count": 114,
      "outputs": [
        {
          "output_type": "execute_result",
          "data": {
            "application/vnd.google.colaboratory.intrinsic+json": {
              "type": "string"
            },
            "text/plain": [
              "'at school\\nlucas goes to school every day of the week he has many subjects to go to each school day english art science mathematics gym and history his mother packs a big backpack full of books and lunch for lucas\\n\\nhis first class is english and he likes that teacher very much his english teacher says that he is a good pupil which lucas knows means that she thinks he is a good student\\n\\nhis next class is art he draws on paper with crayons and pencils and sometimes uses a ruler lucas likes art it is his favorite class\\n\\nhis third class is science this class is very hard for lucas to figure out but he gets to work with his classmates a lot which he likes to do his friend kyle works with lucas in science class and they have fun\\n\\nthen lucas gets his break for lunch he sits with kyle while he eats the principal or the headmaster as some call him likes to walk around and talk to students during lunch to check that they are all behaving\\n\\nthe next class is mathematics which most of the students just call math kyle has trouble getting a good grade in mathematics but the teacher is very nice and helpful\\n\\nhis fourth class is gym it is just exercising\\n\\nhistory is his last class of the day lucas has a hard time staying awake many lessons are boring and he is very tired after doing gym'"
            ]
          },
          "metadata": {},
          "execution_count": 114
        }
      ]
    },
    {
      "cell_type": "markdown",
      "metadata": {
        "id": "i3WAg8reaWZx"
      },
      "source": [
        "## Menghubah teks menjadi token (Tokenization)"
      ],
      "id": "i3WAg8reaWZx"
    },
    {
      "cell_type": "code",
      "metadata": {
        "colab": {
          "base_uri": "https://localhost:8080/"
        },
        "id": "hLJ3gTu1igKO",
        "outputId": "27ae97d9-0d0c-4df9-cbb0-8f2d792dd171"
      },
      "source": [
        "# word_tokenize: memisahkan karakter khusus pada kata (,./@#$%&* dll) dan memisahkan kata pada text\n",
        "\n",
        "tokens = word_tokenize(text)\n",
        "print(tokens)"
      ],
      "id": "hLJ3gTu1igKO",
      "execution_count": 115,
      "outputs": [
        {
          "output_type": "stream",
          "name": "stdout",
          "text": [
            "['at', 'school', 'lucas', 'goes', 'to', 'school', 'every', 'day', 'of', 'the', 'week', 'he', 'has', 'many', 'subjects', 'to', 'go', 'to', 'each', 'school', 'day', 'english', 'art', 'science', 'mathematics', 'gym', 'and', 'history', 'his', 'mother', 'packs', 'a', 'big', 'backpack', 'full', 'of', 'books', 'and', 'lunch', 'for', 'lucas', 'his', 'first', 'class', 'is', 'english', 'and', 'he', 'likes', 'that', 'teacher', 'very', 'much', 'his', 'english', 'teacher', 'says', 'that', 'he', 'is', 'a', 'good', 'pupil', 'which', 'lucas', 'knows', 'means', 'that', 'she', 'thinks', 'he', 'is', 'a', 'good', 'student', 'his', 'next', 'class', 'is', 'art', 'he', 'draws', 'on', 'paper', 'with', 'crayons', 'and', 'pencils', 'and', 'sometimes', 'uses', 'a', 'ruler', 'lucas', 'likes', 'art', 'it', 'is', 'his', 'favorite', 'class', 'his', 'third', 'class', 'is', 'science', 'this', 'class', 'is', 'very', 'hard', 'for', 'lucas', 'to', 'figure', 'out', 'but', 'he', 'gets', 'to', 'work', 'with', 'his', 'classmates', 'a', 'lot', 'which', 'he', 'likes', 'to', 'do', 'his', 'friend', 'kyle', 'works', 'with', 'lucas', 'in', 'science', 'class', 'and', 'they', 'have', 'fun', 'then', 'lucas', 'gets', 'his', 'break', 'for', 'lunch', 'he', 'sits', 'with', 'kyle', 'while', 'he', 'eats', 'the', 'principal', 'or', 'the', 'headmaster', 'as', 'some', 'call', 'him', 'likes', 'to', 'walk', 'around', 'and', 'talk', 'to', 'students', 'during', 'lunch', 'to', 'check', 'that', 'they', 'are', 'all', 'behaving', 'the', 'next', 'class', 'is', 'mathematics', 'which', 'most', 'of', 'the', 'students', 'just', 'call', 'math', 'kyle', 'has', 'trouble', 'getting', 'a', 'good', 'grade', 'in', 'mathematics', 'but', 'the', 'teacher', 'is', 'very', 'nice', 'and', 'helpful', 'his', 'fourth', 'class', 'is', 'gym', 'it', 'is', 'just', 'exercising', 'history', 'is', 'his', 'last', 'class', 'of', 'the', 'day', 'lucas', 'has', 'a', 'hard', 'time', 'staying', 'awake', 'many', 'lessons', 'are', 'boring', 'and', 'he', 'is', 'very', 'tired', 'after', 'doing', 'gym']\n"
          ]
        }
      ]
    },
    {
      "cell_type": "markdown",
      "metadata": {
        "id": "eKtUsweJhThC"
      },
      "source": [
        "## Membuat Bag of Words"
      ],
      "id": "eKtUsweJhThC"
    },
    {
      "cell_type": "code",
      "metadata": {
        "id": "U87NTXIZ4URR"
      },
      "source": [
        "mahasiswa = {\n",
        "    \"nama\": \"Qowim\",\n",
        "    \"NIM\": \"1910631150029\",\n",
        "    \"Alamat\": \"Jl. Palm_Raja_4\"\n",
        "}"
      ],
      "id": "U87NTXIZ4URR",
      "execution_count": 116,
      "outputs": []
    },
    {
      "cell_type": "code",
      "metadata": {
        "colab": {
          "base_uri": "https://localhost:8080/"
        },
        "id": "Qwnund0f6Oia",
        "outputId": "33071da5-9d48-4548-a769-a87831853e58"
      },
      "source": [
        "len(mahasiswa.keys())"
      ],
      "id": "Qwnund0f6Oia",
      "execution_count": 117,
      "outputs": [
        {
          "output_type": "execute_result",
          "data": {
            "text/plain": [
              "3"
            ]
          },
          "metadata": {},
          "execution_count": 117
        }
      ]
    },
    {
      "cell_type": "code",
      "metadata": {
        "id": "f8AFF-W55XMd",
        "colab": {
          "base_uri": "https://localhost:8080/"
        },
        "outputId": "56136f79-dea7-4423-aa52-a9422fd5814f"
      },
      "source": [
        "for kata in tokens:\n",
        "  print(kata)"
      ],
      "id": "f8AFF-W55XMd",
      "execution_count": 118,
      "outputs": [
        {
          "output_type": "stream",
          "name": "stdout",
          "text": [
            "at\n",
            "school\n",
            "lucas\n",
            "goes\n",
            "to\n",
            "school\n",
            "every\n",
            "day\n",
            "of\n",
            "the\n",
            "week\n",
            "he\n",
            "has\n",
            "many\n",
            "subjects\n",
            "to\n",
            "go\n",
            "to\n",
            "each\n",
            "school\n",
            "day\n",
            "english\n",
            "art\n",
            "science\n",
            "mathematics\n",
            "gym\n",
            "and\n",
            "history\n",
            "his\n",
            "mother\n",
            "packs\n",
            "a\n",
            "big\n",
            "backpack\n",
            "full\n",
            "of\n",
            "books\n",
            "and\n",
            "lunch\n",
            "for\n",
            "lucas\n",
            "his\n",
            "first\n",
            "class\n",
            "is\n",
            "english\n",
            "and\n",
            "he\n",
            "likes\n",
            "that\n",
            "teacher\n",
            "very\n",
            "much\n",
            "his\n",
            "english\n",
            "teacher\n",
            "says\n",
            "that\n",
            "he\n",
            "is\n",
            "a\n",
            "good\n",
            "pupil\n",
            "which\n",
            "lucas\n",
            "knows\n",
            "means\n",
            "that\n",
            "she\n",
            "thinks\n",
            "he\n",
            "is\n",
            "a\n",
            "good\n",
            "student\n",
            "his\n",
            "next\n",
            "class\n",
            "is\n",
            "art\n",
            "he\n",
            "draws\n",
            "on\n",
            "paper\n",
            "with\n",
            "crayons\n",
            "and\n",
            "pencils\n",
            "and\n",
            "sometimes\n",
            "uses\n",
            "a\n",
            "ruler\n",
            "lucas\n",
            "likes\n",
            "art\n",
            "it\n",
            "is\n",
            "his\n",
            "favorite\n",
            "class\n",
            "his\n",
            "third\n",
            "class\n",
            "is\n",
            "science\n",
            "this\n",
            "class\n",
            "is\n",
            "very\n",
            "hard\n",
            "for\n",
            "lucas\n",
            "to\n",
            "figure\n",
            "out\n",
            "but\n",
            "he\n",
            "gets\n",
            "to\n",
            "work\n",
            "with\n",
            "his\n",
            "classmates\n",
            "a\n",
            "lot\n",
            "which\n",
            "he\n",
            "likes\n",
            "to\n",
            "do\n",
            "his\n",
            "friend\n",
            "kyle\n",
            "works\n",
            "with\n",
            "lucas\n",
            "in\n",
            "science\n",
            "class\n",
            "and\n",
            "they\n",
            "have\n",
            "fun\n",
            "then\n",
            "lucas\n",
            "gets\n",
            "his\n",
            "break\n",
            "for\n",
            "lunch\n",
            "he\n",
            "sits\n",
            "with\n",
            "kyle\n",
            "while\n",
            "he\n",
            "eats\n",
            "the\n",
            "principal\n",
            "or\n",
            "the\n",
            "headmaster\n",
            "as\n",
            "some\n",
            "call\n",
            "him\n",
            "likes\n",
            "to\n",
            "walk\n",
            "around\n",
            "and\n",
            "talk\n",
            "to\n",
            "students\n",
            "during\n",
            "lunch\n",
            "to\n",
            "check\n",
            "that\n",
            "they\n",
            "are\n",
            "all\n",
            "behaving\n",
            "the\n",
            "next\n",
            "class\n",
            "is\n",
            "mathematics\n",
            "which\n",
            "most\n",
            "of\n",
            "the\n",
            "students\n",
            "just\n",
            "call\n",
            "math\n",
            "kyle\n",
            "has\n",
            "trouble\n",
            "getting\n",
            "a\n",
            "good\n",
            "grade\n",
            "in\n",
            "mathematics\n",
            "but\n",
            "the\n",
            "teacher\n",
            "is\n",
            "very\n",
            "nice\n",
            "and\n",
            "helpful\n",
            "his\n",
            "fourth\n",
            "class\n",
            "is\n",
            "gym\n",
            "it\n",
            "is\n",
            "just\n",
            "exercising\n",
            "history\n",
            "is\n",
            "his\n",
            "last\n",
            "class\n",
            "of\n",
            "the\n",
            "day\n",
            "lucas\n",
            "has\n",
            "a\n",
            "hard\n",
            "time\n",
            "staying\n",
            "awake\n",
            "many\n",
            "lessons\n",
            "are\n",
            "boring\n",
            "and\n",
            "he\n",
            "is\n",
            "very\n",
            "tired\n",
            "after\n",
            "doing\n",
            "gym\n"
          ]
        }
      ]
    },
    {
      "cell_type": "code",
      "metadata": {
        "id": "5ulG1UI75FeT"
      },
      "source": [
        "if \"usia\" not in mahasiswa:\n",
        "  mahasiswa[\"usia\"] = 20"
      ],
      "id": "5ulG1UI75FeT",
      "execution_count": 119,
      "outputs": []
    },
    {
      "cell_type": "code",
      "metadata": {
        "colab": {
          "base_uri": "https://localhost:8080/"
        },
        "id": "iOHjtb275Q_n",
        "outputId": "8308151a-07e1-406d-ecfa-b36ed2558950"
      },
      "source": [
        "mahasiswa"
      ],
      "id": "iOHjtb275Q_n",
      "execution_count": 120,
      "outputs": [
        {
          "output_type": "execute_result",
          "data": {
            "text/plain": [
              "{'Alamat': 'Jl. Palm_Raja_4',\n",
              " 'NIM': '1910631150029',\n",
              " 'nama': 'Qowim',\n",
              " 'usia': 20}"
            ]
          },
          "metadata": {},
          "execution_count": 120
        }
      ]
    },
    {
      "cell_type": "code",
      "metadata": {
        "colab": {
          "base_uri": "https://localhost:8080/"
        },
        "id": "Yx0wVZAmhR5k",
        "outputId": "9b747650-622a-43c8-a608-0b3bc6eda1af"
      },
      "source": [
        "frekuensi_kata = {} # dictionary\n",
        "for kata in tokens:\n",
        "  if kata not in frekuensi_kata:\n",
        "    frekuensi_kata[kata] = 1\n",
        "  else:\n",
        "    frekuensi_kata[kata] += 1\n",
        "\n",
        "print(frekuensi_kata)"
      ],
      "id": "Yx0wVZAmhR5k",
      "execution_count": 121,
      "outputs": [
        {
          "output_type": "stream",
          "name": "stdout",
          "text": [
            "{'at': 1, 'school': 3, 'lucas': 8, 'goes': 1, 'to': 9, 'every': 1, 'day': 3, 'of': 4, 'the': 7, 'week': 1, 'he': 10, 'has': 3, 'many': 2, 'subjects': 1, 'go': 1, 'each': 1, 'english': 3, 'art': 3, 'science': 3, 'mathematics': 3, 'gym': 3, 'and': 9, 'history': 2, 'his': 11, 'mother': 1, 'packs': 1, 'a': 7, 'big': 1, 'backpack': 1, 'full': 1, 'books': 1, 'lunch': 3, 'for': 3, 'first': 1, 'class': 9, 'is': 13, 'likes': 4, 'that': 4, 'teacher': 3, 'very': 4, 'much': 1, 'says': 1, 'good': 3, 'pupil': 1, 'which': 3, 'knows': 1, 'means': 1, 'she': 1, 'thinks': 1, 'student': 1, 'next': 2, 'draws': 1, 'on': 1, 'paper': 1, 'with': 4, 'crayons': 1, 'pencils': 1, 'sometimes': 1, 'uses': 1, 'ruler': 1, 'it': 2, 'favorite': 1, 'third': 1, 'this': 1, 'hard': 2, 'figure': 1, 'out': 1, 'but': 2, 'gets': 2, 'work': 1, 'classmates': 1, 'lot': 1, 'do': 1, 'friend': 1, 'kyle': 3, 'works': 1, 'in': 2, 'they': 2, 'have': 1, 'fun': 1, 'then': 1, 'break': 1, 'sits': 1, 'while': 1, 'eats': 1, 'principal': 1, 'or': 1, 'headmaster': 1, 'as': 1, 'some': 1, 'call': 2, 'him': 1, 'walk': 1, 'around': 1, 'talk': 1, 'students': 2, 'during': 1, 'check': 1, 'are': 2, 'all': 1, 'behaving': 1, 'most': 1, 'just': 2, 'math': 1, 'trouble': 1, 'getting': 1, 'grade': 1, 'nice': 1, 'helpful': 1, 'fourth': 1, 'exercising': 1, 'last': 1, 'time': 1, 'staying': 1, 'awake': 1, 'lessons': 1, 'boring': 1, 'tired': 1, 'after': 1, 'doing': 1}\n"
          ]
        }
      ]
    },
    {
      "cell_type": "code",
      "metadata": {
        "colab": {
          "base_uri": "https://localhost:8080/"
        },
        "id": "tlzbvDf5uy_G",
        "outputId": "a661cf33-f320-4d04-808d-cfadabae2214"
      },
      "source": [
        "# Cetak total kata unik (tanpa duplikat)\n",
        "len(frekuensi_kata.keys())"
      ],
      "id": "tlzbvDf5uy_G",
      "execution_count": 122,
      "outputs": [
        {
          "output_type": "execute_result",
          "data": {
            "text/plain": [
              "120"
            ]
          },
          "metadata": {},
          "execution_count": 122
        }
      ]
    },
    {
      "cell_type": "markdown",
      "metadata": {
        "id": "0TY9BZXVtpdl"
      },
      "source": [
        "## Menghilangkan Stop Word\n"
      ],
      "id": "0TY9BZXVtpdl"
    },
    {
      "cell_type": "code",
      "metadata": {
        "colab": {
          "base_uri": "https://localhost:8080/"
        },
        "id": "KWlo6KpKst3k",
        "outputId": "2827fa1c-7b25-4ae9-9891-6576cd911fb5"
      },
      "source": [
        "# Print daftar stop words dalam bahasa inggris\n",
        "# Stop word ini untuk setiap project dapat disesuaikan\n",
        "print(stopwords.words('english'))"
      ],
      "id": "KWlo6KpKst3k",
      "execution_count": 123,
      "outputs": [
        {
          "output_type": "stream",
          "name": "stdout",
          "text": [
            "['i', 'me', 'my', 'myself', 'we', 'our', 'ours', 'ourselves', 'you', \"you're\", \"you've\", \"you'll\", \"you'd\", 'your', 'yours', 'yourself', 'yourselves', 'he', 'him', 'his', 'himself', 'she', \"she's\", 'her', 'hers', 'herself', 'it', \"it's\", 'its', 'itself', 'they', 'them', 'their', 'theirs', 'themselves', 'what', 'which', 'who', 'whom', 'this', 'that', \"that'll\", 'these', 'those', 'am', 'is', 'are', 'was', 'were', 'be', 'been', 'being', 'have', 'has', 'had', 'having', 'do', 'does', 'did', 'doing', 'a', 'an', 'the', 'and', 'but', 'if', 'or', 'because', 'as', 'until', 'while', 'of', 'at', 'by', 'for', 'with', 'about', 'against', 'between', 'into', 'through', 'during', 'before', 'after', 'above', 'below', 'to', 'from', 'up', 'down', 'in', 'out', 'on', 'off', 'over', 'under', 'again', 'further', 'then', 'once', 'here', 'there', 'when', 'where', 'why', 'how', 'all', 'any', 'both', 'each', 'few', 'more', 'most', 'other', 'some', 'such', 'no', 'nor', 'not', 'only', 'own', 'same', 'so', 'than', 'too', 'very', 's', 't', 'can', 'will', 'just', 'don', \"don't\", 'should', \"should've\", 'now', 'd', 'll', 'm', 'o', 're', 've', 'y', 'ain', 'aren', \"aren't\", 'couldn', \"couldn't\", 'didn', \"didn't\", 'doesn', \"doesn't\", 'hadn', \"hadn't\", 'hasn', \"hasn't\", 'haven', \"haven't\", 'isn', \"isn't\", 'ma', 'mightn', \"mightn't\", 'mustn', \"mustn't\", 'needn', \"needn't\", 'shan', \"shan't\", 'shouldn', \"shouldn't\", 'wasn', \"wasn't\", 'weren', \"weren't\", 'won', \"won't\", 'wouldn', \"wouldn't\"]\n"
          ]
        }
      ]
    },
    {
      "cell_type": "code",
      "metadata": {
        "id": "YRwpgSNIwXB-"
      },
      "source": [
        "en_stop_words = stopwords.words('english')"
      ],
      "id": "YRwpgSNIwXB-",
      "execution_count": 124,
      "outputs": []
    },
    {
      "cell_type": "code",
      "metadata": {
        "colab": {
          "base_uri": "https://localhost:8080/"
        },
        "id": "iivJbn4F7cTY",
        "outputId": "2535ce71-c05d-4ac2-f40f-d309805b7e17"
      },
      "source": [
        "\"me\" in en_stop_words"
      ],
      "id": "iivJbn4F7cTY",
      "execution_count": 125,
      "outputs": [
        {
          "output_type": "execute_result",
          "data": {
            "text/plain": [
              "True"
            ]
          },
          "metadata": {},
          "execution_count": 125
        }
      ]
    },
    {
      "cell_type": "code",
      "metadata": {
        "id": "x6hG3I2nv0u8"
      },
      "source": [
        "# Menghapus kata yang termasuk ke dalam stopwords bahasa inggris\n",
        "kata_unik = list(frekuensi_kata.keys())\n",
        "for kata in kata_unik:\n",
        "  if kata in en_stop_words:\n",
        "    del frekuensi_kata[kata]\n",
        "\n",
        "# Update kata unik setelah penghapusan stopwords\n",
        "kata_unik = list(frekuensi_kata.keys())"
      ],
      "id": "x6hG3I2nv0u8",
      "execution_count": 126,
      "outputs": []
    },
    {
      "cell_type": "code",
      "metadata": {
        "colab": {
          "base_uri": "https://localhost:8080/"
        },
        "id": "R8SxS3LexJEJ",
        "outputId": "59864ff2-5dd2-4d22-bc58-969c3c914df7"
      },
      "source": [
        "len(frekuensi_kata.keys())"
      ],
      "id": "R8SxS3LexJEJ",
      "execution_count": 127,
      "outputs": [
        {
          "output_type": "execute_result",
          "data": {
            "text/plain": [
              "81"
            ]
          },
          "metadata": {},
          "execution_count": 127
        }
      ]
    },
    {
      "cell_type": "markdown",
      "metadata": {
        "id": "5CGHiZl9Am63"
      },
      "source": [
        "## Stemming dan Lematization\n",
        "Membandingkan hasil dari Lematization dan Stemming\n",
        "- Kata Asli | Lemmatize | Lematize -> Stemming | Stemming -> Lemmatize"
      ],
      "id": "5CGHiZl9Am63"
    },
    {
      "cell_type": "code",
      "metadata": {
        "id": "oBrbj80nxnTa"
      },
      "source": [
        "# Instansiasi objek dari Class PorterStemmer dan WordNetLemmatizer\n",
        "stemmer = PorterStemmer()\n",
        "lemmatizer = WordNetLemmatizer()\n"
      ],
      "id": "oBrbj80nxnTa",
      "execution_count": 128,
      "outputs": []
    },
    {
      "cell_type": "code",
      "metadata": {
        "colab": {
          "base_uri": "https://localhost:8080/"
        },
        "id": "8EwyG4tb-Uhx",
        "outputId": "08e51982-5825-400b-8fc8-c0d43608204c"
      },
      "source": [
        "for kata in kata_unik:\n",
        "  print(kata, '|', lemmatizer.lemmatize(kata), '|', lemmatizer.lemmatize(stemmer.stem(kata)), '|', stemmer.stem(lemmatizer.lemmatize(kata)))"
      ],
      "id": "8EwyG4tb-Uhx",
      "execution_count": 129,
      "outputs": [
        {
          "output_type": "stream",
          "name": "stdout",
          "text": [
            "school | school | school | school\n",
            "lucas | lucas | luca | luca\n",
            "goes | go | goe | go\n",
            "every | every | everi | everi\n",
            "day | day | day | day\n",
            "week | week | week | week\n",
            "many | many | mani | mani\n",
            "subjects | subject | subject | subject\n",
            "go | go | go | go\n",
            "english | english | english | english\n",
            "art | art | art | art\n",
            "science | science | scienc | scienc\n",
            "mathematics | mathematics | mathemat | mathemat\n",
            "gym | gym | gym | gym\n",
            "history | history | histori | histori\n",
            "mother | mother | mother | mother\n",
            "packs | pack | pack | pack\n",
            "big | big | big | big\n",
            "backpack | backpack | backpack | backpack\n",
            "full | full | full | full\n",
            "books | book | book | book\n",
            "lunch | lunch | lunch | lunch\n",
            "first | first | first | first\n",
            "class | class | class | class\n",
            "likes | like | like | like\n",
            "teacher | teacher | teacher | teacher\n",
            "much | much | much | much\n",
            "says | say | say | say\n",
            "good | good | good | good\n",
            "pupil | pupil | pupil | pupil\n",
            "knows | know | know | know\n",
            "means | mean | mean | mean\n",
            "thinks | think | think | think\n",
            "student | student | student | student\n",
            "next | next | next | next\n",
            "draws | draw | draw | draw\n",
            "paper | paper | paper | paper\n",
            "crayons | crayon | crayon | crayon\n",
            "pencils | pencil | pencil | pencil\n",
            "sometimes | sometimes | sometim | sometim\n",
            "uses | us | use | us\n",
            "ruler | ruler | ruler | ruler\n",
            "favorite | favorite | favorit | favorit\n",
            "third | third | third | third\n",
            "hard | hard | hard | hard\n",
            "figure | figure | figur | figur\n",
            "gets | get | get | get\n",
            "work | work | work | work\n",
            "classmates | classmate | classmat | classmat\n",
            "lot | lot | lot | lot\n",
            "friend | friend | friend | friend\n",
            "kyle | kyle | kyle | kyle\n",
            "works | work | work | work\n",
            "fun | fun | fun | fun\n",
            "break | break | break | break\n",
            "sits | sits | sit | sit\n",
            "eats | eats | eat | eat\n",
            "principal | principal | princip | princip\n",
            "headmaster | headmaster | headmast | headmast\n",
            "call | call | call | call\n",
            "walk | walk | walk | walk\n",
            "around | around | around | around\n",
            "talk | talk | talk | talk\n",
            "students | student | student | student\n",
            "check | check | check | check\n",
            "behaving | behaving | behav | behav\n",
            "math | math | math | math\n",
            "trouble | trouble | troubl | troubl\n",
            "getting | getting | get | get\n",
            "grade | grade | grade | grade\n",
            "nice | nice | nice | nice\n",
            "helpful | helpful | help | help\n",
            "fourth | fourth | fourth | fourth\n",
            "exercising | exercising | exercis | exercis\n",
            "last | last | last | last\n",
            "time | time | time | time\n",
            "staying | staying | stay | stay\n",
            "awake | awake | awak | awak\n",
            "lessons | lesson | lesson | lesson\n",
            "boring | boring | bore | bore\n",
            "tired | tired | tire | tire\n"
          ]
        }
      ]
    },
    {
      "cell_type": "code",
      "metadata": {
        "colab": {
          "base_uri": "https://localhost:8080/"
        },
        "id": "FhlFlGg2B-Rh",
        "outputId": "fa1566a8-1dfa-4020-94c0-21491671c97b"
      },
      "source": [
        "# Menggunakan pos pada lemmatizer untuk menentukan part of speech atau kategori kata\n",
        "print(lemmatizer.lemmatize('exercising'))\n",
        "print(lemmatizer.lemmatize('exercising', pos = 'v'))"
      ],
      "id": "FhlFlGg2B-Rh",
      "execution_count": 130,
      "outputs": [
        {
          "output_type": "stream",
          "name": "stdout",
          "text": [
            "exercising\n",
            "exercise\n"
          ]
        }
      ]
    },
    {
      "cell_type": "code",
      "metadata": {
        "colab": {
          "base_uri": "https://localhost:8080/"
        },
        "id": "CGMSkVC-WKth",
        "outputId": "1a7ffc19-6ff1-4809-a863-a3ad130e3b4f"
      },
      "source": [
        "token_no_stop_words = [kata for kata in tokens if kata not in en_stop_words]\n",
        "token_lemmatized = [lemmatizer.lemmatize(kata) for kata in token_no_stop_words]\n",
        "\n",
        "frekuensi_kata_postprocessing = {}\n",
        "for kata in token_lemmatized:\n",
        "  if kata not in frekuensi_kata_postprocessing:\n",
        "    frekuensi_kata_postprocessing[kata] = 1\n",
        "  else:\n",
        "    frekuensi_kata_postprocessing[kata] += 1\n",
        "\n",
        "\n",
        "frekuensi_kata_postprocessing.keys()"
      ],
      "id": "CGMSkVC-WKth",
      "execution_count": 131,
      "outputs": [
        {
          "output_type": "execute_result",
          "data": {
            "text/plain": [
              "dict_keys(['school', 'lucas', 'go', 'every', 'day', 'week', 'many', 'subject', 'english', 'art', 'science', 'mathematics', 'gym', 'history', 'mother', 'pack', 'big', 'backpack', 'full', 'book', 'lunch', 'first', 'class', 'like', 'teacher', 'much', 'say', 'good', 'pupil', 'know', 'mean', 'think', 'student', 'next', 'draw', 'paper', 'crayon', 'pencil', 'sometimes', 'us', 'ruler', 'favorite', 'third', 'hard', 'figure', 'get', 'work', 'classmate', 'lot', 'friend', 'kyle', 'fun', 'break', 'sits', 'eats', 'principal', 'headmaster', 'call', 'walk', 'around', 'talk', 'check', 'behaving', 'math', 'trouble', 'getting', 'grade', 'nice', 'helpful', 'fourth', 'exercising', 'last', 'time', 'staying', 'awake', 'lesson', 'boring', 'tired'])"
            ]
          },
          "metadata": {},
          "execution_count": 131
        }
      ]
    },
    {
      "cell_type": "code",
      "metadata": {
        "id": "N8KWZxizYi5H",
        "colab": {
          "base_uri": "https://localhost:8080/"
        },
        "outputId": "6b7007e8-d7dd-4d82-d627-78137aed6fac"
      },
      "source": [
        "# Membandingkan jumlah kata unik sebelum dan setelah preprocessing dengan melihat isi dari bag of words\n",
        "print(len(frekuensi_kata))\n",
        "print(len(frekuensi_kata_postprocessing))"
      ],
      "id": "N8KWZxizYi5H",
      "execution_count": 132,
      "outputs": [
        {
          "output_type": "stream",
          "name": "stdout",
          "text": [
            "81\n",
            "78\n"
          ]
        }
      ]
    },
    {
      "cell_type": "markdown",
      "metadata": {
        "id": "jzlsBazAjGPH"
      },
      "source": [
        "---"
      ],
      "id": "jzlsBazAjGPH"
    },
    {
      "cell_type": "markdown",
      "metadata": {
        "id": "cOXOMwB3VTqH"
      },
      "source": [
        "# Preprocessing text Bahasa Indonesia"
      ],
      "id": "cOXOMwB3VTqH"
    },
    {
      "cell_type": "markdown",
      "metadata": {
        "id": "5pWby6jGZOO2"
      },
      "source": [
        "## Import teks dari file eksternal"
      ],
      "id": "5pWby6jGZOO2"
    },
    {
      "cell_type": "code",
      "metadata": {
        "id": "TJy-RDJTVWgp",
        "colab": {
          "base_uri": "https://localhost:8080/",
          "height": 103
        },
        "outputId": "66499e8b-736a-4061-950a-71e3d5391bda"
      },
      "source": [
        "# f = open(\"rendang.txt\", \"r\")\n",
        "# text = f.read()\n",
        "# f.close()\n",
        "\n",
        "text = requests.get('https://raw.githubusercontent.com/Handit14/OrbitFutureAcademy_KampusMerdeka/main/Materi/Natural%20Language%20Processing/rendang.txt').text\n",
        "text"
      ],
      "id": "TJy-RDJTVWgp",
      "execution_count": 133,
      "outputs": [
        {
          "output_type": "execute_result",
          "data": {
            "application/vnd.google.colaboratory.intrinsic+json": {
              "type": "string"
            },
            "text/plain": [
              "'Rendang dinobatkan menjadi salah satu makanan terenak di dunia. Makanan khas Sumatera Barat ini memang digemari banyak orang, baik di Indonesia maupun mancanegara. Rendang semula merupakan menu utama di rumah makan yang berasal dari Sumatera Barat yang dikenal dengan masakan Padang. Rendang khas Minang adalah yang paling enak dan mendunia. Masakan ini memiliki tampilan yang menyisakan potongan daging berwarna coklat kehitaman dan kering.\\n\\nDalam tradisi Minangkabau, rendang dianggap sebagai makanan kehormatan dalam acara adat seperti perayaan adat, pernikahan dan acara penting lainnya. Ketika istana negara sedang menerima kunjungan dari negara lain, rendang pun sering disajikan untuk para tamu. Bagi masyarakat Minang, rendang memiliki filosofi yang berarti kesabaran, kebijakan dan ketekunan. Hal inilah yang menjadi kebanggaan masyarakat minang di manapun mereka berpijak serta menjadi identitas sebagai makanan khas Indonesia di mata dunia.\\n\\nDalam proses pembuatannya, diolah dengan bahan daging sapi yang dimasak dengan santan dan rempah khas, perpaduan rasa gurih, manis, dan pedas yang mampu menggoyang lidah siapa pun. Beberapa bumbu khas yang digunakan seperti bawang putih, bawang merah, jahe, lengkuas, cabai merah, daun kunyit dan daun jeruk. Dimasak selama 7 jam sehingga menghasilkan daging sapi bertekstur empuk yang enak dinikmati. Proses memasaknya membutuhkan waktu lama hingga tidak adanya cairan pada masakan.\\n\\nMemiliki cita rasa yang khas, dengan daging yang empuk namun tidak mudah hancur dan mampu bertahan dalam waktu lama. Terlebih resep yang diperlukan sangat simple meski memasaknya dalam waktu yang lama. Rasanya yang enak tak hanya dikenal di Indonesia, namun juga telah diakui hingga ke mancanegara. Alasan tersebutlah yang membuat rendang menjadi favorit banyak orang dan terenak di dunia.\\n\\nTak mengherankan bila rendang dapat dengan mudah menembus pasar kuliner internasional dengan rasanya yang kaya rempah khas. Selain terenak, juga diyakini sebagai makanan halal. Hal ini secara tidak langsung membuktikan bahwa kuliner Nusantara mampu bersaing di kancah internasional.'"
            ]
          },
          "metadata": {},
          "execution_count": 133
        }
      ]
    },
    {
      "cell_type": "code",
      "metadata": {
        "id": "kMGQkqxlZJkp"
      },
      "source": [
        ""
      ],
      "id": "kMGQkqxlZJkp",
      "execution_count": 133,
      "outputs": []
    },
    {
      "cell_type": "markdown",
      "metadata": {
        "id": "2ow9Jx3sZ9fB"
      },
      "source": [
        "## Membuat Text Menjadi Lowercase"
      ],
      "id": "2ow9Jx3sZ9fB"
    },
    {
      "cell_type": "code",
      "metadata": {
        "id": "ziYe0TXlZQlh",
        "colab": {
          "base_uri": "https://localhost:8080/",
          "height": 103
        },
        "outputId": "fc0582f6-d92e-4a0f-a921-57f816b8b5dd"
      },
      "source": [
        "text = text.lower()\n",
        "text"
      ],
      "id": "ziYe0TXlZQlh",
      "execution_count": 134,
      "outputs": [
        {
          "output_type": "execute_result",
          "data": {
            "application/vnd.google.colaboratory.intrinsic+json": {
              "type": "string"
            },
            "text/plain": [
              "'rendang dinobatkan menjadi salah satu makanan terenak di dunia. makanan khas sumatera barat ini memang digemari banyak orang, baik di indonesia maupun mancanegara. rendang semula merupakan menu utama di rumah makan yang berasal dari sumatera barat yang dikenal dengan masakan padang. rendang khas minang adalah yang paling enak dan mendunia. masakan ini memiliki tampilan yang menyisakan potongan daging berwarna coklat kehitaman dan kering.\\n\\ndalam tradisi minangkabau, rendang dianggap sebagai makanan kehormatan dalam acara adat seperti perayaan adat, pernikahan dan acara penting lainnya. ketika istana negara sedang menerima kunjungan dari negara lain, rendang pun sering disajikan untuk para tamu. bagi masyarakat minang, rendang memiliki filosofi yang berarti kesabaran, kebijakan dan ketekunan. hal inilah yang menjadi kebanggaan masyarakat minang di manapun mereka berpijak serta menjadi identitas sebagai makanan khas indonesia di mata dunia.\\n\\ndalam proses pembuatannya, diolah dengan bahan daging sapi yang dimasak dengan santan dan rempah khas, perpaduan rasa gurih, manis, dan pedas yang mampu menggoyang lidah siapa pun. beberapa bumbu khas yang digunakan seperti bawang putih, bawang merah, jahe, lengkuas, cabai merah, daun kunyit dan daun jeruk. dimasak selama 7 jam sehingga menghasilkan daging sapi bertekstur empuk yang enak dinikmati. proses memasaknya membutuhkan waktu lama hingga tidak adanya cairan pada masakan.\\n\\nmemiliki cita rasa yang khas, dengan daging yang empuk namun tidak mudah hancur dan mampu bertahan dalam waktu lama. terlebih resep yang diperlukan sangat simple meski memasaknya dalam waktu yang lama. rasanya yang enak tak hanya dikenal di indonesia, namun juga telah diakui hingga ke mancanegara. alasan tersebutlah yang membuat rendang menjadi favorit banyak orang dan terenak di dunia.\\n\\ntak mengherankan bila rendang dapat dengan mudah menembus pasar kuliner internasional dengan rasanya yang kaya rempah khas. selain terenak, juga diyakini sebagai makanan halal. hal ini secara tidak langsung membuktikan bahwa kuliner nusantara mampu bersaing di kancah internasional.'"
            ]
          },
          "metadata": {},
          "execution_count": 134
        }
      ]
    },
    {
      "cell_type": "markdown",
      "metadata": {
        "id": "scVujQOSaHFy"
      },
      "source": [
        "## Menghilangkan karakter khusus pada teks"
      ],
      "id": "scVujQOSaHFy"
    },
    {
      "cell_type": "code",
      "metadata": {
        "id": "NzCgTRvRaDZ3",
        "colab": {
          "base_uri": "https://localhost:8080/",
          "height": 103
        },
        "outputId": "4e020871-b5ba-42ea-b571-7d42b7780cc5"
      },
      "source": [
        "text = re.sub(r\"[-()\\\"#/@;:<>{}`+=~|.!?,]\", \"\", text)\n",
        "text"
      ],
      "id": "NzCgTRvRaDZ3",
      "execution_count": 135,
      "outputs": [
        {
          "output_type": "execute_result",
          "data": {
            "application/vnd.google.colaboratory.intrinsic+json": {
              "type": "string"
            },
            "text/plain": [
              "'rendang dinobatkan menjadi salah satu makanan terenak di dunia makanan khas sumatera barat ini memang digemari banyak orang baik di indonesia maupun mancanegara rendang semula merupakan menu utama di rumah makan yang berasal dari sumatera barat yang dikenal dengan masakan padang rendang khas minang adalah yang paling enak dan mendunia masakan ini memiliki tampilan yang menyisakan potongan daging berwarna coklat kehitaman dan kering\\n\\ndalam tradisi minangkabau rendang dianggap sebagai makanan kehormatan dalam acara adat seperti perayaan adat pernikahan dan acara penting lainnya ketika istana negara sedang menerima kunjungan dari negara lain rendang pun sering disajikan untuk para tamu bagi masyarakat minang rendang memiliki filosofi yang berarti kesabaran kebijakan dan ketekunan hal inilah yang menjadi kebanggaan masyarakat minang di manapun mereka berpijak serta menjadi identitas sebagai makanan khas indonesia di mata dunia\\n\\ndalam proses pembuatannya diolah dengan bahan daging sapi yang dimasak dengan santan dan rempah khas perpaduan rasa gurih manis dan pedas yang mampu menggoyang lidah siapa pun beberapa bumbu khas yang digunakan seperti bawang putih bawang merah jahe lengkuas cabai merah daun kunyit dan daun jeruk dimasak selama 7 jam sehingga menghasilkan daging sapi bertekstur empuk yang enak dinikmati proses memasaknya membutuhkan waktu lama hingga tidak adanya cairan pada masakan\\n\\nmemiliki cita rasa yang khas dengan daging yang empuk namun tidak mudah hancur dan mampu bertahan dalam waktu lama terlebih resep yang diperlukan sangat simple meski memasaknya dalam waktu yang lama rasanya yang enak tak hanya dikenal di indonesia namun juga telah diakui hingga ke mancanegara alasan tersebutlah yang membuat rendang menjadi favorit banyak orang dan terenak di dunia\\n\\ntak mengherankan bila rendang dapat dengan mudah menembus pasar kuliner internasional dengan rasanya yang kaya rempah khas selain terenak juga diyakini sebagai makanan halal hal ini secara tidak langsung membuktikan bahwa kuliner nusantara mampu bersaing di kancah internasional'"
            ]
          },
          "metadata": {},
          "execution_count": 135
        }
      ]
    },
    {
      "cell_type": "markdown",
      "metadata": {
        "id": "bm3YCDAWaQ2R"
      },
      "source": [
        "## Mengubah teks menjadi token (Tokenization)"
      ],
      "id": "bm3YCDAWaQ2R"
    },
    {
      "cell_type": "code",
      "metadata": {
        "id": "LhuEMqH8aNrr",
        "colab": {
          "base_uri": "https://localhost:8080/"
        },
        "outputId": "cef3c18a-5cfc-440b-ccaf-5a79e7104837"
      },
      "source": [
        "tokens = word_tokenize(text)\n",
        "print(tokens)"
      ],
      "id": "LhuEMqH8aNrr",
      "execution_count": 136,
      "outputs": [
        {
          "output_type": "stream",
          "name": "stdout",
          "text": [
            "['rendang', 'dinobatkan', 'menjadi', 'salah', 'satu', 'makanan', 'terenak', 'di', 'dunia', 'makanan', 'khas', 'sumatera', 'barat', 'ini', 'memang', 'digemari', 'banyak', 'orang', 'baik', 'di', 'indonesia', 'maupun', 'mancanegara', 'rendang', 'semula', 'merupakan', 'menu', 'utama', 'di', 'rumah', 'makan', 'yang', 'berasal', 'dari', 'sumatera', 'barat', 'yang', 'dikenal', 'dengan', 'masakan', 'padang', 'rendang', 'khas', 'minang', 'adalah', 'yang', 'paling', 'enak', 'dan', 'mendunia', 'masakan', 'ini', 'memiliki', 'tampilan', 'yang', 'menyisakan', 'potongan', 'daging', 'berwarna', 'coklat', 'kehitaman', 'dan', 'kering', 'dalam', 'tradisi', 'minangkabau', 'rendang', 'dianggap', 'sebagai', 'makanan', 'kehormatan', 'dalam', 'acara', 'adat', 'seperti', 'perayaan', 'adat', 'pernikahan', 'dan', 'acara', 'penting', 'lainnya', 'ketika', 'istana', 'negara', 'sedang', 'menerima', 'kunjungan', 'dari', 'negara', 'lain', 'rendang', 'pun', 'sering', 'disajikan', 'untuk', 'para', 'tamu', 'bagi', 'masyarakat', 'minang', 'rendang', 'memiliki', 'filosofi', 'yang', 'berarti', 'kesabaran', 'kebijakan', 'dan', 'ketekunan', 'hal', 'inilah', 'yang', 'menjadi', 'kebanggaan', 'masyarakat', 'minang', 'di', 'manapun', 'mereka', 'berpijak', 'serta', 'menjadi', 'identitas', 'sebagai', 'makanan', 'khas', 'indonesia', 'di', 'mata', 'dunia', 'dalam', 'proses', 'pembuatannya', 'diolah', 'dengan', 'bahan', 'daging', 'sapi', 'yang', 'dimasak', 'dengan', 'santan', 'dan', 'rempah', 'khas', 'perpaduan', 'rasa', 'gurih', 'manis', 'dan', 'pedas', 'yang', 'mampu', 'menggoyang', 'lidah', 'siapa', 'pun', 'beberapa', 'bumbu', 'khas', 'yang', 'digunakan', 'seperti', 'bawang', 'putih', 'bawang', 'merah', 'jahe', 'lengkuas', 'cabai', 'merah', 'daun', 'kunyit', 'dan', 'daun', 'jeruk', 'dimasak', 'selama', '7', 'jam', 'sehingga', 'menghasilkan', 'daging', 'sapi', 'bertekstur', 'empuk', 'yang', 'enak', 'dinikmati', 'proses', 'memasaknya', 'membutuhkan', 'waktu', 'lama', 'hingga', 'tidak', 'adanya', 'cairan', 'pada', 'masakan', 'memiliki', 'cita', 'rasa', 'yang', 'khas', 'dengan', 'daging', 'yang', 'empuk', 'namun', 'tidak', 'mudah', 'hancur', 'dan', 'mampu', 'bertahan', 'dalam', 'waktu', 'lama', 'terlebih', 'resep', 'yang', 'diperlukan', 'sangat', 'simple', 'meski', 'memasaknya', 'dalam', 'waktu', 'yang', 'lama', 'rasanya', 'yang', 'enak', 'tak', 'hanya', 'dikenal', 'di', 'indonesia', 'namun', 'juga', 'telah', 'diakui', 'hingga', 'ke', 'mancanegara', 'alasan', 'tersebutlah', 'yang', 'membuat', 'rendang', 'menjadi', 'favorit', 'banyak', 'orang', 'dan', 'terenak', 'di', 'dunia', 'tak', 'mengherankan', 'bila', 'rendang', 'dapat', 'dengan', 'mudah', 'menembus', 'pasar', 'kuliner', 'internasional', 'dengan', 'rasanya', 'yang', 'kaya', 'rempah', 'khas', 'selain', 'terenak', 'juga', 'diyakini', 'sebagai', 'makanan', 'halal', 'hal', 'ini', 'secara', 'tidak', 'langsung', 'membuktikan', 'bahwa', 'kuliner', 'nusantara', 'mampu', 'bersaing', 'di', 'kancah', 'internasional']\n"
          ]
        }
      ]
    },
    {
      "cell_type": "markdown",
      "metadata": {
        "id": "s4BE7oEKawsk"
      },
      "source": [
        "## Menghilangkan Stop Words dalam bahasa Indonesia"
      ],
      "id": "s4BE7oEKawsk"
    },
    {
      "cell_type": "markdown",
      "metadata": {
        "id": "n-L9odySbjXu"
      },
      "source": [
        "### Install Sastrawi"
      ],
      "id": "n-L9odySbjXu"
    },
    {
      "cell_type": "code",
      "metadata": {
        "id": "It1PY8v8bmvw",
        "colab": {
          "base_uri": "https://localhost:8080/"
        },
        "outputId": "fc73331b-03cd-471c-b9f9-271f71b48740"
      },
      "source": [
        "!pip3 install Sastrawi"
      ],
      "id": "It1PY8v8bmvw",
      "execution_count": 137,
      "outputs": [
        {
          "output_type": "stream",
          "name": "stdout",
          "text": [
            "Requirement already satisfied: Sastrawi in /usr/local/lib/python3.7/dist-packages (1.0.1)\n"
          ]
        }
      ]
    },
    {
      "cell_type": "code",
      "metadata": {
        "id": "Nvu2QEMOa8Rr",
        "colab": {
          "base_uri": "https://localhost:8080/"
        },
        "outputId": "b363320a-86a8-403c-e007-963302c9b6da"
      },
      "source": [
        "from Sastrawi.StopWordRemover.StopWordRemoverFactory import StopWordRemoverFactory\n",
        "from Sastrawi.Stemmer.StemmerFactory import StemmerFactory\n",
        "stopword_remover_factory = StopWordRemoverFactory()\n",
        "stemmer_factory = StemmerFactory()\n",
        "ina_stemmer = stemmer_factory.create_stemmer()\n",
        "ina_stopword = stopword_remover_factory.create_stop_word_remover()\n",
        "\n",
        "print(stopword_remover_factory.get_stop_words())"
      ],
      "id": "Nvu2QEMOa8Rr",
      "execution_count": 138,
      "outputs": [
        {
          "output_type": "stream",
          "name": "stdout",
          "text": [
            "['yang', 'untuk', 'pada', 'ke', 'para', 'namun', 'menurut', 'antara', 'dia', 'dua', 'ia', 'seperti', 'jika', 'jika', 'sehingga', 'kembali', 'dan', 'tidak', 'ini', 'karena', 'kepada', 'oleh', 'saat', 'harus', 'sementara', 'setelah', 'belum', 'kami', 'sekitar', 'bagi', 'serta', 'di', 'dari', 'telah', 'sebagai', 'masih', 'hal', 'ketika', 'adalah', 'itu', 'dalam', 'bisa', 'bahwa', 'atau', 'hanya', 'kita', 'dengan', 'akan', 'juga', 'ada', 'mereka', 'sudah', 'saya', 'terhadap', 'secara', 'agar', 'lain', 'anda', 'begitu', 'mengapa', 'kenapa', 'yaitu', 'yakni', 'daripada', 'itulah', 'lagi', 'maka', 'tentang', 'demi', 'dimana', 'kemana', 'pula', 'sambil', 'sebelum', 'sesudah', 'supaya', 'guna', 'kah', 'pun', 'sampai', 'sedangkan', 'selagi', 'sementara', 'tetapi', 'apakah', 'kecuali', 'sebab', 'selain', 'seolah', 'seraya', 'seterusnya', 'tanpa', 'agak', 'boleh', 'dapat', 'dsb', 'dst', 'dll', 'dahulu', 'dulunya', 'anu', 'demikian', 'tapi', 'ingin', 'juga', 'nggak', 'mari', 'nanti', 'melainkan', 'oh', 'ok', 'seharusnya', 'sebetulnya', 'setiap', 'setidaknya', 'sesuatu', 'pasti', 'saja', 'toh', 'ya', 'walau', 'tolong', 'tentu', 'amat', 'apalagi', 'bagaimanapun']\n"
          ]
        }
      ]
    },
    {
      "cell_type": "code",
      "metadata": {
        "id": "i1ItbVS1cEzE",
        "colab": {
          "base_uri": "https://localhost:8080/"
        },
        "outputId": "538947f8-c1b6-4484-f650-3e9022a208a8"
      },
      "source": [
        "# Membuat kalimat baru dari token yang sudah dibuat sebagai parameter untuk dapat digunakan pada fungsi ina_stopword.remove()\n",
        "text_from_token = ' '.join(tokens)\n",
        "print(text_from_token)\n",
        "\n",
        "text_from_token_no_stop_words = ina_stopword.remove(text_from_token)\n",
        "\n",
        "# Mengubah kalimat yang sudah tidak terdapat stop words menjadi token lagi\n",
        "# token = word_tokenize(text_from_token_no_stop_words)\n",
        "# token"
      ],
      "id": "i1ItbVS1cEzE",
      "execution_count": 139,
      "outputs": [
        {
          "output_type": "stream",
          "name": "stdout",
          "text": [
            "rendang dinobatkan menjadi salah satu makanan terenak di dunia makanan khas sumatera barat ini memang digemari banyak orang baik di indonesia maupun mancanegara rendang semula merupakan menu utama di rumah makan yang berasal dari sumatera barat yang dikenal dengan masakan padang rendang khas minang adalah yang paling enak dan mendunia masakan ini memiliki tampilan yang menyisakan potongan daging berwarna coklat kehitaman dan kering dalam tradisi minangkabau rendang dianggap sebagai makanan kehormatan dalam acara adat seperti perayaan adat pernikahan dan acara penting lainnya ketika istana negara sedang menerima kunjungan dari negara lain rendang pun sering disajikan untuk para tamu bagi masyarakat minang rendang memiliki filosofi yang berarti kesabaran kebijakan dan ketekunan hal inilah yang menjadi kebanggaan masyarakat minang di manapun mereka berpijak serta menjadi identitas sebagai makanan khas indonesia di mata dunia dalam proses pembuatannya diolah dengan bahan daging sapi yang dimasak dengan santan dan rempah khas perpaduan rasa gurih manis dan pedas yang mampu menggoyang lidah siapa pun beberapa bumbu khas yang digunakan seperti bawang putih bawang merah jahe lengkuas cabai merah daun kunyit dan daun jeruk dimasak selama 7 jam sehingga menghasilkan daging sapi bertekstur empuk yang enak dinikmati proses memasaknya membutuhkan waktu lama hingga tidak adanya cairan pada masakan memiliki cita rasa yang khas dengan daging yang empuk namun tidak mudah hancur dan mampu bertahan dalam waktu lama terlebih resep yang diperlukan sangat simple meski memasaknya dalam waktu yang lama rasanya yang enak tak hanya dikenal di indonesia namun juga telah diakui hingga ke mancanegara alasan tersebutlah yang membuat rendang menjadi favorit banyak orang dan terenak di dunia tak mengherankan bila rendang dapat dengan mudah menembus pasar kuliner internasional dengan rasanya yang kaya rempah khas selain terenak juga diyakini sebagai makanan halal hal ini secara tidak langsung membuktikan bahwa kuliner nusantara mampu bersaing di kancah internasional\n"
          ]
        }
      ]
    },
    {
      "cell_type": "markdown",
      "metadata": {
        "id": "-th1SaCDno32"
      },
      "source": [
        "## Stemming untuk Bahasa Indonesia"
      ],
      "id": "-th1SaCDno32"
    },
    {
      "cell_type": "code",
      "metadata": {
        "id": "Rrc4Uu6edffh",
        "colab": {
          "base_uri": "https://localhost:8080/",
          "height": 103
        },
        "outputId": "0bd3c242-891f-414b-eb14-e5d7aea83aba"
      },
      "source": [
        "stemmed_text = ina_stemmer.stem(text_from_token_no_stop_words)\n",
        "stemmed_text"
      ],
      "id": "Rrc4Uu6edffh",
      "execution_count": 140,
      "outputs": [
        {
          "output_type": "execute_result",
          "data": {
            "application/vnd.google.colaboratory.intrinsic+json": {
              "type": "string"
            },
            "text/plain": [
              "'rendang nobat jadi salah satu makan enak dunia makan khas sumatera barat memang gari banyak orang baik indonesia maupun mancanegara rendang mula rupa menu utama rumah makan asal sumatera barat kenal masakan padang rendang khas mang paling enak dunia masakan milik tampil sisa potong daging warna coklat hitam kering tradisi minangkabau rendang anggap makan hormat acara adat raya adat nikah acara penting lain istana negara sedang terima kunjung negara rendang sering saji para tamu masyarakat mang rendang milik filosofi arti sabar bijak tekun ini jadi bangga masyarakat mang mana pijak jadi identitas makan khas indonesia mata dunia proses buat olah bahan daging sapi masak santan rempah khas padu rasa gurih manis pedas mampu goyang lidah siapa beberapa bumbu khas guna bawang putih bawang merah jahe lengkuas cabai merah daun kunyit daun jeruk masak lama 7 jam hasil daging sapi tekstur empuk enak nikmat proses masak butuh waktu lama hingga ada cair masakan milik cita rasa khas daging empuk tidak mudah hancur mampu tahan waktu lama lebih resep perlu sangat simple meski masak waktu lama rasa enak tak kenal indonesia aku hingga mancanegara alas sebut buat rendang jadi favorit banyak orang enak dunia tak heran bila rendang mudah tembus pasar kuliner internasional dengan rasa yang kaya rempah khas enak juga yakin makan halal ini tidak langsung bukti kuliner nusantara mampu saing kancah internasional'"
            ]
          },
          "metadata": {},
          "execution_count": 140
        }
      ]
    },
    {
      "cell_type": "code",
      "metadata": {
        "id": "A5SeT7cxp3OM",
        "colab": {
          "base_uri": "https://localhost:8080/"
        },
        "outputId": "dbd767c2-d263-4c4a-afb3-005c659b9e00"
      },
      "source": [
        "token_from_stemmed_text = word_tokenize(stemmed_text)\n",
        "print(token_from_stemmed_text)"
      ],
      "id": "A5SeT7cxp3OM",
      "execution_count": 141,
      "outputs": [
        {
          "output_type": "stream",
          "name": "stdout",
          "text": [
            "['rendang', 'nobat', 'jadi', 'salah', 'satu', 'makan', 'enak', 'dunia', 'makan', 'khas', 'sumatera', 'barat', 'memang', 'gari', 'banyak', 'orang', 'baik', 'indonesia', 'maupun', 'mancanegara', 'rendang', 'mula', 'rupa', 'menu', 'utama', 'rumah', 'makan', 'asal', 'sumatera', 'barat', 'kenal', 'masakan', 'padang', 'rendang', 'khas', 'mang', 'paling', 'enak', 'dunia', 'masakan', 'milik', 'tampil', 'sisa', 'potong', 'daging', 'warna', 'coklat', 'hitam', 'kering', 'tradisi', 'minangkabau', 'rendang', 'anggap', 'makan', 'hormat', 'acara', 'adat', 'raya', 'adat', 'nikah', 'acara', 'penting', 'lain', 'istana', 'negara', 'sedang', 'terima', 'kunjung', 'negara', 'rendang', 'sering', 'saji', 'para', 'tamu', 'masyarakat', 'mang', 'rendang', 'milik', 'filosofi', 'arti', 'sabar', 'bijak', 'tekun', 'ini', 'jadi', 'bangga', 'masyarakat', 'mang', 'mana', 'pijak', 'jadi', 'identitas', 'makan', 'khas', 'indonesia', 'mata', 'dunia', 'proses', 'buat', 'olah', 'bahan', 'daging', 'sapi', 'masak', 'santan', 'rempah', 'khas', 'padu', 'rasa', 'gurih', 'manis', 'pedas', 'mampu', 'goyang', 'lidah', 'siapa', 'beberapa', 'bumbu', 'khas', 'guna', 'bawang', 'putih', 'bawang', 'merah', 'jahe', 'lengkuas', 'cabai', 'merah', 'daun', 'kunyit', 'daun', 'jeruk', 'masak', 'lama', '7', 'jam', 'hasil', 'daging', 'sapi', 'tekstur', 'empuk', 'enak', 'nikmat', 'proses', 'masak', 'butuh', 'waktu', 'lama', 'hingga', 'ada', 'cair', 'masakan', 'milik', 'cita', 'rasa', 'khas', 'daging', 'empuk', 'tidak', 'mudah', 'hancur', 'mampu', 'tahan', 'waktu', 'lama', 'lebih', 'resep', 'perlu', 'sangat', 'simple', 'meski', 'masak', 'waktu', 'lama', 'rasa', 'enak', 'tak', 'kenal', 'indonesia', 'aku', 'hingga', 'mancanegara', 'alas', 'sebut', 'buat', 'rendang', 'jadi', 'favorit', 'banyak', 'orang', 'enak', 'dunia', 'tak', 'heran', 'bila', 'rendang', 'mudah', 'tembus', 'pasar', 'kuliner', 'internasional', 'dengan', 'rasa', 'yang', 'kaya', 'rempah', 'khas', 'enak', 'juga', 'yakin', 'makan', 'halal', 'ini', 'tidak', 'langsung', 'bukti', 'kuliner', 'nusantara', 'mampu', 'saing', 'kancah', 'internasional']\n"
          ]
        }
      ]
    },
    {
      "cell_type": "code",
      "metadata": {
        "id": "lhORHV-pq0aC"
      },
      "source": [
        ""
      ],
      "id": "lhORHV-pq0aC",
      "execution_count": 141,
      "outputs": []
    },
    {
      "cell_type": "markdown",
      "metadata": {
        "id": "0a1E3t7dq95Q"
      },
      "source": [
        "## Membuat Bag of Words dari teks Bahasa Indonesia"
      ],
      "id": "0a1E3t7dq95Q"
    },
    {
      "cell_type": "code",
      "metadata": {
        "id": "sX3OXUCdrDX7",
        "colab": {
          "base_uri": "https://localhost:8080/"
        },
        "outputId": "8f7255f6-f33b-4451-efc4-ef5f29ad8dd7"
      },
      "source": [
        "frekuensi_kata_ina = {}\n",
        "for kata in token_from_stemmed_text:\n",
        "  if kata not in frekuensi_kata_ina:\n",
        "    frekuensi_kata_ina[kata] = 1\n",
        "  else:\n",
        "    frekuensi_kata_ina[kata] += 1\n",
        "\n",
        "print(frekuensi_kata_ina)"
      ],
      "id": "sX3OXUCdrDX7",
      "execution_count": 142,
      "outputs": [
        {
          "output_type": "stream",
          "name": "stdout",
          "text": [
            "{'rendang': 8, 'nobat': 1, 'jadi': 4, 'salah': 1, 'satu': 1, 'makan': 6, 'enak': 6, 'dunia': 4, 'khas': 7, 'sumatera': 2, 'barat': 2, 'memang': 1, 'gari': 1, 'banyak': 2, 'orang': 2, 'baik': 1, 'indonesia': 3, 'maupun': 1, 'mancanegara': 2, 'mula': 1, 'rupa': 1, 'menu': 1, 'utama': 1, 'rumah': 1, 'asal': 1, 'kenal': 2, 'masakan': 3, 'padang': 1, 'mang': 3, 'paling': 1, 'milik': 3, 'tampil': 1, 'sisa': 1, 'potong': 1, 'daging': 4, 'warna': 1, 'coklat': 1, 'hitam': 1, 'kering': 1, 'tradisi': 1, 'minangkabau': 1, 'anggap': 1, 'hormat': 1, 'acara': 2, 'adat': 2, 'raya': 1, 'nikah': 1, 'penting': 1, 'lain': 1, 'istana': 1, 'negara': 2, 'sedang': 1, 'terima': 1, 'kunjung': 1, 'sering': 1, 'saji': 1, 'para': 1, 'tamu': 1, 'masyarakat': 2, 'filosofi': 1, 'arti': 1, 'sabar': 1, 'bijak': 1, 'tekun': 1, 'ini': 2, 'bangga': 1, 'mana': 1, 'pijak': 1, 'identitas': 1, 'mata': 1, 'proses': 2, 'buat': 2, 'olah': 1, 'bahan': 1, 'sapi': 2, 'masak': 4, 'santan': 1, 'rempah': 2, 'padu': 1, 'rasa': 4, 'gurih': 1, 'manis': 1, 'pedas': 1, 'mampu': 3, 'goyang': 1, 'lidah': 1, 'siapa': 1, 'beberapa': 1, 'bumbu': 1, 'guna': 1, 'bawang': 2, 'putih': 1, 'merah': 2, 'jahe': 1, 'lengkuas': 1, 'cabai': 1, 'daun': 2, 'kunyit': 1, 'jeruk': 1, 'lama': 4, '7': 1, 'jam': 1, 'hasil': 1, 'tekstur': 1, 'empuk': 2, 'nikmat': 1, 'butuh': 1, 'waktu': 3, 'hingga': 2, 'ada': 1, 'cair': 1, 'cita': 1, 'tidak': 2, 'mudah': 2, 'hancur': 1, 'tahan': 1, 'lebih': 1, 'resep': 1, 'perlu': 1, 'sangat': 1, 'simple': 1, 'meski': 1, 'tak': 2, 'aku': 1, 'alas': 1, 'sebut': 1, 'favorit': 1, 'heran': 1, 'bila': 1, 'tembus': 1, 'pasar': 1, 'kuliner': 2, 'internasional': 2, 'dengan': 1, 'yang': 1, 'kaya': 1, 'juga': 1, 'yakin': 1, 'halal': 1, 'langsung': 1, 'bukti': 1, 'nusantara': 1, 'saing': 1, 'kancah': 1}\n"
          ]
        }
      ]
    },
    {
      "cell_type": "markdown",
      "metadata": {
        "id": "JtTOB40rITfi"
      },
      "source": [
        "## Activity\n",
        "- Scraping (Bahasa Indonesia / English) | opsi: salah satu aja, kalau mau keduanya dibagi 2 kelompok.\n",
        "---\n",
        "1. Cari teks bahasa inggris\n",
        "2. Preprocessing menggunakan library yang diperlukan\n",
        "3. Lakukan point 1-2 juga untuk teks bahasa indonesia\n",
        "4. Apakah terdapat perbedaan preprocessing untuk bahasa Inggris dan bahasa Indonesia? Coba sebutkan!"
      ],
      "id": "JtTOB40rITfi"
    }
  ]
}