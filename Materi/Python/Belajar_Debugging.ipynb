{
  "nbformat": 4,
  "nbformat_minor": 0,
  "metadata": {
    "kernelspec": {
      "display_name": "Python 3",
      "language": "python",
      "name": "python3"
    },
    "language_info": {
      "codemirror_mode": {
        "name": "ipython",
        "version": 3
      },
      "file_extension": ".py",
      "mimetype": "text/x-python",
      "name": "python",
      "nbconvert_exporter": "python",
      "pygments_lexer": "ipython3",
      "version": "3.7.6"
    },
    "colab": {
      "name": "Belajar_Debugging.ipynb",
      "provenance": [],
      "collapsed_sections": []
    }
  },
  "cells": [
    {
      "cell_type": "markdown",
      "metadata": {
        "id": "ZFWBiGUewdoy"
      },
      "source": [
        "# Bug"
      ]
    },
    {
      "cell_type": "code",
      "metadata": {
        "id": "ogX9RoDqwdo2",
        "colab": {
          "base_uri": "https://localhost:8080/"
        },
        "outputId": "95df2479-f64a-4e54-ed4c-fc0e26fe8b7f"
      },
      "source": [
        "#Syntax Error\n",
        "def sumarray(arr):\n",
        "    sum = 0\n",
        "    for a in arrs:\n",
        "        sum = sum+a\n",
        "    return sum\n",
        "\n",
        "print(sumarray([1,2,3,4]))\n"
      ],
      "execution_count": null,
      "outputs": [
        {
          "output_type": "stream",
          "name": "stdout",
          "text": [
            "10\n"
          ]
        }
      ]
    },
    {
      "cell_type": "markdown",
      "metadata": {
        "id": "QI5mHh_Ewdo5"
      },
      "source": [
        "Dalam block code diatas, terlihat kalau terjadi kesalahan penulisan syntax. dimana itu terjadi pada line 4, harusnya ada arr bukan arrs"
      ]
    },
    {
      "cell_type": "markdown",
      "metadata": {
        "id": "_w3ul1jwwdo6"
      },
      "source": [
        "### !!WARNING JANGAN RUN CODE DI BAWAH INI DI LOCAL MACHINE!!"
      ]
    },
    {
      "cell_type": "code",
      "metadata": {
        "id": "jkaYM5ikwdo7"
      },
      "source": [
        "#Logic Error\n",
        "angka = 1\n",
        "list_angka = []\n",
        "while angka%2!=0:\n",
        "    list_angka = list_angka.append(angka)\n",
        "    angka*=3   #variabel angka merupakan bilangan pangkat 3"
      ],
      "execution_count": null,
      "outputs": []
    },
    {
      "cell_type": "markdown",
      "metadata": {
        "id": "LiPfmmRbwdo8"
      },
      "source": [
        "Dalam block code diatas akan terjadi infinite loop, karena loop diatas akan berhenti jika variabel \"angka\" bernilai genap, sedangkan jikalau dilihat dari logic kodenya, variabel \"angka\" tidak akan pernah menyentuh angka genap karena variabel \"angka\" berisi bilangan pangkat 3. ini dinamakan kesalahan logic"
      ]
    },
    {
      "cell_type": "markdown",
      "metadata": {
        "id": "1IgaRhJRwdo9"
      },
      "source": [
        "# Debugging"
      ]
    },
    {
      "cell_type": "markdown",
      "metadata": {
        "id": "ObBjU50Nwdo9"
      },
      "source": [
        "## Brute Force Method"
      ]
    },
    {
      "cell_type": "code",
      "metadata": {
        "colab": {
          "base_uri": "https://localhost:8080/"
        },
        "id": "Q3V5i1fZX79D",
        "outputId": "6a6ea317-7988-4377-d3ea-b022cd703629"
      },
      "source": [
        "#Program menghitung rata-rata dari sebuah list\n",
        "\n",
        "data = [1,2,3,4,5,10,23]\n",
        "sum = 0\n",
        "for i in data:\n",
        "  sum = sum*i\n",
        "\n",
        "rata_rata = sum/len(a)\n",
        "print(rata_rata)"
      ],
      "execution_count": null,
      "outputs": [
        {
          "output_type": "stream",
          "name": "stdout",
          "text": [
            "0.0\n"
          ]
        }
      ]
    },
    {
      "cell_type": "markdown",
      "metadata": {
        "id": "1myRHQv7YXC-"
      },
      "source": [
        "Kita bisa lihat pada program diatas kalau hasil output dari program tidak seperti yg kita mau, Harusnya output yg keluar adalah nilai rata-rata dari list \"data\", tapi ternyata output yang keluar adalah 0.0. Disini kita akan mencari tahu bugnya menggunakan bruteforce methods"
      ]
    },
    {
      "cell_type": "code",
      "metadata": {
        "colab": {
          "base_uri": "https://localhost:8080/"
        },
        "id": "K-y0kT66Y1mm",
        "outputId": "b486aaaf-f6ab-4b8d-a354-7d5ad9e3b247"
      },
      "source": [
        "#Program menghitung rata-rata dari sebuah list\n",
        "\n",
        "data = [1,2,3,4,5,10,23]\n",
        "sum = 0\n",
        "for i in data:\n",
        "  print(\"sum : \", sum)\n",
        "  print(\"i :\", i)\n",
        "  sum = sum*i\n",
        "  print(\"sum setelah operasi : \", sum)\n",
        "\n",
        "rata_rata = sum/len(a)\n",
        "print(rata_rata)"
      ],
      "execution_count": null,
      "outputs": [
        {
          "output_type": "stream",
          "name": "stdout",
          "text": [
            "sum :  0\n",
            "i : 1\n",
            "sum setelah operasi :  0\n",
            "sum :  0\n",
            "i : 2\n",
            "sum setelah operasi :  0\n",
            "sum :  0\n",
            "i : 3\n",
            "sum setelah operasi :  0\n",
            "sum :  0\n",
            "i : 4\n",
            "sum setelah operasi :  0\n",
            "sum :  0\n",
            "i : 5\n",
            "sum setelah operasi :  0\n",
            "sum :  0\n",
            "i : 10\n",
            "sum setelah operasi :  0\n",
            "sum :  0\n",
            "i : 23\n",
            "sum setelah operasi :  0\n",
            "0.0\n"
          ]
        }
      ]
    },
    {
      "cell_type": "markdown",
      "metadata": {
        "id": "I2KBBdRxZpyG"
      },
      "source": [
        "Menggunakan metode bruteforce berarti kita mencoba mencetak semua variabel yang ada dalam proses. Disini kita melihat kalat nilai sum sebelum dioperasikan dan setelah dioperasikan tidak berubah. Ternyata terjadi kesalahan operasi, dimana kalau mencari sum harusnya menggunakan operasi + (tambah) akan tetapi ini malah menggunakan operasi * (perkalian)"
      ]
    },
    {
      "cell_type": "code",
      "metadata": {
        "colab": {
          "base_uri": "https://localhost:8080/"
        },
        "id": "vGu33WQvaC2b",
        "outputId": "9ff34be6-601f-4661-b0dd-e1bdda03c880"
      },
      "source": [
        "#Program menghitung rata-rata dari sebuah list\n",
        "\n",
        "data = [1,2,3,4,5,10,23]\n",
        "sum = 0\n",
        "for i in data:\n",
        "  print(\"sum : \", sum)\n",
        "  print(\"i :\", i)\n",
        "  sum = sum+i\n",
        "  print(\"sum setelah operasi : \", sum)\n",
        "\n",
        "rata_rata = sum/len(a)\n",
        "print(\"\\n\\nRata - rata List : \", rata_rata)"
      ],
      "execution_count": null,
      "outputs": [
        {
          "output_type": "stream",
          "name": "stdout",
          "text": [
            "sum :  0\n",
            "i : 1\n",
            "sum setelah operasi :  1\n",
            "sum :  1\n",
            "i : 2\n",
            "sum setelah operasi :  3\n",
            "sum :  3\n",
            "i : 3\n",
            "sum setelah operasi :  6\n",
            "sum :  6\n",
            "i : 4\n",
            "sum setelah operasi :  10\n",
            "sum :  10\n",
            "i : 5\n",
            "sum setelah operasi :  15\n",
            "sum :  15\n",
            "i : 10\n",
            "sum setelah operasi :  25\n",
            "sum :  25\n",
            "i : 23\n",
            "sum setelah operasi :  48\n",
            "\n",
            "\n",
            "Rata - rata List :  6.857142857142857\n"
          ]
        }
      ]
    },
    {
      "cell_type": "markdown",
      "metadata": {
        "id": "b2hFRQR3ayhY"
      },
      "source": [
        "Lalu setelah kita betulkan bugnya, maka akan benar outputnya. Bug diatas adalah salah satu contoh Logic Bug"
      ]
    },
    {
      "cell_type": "markdown",
      "metadata": {
        "id": "LBLMpV5twdpH"
      },
      "source": [
        "# Activity"
      ]
    },
    {
      "cell_type": "markdown",
      "metadata": {
        "id": "4244UC6_wdpH"
      },
      "source": [
        "Student akan diminta untuk melengkapi code dan memfix bug yang ada pada source code di bawah"
      ]
    },
    {
      "cell_type": "markdown",
      "metadata": {
        "id": "5SQfLTq5Qk18"
      },
      "source": [
        "## Activity Mudah"
      ]
    },
    {
      "cell_type": "code",
      "metadata": {
        "id": "HqMH5V4lwxON",
        "colab": {
          "base_uri": "https://localhost:8080/",
          "height": 197
        },
        "outputId": "3cda702e-f94f-4d20-f2dc-bf14f339bfbd"
      },
      "source": [
        "# Debugging Linear Search algorithm\n",
        "def linear_search(search_key, arr):\n",
        "  for index, item in enumerate(arr):\n",
        "    if item == _____: #Ganti _____ dengan syntax yang benar\n",
        "      print(f'Ketemu {item} di index ke-{index}')\n",
        "      # return index\n",
        "\n",
        "\n",
        "angka = [1,3,4,5,223,7,54,23]\n",
        "\n",
        "linear_search(223)\n"
      ],
      "execution_count": null,
      "outputs": [
        {
          "output_type": "error",
          "ename": "TypeError",
          "evalue": "ignored",
          "traceback": [
            "\u001b[0;31m---------------------------------------------------------------------------\u001b[0m",
            "\u001b[0;31mTypeError\u001b[0m                                 Traceback (most recent call last)",
            "\u001b[0;32m<ipython-input-8-1d66b2f1ad1d>\u001b[0m in \u001b[0;36m<module>\u001b[0;34m()\u001b[0m\n\u001b[1;32m      9\u001b[0m \u001b[0mangka\u001b[0m \u001b[0;34m=\u001b[0m \u001b[0;34m[\u001b[0m\u001b[0;36m1\u001b[0m\u001b[0;34m,\u001b[0m\u001b[0;36m3\u001b[0m\u001b[0;34m,\u001b[0m\u001b[0;36m4\u001b[0m\u001b[0;34m,\u001b[0m\u001b[0;36m5\u001b[0m\u001b[0;34m,\u001b[0m\u001b[0;36m223\u001b[0m\u001b[0;34m,\u001b[0m\u001b[0;36m7\u001b[0m\u001b[0;34m,\u001b[0m\u001b[0;36m54\u001b[0m\u001b[0;34m,\u001b[0m\u001b[0;36m23\u001b[0m\u001b[0;34m]\u001b[0m\u001b[0;34m\u001b[0m\u001b[0;34m\u001b[0m\u001b[0m\n\u001b[1;32m     10\u001b[0m \u001b[0;34m\u001b[0m\u001b[0m\n\u001b[0;32m---> 11\u001b[0;31m \u001b[0mlinear_search\u001b[0m\u001b[0;34m(\u001b[0m\u001b[0;36m223\u001b[0m\u001b[0;34m)\u001b[0m\u001b[0;34m\u001b[0m\u001b[0;34m\u001b[0m\u001b[0m\n\u001b[0m",
            "\u001b[0;31mTypeError\u001b[0m: linear_search() missing 1 required positional argument: 'arr'"
          ]
        }
      ]
    },
    {
      "cell_type": "code",
      "metadata": {
        "id": "i7iDvQXBPhbs",
        "colab": {
          "base_uri": "https://localhost:8080/",
          "height": 435
        },
        "outputId": "f795150c-341c-49a9-eeb7-165fdc29375d"
      },
      "source": [
        "# Visualisasi Data\n",
        "import pandas as pd\n",
        "import matplotlib.pyplot as plt\n",
        "\n",
        "url = 'https://people.sc.fsu.edu/~jburkardt/data/csv/freshman_kgs.csv'\n",
        "file = 'freshman_kgs.csv'\n",
        "\n",
        "dataframe = pd.read_csv(file)\n",
        "\n",
        "dataframe[[' \"Weight (Sep)\"', ' \"Weight (Apr)\"']].plot(kind='scatter', x=' \"Weight (Sep)\"', y=' \"Weight (Apr)\"', \n",
        "                                                 figsize=(10, 6), color='darkblue')\n",
        "\n",
        "plt.title('Hubungan berat badan bulan september dan april', fontsize = 40, fontname=\"MV Boli\")\n",
        "plt.ylabel('April', fontsize = 10)\n",
        "plt.xlabel('September', fontsize = 10)\n",
        "\n",
        "plt.show()\n",
        "\n"
      ],
      "execution_count": null,
      "outputs": [
        {
          "output_type": "error",
          "ename": "FileNotFoundError",
          "evalue": "ignored",
          "traceback": [
            "\u001b[0;31m---------------------------------------------------------------------------\u001b[0m",
            "\u001b[0;31mFileNotFoundError\u001b[0m                         Traceback (most recent call last)",
            "\u001b[0;32m<ipython-input-5-5800897ac8c2>\u001b[0m in \u001b[0;36m<module>\u001b[0;34m()\u001b[0m\n\u001b[1;32m      6\u001b[0m \u001b[0mfile\u001b[0m \u001b[0;34m=\u001b[0m \u001b[0;34m'freshman_kgs.csv'\u001b[0m\u001b[0;34m\u001b[0m\u001b[0;34m\u001b[0m\u001b[0m\n\u001b[1;32m      7\u001b[0m \u001b[0;34m\u001b[0m\u001b[0m\n\u001b[0;32m----> 8\u001b[0;31m \u001b[0mdataframe\u001b[0m \u001b[0;34m=\u001b[0m \u001b[0mpd\u001b[0m\u001b[0;34m.\u001b[0m\u001b[0mread_csv\u001b[0m\u001b[0;34m(\u001b[0m\u001b[0mfile\u001b[0m\u001b[0;34m)\u001b[0m\u001b[0;34m\u001b[0m\u001b[0;34m\u001b[0m\u001b[0m\n\u001b[0m\u001b[1;32m      9\u001b[0m \u001b[0;34m\u001b[0m\u001b[0m\n\u001b[1;32m     10\u001b[0m dataframe[[' \"Weight (Sep)\"', ' \"Weight (Apr)\"']].plot(kind='scatter', x=' \"Weight (Sep)\"', y=' \"Weight (Apr)\"', \n",
            "\u001b[0;32m/usr/local/lib/python3.7/dist-packages/pandas/io/parsers.py\u001b[0m in \u001b[0;36mread_csv\u001b[0;34m(filepath_or_buffer, sep, delimiter, header, names, index_col, usecols, squeeze, prefix, mangle_dupe_cols, dtype, engine, converters, true_values, false_values, skipinitialspace, skiprows, skipfooter, nrows, na_values, keep_default_na, na_filter, verbose, skip_blank_lines, parse_dates, infer_datetime_format, keep_date_col, date_parser, dayfirst, cache_dates, iterator, chunksize, compression, thousands, decimal, lineterminator, quotechar, quoting, doublequote, escapechar, comment, encoding, dialect, error_bad_lines, warn_bad_lines, delim_whitespace, low_memory, memory_map, float_precision)\u001b[0m\n\u001b[1;32m    686\u001b[0m     )\n\u001b[1;32m    687\u001b[0m \u001b[0;34m\u001b[0m\u001b[0m\n\u001b[0;32m--> 688\u001b[0;31m     \u001b[0;32mreturn\u001b[0m \u001b[0m_read\u001b[0m\u001b[0;34m(\u001b[0m\u001b[0mfilepath_or_buffer\u001b[0m\u001b[0;34m,\u001b[0m \u001b[0mkwds\u001b[0m\u001b[0;34m)\u001b[0m\u001b[0;34m\u001b[0m\u001b[0;34m\u001b[0m\u001b[0m\n\u001b[0m\u001b[1;32m    689\u001b[0m \u001b[0;34m\u001b[0m\u001b[0m\n\u001b[1;32m    690\u001b[0m \u001b[0;34m\u001b[0m\u001b[0m\n",
            "\u001b[0;32m/usr/local/lib/python3.7/dist-packages/pandas/io/parsers.py\u001b[0m in \u001b[0;36m_read\u001b[0;34m(filepath_or_buffer, kwds)\u001b[0m\n\u001b[1;32m    452\u001b[0m \u001b[0;34m\u001b[0m\u001b[0m\n\u001b[1;32m    453\u001b[0m     \u001b[0;31m# Create the parser.\u001b[0m\u001b[0;34m\u001b[0m\u001b[0;34m\u001b[0m\u001b[0;34m\u001b[0m\u001b[0m\n\u001b[0;32m--> 454\u001b[0;31m     \u001b[0mparser\u001b[0m \u001b[0;34m=\u001b[0m \u001b[0mTextFileReader\u001b[0m\u001b[0;34m(\u001b[0m\u001b[0mfp_or_buf\u001b[0m\u001b[0;34m,\u001b[0m \u001b[0;34m**\u001b[0m\u001b[0mkwds\u001b[0m\u001b[0;34m)\u001b[0m\u001b[0;34m\u001b[0m\u001b[0;34m\u001b[0m\u001b[0m\n\u001b[0m\u001b[1;32m    455\u001b[0m \u001b[0;34m\u001b[0m\u001b[0m\n\u001b[1;32m    456\u001b[0m     \u001b[0;32mif\u001b[0m \u001b[0mchunksize\u001b[0m \u001b[0;32mor\u001b[0m \u001b[0miterator\u001b[0m\u001b[0;34m:\u001b[0m\u001b[0;34m\u001b[0m\u001b[0;34m\u001b[0m\u001b[0m\n",
            "\u001b[0;32m/usr/local/lib/python3.7/dist-packages/pandas/io/parsers.py\u001b[0m in \u001b[0;36m__init__\u001b[0;34m(self, f, engine, **kwds)\u001b[0m\n\u001b[1;32m    946\u001b[0m             \u001b[0mself\u001b[0m\u001b[0;34m.\u001b[0m\u001b[0moptions\u001b[0m\u001b[0;34m[\u001b[0m\u001b[0;34m\"has_index_names\"\u001b[0m\u001b[0;34m]\u001b[0m \u001b[0;34m=\u001b[0m \u001b[0mkwds\u001b[0m\u001b[0;34m[\u001b[0m\u001b[0;34m\"has_index_names\"\u001b[0m\u001b[0;34m]\u001b[0m\u001b[0;34m\u001b[0m\u001b[0;34m\u001b[0m\u001b[0m\n\u001b[1;32m    947\u001b[0m \u001b[0;34m\u001b[0m\u001b[0m\n\u001b[0;32m--> 948\u001b[0;31m         \u001b[0mself\u001b[0m\u001b[0;34m.\u001b[0m\u001b[0m_make_engine\u001b[0m\u001b[0;34m(\u001b[0m\u001b[0mself\u001b[0m\u001b[0;34m.\u001b[0m\u001b[0mengine\u001b[0m\u001b[0;34m)\u001b[0m\u001b[0;34m\u001b[0m\u001b[0;34m\u001b[0m\u001b[0m\n\u001b[0m\u001b[1;32m    949\u001b[0m \u001b[0;34m\u001b[0m\u001b[0m\n\u001b[1;32m    950\u001b[0m     \u001b[0;32mdef\u001b[0m \u001b[0mclose\u001b[0m\u001b[0;34m(\u001b[0m\u001b[0mself\u001b[0m\u001b[0;34m)\u001b[0m\u001b[0;34m:\u001b[0m\u001b[0;34m\u001b[0m\u001b[0;34m\u001b[0m\u001b[0m\n",
            "\u001b[0;32m/usr/local/lib/python3.7/dist-packages/pandas/io/parsers.py\u001b[0m in \u001b[0;36m_make_engine\u001b[0;34m(self, engine)\u001b[0m\n\u001b[1;32m   1178\u001b[0m     \u001b[0;32mdef\u001b[0m \u001b[0m_make_engine\u001b[0m\u001b[0;34m(\u001b[0m\u001b[0mself\u001b[0m\u001b[0;34m,\u001b[0m \u001b[0mengine\u001b[0m\u001b[0;34m=\u001b[0m\u001b[0;34m\"c\"\u001b[0m\u001b[0;34m)\u001b[0m\u001b[0;34m:\u001b[0m\u001b[0;34m\u001b[0m\u001b[0;34m\u001b[0m\u001b[0m\n\u001b[1;32m   1179\u001b[0m         \u001b[0;32mif\u001b[0m \u001b[0mengine\u001b[0m \u001b[0;34m==\u001b[0m \u001b[0;34m\"c\"\u001b[0m\u001b[0;34m:\u001b[0m\u001b[0;34m\u001b[0m\u001b[0;34m\u001b[0m\u001b[0m\n\u001b[0;32m-> 1180\u001b[0;31m             \u001b[0mself\u001b[0m\u001b[0;34m.\u001b[0m\u001b[0m_engine\u001b[0m \u001b[0;34m=\u001b[0m \u001b[0mCParserWrapper\u001b[0m\u001b[0;34m(\u001b[0m\u001b[0mself\u001b[0m\u001b[0;34m.\u001b[0m\u001b[0mf\u001b[0m\u001b[0;34m,\u001b[0m \u001b[0;34m**\u001b[0m\u001b[0mself\u001b[0m\u001b[0;34m.\u001b[0m\u001b[0moptions\u001b[0m\u001b[0;34m)\u001b[0m\u001b[0;34m\u001b[0m\u001b[0;34m\u001b[0m\u001b[0m\n\u001b[0m\u001b[1;32m   1181\u001b[0m         \u001b[0;32melse\u001b[0m\u001b[0;34m:\u001b[0m\u001b[0;34m\u001b[0m\u001b[0;34m\u001b[0m\u001b[0m\n\u001b[1;32m   1182\u001b[0m             \u001b[0;32mif\u001b[0m \u001b[0mengine\u001b[0m \u001b[0;34m==\u001b[0m \u001b[0;34m\"python\"\u001b[0m\u001b[0;34m:\u001b[0m\u001b[0;34m\u001b[0m\u001b[0;34m\u001b[0m\u001b[0m\n",
            "\u001b[0;32m/usr/local/lib/python3.7/dist-packages/pandas/io/parsers.py\u001b[0m in \u001b[0;36m__init__\u001b[0;34m(self, src, **kwds)\u001b[0m\n\u001b[1;32m   2008\u001b[0m         \u001b[0mkwds\u001b[0m\u001b[0;34m[\u001b[0m\u001b[0;34m\"usecols\"\u001b[0m\u001b[0;34m]\u001b[0m \u001b[0;34m=\u001b[0m \u001b[0mself\u001b[0m\u001b[0;34m.\u001b[0m\u001b[0musecols\u001b[0m\u001b[0;34m\u001b[0m\u001b[0;34m\u001b[0m\u001b[0m\n\u001b[1;32m   2009\u001b[0m \u001b[0;34m\u001b[0m\u001b[0m\n\u001b[0;32m-> 2010\u001b[0;31m         \u001b[0mself\u001b[0m\u001b[0;34m.\u001b[0m\u001b[0m_reader\u001b[0m \u001b[0;34m=\u001b[0m \u001b[0mparsers\u001b[0m\u001b[0;34m.\u001b[0m\u001b[0mTextReader\u001b[0m\u001b[0;34m(\u001b[0m\u001b[0msrc\u001b[0m\u001b[0;34m,\u001b[0m \u001b[0;34m**\u001b[0m\u001b[0mkwds\u001b[0m\u001b[0;34m)\u001b[0m\u001b[0;34m\u001b[0m\u001b[0;34m\u001b[0m\u001b[0m\n\u001b[0m\u001b[1;32m   2011\u001b[0m         \u001b[0mself\u001b[0m\u001b[0;34m.\u001b[0m\u001b[0munnamed_cols\u001b[0m \u001b[0;34m=\u001b[0m \u001b[0mself\u001b[0m\u001b[0;34m.\u001b[0m\u001b[0m_reader\u001b[0m\u001b[0;34m.\u001b[0m\u001b[0munnamed_cols\u001b[0m\u001b[0;34m\u001b[0m\u001b[0;34m\u001b[0m\u001b[0m\n\u001b[1;32m   2012\u001b[0m \u001b[0;34m\u001b[0m\u001b[0m\n",
            "\u001b[0;32mpandas/_libs/parsers.pyx\u001b[0m in \u001b[0;36mpandas._libs.parsers.TextReader.__cinit__\u001b[0;34m()\u001b[0m\n",
            "\u001b[0;32mpandas/_libs/parsers.pyx\u001b[0m in \u001b[0;36mpandas._libs.parsers.TextReader._setup_parser_source\u001b[0;34m()\u001b[0m\n",
            "\u001b[0;31mFileNotFoundError\u001b[0m: [Errno 2] No such file or directory: 'freshman_kgs.csv'"
          ]
        }
      ]
    },
    {
      "cell_type": "code",
      "metadata": {
        "colab": {
          "base_uri": "https://localhost:8080/",
          "height": 377
        },
        "id": "lyz-El6IeHIh",
        "outputId": "9adfa5b3-63bb-4298-93c5-0f8601fdf6eb"
      },
      "source": [
        "# Main Layangan\n",
        "# Requirement:\n",
        "# - Gak Hujan\n",
        "# - Kecepatan Angin 5 - 30 km/s\n",
        "\n",
        "def main_layangan():\n",
        "  hujan = input(\"lagi ujan ga? (y/n)\")\n",
        "  if hujan == 'y' or hujan == 'Y':\n",
        "    hujan == False\n",
        "  else:\n",
        "    hujan == True\n",
        "\n",
        "  kecepatan_angin = input('masukkan kecepatan angin')\n",
        "\n",
        "  if hujan == True:\n",
        "    print('Gak bisa main layangan')\n",
        "  else:\n",
        "    if kecepatan_angin < 5 and kecepatan_angin > 30:\n",
        "      print('Ayiik, gass main layangan')\n",
        "    else:\n",
        "      print('Skip, mending main ep ep')\n",
        "\n",
        "capek = main_layangan()\n",
        "\n",
        "if capek == True:\n",
        "  print(\"Istirahat\")\n",
        "else:\n",
        "  print(\"Gass main ep ep\")"
      ],
      "execution_count": null,
      "outputs": [
        {
          "name": "stdout",
          "output_type": "stream",
          "text": [
            "lagi ujan ga? (y/n)y\n",
            "masukkan kecepatan angin23\n"
          ]
        },
        {
          "output_type": "error",
          "ename": "TypeError",
          "evalue": "ignored",
          "traceback": [
            "\u001b[0;31m---------------------------------------------------------------------------\u001b[0m",
            "\u001b[0;31mTypeError\u001b[0m                                 Traceback (most recent call last)",
            "\u001b[0;32m<ipython-input-13-c2d1dd27150a>\u001b[0m in \u001b[0;36m<module>\u001b[0;34m()\u001b[0m\n\u001b[1;32m     21\u001b[0m       \u001b[0mprint\u001b[0m\u001b[0;34m(\u001b[0m\u001b[0;34m'Skip, mending main ep ep'\u001b[0m\u001b[0;34m)\u001b[0m\u001b[0;34m\u001b[0m\u001b[0;34m\u001b[0m\u001b[0m\n\u001b[1;32m     22\u001b[0m \u001b[0;34m\u001b[0m\u001b[0m\n\u001b[0;32m---> 23\u001b[0;31m \u001b[0mcapek\u001b[0m \u001b[0;34m=\u001b[0m \u001b[0mmain_layangan\u001b[0m\u001b[0;34m(\u001b[0m\u001b[0;34m)\u001b[0m\u001b[0;34m\u001b[0m\u001b[0;34m\u001b[0m\u001b[0m\n\u001b[0m\u001b[1;32m     24\u001b[0m \u001b[0;34m\u001b[0m\u001b[0m\n\u001b[1;32m     25\u001b[0m \u001b[0;32mif\u001b[0m \u001b[0mcapek\u001b[0m \u001b[0;34m==\u001b[0m \u001b[0;32mTrue\u001b[0m\u001b[0;34m:\u001b[0m\u001b[0;34m\u001b[0m\u001b[0;34m\u001b[0m\u001b[0m\n",
            "\u001b[0;32m<ipython-input-13-c2d1dd27150a>\u001b[0m in \u001b[0;36mmain_layangan\u001b[0;34m()\u001b[0m\n\u001b[1;32m     16\u001b[0m     \u001b[0mprint\u001b[0m\u001b[0;34m(\u001b[0m\u001b[0;34m'Gak bisa main layangan'\u001b[0m\u001b[0;34m)\u001b[0m\u001b[0;34m\u001b[0m\u001b[0;34m\u001b[0m\u001b[0m\n\u001b[1;32m     17\u001b[0m   \u001b[0;32melse\u001b[0m\u001b[0;34m:\u001b[0m\u001b[0;34m\u001b[0m\u001b[0;34m\u001b[0m\u001b[0m\n\u001b[0;32m---> 18\u001b[0;31m     \u001b[0;32mif\u001b[0m \u001b[0mkecepatan_angin\u001b[0m \u001b[0;34m<\u001b[0m \u001b[0;36m5\u001b[0m \u001b[0;32mand\u001b[0m \u001b[0mkecepatan_angin\u001b[0m \u001b[0;34m>\u001b[0m \u001b[0;36m30\u001b[0m\u001b[0;34m:\u001b[0m\u001b[0;34m\u001b[0m\u001b[0;34m\u001b[0m\u001b[0m\n\u001b[0m\u001b[1;32m     19\u001b[0m       \u001b[0mprint\u001b[0m\u001b[0;34m(\u001b[0m\u001b[0;34m'Ayiik, gass main layangan'\u001b[0m\u001b[0;34m)\u001b[0m\u001b[0;34m\u001b[0m\u001b[0;34m\u001b[0m\u001b[0m\n\u001b[1;32m     20\u001b[0m     \u001b[0;32melse\u001b[0m\u001b[0;34m:\u001b[0m\u001b[0;34m\u001b[0m\u001b[0;34m\u001b[0m\u001b[0m\n",
            "\u001b[0;31mTypeError\u001b[0m: '<' not supported between instances of 'str' and 'int'"
          ]
        }
      ]
    },
    {
      "cell_type": "markdown",
      "metadata": {
        "id": "FRqaOZYIiLnQ"
      },
      "source": [
        "\n"
      ]
    },
    {
      "cell_type": "markdown",
      "metadata": {
        "id": "_WdFK52CQpKe"
      },
      "source": [
        "## Activity Sulit"
      ]
    },
    {
      "cell_type": "code",
      "metadata": {
        "id": "chFs_QamwdpI",
        "colab": {
          "base_uri": "https://localhost:8080/",
          "height": 384
        },
        "outputId": "f73492df-3dfe-4a73-f90b-ca681e9fd97a"
      },
      "source": [
        "def mergeSort(arr):\n",
        "    if len(arr) > 1:\n",
        "  \n",
        "         # Finding the mid of the array\n",
        "        mid = len(arr)//3\n",
        "  \n",
        "        # Dividing the array elements\n",
        "        L = arr[:mid]\n",
        "  \n",
        "        # into 2 halves\n",
        "        R = arr[mid:]\n",
        "  \n",
        "        # Sorting the first half\n",
        "        mergesort(L)\n",
        "  \n",
        "        # Sorting the second half\n",
        "        mergeSort(R)\n",
        "  \n",
        "        i = j = k = 0\n",
        "  \n",
        "        # Copy data to temp arrays L[] and R[]\n",
        "        while i < len(L) and j < len(R):\n",
        "            if L[i] < R[j]:\n",
        "                arr[k] = L[i] + 1\n",
        "                ________               #lengkapi\n",
        "            else:\n",
        "                arr[k] = R[j]\n",
        "                j += 1\n",
        "            k += 1\n",
        "  \n",
        "        # Checking if any element was left\n",
        "        while i < len(L):\n",
        "            arr[k] = L[i]\n",
        "            i += 1\n",
        "            k += 1\n",
        "  \n",
        "        while j < len(R):\n",
        "            arr[k] = R[k+1]\n",
        "            j += 1\n",
        "            k += 2\n",
        "  \n",
        "# Code to print the list\n",
        "  \n",
        "  \n",
        "def printList(arr):\n",
        "    for i in range(len(arr)):\n",
        "        print(arr[i], end=\" \")\n",
        "    print()\n",
        "  \n",
        "  \n",
        "# Driver Code\n",
        "\n",
        "arr = [12, 11, 13, 5, 6, 7]\n",
        "print(\"Given array is\", end=\"\\n\")\n",
        "printList(arr)\n",
        "mergeSort(arr)\n",
        "print(\"Sorted array is: \", end=\"\\n\")\n",
        "printList(arr)"
      ],
      "execution_count": null,
      "outputs": [
        {
          "output_type": "stream",
          "name": "stdout",
          "text": [
            "Given array is\n",
            "12 11 13 5 6 7 \n"
          ]
        },
        {
          "output_type": "error",
          "ename": "NameError",
          "evalue": "ignored",
          "traceback": [
            "\u001b[0;31m---------------------------------------------------------------------------\u001b[0m",
            "\u001b[0;31mNameError\u001b[0m                                 Traceback (most recent call last)",
            "\u001b[0;32m<ipython-input-1-d60a94733124>\u001b[0m in \u001b[0;36m<module>\u001b[0;34m()\u001b[0m\n\u001b[1;32m     54\u001b[0m \u001b[0mprint\u001b[0m\u001b[0;34m(\u001b[0m\u001b[0;34m\"Given array is\"\u001b[0m\u001b[0;34m,\u001b[0m \u001b[0mend\u001b[0m\u001b[0;34m=\u001b[0m\u001b[0;34m\"\\n\"\u001b[0m\u001b[0;34m)\u001b[0m\u001b[0;34m\u001b[0m\u001b[0;34m\u001b[0m\u001b[0m\n\u001b[1;32m     55\u001b[0m \u001b[0mprintList\u001b[0m\u001b[0;34m(\u001b[0m\u001b[0marr\u001b[0m\u001b[0;34m)\u001b[0m\u001b[0;34m\u001b[0m\u001b[0;34m\u001b[0m\u001b[0m\n\u001b[0;32m---> 56\u001b[0;31m \u001b[0mmergeSort\u001b[0m\u001b[0;34m(\u001b[0m\u001b[0marr\u001b[0m\u001b[0;34m)\u001b[0m\u001b[0;34m\u001b[0m\u001b[0;34m\u001b[0m\u001b[0m\n\u001b[0m\u001b[1;32m     57\u001b[0m \u001b[0mprint\u001b[0m\u001b[0;34m(\u001b[0m\u001b[0;34m\"Sorted array is: \"\u001b[0m\u001b[0;34m,\u001b[0m \u001b[0mend\u001b[0m\u001b[0;34m=\u001b[0m\u001b[0;34m\"\\n\"\u001b[0m\u001b[0;34m)\u001b[0m\u001b[0;34m\u001b[0m\u001b[0;34m\u001b[0m\u001b[0m\n\u001b[1;32m     58\u001b[0m \u001b[0mprintList\u001b[0m\u001b[0;34m(\u001b[0m\u001b[0marr\u001b[0m\u001b[0;34m)\u001b[0m\u001b[0;34m\u001b[0m\u001b[0;34m\u001b[0m\u001b[0m\n",
            "\u001b[0;32m<ipython-input-1-d60a94733124>\u001b[0m in \u001b[0;36mmergeSort\u001b[0;34m(arr)\u001b[0m\n\u001b[1;32m     12\u001b[0m \u001b[0;34m\u001b[0m\u001b[0m\n\u001b[1;32m     13\u001b[0m         \u001b[0;31m# Sorting the first half\u001b[0m\u001b[0;34m\u001b[0m\u001b[0;34m\u001b[0m\u001b[0;34m\u001b[0m\u001b[0m\n\u001b[0;32m---> 14\u001b[0;31m         \u001b[0mmergesort\u001b[0m\u001b[0;34m(\u001b[0m\u001b[0mL\u001b[0m\u001b[0;34m)\u001b[0m\u001b[0;34m\u001b[0m\u001b[0;34m\u001b[0m\u001b[0m\n\u001b[0m\u001b[1;32m     15\u001b[0m \u001b[0;34m\u001b[0m\u001b[0m\n\u001b[1;32m     16\u001b[0m         \u001b[0;31m# Sorting the second half\u001b[0m\u001b[0;34m\u001b[0m\u001b[0;34m\u001b[0m\u001b[0;34m\u001b[0m\u001b[0m\n",
            "\u001b[0;31mNameError\u001b[0m: name 'mergesort' is not defined"
          ]
        }
      ]
    },
    {
      "cell_type": "markdown",
      "metadata": {
        "id": "GJblyR6riBSb"
      },
      "source": [
        "### Untuk melihat hasil Debugging ada di file Latihan_Debugging.ipynb"
      ]
    }
  ]
}