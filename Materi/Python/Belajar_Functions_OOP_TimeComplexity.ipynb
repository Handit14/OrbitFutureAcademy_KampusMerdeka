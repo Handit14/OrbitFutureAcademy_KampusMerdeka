{
  "nbformat": 4,
  "nbformat_minor": 0,
  "metadata": {
    "colab": {
      "name": "Functions-OOP-TimeComplexity.ipynb",
      "provenance": [],
      "collapsed_sections": []
    },
    "kernelspec": {
      "name": "python3",
      "display_name": "Python 3"
    },
    "language_info": {
      "name": "python"
    }
  },
  "cells": [
    {
      "cell_type": "markdown",
      "metadata": {
        "id": "Le8N3SLcbiAd"
      },
      "source": [
        "# **Fungsi**"
      ]
    },
    {
      "cell_type": "code",
      "metadata": {
        "colab": {
          "base_uri": "https://localhost:8080/"
        },
        "id": "ywDbPVukTDYd",
        "outputId": "ea1115e5-2ddf-47ea-9c8a-e67d8bee36a0"
      },
      "source": [
        "# Deklarasi Fungsi\n",
        "def cetak(x):\n",
        "  print(x)\n",
        "\n",
        "# Memanggil Fungsi\n",
        "cetak(\"wokee\")"
      ],
      "execution_count": null,
      "outputs": [
        {
          "output_type": "stream",
          "name": "stdout",
          "text": [
            "wokee\n"
          ]
        }
      ]
    },
    {
      "cell_type": "code",
      "metadata": {
        "colab": {
          "base_uri": "https://localhost:8080/"
        },
        "id": "RipUgd0NTdjo",
        "outputId": "8b322bd0-6d9c-4aa6-8868-e174a3f8f90c"
      },
      "source": [
        "# Deklarasi Fungsi dengan pengembalian\n",
        "def tambah(a, b):\n",
        "  return a + b;\n",
        "\n",
        "# Memanggil Fungsi\n",
        "print(tambah(2, 3))"
      ],
      "execution_count": null,
      "outputs": [
        {
          "output_type": "stream",
          "name": "stdout",
          "text": [
            "5\n"
          ]
        }
      ]
    },
    {
      "cell_type": "markdown",
      "metadata": {
        "id": "3bLHV6jAOFbv"
      },
      "source": [
        "def nama_fungsi(arg1, arg2, ...):\n",
        "   isi fungsi\n",
        "\n",
        "def fungsi_dengan_pengembalian(arg1, arg2, ...):\n",
        "   isi fungsi\n",
        "  return 'sesuatu'"
      ]
    },
    {
      "cell_type": "markdown",
      "metadata": {
        "id": "SLOP8yGkbpLO"
      },
      "source": [
        "# **Method**"
      ]
    },
    {
      "cell_type": "code",
      "metadata": {
        "id": "XtcgZC2LPXM0"
      },
      "source": [
        "#class NamaClass:\n",
        " # def nama_method(arg1, arg2, ...):\n",
        "    # isi method"
      ],
      "execution_count": null,
      "outputs": []
    },
    {
      "cell_type": "code",
      "metadata": {
        "id": "uh927B9_W0N1",
        "colab": {
          "base_uri": "https://localhost:8080/"
        },
        "outputId": "1715e70f-3462-4bcd-9288-784cbe4d7f5e"
      },
      "source": [
        "# Deklarasi Object (Class)\n",
        "class Kucing(object):\n",
        "  def meong(self):\n",
        "    print(\"meeooong\")\n",
        "\n",
        "# Memanggil method\n",
        "cat = Kucing()\n",
        "cat.meong()"
      ],
      "execution_count": null,
      "outputs": [
        {
          "output_type": "stream",
          "name": "stdout",
          "text": [
            "meeooong\n"
          ]
        }
      ]
    },
    {
      "cell_type": "markdown",
      "metadata": {
        "id": "3WbfqdEWbtsl"
      },
      "source": [
        "# **Lambda Expression**"
      ]
    },
    {
      "cell_type": "code",
      "metadata": {
        "id": "wmZuN2s7ZzAZ",
        "colab": {
          "base_uri": "https://localhost:8080/"
        },
        "outputId": "9e9c2172-391d-4530-9f16-ebe4e2a30b4b"
      },
      "source": [
        "# Lambda expression\n",
        "tambah = lambda a, b: (a + b)\n",
        "print(tambah(2, 3))"
      ],
      "execution_count": null,
      "outputs": [
        {
          "output_type": "stream",
          "name": "stdout",
          "text": [
            "5\n"
          ]
        }
      ]
    },
    {
      "cell_type": "markdown",
      "metadata": {
        "id": "jxicmjLxkXCa"
      },
      "source": [
        "# **Object Oriented Programming**"
      ]
    },
    {
      "cell_type": "markdown",
      "metadata": {
        "id": "K_u-Dtb6kcBm"
      },
      "source": [
        "## **Encapsulation**"
      ]
    },
    {
      "cell_type": "code",
      "metadata": {
        "id": "9-CEKFKYm2AA",
        "colab": {
          "base_uri": "https://localhost:8080/"
        },
        "outputId": "9edefaa5-c690-4342-9675-e24d9131fb0b"
      },
      "source": [
        "nama = \"cemong\"\n",
        "usia = 1\n",
        "warna = \"putih coklat muda\"\n",
        "jenis = \"anggora\"\n",
        "\n",
        "def meongg():\n",
        "  print(\"meeeoonnggg... \")\n",
        "\n",
        "def info_kucing(nama, usia, warna, jenis):\n",
        "  print(f\"nama: {nama}, usia: {usia}, warna: {warna}, jenis: {jenis}\")\n",
        "\n",
        "info_kucing(nama, usia, warna, jenis)\n",
        "\n",
        "\n",
        "class Kucing:\n",
        "  def __init__(self, nama, usia, warna, jenis):\n",
        "    self.nama = nama\n",
        "    self.usia = usia\n",
        "    self.warna = warna\n",
        "    self.jenis = jenis\n",
        "\n",
        "  def myfunc(self):\n",
        "    print(\"Hello my name is \" + self.nama)\n",
        "  \n",
        "  def meong(self):\n",
        "    print(\"meeeoonnggg... \")\n",
        "\n",
        "  def info(self):\n",
        "    print(f\"nama: {self.nama}, usia: {self.usia}, warna: {self.warna}, jenis: {self.jenis}\")\n",
        "\n",
        "\n",
        "kucing1 = Kucing(\"cemong\", 1, \"putih coklat muda\", \"anggora\")\n",
        "\n",
        "kucing1.info()"
      ],
      "execution_count": null,
      "outputs": [
        {
          "output_type": "stream",
          "name": "stdout",
          "text": [
            "nama: cemong, usia: 1, warna: putih coklat muda, jenis: anggora\n",
            "nama: cemong, usia: 1, warna: putih coklat muda, jenis: anggora\n"
          ]
        }
      ]
    },
    {
      "cell_type": "markdown",
      "metadata": {
        "id": "Xpt9Lz6vqN-z"
      },
      "source": [
        "## **Abstraction**"
      ]
    },
    {
      "cell_type": "code",
      "metadata": {
        "id": "fwa_TEf-v_8f",
        "colab": {
          "base_uri": "https://localhost:8080/"
        },
        "outputId": "e09c05e3-2ba3-4747-b540-f29125c4c89b"
      },
      "source": [
        "# Memanggil method dari objek tanpa harus mengetahui cara kerja method\n",
        "kucing1.myfunc()"
      ],
      "execution_count": null,
      "outputs": [
        {
          "output_type": "stream",
          "name": "stdout",
          "text": [
            "Hello my name is cemong\n"
          ]
        }
      ]
    },
    {
      "cell_type": "markdown",
      "metadata": {
        "id": "wBoEkCxewdrg"
      },
      "source": [
        "## **Inheritence**"
      ]
    },
    {
      "cell_type": "code",
      "metadata": {
        "id": "HsVgKNgowiRP",
        "colab": {
          "base_uri": "https://localhost:8080/"
        },
        "outputId": "4f77986e-4dfd-4b36-86f3-de959f978b13"
      },
      "source": [
        "class Binatang(object):\n",
        "  def __init__(self, nama, usia, jenis, mamalia):\n",
        "    self.nama = nama\n",
        "    self.usia = usia\n",
        "    self.jenis = jenis\n",
        "    self.mamalia = mamalia\n",
        "\n",
        "  def tidur(self, durasi):\n",
        "    for x in range(durasi):\n",
        "      print(\"ddrrr... ddrrr... \")\n",
        "\n",
        "  def info(self):\n",
        "    print(f\"nama: {self.nama}, usia: {self.usia}, jenis: {self.jenis}, mamalia: {self.mamalia}\")\n",
        "\n",
        "\n",
        "animal1 = Binatang(\"cemong\", 1, \"omnivora\", True)\n",
        "\n",
        "animal1.info()\n",
        "\n",
        "class Kucing(Binatang):\n",
        "  def __init__(self,  nama, usia, jenis, mamalia, warna, jenis_kucing):\n",
        "    super().__init__(nama, usia, jenis, mamalia)\n",
        "    self.warna = warna\n",
        "    self.jenis_kucing = jenis_kucing\n",
        "  \n",
        "  def meong(self):\n",
        "    print(\"meeeonnggg\")\n",
        "\n",
        "  def info_kucing(self):\n",
        "    print(f\"warna: {self.warna}, jenis kucing: {self.jenis_kucing}\")\n",
        "\n",
        "cat1 = Kucing(\"cemong\", 1, \"omnivora\", True, \"putih coklat muda\", \"anggora\")\n",
        "\n",
        "cat1.info()\n",
        "cat1.info_kucing()"
      ],
      "execution_count": null,
      "outputs": [
        {
          "output_type": "stream",
          "name": "stdout",
          "text": [
            "nama: cemong, usia: 1, jenis: omnivora, mamalia: True\n",
            "nama: cemong, usia: 1, jenis: omnivora, mamalia: True\n",
            "warna: putih coklat muda, jenis kucing: anggora\n"
          ]
        }
      ]
    },
    {
      "cell_type": "markdown",
      "metadata": {
        "id": "lLLHjBNp1HDe"
      },
      "source": [
        "## **Polymorphism**"
      ]
    },
    {
      "cell_type": "code",
      "metadata": {
        "id": "BZLA6LDrxDHr",
        "colab": {
          "base_uri": "https://localhost:8080/"
        },
        "outputId": "7422c25e-d17e-4971-ebba-f36197d51a77"
      },
      "source": [
        "class Ikan(Binatang):\n",
        "  def __init__(self,  nama, usia, jenis, mamalia, warna, jenis_air, jenis_ikan):\n",
        "    super().__init__(nama, usia, jenis, mamalia)\n",
        "    self.warna = warna\n",
        "    self.jenis_air = jenis_air\n",
        "    self.jenis_ikan = jenis_ikan\n",
        "  \n",
        "  def berenang(self, durasi):\n",
        "    print(\"wushh... wush... \")\n",
        "\n",
        "  def info_ikan(self):\n",
        "    print(f\"warna: {self.warna}, jenis ikan: {self.jenis_ikan}, jenis air: {self.jenis_air}\")\n",
        "\n",
        "fish1 = Ikan(\"Jago\", 2, \"omnivora\", False, \"Merah Putih\", \"Tawar\", \"Cupang\")\n",
        "\n",
        "fish1.info()\n",
        "fish1.info_ikan()\n",
        "fish1.tidur(5)"
      ],
      "execution_count": null,
      "outputs": [
        {
          "output_type": "stream",
          "name": "stdout",
          "text": [
            "nama: Jago, usia: 2, jenis: omnivora, mamalia: False\n",
            "warna: Merah Putih, jenis ikan: Cupang, jenis air: Tawar\n",
            "ddrrr... ddrrr... \n",
            "ddrrr... ddrrr... \n",
            "ddrrr... ddrrr... \n",
            "ddrrr... ddrrr... \n",
            "ddrrr... ddrrr... \n"
          ]
        }
      ]
    },
    {
      "cell_type": "markdown",
      "metadata": {
        "id": "bse6mJ62GOR1"
      },
      "source": [
        "## **Activity OOP**\n",
        "\n",
        "Buatlah 3 OOP beserta turunannya dari objek sekitar, buat ulang seperti yang diatas (encapsulation, abstaction, inheritance, polymorphism)"
      ]
    },
    {
      "cell_type": "markdown",
      "metadata": {
        "id": "knROBQFiRrbw"
      },
      "source": [
        "### **Encapsulation**"
      ]
    },
    {
      "cell_type": "code",
      "metadata": {
        "colab": {
          "base_uri": "https://localhost:8080/"
        },
        "id": "Btt0LHZeRhbj",
        "outputId": "6d54fffd-11b2-41ec-ac47-ba39ae000b5e"
      },
      "source": [
        "merek_laptop = \"lenovo\"\n",
        "warna = \"silver\"\n",
        "processor = \"intel\"\n",
        "sistem_operasi = \"windows 10\"\n",
        "\n",
        "def tring():\n",
        "  print(\"triingggg... \")\n",
        "\n",
        "def info_laptop(merek_laptop, warna, processor, sistem_operasi):\n",
        "  print(f\"merek_laptop: {merek_laptop}, warna: {warna}, processor: {processor}, sistem_operasi: {sistem_operasi}\")\n",
        "\n",
        "info_laptop(merek_laptop, warna, processor, sistem_operasi)\n",
        "\n",
        "\n",
        "class Laptop:\n",
        "  def __init__(self, merek_laptop, warna, processor, sistem_operasi):\n",
        "    self.merek_laptop = merek_laptop\n",
        "    self.warna = warna\n",
        "    self.processor = processor\n",
        "    self.sistem_operasi = sistem_operasi\n",
        "\n",
        "  def myfunc(self):\n",
        "    print(\"laptop \" + self.merek_laptop)\n",
        "  \n",
        "  def tring(self):\n",
        "    print(\"triingggg... \")\n",
        "\n",
        "  def info(self):\n",
        "    print(f\"merek_laptop: {self.merek_laptop}, warna: {self.warna}, processor: {self.processor}, sistem_operasi: {self.sistem_operasi}\")\n",
        "\n",
        "\n",
        "laptop1 = Laptop(\"lenovo\", \"silver\", \"intel\", \"windows 10\")\n",
        "\n",
        "laptop1.info()"
      ],
      "execution_count": null,
      "outputs": [
        {
          "output_type": "stream",
          "name": "stdout",
          "text": [
            "merek_laptop: lenovo, warna: silver, processor: intel, sistem_operasi: windows 10\n",
            "merek_laptop: lenovo, warna: silver, processor: intel, sistem_operasi: windows 10\n"
          ]
        }
      ]
    },
    {
      "cell_type": "markdown",
      "metadata": {
        "id": "J6I7Uw-0bW9Z"
      },
      "source": [
        "### **Abstraction**"
      ]
    },
    {
      "cell_type": "code",
      "metadata": {
        "colab": {
          "base_uri": "https://localhost:8080/"
        },
        "id": "Eka2viNObd3S",
        "outputId": "f4a8ba92-f9cb-4136-9fb4-de99bae3406b"
      },
      "source": [
        "# Memanggil method dari objek tanpa harus mengetahui cara kerja method\n",
        "laptop1.myfunc()"
      ],
      "execution_count": null,
      "outputs": [
        {
          "output_type": "stream",
          "name": "stdout",
          "text": [
            "laptop lenovo\n"
          ]
        }
      ]
    },
    {
      "cell_type": "markdown",
      "metadata": {
        "id": "qEVgV4ZDbtMN"
      },
      "source": [
        "## **Inheritence**"
      ]
    },
    {
      "cell_type": "code",
      "metadata": {
        "colab": {
          "base_uri": "https://localhost:8080/"
        },
        "id": "AI-NLy6lbtMO",
        "outputId": "28a9772a-13a8-47c3-e641-5ae4064ed826"
      },
      "source": [
        "class Teknologi(object):\n",
        "  def __init__(self, merek_laptop, processor, sistem_operasi, harga):\n",
        "    self.merek_laptop = merek_laptop\n",
        "    self.processor = processor\n",
        "    self.sistem_operasi = sistem_operasi\n",
        "    self.harga = harga\n",
        "\n",
        "  def bunyi(self, durasi):\n",
        "    for x in range(durasi):\n",
        "      print(\"ngingg... ngingg... \")\n",
        "\n",
        "  def info(self):\n",
        "    print(f\"merek_laptop: {self.merek_laptop}, processor: {self.processor}, sistem_operasi: {self.sistem_operasi}, harga: {self.harga}\")\n",
        "\n",
        "\n",
        "tecno1 = Teknologi(\"lenovo\", \"intel\", \"windows 10\", \"Rp.5jt\")\n",
        "\n",
        "tecno1.info()  #fungsinya sama dengan tech1.info\n",
        "\n",
        "class Laptop(Teknologi):\n",
        "  def __init__(self,  merek_laptop, processor, sistem_operasi, harga, warna, ukuran_layar):\n",
        "    super().__init__(merek_laptop, processor, sistem_operasi, harga)\n",
        "    self.warna = warna\n",
        "    self.ukuran_layar = ukuran_layar\n",
        "  \n",
        "  def error(self):\n",
        "    print(\"beep.. beep..\")\n",
        "\n",
        "  def info_laptop(self):\n",
        "    print(f\"warna: {self.warna}, ukuran layar: {self.ukuran_layar}\")\n",
        "\n",
        "tech1 = Laptop(\"lenovo\", \"intel\", \"windows 10\", \"Rp.5jt\", \"silver\", \"15 inch\")\n",
        "\n",
        "tech1.info()\n",
        "tech1.info_laptop()"
      ],
      "execution_count": null,
      "outputs": [
        {
          "output_type": "stream",
          "name": "stdout",
          "text": [
            "merek_laptop: lenovo, processor: intel, sistem_operasi: windows 10, harga: Rp.5jt\n",
            "merek_laptop: lenovo, processor: intel, sistem_operasi: windows 10, harga: Rp.5jt\n",
            "warna: silver, ukuran layar: 15 inch\n"
          ]
        }
      ]
    },
    {
      "cell_type": "markdown",
      "metadata": {
        "id": "7xgs52rPs_-Q"
      },
      "source": [
        "## **Polymorphism**"
      ]
    },
    {
      "cell_type": "code",
      "metadata": {
        "colab": {
          "base_uri": "https://localhost:8080/"
        },
        "id": "mVtW8Q7Zs_-R",
        "outputId": "38284324-3642-4efc-edec-0c3770a9028f"
      },
      "source": [
        "class Laptop(Teknologi):\n",
        "  def __init__(self,  merek_laptop, processor, sistem_operasi, harga, warna, ukuran_layar, RAM):\n",
        "    super().__init__(merek_laptop, processor, sistem_operasi, harga)\n",
        "    self.warna = warna\n",
        "    self.ukuran_layar = ukuran_layar\n",
        "    self.RAM = RAM\n",
        "  \n",
        "  def mengetik(self, durasi):\n",
        "    print(\"klik... klikk... \")\n",
        "\n",
        "  def info_laptop(self):\n",
        "    print(f\"warna: {self.warna}, ukuran layar: {self.ukuran_layar}, RAM: {self.RAM}\")\n",
        "\n",
        "tech1 = Laptop(\"Lenovo\", \"Intel\", \"Windows 10\", \"Rp.5jt\", \"Silver\", \"15 inch\", \"5 GB\")\n",
        "\n",
        "tech1.info()\n",
        "tech1.info_laptop()\n",
        "tech1.bunyi(3)      #ambil dari inheritence\n",
        "tech1.mengetik(1)"
      ],
      "execution_count": null,
      "outputs": [
        {
          "output_type": "stream",
          "name": "stdout",
          "text": [
            "merek_laptop: Lenovo, processor: Intel, sistem_operasi: Windows 10, harga: Rp.5jt\n",
            "warna: Silver, ukuran layar: 15 inch, RAM: 5 GB\n",
            "ngingg... ngingg... \n",
            "ngingg... ngingg... \n",
            "ngingg... ngingg... \n",
            "klik... klikk... \n"
          ]
        }
      ]
    },
    {
      "cell_type": "markdown",
      "metadata": {
        "id": "xf3ylfGtB8qY"
      },
      "source": [
        "# **Time Complexity**\n",
        "## Activity \n",
        "\n",
        "Hitung time complexity dengan bigO Notation pada algoritma berikut:\n",
        "\n",
        "* Tidak perlu di run"
      ]
    },
    {
      "cell_type": "code",
      "metadata": {
        "id": "fnk4oJoJCJJG",
        "colab": {
          "base_uri": "https://localhost:8080/"
        },
        "outputId": "eb9b22c2-7996-4d9a-86d7-8dcb3807d4ac"
      },
      "source": [
        "# 1\n",
        "\n",
        "arr = [1, 2, 3, 4, 5]\n",
        "\n",
        "print(arr[0])\n",
        "print(arr[1])"
      ],
      "execution_count": null,
      "outputs": [
        {
          "output_type": "stream",
          "name": "stdout",
          "text": [
            "1\n",
            "2\n"
          ]
        }
      ]
    },
    {
      "cell_type": "code",
      "metadata": {
        "id": "LCgmhC-qD0p2",
        "colab": {
          "base_uri": "https://localhost:8080/"
        },
        "outputId": "dcb84870-282c-484d-a323-48b3607f0274"
      },
      "source": [
        "# 2\n",
        "\n",
        "print(arr[2])\n",
        "for number in arr:\n",
        "  print(number)\n",
        "print(arr[1])\n",
        "print(arr[2])"
      ],
      "execution_count": null,
      "outputs": [
        {
          "output_type": "stream",
          "name": "stdout",
          "text": [
            "3\n",
            "1\n",
            "2\n",
            "3\n",
            "4\n",
            "5\n",
            "2\n",
            "3\n"
          ]
        }
      ]
    },
    {
      "cell_type": "code",
      "metadata": {
        "id": "w5Upv3LdECFO",
        "colab": {
          "base_uri": "https://localhost:8080/"
        },
        "outputId": "6275d6b3-5850-42e2-d2d6-7249018b41fe"
      },
      "source": [
        "# 3\n",
        "\n",
        "arr2 = [6, 7, 8, 9, 10]\n",
        "\n",
        "for number in arr:\n",
        "  print(number)\n",
        "for number in arr2:\n",
        "  print(number)\n",
        "print(arr2[4])"
      ],
      "execution_count": null,
      "outputs": [
        {
          "output_type": "stream",
          "name": "stdout",
          "text": [
            "1\n",
            "2\n",
            "3\n",
            "4\n",
            "5\n",
            "6\n",
            "7\n",
            "8\n",
            "9\n",
            "10\n",
            "10\n"
          ]
        }
      ]
    },
    {
      "cell_type": "code",
      "metadata": {
        "id": "yXtKHziAEghO",
        "colab": {
          "base_uri": "https://localhost:8080/"
        },
        "outputId": "523347c6-a1cf-425b-9a29-523b2418da19"
      },
      "source": [
        "# 4\n",
        "\n",
        "print(arr2[1])\n",
        "for number in arr:\n",
        "  print(number)\n",
        "for number in arr:\n",
        "  print(number)"
      ],
      "execution_count": null,
      "outputs": [
        {
          "output_type": "stream",
          "name": "stdout",
          "text": [
            "7\n",
            "1\n",
            "2\n",
            "3\n",
            "4\n",
            "5\n",
            "1\n",
            "2\n",
            "3\n",
            "4\n",
            "5\n"
          ]
        }
      ]
    },
    {
      "cell_type": "code",
      "metadata": {
        "id": "9dXVL-S9EzxT",
        "colab": {
          "base_uri": "https://localhost:8080/"
        },
        "outputId": "29098e05-b76f-4f2a-f5bb-48a55df7b023"
      },
      "source": [
        "# 5\n",
        "\n",
        "for number in arr:\n",
        "  for number2 in arr2:\n",
        "    print(number+number2)\n",
        "print(arr[1]+arr2[1])\n",
        "print(arr2[2])"
      ],
      "execution_count": null,
      "outputs": [
        {
          "output_type": "stream",
          "name": "stdout",
          "text": [
            "7\n",
            "8\n",
            "9\n",
            "10\n",
            "11\n",
            "8\n",
            "9\n",
            "10\n",
            "11\n",
            "12\n",
            "9\n",
            "10\n",
            "11\n",
            "12\n",
            "13\n",
            "10\n",
            "11\n",
            "12\n",
            "13\n",
            "14\n",
            "11\n",
            "12\n",
            "13\n",
            "14\n",
            "15\n",
            "9\n",
            "8\n"
          ]
        }
      ]
    },
    {
      "cell_type": "code",
      "metadata": {
        "id": "6SC68I3PFFge",
        "colab": {
          "base_uri": "https://localhost:8080/"
        },
        "outputId": "afb79e4d-f7be-42cd-d1a6-4aa1d2a9d824"
      },
      "source": [
        "# 6 \n",
        "\n",
        "for number in arr:\n",
        "  for number2 in arr:\n",
        "    print(number+number2)\n",
        "print(arr)"
      ],
      "execution_count": null,
      "outputs": [
        {
          "output_type": "stream",
          "name": "stdout",
          "text": [
            "2\n",
            "3\n",
            "4\n",
            "5\n",
            "6\n",
            "3\n",
            "4\n",
            "5\n",
            "6\n",
            "7\n",
            "4\n",
            "5\n",
            "6\n",
            "7\n",
            "8\n",
            "5\n",
            "6\n",
            "7\n",
            "8\n",
            "9\n",
            "6\n",
            "7\n",
            "8\n",
            "9\n",
            "10\n",
            "[1, 2, 3, 4, 5]\n"
          ]
        }
      ]
    },
    {
      "cell_type": "code",
      "metadata": {
        "id": "b7w1_oXnGXfs",
        "colab": {
          "base_uri": "https://localhost:8080/"
        },
        "outputId": "8a4124a5-d06f-4f92-9954-046ff7170010"
      },
      "source": [
        "# 7 \n",
        "\n",
        "for number in arr:\n",
        "  for number2 in arr2:\n",
        "    for number3 in arr:\n",
        "      print(number+number2+number3)\n",
        "print(arr[1])\n",
        "print(arr2[2])\n",
        "print(arr2[3])"
      ],
      "execution_count": null,
      "outputs": [
        {
          "output_type": "stream",
          "name": "stdout",
          "text": [
            "8\n",
            "9\n",
            "10\n",
            "11\n",
            "12\n",
            "9\n",
            "10\n",
            "11\n",
            "12\n",
            "13\n",
            "10\n",
            "11\n",
            "12\n",
            "13\n",
            "14\n",
            "11\n",
            "12\n",
            "13\n",
            "14\n",
            "15\n",
            "12\n",
            "13\n",
            "14\n",
            "15\n",
            "16\n",
            "9\n",
            "10\n",
            "11\n",
            "12\n",
            "13\n",
            "10\n",
            "11\n",
            "12\n",
            "13\n",
            "14\n",
            "11\n",
            "12\n",
            "13\n",
            "14\n",
            "15\n",
            "12\n",
            "13\n",
            "14\n",
            "15\n",
            "16\n",
            "13\n",
            "14\n",
            "15\n",
            "16\n",
            "17\n",
            "10\n",
            "11\n",
            "12\n",
            "13\n",
            "14\n",
            "11\n",
            "12\n",
            "13\n",
            "14\n",
            "15\n",
            "12\n",
            "13\n",
            "14\n",
            "15\n",
            "16\n",
            "13\n",
            "14\n",
            "15\n",
            "16\n",
            "17\n",
            "14\n",
            "15\n",
            "16\n",
            "17\n",
            "18\n",
            "11\n",
            "12\n",
            "13\n",
            "14\n",
            "15\n",
            "12\n",
            "13\n",
            "14\n",
            "15\n",
            "16\n",
            "13\n",
            "14\n",
            "15\n",
            "16\n",
            "17\n",
            "14\n",
            "15\n",
            "16\n",
            "17\n",
            "18\n",
            "15\n",
            "16\n",
            "17\n",
            "18\n",
            "19\n",
            "12\n",
            "13\n",
            "14\n",
            "15\n",
            "16\n",
            "13\n",
            "14\n",
            "15\n",
            "16\n",
            "17\n",
            "14\n",
            "15\n",
            "16\n",
            "17\n",
            "18\n",
            "15\n",
            "16\n",
            "17\n",
            "18\n",
            "19\n",
            "16\n",
            "17\n",
            "18\n",
            "19\n",
            "20\n",
            "2\n",
            "8\n",
            "9\n"
          ]
        }
      ]
    },
    {
      "cell_type": "code",
      "metadata": {
        "id": "Cm1Hcy3JG6sh",
        "colab": {
          "base_uri": "https://localhost:8080/"
        },
        "outputId": "85a74125-9e66-432b-87f1-d801e6c1cfc8"
      },
      "source": [
        "# 8\n",
        "\n",
        "for number in arr:\n",
        "  print(number)\n",
        "print(arr2)\n",
        "for number in arr:\n",
        "  for number2 in arr2:\n",
        "    print(number+number2)\n",
        "print(arr)"
      ],
      "execution_count": null,
      "outputs": [
        {
          "output_type": "stream",
          "name": "stdout",
          "text": [
            "1\n",
            "2\n",
            "3\n",
            "4\n",
            "5\n",
            "[6, 7, 8, 9, 10]\n",
            "7\n",
            "8\n",
            "9\n",
            "10\n",
            "11\n",
            "8\n",
            "9\n",
            "10\n",
            "11\n",
            "12\n",
            "9\n",
            "10\n",
            "11\n",
            "12\n",
            "13\n",
            "10\n",
            "11\n",
            "12\n",
            "13\n",
            "14\n",
            "11\n",
            "12\n",
            "13\n",
            "14\n",
            "15\n",
            "[1, 2, 3, 4, 5]\n"
          ]
        }
      ]
    },
    {
      "cell_type": "markdown",
      "metadata": {
        "id": "MwXJgaJ9lDC9"
      },
      "source": [
        "9. Algoritma Bubble Sort\n",
        "\n",
        "Merupakan metode pengurutan/sorting dengan cara melakukan penukaran data secara terus menerus sampai bisa dipastikan dalam suatu iterasi tertentu tidak ada lagi perubahan/penukaran."
      ]
    },
    {
      "cell_type": "code",
      "metadata": {
        "id": "EgpO69yqHJ3K",
        "colab": {
          "base_uri": "https://localhost:8080/"
        },
        "outputId": "7ff81191-d309-4b92-96aa-106547f88b98"
      },
      "source": [
        "# ALGORITMA BUBBLE SORT\n",
        "\n",
        "def bs(arr):\n",
        "    iterasi = 0\n",
        "    for j in range (len(arr)-1):\n",
        "        for i in range(len(arr)-1-j):\n",
        "            if arr[i]>arr[i+1]:\n",
        "                arr[i],arr[i+1]=arr[i+1],arr[i]\n",
        "        iterasi+=1\n",
        "        print(iterasi, arr)\n",
        "\n",
        "arr = [4, 9, 2, 7, 3, 6, 1, 8, 5]\n",
        "print('Data yang akan di sort :', arr )\n",
        "print('Bubble Sort :')\n",
        "bs(arr)"
      ],
      "execution_count": null,
      "outputs": [
        {
          "output_type": "stream",
          "name": "stdout",
          "text": [
            "Data yang akan di sort : [4, 9, 2, 7, 3, 6, 1, 8, 5]\n",
            "Bubble Sort :\n",
            "1 [4, 2, 7, 3, 6, 1, 8, 5, 9]\n",
            "2 [2, 4, 3, 6, 1, 7, 5, 8, 9]\n",
            "3 [2, 3, 4, 1, 6, 5, 7, 8, 9]\n",
            "4 [2, 3, 1, 4, 5, 6, 7, 8, 9]\n",
            "5 [2, 1, 3, 4, 5, 6, 7, 8, 9]\n",
            "6 [1, 2, 3, 4, 5, 6, 7, 8, 9]\n",
            "7 [1, 2, 3, 4, 5, 6, 7, 8, 9]\n",
            "8 [1, 2, 3, 4, 5, 6, 7, 8, 9]\n"
          ]
        }
      ]
    },
    {
      "cell_type": "markdown",
      "metadata": {
        "id": "igMyKgutlv4B"
      },
      "source": [
        "10. Algoritma Linear Search\n",
        "\n",
        "Merupakan algoritma pencarian nilai tertentu pada sebuah array/list. Algoritma pencarian ini melibatkan pemeriksaan nilai elemen pada list satu demi satu dari ujung list. Algoritma ini juga dikenal juga dengan nama sequential search."
      ]
    },
    {
      "cell_type": "code",
      "metadata": {
        "id": "qD9VauTyG_RJ",
        "colab": {
          "base_uri": "https://localhost:8080/"
        },
        "outputId": "9f87a9ec-7e21-48c7-dc51-151831996c55"
      },
      "source": [
        "# AlGORITMA lINEAR SEARCH \n",
        "\n",
        "arr = [1, 2, 3, 4, 5]\n",
        "x = 3 # elemen yang dicari\n",
        "idx = -1 # posisi elemen yang dicari\n",
        "\n",
        "for i in range(len(arr)):\n",
        "  if arr[i] == x:\n",
        "    idx = i\n",
        "    break\n",
        "\n",
        "if idx == -1:\n",
        "  print('Nilai ',x,'tidak ditemukan')\n",
        "else:\n",
        "  print('Nilai',x,'ditemukan pada indeks',idx)"
      ],
      "execution_count": null,
      "outputs": [
        {
          "output_type": "stream",
          "name": "stdout",
          "text": [
            "Nilai 3 ditemukan pada indeks 2\n"
          ]
        }
      ]
    },
    {
      "cell_type": "markdown",
      "metadata": {
        "id": "zeqb3ZMzmVzm"
      },
      "source": [
        "11. Algoritma Binary Search\n",
        "\n",
        "Merupakan algoritma pencarian pada array/list dengan elemen terurut, yang dilakukan dengan memotong array menjadi 2 bagian secara terus menerus hingga nilai yang dicari ditemukan. Nama lain dari algoritma ini adalah half-interval search, logarithmic search, dan binary chop."
      ]
    },
    {
      "cell_type": "code",
      "metadata": {
        "id": "OaKrQWZJH28k",
        "colab": {
          "base_uri": "https://localhost:8080/"
        },
        "outputId": "ee759ada-936b-4a19-8de0-460607d8fd42"
      },
      "source": [
        "# ALGORITMA BINARY SEARCH\n",
        "arr = [ 1, 2, 3, 4, 5]                                # List\n",
        "yourNumber = int(input('Insert Number to search ? ')) # angka yang ingin dicari\n",
        "firstIndex = 0                                        # index pertama/batas awal\n",
        "lastIndex = len(arr)-1                               # index terakhir/batas akhir\n",
        "ditemukan = False                                 # Untuk memberikan kondisi adanya angka\n",
        "arr.sort()                                        # binary search harus diurutkan (untuk list yg masih acak)\n",
        "while firstIndex <= lastIndex and not ditemukan:\n",
        "    middleIndex = (firstIndex + lastIndex) // 2     # mencari index tengah: firstIndex + (lastIndex - firstIndex) -> bentuk lain\n",
        "    if arr[middleIndex] == yourNumber:\n",
        "        ditemukan = True\n",
        "    else:\n",
        "        if yourNumber < arr[middleIndex]:\n",
        "            lastIndex = middleIndex - 1\n",
        "        else:\n",
        "            firstIndex = middleIndex + 1\n",
        "if ditemukan:\n",
        "    print('Number %s is Found in List'% arr)\n",
        "else:\n",
        "    print('Number %s not Found in List' % arr)"
      ],
      "execution_count": null,
      "outputs": [
        {
          "output_type": "stream",
          "name": "stdout",
          "text": [
            "Insert Number to search ? 8\n",
            "Number [1, 2, 3, 4, 5] not Found in List\n"
          ]
        }
      ]
    }
  ]
}