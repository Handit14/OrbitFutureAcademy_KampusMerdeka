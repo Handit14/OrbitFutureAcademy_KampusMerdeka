{
  "nbformat": 4,
  "nbformat_minor": 0,
  "metadata": {
    "colab": {
      "name": "Latihan_Debugging.ipynb",
      "provenance": [],
      "collapsed_sections": []
    },
    "kernelspec": {
      "display_name": "Python 3",
      "name": "python3"
    },
    "language_info": {
      "name": "python"
    }
  },
  "cells": [
    {
      "cell_type": "code",
      "metadata": {
        "colab": {
          "base_uri": "https://localhost:8080/"
        },
        "id": "LCBE55x3jMuo",
        "outputId": "933c1012-7b31-469c-d166-cd21ba24e252"
      },
      "source": [
        "# Debugging Linear Search algorithm\n",
        "def linear_search(search_key, arr):\n",
        "  for index, item in enumerate(arr):\n",
        "    if item == search_key: \n",
        "      print(f'Ketemu {item} di index ke-{index}')\n",
        "      # return index\n",
        "\n",
        "\n",
        "angka = [1,3,4,5,223,7,54,23]\n",
        "\n",
        "linear_search(223, angka)\n"
      ],
      "execution_count": 2,
      "outputs": [
        {
          "output_type": "stream",
          "name": "stdout",
          "text": [
            "Ketemu 223 di index ke-4\n"
          ]
        }
      ]
    },
    {
      "cell_type": "code",
      "metadata": {
        "id": "PjA_JypIjXBC",
        "colab": {
          "base_uri": "https://localhost:8080/",
          "height": 445
        },
        "outputId": "3cc35856-d88e-4008-8bbc-dffc837e42f1"
      },
      "source": [
        "# Visualisasi Data\n",
        "import pandas as pd\n",
        "import matplotlib.pyplot as plt\n",
        "\n",
        "url = 'https://people.sc.fsu.edu/~jburkardt/data/csv/freshman_kgs.csv'\n",
        "file = 'freshman_kgs.csv'\n",
        "\n",
        "dataframe = pd.read_csv(url)\n",
        "\n",
        "dataframe[[' \"Weight (Sep)\"', ' \"Weight (Apr)\"']].plot(kind='scatter', x=' \"Weight (Sep)\"', y=' \"Weight (Apr)\"', \n",
        "                                                 figsize=(10, 6), color='darkblue')\n",
        "\n",
        "plt.title('Hubungan berat badan bulan september dan april', fontsize = 40, fontname=\"MV Boli\")\n",
        "plt.ylabel('April', fontsize = 10)\n",
        "plt.xlabel('September', fontsize = 10)\n",
        "\n",
        "plt.show()"
      ],
      "execution_count": 1,
      "outputs": [
        {
          "output_type": "stream",
          "name": "stderr",
          "text": [
            "findfont: Font family ['MV Boli'] not found. Falling back to DejaVu Sans.\n"
          ]
        },
        {
          "output_type": "display_data",
          "data": {
            "image/png": "[encoded data removed]",
            "text/plain": [
              "<Figure size 720x432 with 1 Axes>"
            ]
          },
          "metadata": {
            "needs_background": "light"
          }
        }
      ]
    },
    {
      "cell_type": "code",
      "metadata": {
        "colab": {
          "base_uri": "https://localhost:8080/"
        },
        "id": "3wWtO22Gji8V",
        "outputId": "5538bef1-8c5b-4ede-9da3-84def6f1c585"
      },
      "source": [
        "def mergeSort(arr):\n",
        "    if len(arr) > 1:\n",
        "  \n",
        "         # Finding the mid of the array\n",
        "        mid = len(arr)//2\n",
        "  \n",
        "        # Dividing the array elements\n",
        "        L = arr[:mid]\n",
        "  \n",
        "        # into 2 halves\n",
        "        R = arr[mid:]\n",
        "  \n",
        "        # Sorting the first half\n",
        "        mergeSort(L)\n",
        "  \n",
        "        # Sorting the second half\n",
        "        mergeSort(R)\n",
        "  \n",
        "        i = j = k = 0\n",
        "  \n",
        "        # Copy data to temp arrays L[] and R[]\n",
        "        while i < len(L) and j < len(R):\n",
        "            if L[i] < R[j]:\n",
        "                arr[k] = L[i]\n",
        "                i += 1\n",
        "            else:\n",
        "                arr[k] = R[j]\n",
        "                j += 1\n",
        "            k += 1\n",
        "  \n",
        "        # Checking if any element was left\n",
        "        while i < len(L):\n",
        "            arr[k] = L[i]\n",
        "            i += 1\n",
        "            k += 1\n",
        "  \n",
        "        while j < len(R):\n",
        "            arr[k] = R[j]\n",
        "            j += 1\n",
        "            k += 1\n",
        "  \n",
        "# Code to print the list\n",
        "  \n",
        "  \n",
        "def printList(arr):\n",
        "    for i in range(len(arr)):\n",
        "        print(arr[i], end=\" \")\n",
        "    print()\n",
        "  \n",
        "  \n",
        "# Driver Code\n",
        "arr = [12, 11, 13, 5, 6, 7]\n",
        "print(\"Given array is\", end=\"\\n\")\n",
        "printList(arr)\n",
        "mergeSort(arr)\n",
        "print(\"Sorted array is: \", end=\"\\n\")\n",
        "printList(arr)"
      ],
      "execution_count": 3,
      "outputs": [
        {
          "output_type": "stream",
          "name": "stdout",
          "text": [
            "Given array is\n",
            "12 11 13 5 6 7 \n",
            "Sorted array is: \n",
            "5 6 7 11 12 13 \n"
          ]
        }
      ]
    },
    {
      "cell_type": "code",
      "metadata": {
        "colab": {
          "base_uri": "https://localhost:8080/"
        },
        "id": "ZvNeHUcjjjjz",
        "outputId": "78ba9640-08f9-464d-f346-e723f7f81b18"
      },
      "source": [
        "def main_layangan():\n",
        "  # ilangin bool yg bungkus input, ini bisa bikin kondisi jadi selalu True\n",
        "  hujan = input(\"lagi ujan ga? (y/n)\")\n",
        "  if hujan == 'y' or hujan == 'Y':\n",
        "    # ubah jadi True\n",
        "    hujan = True\n",
        "  else:\n",
        "    # ubah jadi false\n",
        "    hujan = False\n",
        "\n",
        "  print('hujan:', hujan)\n",
        "\n",
        "  # tambahin float buat bungkus input\n",
        "  kecepatan_angin = float(input('masukkan kecepatan angin'))\n",
        "\n",
        "  if hujan == True:\n",
        "    print('Gak bisa main layangan')\n",
        "  else:\n",
        "    # ubah jadi kecepatan_angin > 5 and kecepatan_angin < 30\n",
        "    if kecepatan_angin > 5 and kecepatan_angin < 30:\n",
        "      print('Ayiik, gass main layangan')\n",
        "      # tambahin return\n",
        "      return True\n",
        "    else:\n",
        "      print('Skip, mending main ep ep')\n",
        "      # tambahin return\n",
        "      return False\n",
        "\n",
        "capek = main_layangan()\n",
        "\n",
        "if capek == True:\n",
        "  print(\"Istirahat\")\n",
        "else:\n",
        "  print(\"Gass main ep ep\")"
      ],
      "execution_count": 4,
      "outputs": [
        {
          "output_type": "stream",
          "name": "stdout",
          "text": [
            "lagi ujan ga? (y/n)y\n",
            "hujan: True\n",
            "masukkan kecepatan angin20\n",
            "Gak bisa main layangan\n",
            "Gass main ep ep\n"
          ]
        }
      ]
    }
  ]
}