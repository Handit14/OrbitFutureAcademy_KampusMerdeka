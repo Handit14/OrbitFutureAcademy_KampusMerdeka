{
  "cells": [
    {
      "cell_type": "markdown",
      "metadata": {
        "id": "7laGfBCUwjsh"
      },
      "source": [
        "# **Introduction Python**"
      ]
    },
    {
      "cell_type": "code",
      "execution_count": 1,
      "metadata": {
        "colab": {
          "base_uri": "https://localhost:8080/"
        },
        "id": "wPSEvngjweq6",
        "outputId": "eab10759-b3f5-4d49-a581-e46ea32d1502"
      },
      "outputs": [
        {
          "name": "stdout",
          "output_type": "stream",
          "text": [
            "Hello World\n"
          ]
        }
      ],
      "source": [
        "print(\"Hello World\")"
      ]
    },
    {
      "cell_type": "code",
      "execution_count": 2,
      "metadata": {
        "colab": {
          "base_uri": "https://localhost:8080/"
        },
        "id": "nVd9palRxhbF",
        "outputId": "0a4e0a72-7e8c-4253-d866-840cb57e0c17"
      },
      "outputs": [
        {
          "name": "stdout",
          "output_type": "stream",
          "text": [
            "Hallo Dunia\n",
            "Riset Bahasa\n"
          ]
        }
      ],
      "source": [
        "print(\"Hallo Dunia\")\n",
        "print(\"Riset Bahasa\")"
      ]
    },
    {
      "cell_type": "code",
      "execution_count": 3,
      "metadata": {
        "colab": {
          "base_uri": "https://localhost:8080/"
        },
        "id": "qluR9vkuxkbS",
        "outputId": "7e045408-4fbc-4e9a-e353-aed7e7a98833"
      },
      "outputs": [
        {
          "name": "stdout",
          "output_type": "stream",
          "text": [
            "10\n"
          ]
        }
      ],
      "source": [
        "bilangan1 = 20\n",
        "bilangan2 = 10\n",
        "print(bilangan1 - bilangan2)"
      ]
    },
    {
      "cell_type": "code",
      "execution_count": 4,
      "metadata": {
        "colab": {
          "base_uri": "https://localhost:8080/"
        },
        "id": "pD2pQ8zBxnaj",
        "outputId": "4bab0ec9-7a09-4ac2-f0ca-4e04a04239aa"
      },
      "outputs": [
        {
          "name": "stdout",
          "output_type": "stream",
          "text": [
            "['Dewi', 'Budi', 'Cici', 'Linda', 'Cici']\n",
            "{'Cici', 'Linda', 'Dewi', 'Budi'}\n",
            "{'Cici', 'Linda', 'Dewi', 'Budi'}\n"
          ]
        }
      ],
      "source": [
        "contoh_list = ['Dewi','Budi','Cici','Linda','Cici']\n",
        "print(contoh_list)\n",
        "contoh_set = {'Dewi','Budi','Cici','Linda','Cici'}\n",
        "print(contoh_set)\n",
        "contoh_frozen_set = ({'Dewi','Budi','Cici','Linda','Cici'})\n",
        "print(contoh_frozen_set)"
      ]
    },
    {
      "cell_type": "code",
      "execution_count": 5,
      "metadata": {
        "colab": {
          "base_uri": "https://localhost:8080/"
        },
        "id": "rQYfUl5NxqQK",
        "outputId": "3093fc1b-3655-41d5-86cf-7cb4557150c6"
      },
      "outputs": [
        {
          "name": "stdout",
          "output_type": "stream",
          "text": [
            "Muhammad Farhan Aditama\n",
            "Mahasiswa\n"
          ]
        }
      ],
      "source": [
        "person = {'nama':'Muhammad Farhan Aditama','pekerjaan':'Mahasiswa'}\n",
        "print(person['nama'])\n",
        "print(person['pekerjaan'])"
      ]
    },
    {
      "cell_type": "code",
      "execution_count": 6,
      "metadata": {
        "colab": {
          "base_uri": "https://localhost:8080/"
        },
        "id": "vxTHV-eQxs2j",
        "outputId": "b864f325-4da5-425b-b739-e4e3552b17f4"
      },
      "outputs": [
        {
          "name": "stdout",
          "output_type": "stream",
          "text": [
            "1\n",
            "4.0\n",
            "empat\n"
          ]
        }
      ],
      "source": [
        "contoh_list = [1, 'dua', 3, 4.0, 5]\n",
        "print(contoh_list[0])\n",
        "print(contoh_list[3])\n",
        "contoh_list = [1, 'dua', 3, 4.0, 5]\n",
        "contoh_list[3] = 'empat'\n",
        "print(contoh_list[3])"
      ]
    }
  ],
  "metadata": {
    "colab": {
      "name": "1. Introduction Python.ipynb",
      "provenance": []
    },
    "kernelspec": {
      "display_name": "Python 3",
      "name": "python3"
    },
    "language_info": {
      "codemirror_mode": {
        "name": "ipython",
        "version": 3
      },
      "file_extension": ".py",
      "mimetype": "text/x-python",
      "name": "python",
      "nbconvert_exporter": "python",
      "pygments_lexer": "ipython3",
      "version": "3.9.6"
    }
  },
  "nbformat": 4,
  "nbformat_minor": 0
}
